{
 "cells": [
  {
   "cell_type": "markdown",
   "metadata": {},
   "source": [
    "## Load Data"
   ]
  },
  {
   "cell_type": "code",
   "execution_count": 1,
   "metadata": {},
   "outputs": [
    {
     "name": "stdout",
     "output_type": "stream",
     "text": [
      "Number of train: 3034 | Number of dev: 422\n"
     ]
    }
   ],
   "source": [
    "import json\n",
    "import numpy as np\n",
    "import pandas as pd\n",
    "\n",
    "from pathlib import Path\n",
    "from src.db_utils import get_schema_str, get_data_dict, get_schema_str_with_tables\n",
    "from src.database import SqliteDatabase, DuckDBDatabase\n",
    "from src.sparc_preprocess import (\n",
    "    load_sparc_data,\n",
    "    process_all_tables, \n",
    "    filter_samples_by_count, \n",
    "    process_samples, \n",
    "    split_train_dev\n",
    ")\n",
    "\n",
    "# duckdb.sql('INSTALL sqlite')\n",
    "# duckdb.sql('SET GLOBAL sqlite_all_varchar = true;')\n",
    "\n",
    "proj_path = Path('.').resolve()\n",
    "sparc_path = proj_path / 'data' / 'sparc'\n",
    "\n",
    "tables, train_data, dev_data = load_sparc_data(sparc_path)\n",
    "print(f'Number of train: {len(train_data)} | Number of dev: {len(dev_data)}')\n",
    "\n",
    "sparc_tables = process_all_tables(tables)\n",
    "# filter samples by count, must have at least 5 samples\n",
    "all_data = filter_samples_by_count(train_data+dev_data, n=5)\n",
    "# process samples -> {db_id: list of samples}\n",
    "sparc_samples = process_samples(all_data)\n",
    "# change train/dev by sample\n",
    "train_samples, dev_samples = split_train_dev(sparc_samples, ratio=0.8)"
   ]
  },
  {
   "cell_type": "code",
   "execution_count": 2,
   "metadata": {},
   "outputs": [
    {
     "data": {
      "text/plain": [
       "dict_keys(['Physician', 'Department', 'Affiliated_With', 'Procedures', 'Trained_In', 'Patient', 'Nurse', 'Appointment', 'Medication', 'Prescribes', 'Block', 'Room', 'On_Call', 'Stay', 'Undergoes'])"
      ]
     },
     "execution_count": 2,
     "metadata": {},
     "output_type": "execute_result"
    }
   ],
   "source": [
    "db_id = 'hospital_1'\n",
    "db_file = str(sparc_path / 'database' / db_id / f'{db_id}.sqlite')\n",
    "database = SqliteDatabase(db_file, foreign_keys=sparc_tables[db_id].foreign_keys)\n",
    "database.table_cols.keys()"
   ]
  },
  {
   "cell_type": "markdown",
   "metadata": {},
   "source": [
    "## Workload Analysis"
   ]
  },
  {
   "cell_type": "code",
   "execution_count": 3,
   "metadata": {},
   "outputs": [
    {
     "name": "stdout",
     "output_type": "stream",
     "text": [
      "[0-Question] What is the number of employees in each department?\n",
      "[0-SQL]: SELECT count(departmentID) FROM department GROUP BY departmentID\n",
      "[1-Question] Which department has the most employees? Give me the department name.\n",
      "[1-SQL]: SELECT name FROM department GROUP BY departmentID ORDER BY count(departmentID) DESC LIMIT 1; \n",
      "\n",
      "[Final]\n",
      "Question: Find the department with the most employees.\n",
      "SQL: SELECT name FROM department GROUP BY departmentID ORDER BY count(departmentID) DESC LIMIT 1;\n",
      "\n"
     ]
    }
   ],
   "source": [
    "from src.sparc_preprocess import SparcSample, QuestionSQL\n",
    "\n",
    "def format_interactions(interactions: list[QuestionSQL]) -> str:\n",
    "    workload = ''\n",
    "    for i, interaction in enumerate(interactions):\n",
    "        workload += f'[{i}-Question] {interaction.question}\\n[{i}-SQL]: {interaction.sql}\\n'\n",
    "    return workload.strip()\n",
    "\n",
    "with (proj_path / 'db_data' / 'sparc_description.json').open() as f:\n",
    "    all_descriptions = json.load(f)\n",
    "\n",
    "idx = 0\n",
    "data = train_samples[idx]\n",
    "table = sparc_tables[data.db_id]\n",
    "col_explanation = all_descriptions[data.db_id]\n",
    "# create schema string\n",
    "schema_str = get_schema_str(\n",
    "    schema=table.db_schema, \n",
    "    foreign_keys=table.foreign_keys,\n",
    "    primary_keys=table.primary_keys,\n",
    "    col_explanation=col_explanation\n",
    ")\n",
    "database = SqliteDatabase(str(sparc_path / 'database' / data.db_id / f'{data.db_id}.sqlite'), foreign_keys=table.foreign_keys)\n",
    "workload = format_interactions(data.interactions)\n",
    "print(workload, '\\n')\n",
    "print(f'[Final]\\nQuestion: {data.final.question}\\nSQL: {data.final.sql}\\n')"
   ]
  },
  {
   "cell_type": "code",
   "execution_count": 4,
   "metadata": {},
   "outputs": [
    {
     "data": {
      "text/html": [
       "<div>\n",
       "<style scoped>\n",
       "    .dataframe tbody tr th:only-of-type {\n",
       "        vertical-align: middle;\n",
       "    }\n",
       "\n",
       "    .dataframe tbody tr th {\n",
       "        vertical-align: top;\n",
       "    }\n",
       "\n",
       "    .dataframe thead th {\n",
       "        text-align: right;\n",
       "    }\n",
       "</style>\n",
       "<table border=\"1\" class=\"dataframe\">\n",
       "  <thead>\n",
       "    <tr style=\"text-align: right;\">\n",
       "      <th></th>\n",
       "      <th>Name</th>\n",
       "    </tr>\n",
       "  </thead>\n",
       "  <tbody>\n",
       "    <tr>\n",
       "      <th>0</th>\n",
       "      <td>General Medicine</td>\n",
       "    </tr>\n",
       "  </tbody>\n",
       "</table>\n",
       "</div>"
      ],
      "text/plain": [
       "               Name\n",
       "0  General Medicine"
      ]
     },
     "execution_count": 4,
     "metadata": {},
     "output_type": "execute_result"
    }
   ],
   "source": [
    "database.execute(data.final.sql)"
   ]
  },
  {
   "cell_type": "markdown",
   "metadata": {},
   "source": [
    "## Schema description"
   ]
  },
  {
   "cell_type": "code",
   "execution_count": 5,
   "metadata": {},
   "outputs": [
    {
     "name": "stdout",
     "output_type": "stream",
     "text": [
      "[Table and Columns]\n",
      "Table Name: Physician\n",
      "  - 'EmployeeID'(text): Unique identifier for each physician.\n",
      "  - 'Name'(text): Full name of the physician.\n",
      "  - 'Position'(text): Job title or role of the physician.\n",
      "  - 'SSN'(text): Social Security Number of the physician.\n",
      "Table Name: Department\n",
      "  - 'Depart\n"
     ]
    }
   ],
   "source": [
    "with (proj_path / 'db_data' / 'sparc_description.json').open() as f:\n",
    "    all_descriptions = json.load(f)\n",
    "\n",
    "print(get_schema_str(\n",
    "    schema=sparc_tables['hospital_1'].db_schema, \n",
    "    col_explanation=all_descriptions['hospital_1'])[:300]\n",
    ")"
   ]
  },
  {
   "cell_type": "code",
   "execution_count": 12,
   "metadata": {},
   "outputs": [],
   "source": [
    "import os \n",
    "from dotenv import load_dotenv, find_dotenv\n",
    "from collections import defaultdict\n",
    "from tqdm import tqdm\n",
    "from langchain_core.pydantic_v1 import BaseModel, Field\n",
    "from langchain_google_genai import ChatGoogleGenerativeAI, GoogleGenerativeAI\n",
    "from langchain_core.prompts import PromptTemplate, ChatPromptTemplate\n",
    "from langchain_core.output_parsers import JsonOutputParser\n",
    "\n",
    "## Add GOOGLE_API_KEY to .env file\n",
    "_ = load_dotenv(find_dotenv())"
   ]
  },
  {
   "cell_type": "markdown",
   "metadata": {},
   "source": [
    "## Test with ChatGoogleGenerativeAI"
   ]
  },
  {
   "cell_type": "code",
   "execution_count": 39,
   "metadata": {},
   "outputs": [
    {
     "data": {
      "text/plain": [
       "OutputFormat(lang='DE', text='Ich liebe Programmieren.')"
      ]
     },
     "execution_count": 39,
     "metadata": {},
     "output_type": "execute_result"
    }
   ],
   "source": [
    "from langchain_google_genai import ChatGoogleGenerativeAI, GoogleGenerativeAI\n",
    "\n",
    "llm = ChatGoogleGenerativeAI(\n",
    "    model=\"gemini-1.5-flash\",\n",
    "    temperature=0,\n",
    "    max_tokens=None,\n",
    "    timeout=None,\n",
    "    max_retries=2,\n",
    "    # other params...\n",
    ")\n",
    "\n",
    "class OutputFormat(BaseModel):\n",
    "    lang: str = Field(description='The target language in UPPERCASE')\n",
    "    text: str = Field(description='The translated text.')\n",
    "\n",
    "class Response(BaseModel):\n",
    "    output: list[OutputFormat]\n",
    "        \n",
    "llm = llm.with_structured_output(OutputFormat)\n",
    "\n",
    "from langchain_core.prompts import ChatPromptTemplate\n",
    "\n",
    "prompt = ChatPromptTemplate.from_messages(\n",
    "    [\n",
    "        (\n",
    "            \"system\",\n",
    "            \"You are a helpful assistant that translates {input_language} to {output_language}.\",\n",
    "        ),\n",
    "        (\"human\", \"{input}\"),\n",
    "    ]\n",
    ")\n",
    "chain = prompt | llm\n",
    "output = chain.invoke(\n",
    "    {\n",
    "        \"input_language\": \"English\",\n",
    "        \"output_language\": \"German\",\n",
    "        \"input\": \"I love programming.\",\n",
    "    }\n",
    ")\n",
    "output"
   ]
  },
  {
   "cell_type": "markdown",
   "metadata": {},
   "source": [
    "## Basic Prompt"
   ]
  },
  {
   "cell_type": "code",
   "execution_count": 41,
   "metadata": {},
   "outputs": [
    {
     "name": "stderr",
     "output_type": "stream",
     "text": [
      "100%|██████████| 10/10 [00:08<00:00,  1.17it/s]\n"
     ]
    },
    {
     "data": {
      "text/plain": [
       "[{'sql_idx': 0,\n",
       "  'db_id': 'hospital_1',\n",
       "  'question': 'Find the department with the most employees.',\n",
       "  'full_sql_query': 'SELECT Department.Name FROM Department JOIN Affiliated_With ON Department.DepartmentID = Affiliated_With.Department GROUP BY Department.Name ORDER BY COUNT(Affiliated_With.Physician) DESC LIMIT 1',\n",
       "  'gold_sql': 'SELECT name FROM department GROUP BY departmentID ORDER BY count(departmentID) DESC LIMIT 1;'},\n",
       " {'sql_idx': 1,\n",
       "  'db_id': 'hospital_1',\n",
       "  'question': 'Tell me the employee id of the head of the department with the least employees.',\n",
       "  'full_sql_query': 'SELECT Head FROM Department GROUP BY Head ORDER BY COUNT(*) ASC LIMIT 1',\n",
       "  'gold_sql': 'SELECT head FROM department GROUP BY departmentID ORDER BY count(departmentID) LIMIT 1;'},\n",
       " {'sql_idx': 2,\n",
       "  'db_id': 'hospital_1',\n",
       "  'question': 'Find the name and position of the head of the department with the least employees.',\n",
       "  'full_sql_query': 'SELECT T1.Name, T1.Position FROM Physician AS T1 JOIN Department AS T2 ON T1.EmployeeID = T2.Head JOIN Affiliated_With AS T3 ON T2.DepartmentID = T3.Department GROUP BY T3.Department ORDER BY COUNT(T3.Physician) ASC LIMIT 1',\n",
       "  'gold_sql': 'SELECT T2.name ,  T2.position FROM department AS T1 JOIN physician AS T2 ON T1.head  =  T2.EmployeeID GROUP BY departmentID ORDER BY count(departmentID) LIMIT 1;'},\n",
       " {'sql_idx': 3,\n",
       "  'db_id': 'hospital_1',\n",
       "  'question': 'List the names of patients who have made appointments.',\n",
       "  'full_sql_query': 'SELECT DISTINCT T1.Name FROM Patient AS T1 JOIN Appointment AS T2 ON T1.SSN = T2.Patient',\n",
       "  'gold_sql': 'SELECT name FROM appointment AS T1 JOIN patient AS T2 ON T1.patient  =  T2.ssn'},\n",
       " {'sql_idx': 4,\n",
       "  'db_id': 'hospital_1',\n",
       "  'question': 'Which patients made more than one appointment? Tell me the name and phone number of these patients.',\n",
       "  'full_sql_query': 'SELECT T1.Name, T1.Phone FROM Patient AS T1 JOIN Appointment AS T2 ON T1.SSN = T2.Patient GROUP BY T2.Patient HAVING COUNT(*)  >  1',\n",
       "  'gold_sql': 'SELECT name ,  phone FROM appointment AS T1 JOIN patient AS T2 ON T1.patient  =  T2.ssn GROUP BY T1.patient HAVING count(*)  >  1'},\n",
       " {'sql_idx': 5,\n",
       "  'db_id': 'hospital_1',\n",
       "  'question': 'What is the id of the appointment that started most recently?',\n",
       "  'full_sql_query': 'SELECT AppointmentID FROM Appointment ORDER BY Start DESC LIMIT 1',\n",
       "  'gold_sql': 'SELECT appointmentid FROM appointment ORDER BY START DESC LIMIT 1'},\n",
       " {'sql_idx': 6,\n",
       "  'db_id': 'hospital_1',\n",
       "  'question': 'What are the names of all the physicians who took appointments.',\n",
       "  'full_sql_query': 'SELECT DISTINCT T1.Name FROM Physician AS T1 JOIN Appointment AS T2 ON T1.EmployeeID = T2.Physician',\n",
       "  'gold_sql': 'SELECT T2.name FROM appointment AS T1 JOIN physician AS T2 ON T1.Physician  =  T2.EmployeeID'},\n",
       " {'sql_idx': 7,\n",
       "  'db_id': 'hospital_1',\n",
       "  'question': 'Which physicians have never taken any appointment? Find their names.',\n",
       "  'full_sql_query': 'SELECT T1.Name FROM Physician AS T1 EXCEPT SELECT T2.Name FROM Physician AS T2 JOIN Appointment AS T3 ON T2.EmployeeID = T3.Physician',\n",
       "  'gold_sql': 'SELECT name FROM physician EXCEPT SELECT T2.name FROM appointment AS T1 JOIN physician AS T2 ON T1.Physician  =  T2.EmployeeID'},\n",
       " {'sql_idx': 8,\n",
       "  'db_id': 'hospital_1',\n",
       "  'question': 'What are the name and primarily affiliated department name of each physician?',\n",
       "  'full_sql_query': 'SELECT T1.Name, T2.Name FROM Physician AS T1 JOIN Affiliated_With AS T2 ON T1.EmployeeID = T2.Physician WHERE T2.PrimaryAffiliation = \"Yes\"',\n",
       "  'gold_sql': 'SELECT T1.name ,  T3.name FROM physician AS T1 JOIN affiliated_with AS T2 ON T1.EmployeeID  =  T2.physician JOIN department AS T3 ON T2.department  =  T3.DepartmentID WHERE T2.PrimaryAffiliation  =  1'},\n",
       " {'sql_idx': 9,\n",
       "  'db_id': 'hospital_1',\n",
       "  'question': 'Find the name of the patient who made the appointment with the most recent start date.',\n",
       "  'full_sql_query': 'SELECT Name FROM Patient WHERE SSN = (SELECT Patient FROM Appointment ORDER BY Start DESC LIMIT 1)',\n",
       "  'gold_sql': 'SELECT T1.name FROM patient AS T1 JOIN appointment AS T2 WHERE T1.ssn = T2.patient ORDER BY T2.start DESC LIMIT 1'}]"
      ]
     },
     "execution_count": 41,
     "metadata": {},
     "output_type": "execute_result"
    }
   ],
   "source": [
    "class OutputFormat(BaseModel):\n",
    "    full_sql_query: str = Field(description='The full SQL query.')\n",
    "\n",
    "class Response(BaseModel):\n",
    "    output: list[OutputFormat]\n",
    "\n",
    "template = [\n",
    "(\"system\", '''### TASK\n",
    "You are tasked with generating a SQL query according to a user input request.\n",
    "\n",
    "You will be provided an input NL query.\n",
    "\n",
    "### SCHEMA\n",
    "You are working with the following schema:\n",
    "{schema}\n",
    "'''),\n",
    "(\"human\", \"{input_query}\"),\n",
    "]\n",
    "\n",
    "prompt = ChatPromptTemplate.from_messages(template)\n",
    "\n",
    "model_gemini = ChatGoogleGenerativeAI(\n",
    "    model='gemini-1.5-flash',\n",
    "    temperature=0,\n",
    "    max_tokens=None,\n",
    "    timeout=None,\n",
    "    max_retries=2,\n",
    "    verbose=True,\n",
    ")\n",
    "\n",
    "model = model_gemini.with_structured_output(OutputFormat)\n",
    "chain = (prompt | model)\n",
    "\n",
    "all_full_sql = list()\n",
    "train_subsamples = train_samples[0:10]\n",
    "for idx in tqdm(range(len(train_subsamples))):\n",
    "    data = train_subsamples[idx]\n",
    "    x = data.final\n",
    "    db_id = data.db_id\n",
    "    db_schema = get_schema_str(\n",
    "        schema=sparc_tables[db_id].db_schema, \n",
    "        col_explanation=all_descriptions[db_id]\n",
    "    )\n",
    "    input_data = {'schema': db_schema, 'input_query': x.question}\n",
    "    #print(input_data)\n",
    "    output = chain.invoke(input_data)\n",
    "    #print(output)\n",
    "    full_sql_output = {}\n",
    "    full_sql_output['sql_idx'] = idx\n",
    "    full_sql_output['db_id'] = db_id\n",
    "    full_sql_output['question'] = x.question\n",
    "    full_sql_output['full_sql_query'] = output.full_sql_query\n",
    "    full_sql_output['gold_sql'] = x.sql\n",
    "    all_full_sql.append(full_sql_output)\n",
    "all_full_sql"
   ]
  },
  {
   "cell_type": "code",
   "execution_count": 44,
   "metadata": {},
   "outputs": [
    {
     "name": "stderr",
     "output_type": "stream",
     "text": [
      "100%|██████████| 10/10 [00:00<00:00, 64.15it/s]"
     ]
    },
    {
     "name": "stdout",
     "output_type": "stream",
     "text": [
      "An error occurred: Execution failed on sql 'SELECT T1.Name, T2.Name FROM Physician AS T1 JOIN Affiliated_With AS T2 ON T1.EmployeeID = T2.Physician WHERE T2.PrimaryAffiliation = \"Yes\"': no such column: T2.Name\n",
      "{0: 1, 1: 1, 2: 0, 3: 0, 4: 1, 5: 1, 6: 0, 7: 1, 8: 0, 9: 1}\n",
      "Final score: 0.6\n"
     ]
    },
    {
     "name": "stderr",
     "output_type": "stream",
     "text": [
      "\n"
     ]
    }
   ],
   "source": [
    "## database execution evaluation\n",
    "from src.evaluate import compare_execution\n",
    "\n",
    "output_results = []\n",
    "for data in tqdm(all_full_sql, total=len(all_full_sql)):\n",
    "    sql_idx = data['sql_idx']\n",
    "    db_id = data['db_id']\n",
    "    database = SqliteDatabase(str(sparc_path / 'database' / db_id / f'{db_id}.sqlite'), foreign_keys=table.foreign_keys)\n",
    "    error_info = None\n",
    "    try:\n",
    "        pred_result = database.execute(data['full_sql_query'])\n",
    "        gold_result = database.execute(data['gold_sql'])\n",
    "        try:\n",
    "            score = compare_execution(pred_result, gold_result)\n",
    "        except Exception as e:\n",
    "            print(f\"An error occurred: {e}\")\n",
    "            score = 0\n",
    "            error_info = 'Python Script Error:' + str(e)\n",
    "    except Exception as e:\n",
    "        print(f\"An error occurred: {e}\")\n",
    "        score = 0\n",
    "        error_info = 'Database Execution Error:' + str(e)\n",
    "    if score == 0 and error_info is None:\n",
    "        error_info = 'Result Error' \n",
    "    output_results.append(\n",
    "        {\n",
    "            \"instance_id\": sql_idx, \n",
    "            \"score\": score,\n",
    "            \"pred_sql\": data['full_sql_query'],\n",
    "            \"error_info\": error_info\n",
    "        }\n",
    "    )\n",
    "    \n",
    "print({item['instance_id']: item['score'] for item in output_results})      \n",
    "score = sum([item['score'] for item in output_results]) / len(output_results)\n",
    "print(f\"Final score: {score}\")\n"
   ]
  },
  {
   "cell_type": "markdown",
   "metadata": {},
   "source": [
    "## Chain of Thought Prompt"
   ]
  },
  {
   "cell_type": "markdown",
   "metadata": {},
   "source": [
    "## Schema Linking: Single-Column Schema Linking (SCSL)\n",
    "- identifying relevance of a particular column independent of the rest of the schema"
   ]
  },
  {
   "cell_type": "markdown",
   "metadata": {},
   "source": [
    "## Schema Linking: Table-to-Column Schema Linking (TCSL): \n",
    "- first identifying relevant tables then relevant columns."
   ]
  },
  {
   "cell_type": "code",
   "execution_count": null,
   "metadata": {},
   "outputs": [],
   "source": []
  }
 ],
 "metadata": {
  "kernelspec": {
   "display_name": "Python 3 (ipykernel)",
   "language": "python",
   "name": "python3"
  },
  "language_info": {
   "codemirror_mode": {
    "name": "ipython",
    "version": 3
   },
   "file_extension": ".py",
   "mimetype": "text/x-python",
   "name": "python",
   "nbconvert_exporter": "python",
   "pygments_lexer": "ipython3",
   "version": "3.10.14"
  }
 },
 "nbformat": 4,
 "nbformat_minor": 2
}
