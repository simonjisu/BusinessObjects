{
 "cells": [
  {
   "cell_type": "markdown",
   "metadata": {},
   "source": [
    "## Load Data"
   ]
  },
  {
   "cell_type": "code",
   "execution_count": 1,
   "metadata": {},
   "outputs": [
    {
     "name": "stdout",
     "output_type": "stream",
     "text": [
      "Number of train: 3034 | Number of dev: 422\n"
     ]
    }
   ],
   "source": [
    "import json\n",
    "import numpy as np\n",
    "import pandas as pd\n",
    "\n",
    "from pathlib import Path\n",
    "from src.db_utils import get_schema_str, get_data_dict, get_schema_str_with_tables\n",
    "from src.database import SqliteDatabase, DuckDBDatabase\n",
    "from src.sparc_preprocess import (\n",
    "    load_sparc_data,\n",
    "    process_all_tables, \n",
    "    filter_samples_by_count, \n",
    "    process_samples, \n",
    "    split_train_dev\n",
    ")\n",
    "\n",
    "# duckdb.sql('INSTALL sqlite')\n",
    "# duckdb.sql('SET GLOBAL sqlite_all_varchar = true;')\n",
    "\n",
    "proj_path = Path('.').resolve()\n",
    "sparc_path = proj_path / 'data' / 'sparc'\n",
    "\n",
    "tables, train_data, dev_data = load_sparc_data(sparc_path)\n",
    "print(f'Number of train: {len(train_data)} | Number of dev: {len(dev_data)}')\n",
    "\n",
    "sparc_tables = process_all_tables(tables)\n",
    "# filter samples by count, must have at least 5 samples\n",
    "all_data = filter_samples_by_count(train_data+dev_data, n=5)\n",
    "# process samples -> {db_id: list of samples}\n",
    "sparc_samples = process_samples(all_data)\n",
    "# change train/dev by sample\n",
    "train_samples, dev_samples = split_train_dev(sparc_samples, ratio=0.8)"
   ]
  },
  {
   "cell_type": "code",
   "execution_count": 2,
   "metadata": {},
   "outputs": [
    {
     "data": {
      "text/plain": [
       "dict_keys(['Physician', 'Department', 'Affiliated_With', 'Procedures', 'Trained_In', 'Patient', 'Nurse', 'Appointment', 'Medication', 'Prescribes', 'Block', 'Room', 'On_Call', 'Stay', 'Undergoes'])"
      ]
     },
     "execution_count": 2,
     "metadata": {},
     "output_type": "execute_result"
    }
   ],
   "source": [
    "db_id = 'hospital_1'\n",
    "db_file = str(sparc_path / 'database' / db_id / f'{db_id}.sqlite')\n",
    "database = SqliteDatabase(db_file, foreign_keys=sparc_tables[db_id].foreign_keys)\n",
    "database.table_cols.keys()"
   ]
  },
  {
   "cell_type": "code",
   "execution_count": 3,
   "metadata": {},
   "outputs": [
    {
     "data": {
      "text/html": [
       "<div>\n",
       "<style scoped>\n",
       "    .dataframe tbody tr th:only-of-type {\n",
       "        vertical-align: middle;\n",
       "    }\n",
       "\n",
       "    .dataframe tbody tr th {\n",
       "        vertical-align: top;\n",
       "    }\n",
       "\n",
       "    .dataframe thead th {\n",
       "        text-align: right;\n",
       "    }\n",
       "</style>\n",
       "<table border=\"1\" class=\"dataframe\">\n",
       "  <thead>\n",
       "    <tr style=\"text-align: right;\">\n",
       "      <th></th>\n",
       "      <th>DepartmentID</th>\n",
       "      <th>Name</th>\n",
       "      <th>Head</th>\n",
       "    </tr>\n",
       "  </thead>\n",
       "  <tbody>\n",
       "    <tr>\n",
       "      <th>0</th>\n",
       "      <td>1</td>\n",
       "      <td>General Medicine</td>\n",
       "      <td>4</td>\n",
       "    </tr>\n",
       "    <tr>\n",
       "      <th>1</th>\n",
       "      <td>2</td>\n",
       "      <td>Surgery</td>\n",
       "      <td>7</td>\n",
       "    </tr>\n",
       "    <tr>\n",
       "      <th>2</th>\n",
       "      <td>3</td>\n",
       "      <td>Psychiatry</td>\n",
       "      <td>9</td>\n",
       "    </tr>\n",
       "  </tbody>\n",
       "</table>\n",
       "</div>"
      ],
      "text/plain": [
       "   DepartmentID              Name  Head\n",
       "0             1  General Medicine     4\n",
       "1             2           Surgery     7\n",
       "2             3        Psychiatry     9"
      ]
     },
     "execution_count": 3,
     "metadata": {},
     "output_type": "execute_result"
    }
   ],
   "source": [
    "database.execute('SELECT * FROM Department LIMIT 5;')"
   ]
  },
  {
   "cell_type": "markdown",
   "metadata": {},
   "source": [
    "## Workload Analysis"
   ]
  },
  {
   "cell_type": "code",
   "execution_count": 4,
   "metadata": {},
   "outputs": [
    {
     "name": "stdout",
     "output_type": "stream",
     "text": [
      "[0-Question] What is the number of employees in each department?\n",
      "[0-SQL]: SELECT count(departmentID) FROM department GROUP BY departmentID\n",
      "[1-Question] Which department has the most employees? Give me the department name.\n",
      "[1-SQL]: SELECT name FROM department GROUP BY departmentID ORDER BY count(departmentID) DESC LIMIT 1; \n",
      "\n",
      "[Final]\n",
      "Question: Find the department with the most employees.\n",
      "SQL: SELECT name FROM department GROUP BY departmentID ORDER BY count(departmentID) DESC LIMIT 1;\n",
      "\n"
     ]
    }
   ],
   "source": [
    "from src.sparc_preprocess import SparcSample, QuestionSQL\n",
    "\n",
    "def format_interactions(interactions: list[QuestionSQL]) -> str:\n",
    "    workload = ''\n",
    "    for i, interaction in enumerate(interactions):\n",
    "        workload += f'[{i}-Question] {interaction.question}\\n[{i}-SQL]: {interaction.sql}\\n'\n",
    "    return workload.strip()\n",
    "\n",
    "with (proj_path / 'db_data' / 'sparc_description.json').open() as f:\n",
    "    all_descriptions = json.load(f)\n",
    "\n",
    "idx = 0\n",
    "data = train_samples[idx]\n",
    "table = sparc_tables[data.db_id]\n",
    "col_explanation = all_descriptions[data.db_id]\n",
    "# create schema string\n",
    "schema_str = get_schema_str(\n",
    "    schema=table.db_schema, \n",
    "    foreign_keys=table.foreign_keys,\n",
    "    primary_keys=table.primary_keys,\n",
    "    col_explanation=col_explanation\n",
    ")\n",
    "database = SqliteDatabase(str(sparc_path / 'database' / data.db_id / f'{data.db_id}.sqlite'), foreign_keys=table.foreign_keys)\n",
    "workload = format_interactions(data.interactions)\n",
    "print(workload, '\\n')\n",
    "print(f'[Final]\\nQuestion: {data.final.question}\\nSQL: {data.final.sql}\\n')"
   ]
  },
  {
   "cell_type": "code",
   "execution_count": 5,
   "metadata": {},
   "outputs": [
    {
     "data": {
      "text/html": [
       "<div>\n",
       "<style scoped>\n",
       "    .dataframe tbody tr th:only-of-type {\n",
       "        vertical-align: middle;\n",
       "    }\n",
       "\n",
       "    .dataframe tbody tr th {\n",
       "        vertical-align: top;\n",
       "    }\n",
       "\n",
       "    .dataframe thead th {\n",
       "        text-align: right;\n",
       "    }\n",
       "</style>\n",
       "<table border=\"1\" class=\"dataframe\">\n",
       "  <thead>\n",
       "    <tr style=\"text-align: right;\">\n",
       "      <th></th>\n",
       "      <th>count(departmentID)</th>\n",
       "    </tr>\n",
       "  </thead>\n",
       "  <tbody>\n",
       "    <tr>\n",
       "      <th>0</th>\n",
       "      <td>1</td>\n",
       "    </tr>\n",
       "    <tr>\n",
       "      <th>1</th>\n",
       "      <td>1</td>\n",
       "    </tr>\n",
       "    <tr>\n",
       "      <th>2</th>\n",
       "      <td>1</td>\n",
       "    </tr>\n",
       "  </tbody>\n",
       "</table>\n",
       "</div>"
      ],
      "text/plain": [
       "   count(departmentID)\n",
       "0                    1\n",
       "1                    1\n",
       "2                    1"
      ]
     },
     "execution_count": 5,
     "metadata": {},
     "output_type": "execute_result"
    }
   ],
   "source": [
    "database.execute(data.interactions[0].sql)"
   ]
  },
  {
   "cell_type": "code",
   "execution_count": 6,
   "metadata": {},
   "outputs": [
    {
     "data": {
      "text/html": [
       "<div>\n",
       "<style scoped>\n",
       "    .dataframe tbody tr th:only-of-type {\n",
       "        vertical-align: middle;\n",
       "    }\n",
       "\n",
       "    .dataframe tbody tr th {\n",
       "        vertical-align: top;\n",
       "    }\n",
       "\n",
       "    .dataframe thead th {\n",
       "        text-align: right;\n",
       "    }\n",
       "</style>\n",
       "<table border=\"1\" class=\"dataframe\">\n",
       "  <thead>\n",
       "    <tr style=\"text-align: right;\">\n",
       "      <th></th>\n",
       "      <th>Name</th>\n",
       "    </tr>\n",
       "  </thead>\n",
       "  <tbody>\n",
       "    <tr>\n",
       "      <th>0</th>\n",
       "      <td>General Medicine</td>\n",
       "    </tr>\n",
       "  </tbody>\n",
       "</table>\n",
       "</div>"
      ],
      "text/plain": [
       "               Name\n",
       "0  General Medicine"
      ]
     },
     "execution_count": 6,
     "metadata": {},
     "output_type": "execute_result"
    }
   ],
   "source": [
    "database.execute(data.interactions[1].sql)"
   ]
  },
  {
   "cell_type": "code",
   "execution_count": 7,
   "metadata": {},
   "outputs": [
    {
     "data": {
      "text/html": [
       "<div>\n",
       "<style scoped>\n",
       "    .dataframe tbody tr th:only-of-type {\n",
       "        vertical-align: middle;\n",
       "    }\n",
       "\n",
       "    .dataframe tbody tr th {\n",
       "        vertical-align: top;\n",
       "    }\n",
       "\n",
       "    .dataframe thead th {\n",
       "        text-align: right;\n",
       "    }\n",
       "</style>\n",
       "<table border=\"1\" class=\"dataframe\">\n",
       "  <thead>\n",
       "    <tr style=\"text-align: right;\">\n",
       "      <th></th>\n",
       "      <th>Name</th>\n",
       "    </tr>\n",
       "  </thead>\n",
       "  <tbody>\n",
       "    <tr>\n",
       "      <th>0</th>\n",
       "      <td>General Medicine</td>\n",
       "    </tr>\n",
       "  </tbody>\n",
       "</table>\n",
       "</div>"
      ],
      "text/plain": [
       "               Name\n",
       "0  General Medicine"
      ]
     },
     "execution_count": 7,
     "metadata": {},
     "output_type": "execute_result"
    }
   ],
   "source": [
    "database.execute(data.final.sql)"
   ]
  },
  {
   "cell_type": "markdown",
   "metadata": {},
   "source": [
    "## Schema description"
   ]
  },
  {
   "cell_type": "code",
   "execution_count": 5,
   "metadata": {},
   "outputs": [
    {
     "name": "stdout",
     "output_type": "stream",
     "text": [
      "[Table and Columns]\n",
      "Table Name: Physician\n",
      "  - 'EmployeeID'(text): Unique identifier for each physician.\n",
      "  - 'Name'(text): Full name of the physician.\n",
      "  - 'Position'(text): Job title or role of the physician.\n",
      "  - 'SSN'(text): Social Security Number of the physician.\n",
      "Table Name: Department\n",
      "  - 'Depart\n"
     ]
    }
   ],
   "source": [
    "with (proj_path / 'db_data' / 'sparc_description.json').open() as f:\n",
    "    all_descriptions = json.load(f)\n",
    "\n",
    "print(get_schema_str(\n",
    "    schema=sparc_tables['hospital_1'].db_schema, \n",
    "    col_explanation=all_descriptions['hospital_1'])[:300]\n",
    ")"
   ]
  },
  {
   "cell_type": "code",
   "execution_count": 6,
   "metadata": {},
   "outputs": [],
   "source": [
    "import os \n",
    "from dotenv import load_dotenv, find_dotenv\n",
    "from collections import defaultdict\n",
    "from tqdm import tqdm\n",
    "from langchain_core.pydantic_v1 import BaseModel, Field\n",
    "from langchain_openai import ChatOpenAI\n",
    "from langchain_core.prompts import PromptTemplate\n",
    "from langchain_core.output_parsers import JsonOutputParser\n",
    "\n",
    "_ = load_dotenv(find_dotenv())"
   ]
  },
  {
   "cell_type": "markdown",
   "metadata": {},
   "source": [
    "## Basic Prompt"
   ]
  },
  {
   "cell_type": "code",
   "execution_count": 11,
   "metadata": {},
   "outputs": [
    {
     "name": "stderr",
     "output_type": "stream",
     "text": [
      "100%|██████████| 10/10 [00:09<00:00,  1.05it/s]\n"
     ]
    },
    {
     "data": {
      "text/plain": [
       "[{'sql_idx': 0,\n",
       "  'db_id': 'hospital_1',\n",
       "  'question': 'Find the department with the most employees.',\n",
       "  'full_sql_query': 'SELECT d.Name, COUNT(a.Physician) AS EmployeeCount\\nFROM Department d\\nJOIN Affiliated_With a ON d.DepartmentID = a.Department\\nGROUP BY d.Name\\nORDER BY EmployeeCount DESC\\nLIMIT 1;',\n",
       "  'gold_sql': 'SELECT name FROM department GROUP BY departmentID ORDER BY count(departmentID) DESC LIMIT 1;'},\n",
       " {'sql_idx': 1,\n",
       "  'db_id': 'hospital_1',\n",
       "  'question': 'Tell me the employee id of the head of the department with the least employees.',\n",
       "  'full_sql_query': 'SELECT Head FROM Department WHERE DepartmentID = (SELECT DepartmentID FROM Affiliated_With GROUP BY Department ORDER BY COUNT(Physician) ASC LIMIT 1)',\n",
       "  'gold_sql': 'SELECT head FROM department GROUP BY departmentID ORDER BY count(departmentID) LIMIT 1;'},\n",
       " {'sql_idx': 2,\n",
       "  'db_id': 'hospital_1',\n",
       "  'question': 'Find the name and position of the head of the department with the least employees.',\n",
       "  'full_sql_query': \"SELECT P.Name, P.Position \\nFROM Physician P \\nJOIN Affiliated_With A ON P.EmployeeID = A.Physician \\nWHERE A.Department = (SELECT DepartmentID \\n                     FROM Department \\n                     ORDER BY (SELECT COUNT(*) \\n                                 FROM Affiliated_With \\n                                 WHERE Department = DepartmentID) \\n                     LIMIT 1) \\nAND A.PrimaryAffiliation = 'Yes';\",\n",
       "  'gold_sql': 'SELECT T2.name ,  T2.position FROM department AS T1 JOIN physician AS T2 ON T1.head  =  T2.EmployeeID GROUP BY departmentID ORDER BY count(departmentID) LIMIT 1;'},\n",
       " {'sql_idx': 3,\n",
       "  'db_id': 'hospital_1',\n",
       "  'question': 'List the names of patients who have made appointments.',\n",
       "  'full_sql_query': 'SELECT DISTINCT Patient.Name\\nFROM Patient\\nJOIN Appointment ON Patient.SSN = Appointment.Patient;',\n",
       "  'gold_sql': 'SELECT name FROM appointment AS T1 JOIN patient AS T2 ON T1.patient  =  T2.ssn'},\n",
       " {'sql_idx': 4,\n",
       "  'db_id': 'hospital_1',\n",
       "  'question': 'Which patients made more than one appointment? Tell me the name and phone number of these patients.',\n",
       "  'full_sql_query': 'SELECT p.Name, p.Phone \\nFROM Patient p \\nJOIN Appointment a ON p.SSN = a.Patient \\nGROUP BY p.SSN, p.Name, p.Phone \\nHAVING COUNT(a.AppointmentID) > 1;',\n",
       "  'gold_sql': 'SELECT name ,  phone FROM appointment AS T1 JOIN patient AS T2 ON T1.patient  =  T2.ssn GROUP BY T1.patient HAVING count(*)  >  1'},\n",
       " {'sql_idx': 5,\n",
       "  'db_id': 'hospital_1',\n",
       "  'question': 'What is the id of the appointment that started most recently?',\n",
       "  'full_sql_query': 'SELECT AppointmentID FROM Appointment ORDER BY Start DESC LIMIT 1;',\n",
       "  'gold_sql': 'SELECT appointmentid FROM appointment ORDER BY START DESC LIMIT 1'},\n",
       " {'sql_idx': 6,\n",
       "  'db_id': 'hospital_1',\n",
       "  'question': 'What are the names of all the physicians who took appointments.',\n",
       "  'full_sql_query': 'SELECT DISTINCT Physician.Name\\nFROM Physician\\nJOIN Appointment ON Physician.EmployeeID = Appointment.Physician;',\n",
       "  'gold_sql': 'SELECT T2.name FROM appointment AS T1 JOIN physician AS T2 ON T1.Physician  =  T2.EmployeeID'},\n",
       " {'sql_idx': 7,\n",
       "  'db_id': 'hospital_1',\n",
       "  'question': 'Which physicians have never taken any appointment? Find their names.',\n",
       "  'full_sql_query': 'SELECT p.Name \\nFROM Physician p \\nLEFT JOIN Appointment a ON p.EmployeeID = a.Physician \\nWHERE a.AppointmentID IS NULL;',\n",
       "  'gold_sql': 'SELECT name FROM physician EXCEPT SELECT T2.name FROM appointment AS T1 JOIN physician AS T2 ON T1.Physician  =  T2.EmployeeID'},\n",
       " {'sql_idx': 8,\n",
       "  'db_id': 'hospital_1',\n",
       "  'question': 'What are the name and primarily affiliated department name of each physician?',\n",
       "  'full_sql_query': \"SELECT Physician.Name AS PhysicianName, Department.Name AS DepartmentName\\nFROM Physician\\nJOIN Affiliated_With ON Physician.EmployeeID = Affiliated_With.Physician\\nJOIN Department ON Affiliated_With.Department = Department.DepartmentID\\nWHERE Affiliated_With.PrimaryAffiliation = 'Yes';\",\n",
       "  'gold_sql': 'SELECT T1.name ,  T3.name FROM physician AS T1 JOIN affiliated_with AS T2 ON T1.EmployeeID  =  T2.physician JOIN department AS T3 ON T2.department  =  T3.DepartmentID WHERE T2.PrimaryAffiliation  =  1'},\n",
       " {'sql_idx': 9,\n",
       "  'db_id': 'hospital_1',\n",
       "  'question': 'Find the name of the patient who made the appointment with the most recent start date.',\n",
       "  'full_sql_query': 'SELECT Patient.Name\\nFROM Appointment\\nJOIN Patient ON Appointment.Patient = Patient.SSN\\nWHERE Appointment.Start = (SELECT MAX(Start) FROM Appointment);',\n",
       "  'gold_sql': 'SELECT T1.name FROM patient AS T1 JOIN appointment AS T2 WHERE T1.ssn = T2.patient ORDER BY T2.start DESC LIMIT 1'}]"
      ]
     },
     "execution_count": 11,
     "metadata": {},
     "output_type": "execute_result"
    }
   ],
   "source": [
    "class OutputFormat(BaseModel):\n",
    "    full_sql_query: str = Field(description='The full SQL query.')\n",
    "\n",
    "class Response(BaseModel):\n",
    "    output: list[OutputFormat]\n",
    "\n",
    "template = '''### TASK\n",
    "You are tasked with generating a SQL query according to a user input request.\n",
    "\n",
    "You will be provided an input NL query.\n",
    "\n",
    "### SCHEMA\n",
    "You are working with the following schema:\n",
    "{schema}\n",
    "\n",
    "### FORMATTING\n",
    "Your output should be of the following JSON format:\n",
    "{{\n",
    "    \"full_sql_query\": \"<str: the full SQL query>\"\n",
    "}}\n",
    "\n",
    "### OUTPUT\n",
    "<INPUT QUERY>: {input_query}\n",
    "<OUTPUT>: \n",
    "'''\n",
    "\n",
    "prompt = PromptTemplate(\n",
    "    template=template,\n",
    "    input_variables=['schema', 'input_query']\n",
    ")\n",
    "\n",
    "model_openai = ChatOpenAI(\n",
    "    model='gpt-4o-mini',\n",
    "    temperature=0.0,\n",
    ")\n",
    "\n",
    "model = model_openai.with_structured_output(Response)\n",
    "chain = (prompt | model)\n",
    "\n",
    "all_full_sql = list()\n",
    "train_subsamples = train_samples[0:10]\n",
    "for idx in tqdm(range(len(train_subsamples))):\n",
    "    data = train_subsamples[idx]\n",
    "    x = data.final\n",
    "    db_id = data.db_id\n",
    "    db_schema = get_schema_str(\n",
    "        schema=sparc_tables[db_id].db_schema, \n",
    "        col_explanation=all_descriptions[db_id]\n",
    "    )\n",
    "    input_data = {'schema': db_schema, 'input_query': x.question}\n",
    "    #print(input_data)\n",
    "    output = chain.invoke(input=input_data).output\n",
    "    #print(output)\n",
    "    full_sql_output = {}\n",
    "    full_sql_output['sql_idx'] = idx\n",
    "    full_sql_output['db_id'] = db_id\n",
    "    full_sql_output['question'] = x.question\n",
    "    full_sql_output['full_sql_query'] = output[0].full_sql_query\n",
    "    full_sql_output['gold_sql'] = x.sql\n",
    "    all_full_sql.append(full_sql_output)\n",
    "all_full_sql"
   ]
  },
  {
   "cell_type": "code",
   "execution_count": 14,
   "metadata": {},
   "outputs": [
    {
     "name": "stderr",
     "output_type": "stream",
     "text": [
      "100%|██████████| 10/10 [00:00<00:00, 65.01it/s]"
     ]
    },
    {
     "name": "stdout",
     "output_type": "stream",
     "text": [
      "{0: 1, 1: 0, 2: 0, 3: 0, 4: 1, 5: 1, 6: 0, 7: 0, 8: 0, 9: 0}\n",
      "Final score: 0.3\n"
     ]
    },
    {
     "name": "stderr",
     "output_type": "stream",
     "text": [
      "\n"
     ]
    }
   ],
   "source": [
    "## database execution evaluation\n",
    "from src.evaluate import compare_execution\n",
    "\n",
    "output_results = []\n",
    "for data in tqdm(all_full_sql, total=len(all_full_sql)):\n",
    "    sql_idx = data['sql_idx']\n",
    "    db_id = data['db_id']\n",
    "    database = SqliteDatabase(str(sparc_path / 'database' / db_id / f'{db_id}.sqlite'), foreign_keys=table.foreign_keys)\n",
    "    pred_result = database.execute(data['full_sql_query'])\n",
    "    #print(pred_result)\n",
    "    gold_result = database.execute(data['gold_sql'])\n",
    "    #print(gold_result)\n",
    "    error_info = None\n",
    "    try:\n",
    "        score = compare_execution(pred_result, gold_result)\n",
    "    except Exception as e:\n",
    "        print(f\"An error occurred: {e}\")\n",
    "        score = 0\n",
    "        error_info = 'Python Script Error:' + str(e)\n",
    "    if score == 0 and error_info is None:\n",
    "        error_info = 'Result Error' \n",
    "    output_results.append(\n",
    "        {\n",
    "            \"instance_id\": sql_idx, \n",
    "            \"score\": score,\n",
    "            \"pred_sql\": data['full_sql_query'],\n",
    "            \"error_info\": error_info\n",
    "        }\n",
    "    )\n",
    "    \n",
    "print({item['instance_id']: item['score'] for item in output_results})      \n",
    "score = sum([item['score'] for item in output_results]) / len(output_results)\n",
    "print(f\"Final score: {score}\")\n"
   ]
  },
  {
   "cell_type": "markdown",
   "metadata": {},
   "source": [
    "## Chain of Thought Prompt"
   ]
  },
  {
   "cell_type": "code",
   "execution_count": 15,
   "metadata": {
    "scrolled": false
   },
   "outputs": [
    {
     "name": "stderr",
     "output_type": "stream",
     "text": [
      "100%|██████████| 10/10 [00:17<00:00,  1.71s/it]\n"
     ]
    },
    {
     "data": {
      "text/plain": [
       "[{'sql_idx': 0,\n",
       "  'db_id': 'hospital_1',\n",
       "  'question': 'Find the department with the most employees.',\n",
       "  'rationale': \"To find the department with the most employees, we need to count the number of physicians affiliated with each department. We can achieve this by joining the 'Department' table with the 'Affiliated_With' table on the department identifier. We will group the results by department name and count the number of physicians in each department. Finally, we will order the results in descending order based on the count and limit the output to the top result.\",\n",
       "  'full_sql_query': 'SELECT d.Name, COUNT(a.Physician) AS EmployeeCount\\nFROM Department d\\nJOIN Affiliated_With a ON d.DepartmentID = a.Department\\nGROUP BY d.Name\\nORDER BY EmployeeCount DESC\\nLIMIT 1;',\n",
       "  'gold_sql': 'SELECT name FROM department GROUP BY departmentID ORDER BY count(departmentID) DESC LIMIT 1;'},\n",
       " {'sql_idx': 1,\n",
       "  'db_id': 'hospital_1',\n",
       "  'question': 'Tell me the employee id of the head of the department with the least employees.',\n",
       "  'rationale': '1. We need to find the department with the least number of employees. This can be done by counting the number of physicians affiliated with each department. \\n2. We will use the Affiliated_With table to group by Department and count the number of physicians in each department. \\n3. We will order the results by the count in ascending order to get the department with the least employees. \\n4. We will limit the results to 1 to get only the department with the least employees. \\n5. Finally, we will use the DepartmentID from the previous step to select the Head of that department from the Department table.',\n",
       "  'full_sql_query': 'SELECT Head FROM Department WHERE DepartmentID = (SELECT DepartmentID FROM Affiliated_With GROUP BY Department ORDER BY COUNT(Physician) ASC LIMIT 1)',\n",
       "  'gold_sql': 'SELECT head FROM department GROUP BY departmentID ORDER BY count(departmentID) LIMIT 1;'},\n",
       " {'sql_idx': 2,\n",
       "  'db_id': 'hospital_1',\n",
       "  'question': 'Find the name and position of the head of the department with the least employees.',\n",
       "  'rationale': '1. We need to find the head of the department with the least employees. \\n2. First, we will identify the department with the least number of affiliated physicians. This can be done by counting the number of physicians in each department using the Affiliated_With table. \\n3. We will group the results by department and order them in ascending order based on the count of physicians, limiting the result to the top one department. \\n4. Next, we will join the Department table with the Physician table to get the head of that department. \\n5. Finally, we will select the name and position of the physician who is the head of the identified department.',\n",
       "  'full_sql_query': 'SELECT P.Name, P.Position \\nFROM Physician P \\nJOIN Department D ON P.EmployeeID = D.Head \\nWHERE D.DepartmentID = (SELECT DepartmentID \\n                       FROM Affiliated_With A \\n                       GROUP BY A.Department \\n                       ORDER BY COUNT(A.Physician) ASC \\n                       LIMIT 1)',\n",
       "  'gold_sql': 'SELECT T2.name ,  T2.position FROM department AS T1 JOIN physician AS T2 ON T1.head  =  T2.EmployeeID GROUP BY departmentID ORDER BY count(departmentID) LIMIT 1;'},\n",
       " {'sql_idx': 3,\n",
       "  'db_id': 'hospital_1',\n",
       "  'question': 'List the names of patients who have made appointments.',\n",
       "  'rationale': \"To list the names of patients who have made appointments, we need to retrieve the names from the Patient table. We will join the Patient table with the Appointment table on the Patient's SSN, which is the unique identifier for patients, and the Patient column in the Appointment table, which references the patient. We use DISTINCT to ensure that each patient's name is listed only once, even if they have multiple appointments.\",\n",
       "  'full_sql_query': 'SELECT DISTINCT Patient.Name FROM Patient JOIN Appointment ON Patient.SSN = Appointment.Patient;',\n",
       "  'gold_sql': 'SELECT name FROM appointment AS T1 JOIN patient AS T2 ON T1.patient  =  T2.ssn'},\n",
       " {'sql_idx': 4,\n",
       "  'db_id': 'hospital_1',\n",
       "  'question': 'Which patients made more than one appointment? Tell me the name and phone number of these patients.',\n",
       "  'rationale': \"To find patients who made more than one appointment, we need to join the Patient table with the Appointment table on the Patient's SSN and the Appointment's Patient identifier. We will select the patient's name and phone number. We will group the results by the patient's SSN to aggregate the appointments and use the HAVING clause to filter for patients with more than one appointment (i.e., COUNT(a.AppointmentID) > 1).\",\n",
       "  'full_sql_query': 'SELECT p.Name, p.Phone FROM Patient p JOIN Appointment a ON p.SSN = a.Patient GROUP BY p.SSN HAVING COUNT(a.AppointmentID) > 1;',\n",
       "  'gold_sql': 'SELECT name ,  phone FROM appointment AS T1 JOIN patient AS T2 ON T1.patient  =  T2.ssn GROUP BY T1.patient HAVING count(*)  >  1'},\n",
       " {'sql_idx': 5,\n",
       "  'db_id': 'hospital_1',\n",
       "  'question': 'What is the id of the appointment that started most recently?',\n",
       "  'rationale': 'To find the ID of the appointment that started most recently, we need to query the Appointment table. We will select the AppointmentID and order the results by the Start time in descending order, which means the most recent appointment will be at the top. Finally, we limit the results to 1 to get only the most recent appointment.',\n",
       "  'full_sql_query': 'SELECT AppointmentID FROM Appointment ORDER BY Start DESC LIMIT 1;',\n",
       "  'gold_sql': 'SELECT appointmentid FROM appointment ORDER BY START DESC LIMIT 1'},\n",
       " {'sql_idx': 6,\n",
       "  'db_id': 'hospital_1',\n",
       "  'question': 'What are the names of all the physicians who took appointments.',\n",
       "  'rationale': \"To find the names of all physicians who took appointments, we need to join the Physician table with the Appointment table. The join condition is that the EmployeeID in the Physician table matches the Physician identifier in the Appointment table. We use DISTINCT to ensure that each physician's name is listed only once, even if they have taken multiple appointments.\",\n",
       "  'full_sql_query': 'SELECT DISTINCT Physician.Name FROM Physician JOIN Appointment ON Physician.EmployeeID = Appointment.Physician;',\n",
       "  'gold_sql': 'SELECT T2.name FROM appointment AS T1 JOIN physician AS T2 ON T1.Physician  =  T2.EmployeeID'},\n",
       " {'sql_idx': 7,\n",
       "  'db_id': 'hospital_1',\n",
       "  'question': 'Which physicians have never taken any appointment? Find their names.',\n",
       "  'rationale': 'To find physicians who have never taken any appointment, we need to select their names from the Physician table. We can achieve this by using a subquery that selects all EmployeeIDs of physicians who have taken appointments from the Appointment table. We then use the NOT IN clause to filter out those physicians from the Physician table.',\n",
       "  'full_sql_query': 'SELECT Name FROM Physician WHERE EmployeeID NOT IN (SELECT Physician FROM Appointment)',\n",
       "  'gold_sql': 'SELECT name FROM physician EXCEPT SELECT T2.name FROM appointment AS T1 JOIN physician AS T2 ON T1.Physician  =  T2.EmployeeID'},\n",
       " {'sql_idx': 8,\n",
       "  'db_id': 'hospital_1',\n",
       "  'question': 'What are the name and primarily affiliated department name of each physician?',\n",
       "  'rationale': \"To retrieve the name of each physician and their primarily affiliated department name, we need to join the Physician table with the Affiliated_With table to link physicians with their departments. Then, we join the Department table to get the department names. We filter the results to include only those affiliations marked as primary by checking the 'PrimaryAffiliation' column.\",\n",
       "  'full_sql_query': \"SELECT Physician.Name AS PhysicianName, Department.Name AS DepartmentName\\nFROM Physician\\nJOIN Affiliated_With ON Physician.EmployeeID = Affiliated_With.Physician\\nJOIN Department ON Affiliated_With.Department = Department.DepartmentID\\nWHERE Affiliated_With.PrimaryAffiliation = 'Yes';\",\n",
       "  'gold_sql': 'SELECT T1.name ,  T3.name FROM physician AS T1 JOIN affiliated_with AS T2 ON T1.EmployeeID  =  T2.physician JOIN department AS T3 ON T2.department  =  T3.DepartmentID WHERE T2.PrimaryAffiliation  =  1'},\n",
       " {'sql_idx': 9,\n",
       "  'db_id': 'hospital_1',\n",
       "  'question': 'Find the name of the patient who made the appointment with the most recent start date.',\n",
       "  'rationale': \"To find the name of the patient who made the appointment with the most recent start date, we need to join the Patient table with the Appointment table on the Patient's SSN and the Appointment's Patient identifier. We then order the results by the Start date of the appointment in descending order to get the most recent appointment first. Finally, we limit the results to just one record to get the name of that patient.\",\n",
       "  'full_sql_query': 'SELECT p.Name FROM Patient p JOIN Appointment a ON p.SSN = a.Patient ORDER BY a.Start DESC LIMIT 1;',\n",
       "  'gold_sql': 'SELECT T1.name FROM patient AS T1 JOIN appointment AS T2 WHERE T1.ssn = T2.patient ORDER BY T2.start DESC LIMIT 1'}]"
      ]
     },
     "execution_count": 15,
     "metadata": {},
     "output_type": "execute_result"
    }
   ],
   "source": [
    "class OutputFormat(BaseModel):\n",
    "    full_sql_query: str = Field(description='The full SQL query.')\n",
    "    rationale: str = Field(description='The step-by-step reasoning to generate the SQL query.')\n",
    "\n",
    "class Response(BaseModel):\n",
    "    output: list[OutputFormat]\n",
    "\n",
    "template = '''### TASK\n",
    "You are tasked with generating a SQL query according to a user input request.\n",
    "You should work in step-by-step reasoning before coming to the full SQL query.\n",
    "\n",
    "You will be provided an input NL query.\n",
    "\n",
    "### SCHEMA\n",
    "You are working with the following schema:\n",
    "{schema}\n",
    "\n",
    "### FORMATTING\n",
    "Your output should be of the following JSON format:\n",
    "{{\n",
    "    \"rationale\": \"<str: the step-by-step reasoning to generate the SQL query>\",\n",
    "    \"full_sql_query\": \"<str: the full SQL query>\"\n",
    "}}\n",
    "\n",
    "### OUTPUT\n",
    "<INPUT QUERY>: {input_query}\n",
    "<OUTPUT>: \n",
    "'''\n",
    "\n",
    "prompt = PromptTemplate(\n",
    "    template=template,\n",
    "    input_variables=['schema', 'input_query']\n",
    ")\n",
    "\n",
    "model_openai = ChatOpenAI(\n",
    "    model='gpt-4o-mini',\n",
    "    temperature=0.0,\n",
    ")\n",
    "\n",
    "model = model_openai.with_structured_output(Response)\n",
    "chain = (prompt | model)\n",
    "\n",
    "all_full_sql = list()\n",
    "train_subsamples = train_samples[0:10]\n",
    "for idx in tqdm(range(len(train_subsamples))):\n",
    "    data = train_subsamples[idx]\n",
    "    x = data.final\n",
    "    db_id = data.db_id\n",
    "    db_schema = get_schema_str(\n",
    "        schema=sparc_tables[db_id].db_schema, \n",
    "        col_explanation=all_descriptions[db_id]\n",
    "    )\n",
    "    input_data = {'schema': db_schema, 'input_query': x.question}\n",
    "    #print(input_data)\n",
    "    output = chain.invoke(input=input_data).output\n",
    "    #print(output)\n",
    "    full_sql_output = {}\n",
    "    full_sql_output['sql_idx'] = idx\n",
    "    full_sql_output['db_id'] = db_id\n",
    "    full_sql_output['question'] = x.question\n",
    "    full_sql_output['rationale'] = output[0].rationale\n",
    "    full_sql_output['full_sql_query'] = output[0].full_sql_query\n",
    "    full_sql_output['gold_sql'] = x.sql\n",
    "    all_full_sql.append(full_sql_output)\n",
    "all_full_sql"
   ]
  },
  {
   "cell_type": "code",
   "execution_count": 16,
   "metadata": {},
   "outputs": [
    {
     "name": "stderr",
     "output_type": "stream",
     "text": [
      "100%|██████████| 10/10 [00:00<00:00, 63.54it/s]"
     ]
    },
    {
     "name": "stdout",
     "output_type": "stream",
     "text": [
      "{0: 1, 1: 0, 2: 0, 3: 0, 4: 1, 5: 1, 6: 0, 7: 0, 8: 0, 9: 1}\n",
      "Final score: 0.4\n"
     ]
    },
    {
     "name": "stderr",
     "output_type": "stream",
     "text": [
      "\n"
     ]
    }
   ],
   "source": [
    "## database execution evaluation\n",
    "from src.evaluate import compare_execution\n",
    "\n",
    "output_results = []\n",
    "for data in tqdm(all_full_sql, total=len(all_full_sql)):\n",
    "    sql_idx = data['sql_idx']\n",
    "    db_id = data['db_id']\n",
    "    database = SqliteDatabase(str(sparc_path / 'database' / db_id / f'{db_id}.sqlite'), foreign_keys=table.foreign_keys)\n",
    "    pred_result = database.execute(data['full_sql_query'])\n",
    "    #print(pred_result)\n",
    "    gold_result = database.execute(data['gold_sql'])\n",
    "    #print(gold_result)\n",
    "    error_info = None\n",
    "    try:\n",
    "        score = compare_execution(pred_result, gold_result)\n",
    "    except Exception as e:\n",
    "        print(f\"An error occurred: {e}\")\n",
    "        score = 0\n",
    "        error_info = 'Python Script Error:' + str(e)\n",
    "    if score == 0 and error_info is None:\n",
    "        error_info = 'Result Error' \n",
    "    output_results.append(\n",
    "        {\n",
    "            \"instance_id\": sql_idx, \n",
    "            \"score\": score,\n",
    "            \"pred_sql\": data['full_sql_query'],\n",
    "            \"error_info\": error_info\n",
    "        }\n",
    "    )\n",
    "    \n",
    "print({item['instance_id']: item['score'] for item in output_results})      \n",
    "score = sum([item['score'] for item in output_results]) / len(output_results)\n",
    "print(f\"Final score: {score}\")\n"
   ]
  },
  {
   "cell_type": "markdown",
   "metadata": {},
   "source": [
    "## Schema Linking: Single-Column Schema Linking (SCSL)\n",
    "- identifying relevance of a particular column independent of the rest of the schema"
   ]
  },
  {
   "cell_type": "code",
   "execution_count": 29,
   "metadata": {
    "scrolled": false
   },
   "outputs": [
    {
     "name": "stderr",
     "output_type": "stream",
     "text": [
      "100%|██████████| 1/1 [00:04<00:00,  4.98s/it]\n"
     ]
    },
    {
     "data": {
      "text/plain": [
       "[{'sql_idx': 0,\n",
       "  'db_id': 'hospital_1',\n",
       "  'question': 'Find the department with the most employees.',\n",
       "  'column': 'DepartmentID(number)',\n",
       "  'rationale': 'The query is asking for information about departments, specifically which one has the most employees. The DepartmentID is essential for identifying departments in the schema.',\n",
       "  'relevant': True,\n",
       "  'gold_sql': 'SELECT name FROM department GROUP BY departmentID ORDER BY count(departmentID) DESC LIMIT 1;'},\n",
       " {'sql_idx': 0,\n",
       "  'db_id': 'hospital_1',\n",
       "  'question': 'Find the department with the most employees.',\n",
       "  'column': 'Name(number)',\n",
       "  'rationale': \"The query requires the name of the department with the most employees, making this column relevant as it provides the department's name.\",\n",
       "  'relevant': True,\n",
       "  'gold_sql': 'SELECT name FROM department GROUP BY departmentID ORDER BY count(departmentID) DESC LIMIT 1;'},\n",
       " {'sql_idx': 0,\n",
       "  'db_id': 'hospital_1',\n",
       "  'question': 'Find the department with the most employees.',\n",
       "  'column': 'Head(number)',\n",
       "  'rationale': 'While the head of the department may be relevant in some contexts, it does not directly relate to the query about the number of employees in a department, making it less relevant.',\n",
       "  'relevant': False,\n",
       "  'gold_sql': 'SELECT name FROM department GROUP BY departmentID ORDER BY count(departmentID) DESC LIMIT 1;'},\n",
       " {'sql_idx': 0,\n",
       "  'db_id': 'hospital_1',\n",
       "  'question': 'Find the department with the most employees.',\n",
       "  'column': 'Physician(text)',\n",
       "  'rationale': 'This column relates to physicians and their identifiers, which is not directly relevant to the query about departments and employees.',\n",
       "  'relevant': False,\n",
       "  'gold_sql': 'SELECT name FROM department GROUP BY departmentID ORDER BY count(departmentID) DESC LIMIT 1;'},\n",
       " {'sql_idx': 0,\n",
       "  'db_id': 'hospital_1',\n",
       "  'question': 'Find the department with the most employees.',\n",
       "  'column': 'Department(text)',\n",
       "  'rationale': 'This column links physicians to departments, which is relevant for determining which department has the most employees, as it helps in counting employees per department.',\n",
       "  'relevant': True,\n",
       "  'gold_sql': 'SELECT name FROM department GROUP BY departmentID ORDER BY count(departmentID) DESC LIMIT 1;'},\n",
       " {'sql_idx': 0,\n",
       "  'db_id': 'hospital_1',\n",
       "  'question': 'Find the department with the most employees.',\n",
       "  'column': 'PrimaryAffiliation(text)',\n",
       "  'rationale': 'This column indicates if the affiliation is primary but does not directly relate to counting employees in a department, making it less relevant.',\n",
       "  'relevant': False,\n",
       "  'gold_sql': 'SELECT name FROM department GROUP BY departmentID ORDER BY count(departmentID) DESC LIMIT 1;'},\n",
       " {'sql_idx': 0,\n",
       "  'db_id': 'hospital_1',\n",
       "  'question': 'Find the department with the most employees.',\n",
       "  'column': 'EmployeeID(text)',\n",
       "  'rationale': 'This column identifies individual employees but does not specify their department, making it less relevant to the query about departments.',\n",
       "  'relevant': False,\n",
       "  'gold_sql': 'SELECT name FROM department GROUP BY departmentID ORDER BY count(departmentID) DESC LIMIT 1;'},\n",
       " {'sql_idx': 0,\n",
       "  'db_id': 'hospital_1',\n",
       "  'question': 'Find the department with the most employees.',\n",
       "  'column': 'Position(text)',\n",
       "  'rationale': 'This column describes the job title of employees but does not provide information about the number of employees in a department, making it less relevant.',\n",
       "  'relevant': False,\n",
       "  'gold_sql': 'SELECT name FROM department GROUP BY departmentID ORDER BY count(departmentID) DESC LIMIT 1;'},\n",
       " {'sql_idx': 0,\n",
       "  'db_id': 'hospital_1',\n",
       "  'question': 'Find the department with the most employees.',\n",
       "  'column': 'SSN(text)',\n",
       "  'rationale': 'The Social Security Number is personal information about employees and does not relate to the query about departments, making it irrelevant.',\n",
       "  'relevant': False,\n",
       "  'gold_sql': 'SELECT name FROM department GROUP BY departmentID ORDER BY count(departmentID) DESC LIMIT 1;'},\n",
       " {'sql_idx': 0,\n",
       "  'db_id': 'hospital_1',\n",
       "  'question': 'Find the department with the most employees.',\n",
       "  'column': 'Code(text)',\n",
       "  'rationale': 'This column pertains to medical procedures and is not relevant to the query about departments and employees.',\n",
       "  'relevant': False,\n",
       "  'gold_sql': 'SELECT name FROM department GROUP BY departmentID ORDER BY count(departmentID) DESC LIMIT 1;'},\n",
       " {'sql_idx': 0,\n",
       "  'db_id': 'hospital_1',\n",
       "  'question': 'Find the department with the most employees.',\n",
       "  'column': 'Cost(text)',\n",
       "  'rationale': 'This column relates to the cost of procedures and does not pertain to the query about departments, making it irrelevant.',\n",
       "  'relevant': False,\n",
       "  'gold_sql': 'SELECT name FROM department GROUP BY departmentID ORDER BY count(departmentID) DESC LIMIT 1;'},\n",
       " {'sql_idx': 0,\n",
       "  'db_id': 'hospital_1',\n",
       "  'question': 'Find the department with the most employees.',\n",
       "  'column': 'StayID(number)',\n",
       "  'rationale': 'This column identifies hospital stays and is not relevant to the query about departments and employees.',\n",
       "  'relevant': False,\n",
       "  'gold_sql': 'SELECT name FROM department GROUP BY departmentID ORDER BY count(departmentID) DESC LIMIT 1;'},\n",
       " {'sql_idx': 0,\n",
       "  'db_id': 'hospital_1',\n",
       "  'question': 'Find the department with the most employees.',\n",
       "  'column': 'RoomNumber(number)',\n",
       "  'rationale': 'This column identifies rooms and does not relate to the query about departments, making it irrelevant.',\n",
       "  'relevant': False,\n",
       "  'gold_sql': 'SELECT name FROM department GROUP BY departmentID ORDER BY count(departmentID) DESC LIMIT 1;'},\n",
       " {'sql_idx': 0,\n",
       "  'db_id': 'hospital_1',\n",
       "  'question': 'Find the department with the most employees.',\n",
       "  'column': 'OnCallStart(text)',\n",
       "  'rationale': 'This column pertains to on-call periods for nurses and does not relate to the query about departments, making it irrelevant.',\n",
       "  'relevant': False,\n",
       "  'gold_sql': 'SELECT name FROM department GROUP BY departmentID ORDER BY count(departmentID) DESC LIMIT 1;'},\n",
       " {'sql_idx': 0,\n",
       "  'db_id': 'hospital_1',\n",
       "  'question': 'Find the department with the most employees.',\n",
       "  'column': 'OnCallEnd(text)',\n",
       "  'rationale': 'This column pertains to on-call periods for nurses and does not relate to the query about departments, making it irrelevant.',\n",
       "  'relevant': False,\n",
       "  'gold_sql': 'SELECT name FROM department GROUP BY departmentID ORDER BY count(departmentID) DESC LIMIT 1;'},\n",
       " {'sql_idx': 0,\n",
       "  'db_id': 'hospital_1',\n",
       "  'question': 'Find the department with the most employees.',\n",
       "  'column': 'Unavailable(number)',\n",
       "  'rationale': 'This column indicates room availability and does not relate to the query about departments, making it irrelevant.',\n",
       "  'relevant': False,\n",
       "  'gold_sql': 'SELECT name FROM department GROUP BY departmentID ORDER BY count(departmentID) DESC LIMIT 1;'}]"
      ]
     },
     "execution_count": 29,
     "metadata": {},
     "output_type": "execute_result"
    }
   ],
   "source": [
    "class OutputFormat(BaseModel):\n",
    "    rationale: str = Field(description='The reasoning behind decision.')\n",
    "    relevant: bool = Field(description='relevant or not.')\n",
    "    column: str = Field(description='The column name and its type.')\n",
    "\n",
    "class Response(BaseModel):\n",
    "    output: list[OutputFormat]\n",
    "\n",
    "template = '''### TASK\n",
    "You are tasked with identifying whether or \n",
    "not a candidate column from a schema is \n",
    "related to the provided input request.\n",
    "\n",
    "You will be provided:\n",
    "- An input NL query.\n",
    "- The schema\n",
    "\n",
    "### FORMATTING\n",
    "Your output should be a list of the following JSON format:\n",
    "[{{\n",
    "    \"column\": \"<str: the column name and its type>\",\n",
    "    \"rationale\": \"<str: the reasoning behind decision>\",\n",
    "    \"relevant\": \"<bool: relevant or not>\"\n",
    "}},...]\n",
    "\n",
    "### OUTPUT\n",
    "<INPUT QUERY>: {input_query}\n",
    "<SCHEMA>: {schema}\n",
    "<OUTPUT>: \n",
    "'''\n",
    "\n",
    "prompt = PromptTemplate(\n",
    "    template=template,\n",
    "    input_variables=['input_query', 'schema']\n",
    ")\n",
    "\n",
    "model_openai = ChatOpenAI(\n",
    "    model='gpt-4o-mini',\n",
    "    temperature=0.0,\n",
    ")\n",
    "\n",
    "model = model_openai.with_structured_output(Response)\n",
    "chain = (prompt | model)\n",
    "\n",
    "all_results = list()\n",
    "train_subsamples = train_samples[0:1]\n",
    "for idx in tqdm(range(len(train_subsamples))):\n",
    "    data = train_subsamples[idx]\n",
    "    x = data.final\n",
    "    db_id = data.db_id\n",
    "    db_schema = get_schema_str(\n",
    "        schema=sparc_tables[db_id].db_schema, \n",
    "        col_explanation=all_descriptions[db_id]\n",
    "    )\n",
    "    input_data = {'schema': db_schema, 'input_query': x.question}\n",
    "    #print(input_data)\n",
    "    outputs = chain.invoke(input=input_data).output\n",
    "    #print(output)\n",
    "    for output in outputs:\n",
    "        full_output = {}\n",
    "        full_output['sql_idx'] = idx\n",
    "        full_output['db_id'] = db_id\n",
    "        full_output['question'] = x.question\n",
    "        full_output['column'] = output.column\n",
    "        full_output['rationale'] = output.rationale\n",
    "        full_output['relevant'] = output.relevant\n",
    "        full_output['gold_sql'] = x.sql\n",
    "        all_results.append(full_output)\n",
    "all_results"
   ]
  },
  {
   "cell_type": "markdown",
   "metadata": {},
   "source": [
    "## Schema Linking: Table-to-Column Schema Linking (TCSL): \n",
    "- first identifying relevant tables then relevant columns."
   ]
  },
  {
   "cell_type": "code",
   "execution_count": 7,
   "metadata": {
    "scrolled": true
   },
   "outputs": [
    {
     "name": "stderr",
     "output_type": "stream",
     "text": [
      "100%|██████████| 1/1 [00:01<00:00,  1.70s/it]\n"
     ]
    },
    {
     "data": {
      "text/plain": [
       "[{'sql_idx': 0,\n",
       "  'db_id': 'hospital_1',\n",
       "  'question': 'Find the department with the most employees.',\n",
       "  'tables': ['Department', 'Affiliated_With', 'Physician'],\n",
       "  'rationale': \"To find the department with the most employees, we need to look at the 'Department' table to identify departments and the 'Affiliated_With' table to link physicians to their respective departments. The 'Physician' table is also relevant as it contains the employee identifiers for physicians, which will help in counting the number of employees in each department.\",\n",
       "  'gold_sql': 'SELECT name FROM department GROUP BY departmentID ORDER BY count(departmentID) DESC LIMIT 1;'}]"
      ]
     },
     "execution_count": 7,
     "metadata": {},
     "output_type": "execute_result"
    }
   ],
   "source": [
    "class OutputFormat(BaseModel):\n",
    "    rationale: str = Field(description='The reasoning behind decision.')\n",
    "    tables: list[str] = Field(description='List of relevant tables.')\n",
    "\n",
    "class Response(BaseModel):\n",
    "    output: list[OutputFormat]\n",
    "\n",
    "template = '''### TASK\n",
    "You are tasked with identifying which tables \n",
    "from a schema are related to the provided input request.\n",
    "\n",
    "You will be provided:\n",
    "- An input NL query.\n",
    "- The schema\n",
    "\n",
    "### FORMATTING\n",
    "Your output should be of the following JSON format:\n",
    "{{\n",
    "    \"rationale\": \"<str: the reasoning behind decision>\",\n",
    "    \"tables\": \"<list[str]: relevant tables>\"\n",
    "}}\n",
    "\n",
    "### OUTPUT\n",
    "<INPUT QUERY>: {input_query}\n",
    "<SCHEMA>: {schema}\n",
    "<OUTPUT>: \n",
    "'''\n",
    "\n",
    "prompt = PromptTemplate(\n",
    "    template=template,\n",
    "    input_variables=['input_query', 'schema']\n",
    ")\n",
    "\n",
    "model_openai = ChatOpenAI(\n",
    "    model='gpt-4o-mini',\n",
    "    temperature=0.0,\n",
    ")\n",
    "\n",
    "model = model_openai.with_structured_output(Response)\n",
    "chain = (prompt | model)\n",
    "\n",
    "all_results = list()\n",
    "train_subsamples = train_samples[0:1]\n",
    "for idx in tqdm(range(len(train_subsamples))):\n",
    "    data = train_subsamples[idx]\n",
    "    x = data.final\n",
    "    db_id = data.db_id\n",
    "    db_schema = get_schema_str(\n",
    "        schema=sparc_tables[db_id].db_schema, \n",
    "        col_explanation=all_descriptions[db_id]\n",
    "    )\n",
    "    input_data = {'schema': db_schema, 'input_query': x.question}\n",
    "    #print(input_data)\n",
    "    output = chain.invoke(input=input_data).output\n",
    "    #print(output)\n",
    "    full_output = {}\n",
    "    full_output['sql_idx'] = idx\n",
    "    full_output['db_id'] = db_id\n",
    "    full_output['question'] = x.question\n",
    "    full_output['tables'] = output[0].tables\n",
    "    full_output['rationale'] = output[0].rationale\n",
    "    full_output['gold_sql'] = x.sql\n",
    "    all_results.append(full_output)\n",
    "all_results"
   ]
  },
  {
   "cell_type": "code",
   "execution_count": 8,
   "metadata": {
    "scrolled": false
   },
   "outputs": [
    {
     "name": "stderr",
     "output_type": "stream",
     "text": [
      "\r",
      "  0%|          | 0/1 [00:00<?, ?it/s]"
     ]
    },
    {
     "name": "stdout",
     "output_type": "stream",
     "text": [
      "{'schema': \"[Table and Columns]\\nTable Name: Physician\\n  - 'EmployeeID'(text): Unique identifier for each physician.\\n  - 'Name'(text): Full name of the physician.\\n  - 'Position'(text): Job title or role of the physician.\\n  - 'SSN'(text): Social Security Number of the physician.\\nTable Name: Department\\n  - 'DepartmentID'(number): Unique identifier for each department.\\n  - 'Name'(number): Name of the department.\\n  - 'Head'(number): Identifier for the head of the department.\\nTable Name: Affiliated_With\\n  - 'Physician'(text): Identifier for the physician.\\n  - 'Department'(text): Identifier for the department.\\n  - 'PrimaryAffiliation'(text): Indicates if this is the primary affiliation.\", 'input_query': 'Find the department with the most employees.'}\n"
     ]
    },
    {
     "name": "stderr",
     "output_type": "stream",
     "text": [
      "100%|██████████| 1/1 [00:01<00:00,  1.80s/it]\n"
     ]
    },
    {
     "data": {
      "text/plain": [
       "[{'sql_idx': 0,\n",
       "  'db_id': 'hospital_1',\n",
       "  'question': 'Find the department with the most employees.',\n",
       "  'table': 'Department',\n",
       "  'columns': ['DepartmentID', 'Name'],\n",
       "  'rationale': \"The query asks for the department with the most employees, which requires information about departments and their associated physicians. The 'Affiliated_With' table links physicians to departments, and the 'Department' table provides the department details.\",\n",
       "  'gold_sql': 'SELECT name FROM department GROUP BY departmentID ORDER BY count(departmentID) DESC LIMIT 1;'},\n",
       " {'sql_idx': 0,\n",
       "  'db_id': 'hospital_1',\n",
       "  'question': 'Find the department with the most employees.',\n",
       "  'table': 'Affiliated_With',\n",
       "  'columns': ['Physician', 'Department'],\n",
       "  'rationale': \"The 'Affiliated_With' table is crucial as it connects physicians to their respective departments, allowing us to count the number of employees (physicians) in each department.\",\n",
       "  'gold_sql': 'SELECT name FROM department GROUP BY departmentID ORDER BY count(departmentID) DESC LIMIT 1;'},\n",
       " {'sql_idx': 0,\n",
       "  'db_id': 'hospital_1',\n",
       "  'question': 'Find the department with the most employees.',\n",
       "  'table': 'Physician',\n",
       "  'columns': ['EmployeeID'],\n",
       "  'rationale': \"The 'Physician' table contains the 'EmployeeID' which is essential for identifying the unique physicians that belong to each department, thus helping in counting the total number of employees per department.\",\n",
       "  'gold_sql': 'SELECT name FROM department GROUP BY departmentID ORDER BY count(departmentID) DESC LIMIT 1;'}]"
      ]
     },
     "execution_count": 8,
     "metadata": {},
     "output_type": "execute_result"
    }
   ],
   "source": [
    "class OutputFormat(BaseModel):\n",
    "    rationale: str = Field(description='The reasoning behind decision.')\n",
    "    table: str = Field(description='The relevant table.')\n",
    "    columns: list[str] = Field(description='List of relevant columns.')\n",
    "\n",
    "class Response(BaseModel):\n",
    "    output: list[OutputFormat]\n",
    "\n",
    "template = '''### TASK\n",
    "You are tasked with identifying which columns \n",
    "from a schema are related to the provided input request.\n",
    "\n",
    "You will be provided:\n",
    "- An input NL query.\n",
    "- The schema\n",
    "\n",
    "### FORMATTING\n",
    "Your output should be list of the following JSON format:\n",
    "[{{\n",
    "    \"rationale\": \"<str: the reasoning behind decision>\",\n",
    "    \"table\": \"<str: the table name>\",\n",
    "    \"columns\": \"<list[str]: relevant columns>\"\n",
    "}},...]\n",
    "\n",
    "### OUTPUT\n",
    "<INPUT QUERY>: {input_query}\n",
    "<SCHEMA>: {schema}\n",
    "<OUTPUT>: \n",
    "'''\n",
    "\n",
    "prompt = PromptTemplate(\n",
    "    template=template,\n",
    "    input_variables=['input_query', 'schema']\n",
    ")\n",
    "\n",
    "model_openai = ChatOpenAI(\n",
    "    model='gpt-4o-mini',\n",
    "    temperature=0.0,\n",
    ")\n",
    "\n",
    "model = model_openai.with_structured_output(Response)\n",
    "chain = (prompt | model)\n",
    "\n",
    "all_columns_results = list()\n",
    "for idx in tqdm(range(len(all_results))):\n",
    "    data = all_results[idx]\n",
    "    db_id = data['db_id']\n",
    "    db_schema = get_schema_str_with_tables(\n",
    "        schema=sparc_tables[db_id].db_schema,\n",
    "        table_list=data['tables'],\n",
    "        col_explanation=all_descriptions[db_id]\n",
    "    )\n",
    "    input_data = {'schema': db_schema, 'input_query': x.question}\n",
    "    print(input_data)\n",
    "    outputs = chain.invoke(input=input_data).output\n",
    "    #print(outputs)\n",
    "    for output in outputs:\n",
    "        full_output = {}\n",
    "        full_output['sql_idx'] = data['sql_idx']\n",
    "        full_output['db_id'] = db_id\n",
    "        full_output['question'] = data['question']\n",
    "        full_output['table'] = output.table\n",
    "        full_output['columns'] = output.columns\n",
    "        full_output['rationale'] = output.rationale\n",
    "        full_output['gold_sql'] = data['gold_sql']\n",
    "        all_columns_results.append(full_output)\n",
    "all_columns_results"
   ]
  },
  {
   "cell_type": "code",
   "execution_count": null,
   "metadata": {},
   "outputs": [],
   "source": []
  }
 ],
 "metadata": {
  "kernelspec": {
   "display_name": "Python 3 (ipykernel)",
   "language": "python",
   "name": "python3"
  },
  "language_info": {
   "codemirror_mode": {
    "name": "ipython",
    "version": 3
   },
   "file_extension": ".py",
   "mimetype": "text/x-python",
   "name": "python",
   "nbconvert_exporter": "python",
   "pygments_lexer": "ipython3",
   "version": "3.10.14"
  }
 },
 "nbformat": 4,
 "nbformat_minor": 2
}
