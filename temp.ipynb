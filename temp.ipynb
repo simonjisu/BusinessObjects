{
 "cells": [
  {
   "cell_type": "code",
   "execution_count": 10,
   "metadata": {},
   "outputs": [
    {
     "name": "stdout",
     "output_type": "stream",
     "text": [
      "Which department has the largest number of employees?\n",
      "SELECT name FROM department GROUP BY departmentID ORDER BY count(departmentID) DESC LIMIT 1;\n",
      "[Table and Columns]\n",
      "Table Name: Physician\n",
      "  - EmployeeID(text): Unique identifier for each physician.\n",
      "  - Name(text): Full name of the physician.\n",
      "  - Position(text): Job title or role of the physician.\n",
      "  - SSN(text): Social Security Number of the physician.\n",
      "Table Name: Department\n",
      "  - DepartmentID(number): Unique identifier for each department.\n",
      "  - Name(number): Name of the department.\n",
      "  - Head(number): Identifier for the head of the department.\n",
      "Table Name: Affiliated_With\n",
      "  - Physician(text): Identifier for the physician.\n",
      "  - Department(text): Identifier for the department.\n",
      "  - PrimaryAffiliation(text): Indicates if this is the primary affiliation.\n",
      "Table Name: Procedures\n",
      "  - Code(text): Unique code for each medical procedure.\n",
      "  - Name(text): Name of the medical procedure.\n",
      "  - Cost(text): Cost associated with the procedure.\n",
      "Table Name: Trained_In\n",
      "  - Physician(number): Identifier for the physician.\n",
      "  - Treatment(number): Identifier for the treatment.\n",
      "  - CertificationDate(number): Date when the physician was certified.\n",
      "  - CertificationExpires(number): Date when the certification expires.\n",
      "Table Name: Patient\n",
      "  - SSN(number): Social Security Number of the patient.\n",
      "  - Name(number): Full name of the patient.\n",
      "  - Address(number): Residential address of the patient.\n",
      "  - Phone(number): Contact phone number of the patient.\n",
      "  - InsuranceID(number): Identifier for the patient's insurance.\n",
      "  - PCP(number): Identifier for the patient's primary care physician.\n",
      "Table Name: Nurse\n",
      "  - EmployeeID(text): Unique identifier for each nurse.\n",
      "  - Name(text): Full name of the nurse.\n",
      "  - Position(text): Job title or role of the nurse.\n",
      "  - Registered(text): Indicates if the nurse is registered.\n",
      "  - SSN(text): Social Security Number of the nurse.\n",
      "Table Name: Appointment\n",
      "  - AppointmentID(number): Unique identifier for each appointment.\n",
      "  - Patient(number): Identifier for the patient.\n",
      "  - PrepNurse(number): Identifier for the nurse preparing the patient.\n",
      "  - Physician(number): Identifier for the physician conducting the appointment.\n",
      "  - Start(number): Start time of the appointment.\n",
      "  - End(number): End time of the appointment.\n",
      "  - ExaminationRoom(number): Identifier for the examination room.\n",
      "Table Name: Medication\n",
      "  - Code(number): Unique code for each medication.\n",
      "  - Name(number): Name of the medication.\n",
      "  - Brand(number): Brand name of the medication.\n",
      "  - Description(number): Description of the medication.\n",
      "Table Name: Prescribes\n",
      "  - Physician(number): Identifier for the physician prescribing the medication.\n",
      "  - Patient(number): Identifier for the patient receiving the prescription.\n",
      "  - Medication(number): Identifier for the prescribed medication.\n",
      "  - Date(number): Date when the medication was prescribed.\n",
      "  - Appointment(number): Identifier for the appointment related to the prescription.\n",
      "  - Dose(number): Dosage of the medication prescribed.\n",
      "Table Name: Block\n",
      "  - BlockFloor(boolean): Indicates if the floor is blocked.\n",
      "  - BlockCode(boolean): Indicates if the block code is active.\n",
      "Table Name: Room\n",
      "  - RoomNumber(number): Unique identifier for each room.\n",
      "  - RoomType(number): Type of the room (e.g., patient room, examination room).\n",
      "  - BlockFloor(number): Identifier for the blocked floor status.\n",
      "  - BlockCode(number): Identifier for the blocked code status.\n",
      "  - Unavailable(number): Indicates if the room is unavailable.\n",
      "Table Name: On_Call\n",
      "  - Nurse(text): Identifier for the nurse on call.\n",
      "  - BlockFloor(text): Identifier for the blocked floor status.\n",
      "  - BlockCode(text): Identifier for the blocked code status.\n",
      "  - OnCallStart(text): Start time of the on-call period.\n",
      "  - OnCallEnd(text): End time of the on-call period.\n",
      "Table Name: Stay\n",
      "  - StayID(number): Unique identifier for each hospital stay.\n",
      "  - Patient(number): Identifier for the patient staying in the hospital.\n",
      "  - Room(number): Identifier for the room where the patient is staying.\n",
      "  - StayStart(number): Start date and time of the hospital stay.\n",
      "  - StayEnd(number): End date and time of the hospital stay.\n",
      "Table Name: Undergoes\n",
      "  - Patient(number): Identifier for the patient undergoing procedures.\n",
      "  - Procedures(number): Identifier for the procedures being undergone.\n",
      "  - Stay(number): Identifier for the stay associated with the procedures.\n",
      "  - DateUndergoes(number): Date when the procedures are performed.\n",
      "  - Physician(number): Identifier for the physician performing the procedures.\n",
      "  - AssistingNurse(number): Identifier for the nurse assisting during the procedures.\n",
      "\n",
      "[Foreign Keys]\n",
      "Department.Head = Physician.EmployeeID\n",
      "Affiliated_With.Department = Department.DepartmentID\n",
      "Affiliated_With.Physician = Physician.EmployeeID\n",
      "Trained_In.Treatment = Procedures.Code\n",
      "Trained_In.Physician = Physician.EmployeeID\n",
      "Patient.PCP = Physician.EmployeeID\n",
      "Appointment.Physician = Physician.EmployeeID\n",
      "Appointment.PrepNurse = Nurse.EmployeeID\n",
      "Appointment.Patient = Patient.SSN\n",
      "Prescribes.Appointment = Appointment.AppointmentID\n",
      "Prescribes.Medication = Medication.Code\n",
      "Prescribes.Patient = Patient.SSN\n",
      "Prescribes.Physician = Physician.EmployeeID\n",
      "Room.BlockFloor = Block.BlockFloor\n",
      "Room.BlockCode = Block.BlockCode\n",
      "On_Call.BlockFloor = Block.BlockFloor\n",
      "On_Call.BlockCode = Block.BlockCode\n",
      "On_Call.Nurse = Nurse.EmployeeID\n",
      "Stay.Room = Room.RoomNumber\n",
      "Stay.Patient = Patient.SSN\n",
      "Undergoes.AssistingNurse = Nurse.EmployeeID\n",
      "Undergoes.Physician = Physician.EmployeeID\n",
      "Undergoes.Stay = Stay.StayID\n",
      "Undergoes.Procedures = Procedures.Code\n",
      "Undergoes.Patient = Patient.SSN\n"
     ]
    }
   ],
   "source": [
    "db_id = 'hospital_1'\n",
    "train_subsamples = list(filter(lambda x: x.db_id == db_id, train_samples))\n",
    "dev_subsamples = list(filter(lambda x: x.db_id == db_id, dev_samples))\n",
    "s = get_schema_str(\n",
    "    schema=spider_tables[db_id].db_schema, \n",
    "    foreign_keys=spider_tables[db_id].foreign_keys,\n",
    "    col_explanation=spider_tables[db_id].col_explanation,\n",
    "    col_fmt='', skip_type=False)\n",
    "print(train_subsamples[0].final.question)\n",
    "print(train_subsamples[0].final.sql)\n",
    "print(s)"
   ]
  },
  {
   "cell_type": "markdown",
   "metadata": {},
   "source": [
    "# Common Interest Detection"
   ]
  },
  {
   "cell_type": "markdown",
   "metadata": {},
   "source": [
    "## Augment Dataset for training a cross-encoder\n",
    "\n",
    "* if two questions share the same source table, they are considered as a co-related pair\n",
    "* using jaccard similarity to label the common interest: \n",
    "    * e.g., $q_1$ has three tables $t_1, t_2, t_3$, $q_2$ has two tables $t_1, t_2$, then the jaccard similarity is $2/3$"
   ]
  },
  {
   "cell_type": "code",
   "execution_count": 5,
   "metadata": {},
   "outputs": [],
   "source": [
    "from collections import defaultdict\n",
    "from itertools import groupby, combinations, product\n",
    "from src.spider_sparc_preprocess import SpiderSample, SparcSample\n",
    "\n",
    "def jaccard_similarity(i_tables: str|set, j_tables: str|set):\n",
    "    def preprocess(tables: str):\n",
    "        return set([t.strip() for t in tables.split(',')])\n",
    "    # Get the number of common tables\n",
    "    i_set = preprocess(i_tables) if isinstance(i_tables, str) else i_tables\n",
    "    j_set = preprocess(j_tables) if isinstance(j_tables, str) else j_tables\n",
    "\n",
    "    common_tables = i_set.intersection(j_set)\n",
    "    union_tables = i_set.union(j_set)\n",
    "    return len(common_tables) / len(union_tables)\n",
    "\n",
    "def curate_samples(samples: list) -> list[dict]:\n",
    "\n",
    "    dataset = []\n",
    "    for db_id, group_samples in groupby(samples, key=lambda x: x.db_id):\n",
    "        # schema_str = get_schema_str(spider_tables[db_id].db_schema, col_fmt='', skip_type=True, remove_meta=True)\n",
    "        data_dict = defaultdict(list)\n",
    "        for tbls, samples in groupby(group_samples, key=lambda x: x.final.source_tables):\n",
    "            tbls = ', '.join(tbls)\n",
    "            for s in samples:\n",
    "                data_dict[tbls].append(s.final.question)\n",
    "        \n",
    "        for i_tables, j_tables in combinations(data_dict.keys(), 2):\n",
    "            similarity = jaccard_similarity(i_tables, j_tables)\n",
    "            i_data = data_dict[i_tables]\n",
    "            j_data = data_dict[j_tables]\n",
    "            for i, j in product(i_data, j_data):\n",
    "                dataset.append(\n",
    "                    {\n",
    "                        'db_id': db_id,\n",
    "                        'sentence1': i,\n",
    "                        'sentence2': j,\n",
    "                        'label': similarity,\n",
    "                        'tables1': i_tables,\n",
    "                        'tables2': j_tables\n",
    "                    }\n",
    "                )\n",
    "    return dataset\n",
    "\n",
    "train_dataset = curate_samples(train_samples)\n",
    "dev_dataset = curate_samples(dev_samples)\n",
    "test_dataset = curate_samples(test_samples)\n",
    "\n",
    "with (proj_path / 'data' / 'spider_common_interest_train.json').open('w') as f:\n",
    "    json.dump(train_dataset, f, indent=4)\n",
    "\n",
    "with (proj_path / 'data' / 'spider_common_interest_dev.json').open('w') as f:\n",
    "    json.dump(dev_dataset, f, indent=4)\n",
    "\n",
    "with (proj_path / 'data' / 'spider_common_interest_test.json').open('w') as f:\n",
    "    json.dump(test_dataset, f, indent=4)"
   ]
  },
  {
   "cell_type": "code",
   "execution_count": 6,
   "metadata": {},
   "outputs": [
    {
     "data": {
      "text/plain": [
       "(137797, 1278, 1800)"
      ]
     },
     "execution_count": 6,
     "metadata": {},
     "output_type": "execute_result"
    }
   ],
   "source": [
    "len(train_dataset), len(dev_dataset), len(test_dataset)"
   ]
  },
  {
   "cell_type": "markdown",
   "metadata": {},
   "source": [
    "## Prepare Dataset"
   ]
  },
  {
   "cell_type": "code",
   "execution_count": null,
   "metadata": {},
   "outputs": [],
   "source": [
    "from datasets import load_dataset\n",
    "\n",
    "ds = load_dataset('json', \n",
    "    data_files={'train': str(proj_path / 'data' / 'spider_common_interest_train.json'), \n",
    "                'validation': str(proj_path / 'data' / 'spider_common_interest_dev.json'),\n",
    "                'test': str(proj_path / 'data' / 'spider_common_interest_test.json')})"
   ]
  },
  {
   "cell_type": "code",
   "execution_count": null,
   "metadata": {},
   "outputs": [],
   "source": [
    "from torch.utils.data import DataLoader\n",
    "from sentence_transformers import CrossEncoder, SentenceTransformer, losses, InputExample\n",
    "from sentence_transformers.evaluation import EmbeddingSimilarityEvaluator\n",
    "from sentence_transformers.similarity_functions import SimilarityFunction\n",
    "from sentence_transformers.trainer import SentenceTransformerTrainer\n",
    "from sentence_transformers.training_args import BatchSamplers, SentenceTransformerTrainingArguments\n",
    "\n",
    "\n",
    "def load_dataset(path: Path):\n",
    "    with path.open('r') as f:\n",
    "        dataset = json.load(f)\n",
    "        \n",
    "    \n",
    "    \n",
    "    return dataset\n",
    "\n",
    "with (proj_path / 'data' / 'spider_common_interest_train.json').open() as f:\n",
    "    train_dataset = json.load(f)\n",
    "\n",
    "with (proj_path / 'data' / 'spider_common_interest_dev.json').open() as f:\n",
    "    dev_dataset = json.load(f)\n",
    "\n",
    "\n",
    "model_name = 'all-MiniLM-L6-v2'\n",
    "train_batch_size = 128  # The larger you select this, the better the results (usually). But it requires more GPU memory\n",
    "max_seq_length = 75\n",
    "num_epochs = 1\n",
    "\n",
    "model = SentenceTransformer(model_name)\n",
    "train_dataloader = DataLoader(train_dataset, shuffle=True, batch_size=train_batch_size)\n",
    "loss = losses.CosineSimilarityLoss()\n"
   ]
  },
  {
   "cell_type": "code",
   "execution_count": 3,
   "metadata": {},
   "outputs": [],
   "source": [
    "db_id = 'hospital_1'\n",
    "train_subsamples = list(filter(lambda x: x.db_id == db_id, train_samples))\n",
    "dev_subsamples = list(filter(lambda x: x.db_id == db_id, dev_samples))\n",
    "\n",
    "s = get_schema_str(spider_tables[db_id].db_schema, col_fmt='', skip_type=True)"
   ]
  },
  {
   "cell_type": "code",
   "execution_count": 4,
   "metadata": {},
   "outputs": [
    {
     "name": "stdout",
     "output_type": "stream",
     "text": [
      "['department', 'physician'] 2\n",
      "['patient', 'appointment'] 4\n",
      "['appointment', 'physician'] 4\n",
      "['department', 'affiliated_with', 'physician'] 2\n",
      "['patient', 'appointment'] 2\n",
      "['patient', 'physician', 'prescribes'] 2\n",
      "['stay', 'patient', 'medication', 'prescribes'] 2\n",
      "['nurse', 'appointment'] 2\n",
      "['patient', 'physician'] 4\n",
      "['block', 'room'] 4\n",
      "['medication', 'prescribes', 'physician'] 4\n",
      "['medication', 'prescribes'] 2\n",
      "['stay', 'patient', 'undergoes'] 2\n",
      "['nurse', 'undergoes'] 2\n",
      "['prescribes', 'physician'] 2\n",
      "['department', 'affiliated_with'] 2\n",
      "['procedures', 'trained_in', 'physician'] 6\n",
      "\n",
      "['procedures', 'trained_in', 'physician'] 2\n",
      "['trained_in', 'procedures', 'physician'] 6\n",
      "['department', 'affiliated_with', 'physician'] 4\n",
      "['patient', 'medication', 'prescribes'] 4\n",
      "['nurse', 'on_call'] 2\n"
     ]
    }
   ],
   "source": [
    "from itertools import groupby\n",
    "\n",
    "for k, g in groupby(train_subsamples, key=lambda x: x.final.source_tables):\n",
    "    if len(k) > 1:\n",
    "        print(k, len(list(g)))\n",
    "\n",
    "\n",
    "print()\n",
    "for k, g in groupby(dev_subsamples, key=lambda x: x.final.source_tables):\n",
    "    if len(k) > 1:\n",
    "        print(k, len(list(g)))\n",
    "\n",
    "# TODO: remove alias from table names"
   ]
  },
  {
   "cell_type": "markdown",
   "metadata": {},
   "source": [
    "Loss: \n",
    "\n",
    "* MultipleNegativesRankingLoss"
   ]
  },
  {
   "cell_type": "code",
   "execution_count": null,
   "metadata": {},
   "outputs": [],
   "source": [
    "# https://github.com/UKPLab/sentence-transformers/blob/master/examples/training/nli/training_nli_v3.py\n",
    "# https://www.sbert.net/docs/package_reference/sentence_transformer/losses.html#sentence_transformers.losses.MultipleNegativesRankingLoss\n",
    "import tqdm\n",
    "from itertools import groupby, combinations\n",
    "from src.spider_sparc_preprocess import SpiderSample, SparcSample\n",
    "from torch.utils.data import DataLoader\n",
    "from sentence_transformers import CrossEncoder, SentenceTransformer, losses, InputExample\n",
    "from sentence_transformers.evaluation import EmbeddingSimilarityEvaluator\n",
    "from sentence_transformers.similarity_functions import SimilarityFunction\n",
    "from sentence_transformers.trainer import SentenceTransformerTrainer\n",
    "from sentence_transformers.training_args import BatchSamplers, SentenceTransformerTrainingArguments\n",
    "from sentence_transformers.evaluation import BinaryClassificationEvaluator\n",
    "\n",
    "def curate_dataset(samples: list[SpiderSample|SparcSample]):\n",
    "    dataset = []\n",
    "    for db_id, group_samples in groupby(samples, key=lambda x: x.db_id):\n",
    "        schema_str = get_schema_str(spider_tables[db_id].db_schema, col_fmt='', skip_type=True, remove_meta=True)\n",
    "        # positive pairs\n",
    "        for tbls, samples in groupby(group_samples, key=lambda x: x.final.source_tables):\n",
    "            questions = [schema_str + '\\n' + s.final.question for s in samples]\n",
    "            pairs = list(combinations(questions, 2))\n",
    "            for p in pairs:\n",
    "                dataset.append(InputExample(texts=p, label=1))\n",
    "        # negative pairs\n",
    "\n",
    "    return dataset\n",
    "\n",
    "train_data = curate_dataset(train_samples)\n",
    "dev_data = curate_dataset(dev_samples)\n",
    "\n",
    "model_name = 'all-MiniLM-L6-v2'\n",
    "train_batch_size = 128  # The larger you select this, the better the results (usually). But it requires more GPU memory\n",
    "max_seq_length = 75\n",
    "num_epochs = 1\n",
    "\n",
    "model = SentenceTransformer(model_name)\n",
    "train_dataloader = DataLoader(train_data, shuffle=True, batch_size=train_batch_size)\n",
    "\n",
    "# Use the denoising auto-encoder loss\n",
    "train_loss = losses.MultipleNegativesRankingLoss(model)\n",
    "\n",
    "# model.fit(\n",
    "#     train_objectives=[(train_dataloader, train_loss)], epochs=1, show_progress_bar=True\n",
    "# )"
   ]
  },
  {
   "cell_type": "code",
   "execution_count": 17,
   "metadata": {},
   "outputs": [],
   "source": [
    "binary_acc_evaluator = BinaryClassificationEvaluator.from_input_examples(dev_data, name='dev')\n",
    "results = binary_acc_evaluator(model)"
   ]
  },
  {
   "cell_type": "code",
   "execution_count": 6,
   "metadata": {},
   "outputs": [
    {
     "name": "stdout",
     "output_type": "stream",
     "text": [
      "[Table and Columns]\n",
      "Physician: EmployeeID, Name, Position, SSN\n",
      "Department: DepartmentID, Name, Head\n",
      "Affiliated_With: Physician, Department, PrimaryAffiliation\n",
      "Procedures: Code, Name, Cost\n",
      "Trained_In: Physician, Treatment, CertificationDate, CertificationExpires\n",
      "Patient: SSN, Name, Address, Phone, InsuranceID, PCP\n",
      "Nurse: EmployeeID, Name, Position, Registered, SSN\n",
      "Appointment: AppointmentID, Patient, PrepNurse, Physician, Start, End, ExaminationRoom\n",
      "Medication: Code, Name, Brand, Description\n",
      "Prescribes: Physician, Patient, Medication, Date, Appointment, Dose\n",
      "Block: BlockFloor, BlockCode\n",
      "Room: RoomNumber, RoomType, BlockFloor, BlockCode, Unavailable\n",
      "On_Call: Nurse, BlockFloor, BlockCode, OnCallStart, OnCallEnd\n",
      "Stay: StayID, Patient, Room, StayStart, StayEnd\n",
      "Undergoes: Patient, Procedures, Stay, DateUndergoes, Physician, AssistingNurse\n"
     ]
    }
   ],
   "source": [
    "from transformers import AutoTokenizer, AutoModelForSequenceClassification\n",
    "import torch\n",
    "\n",
    "model = AutoModelForSequenceClassification.from_pretrained('cross-encoder/nli-deberta-v3-large')\n",
    "tokenizer = AutoTokenizer.from_pretrained('cross-encoder/nli-deberta-v3-large')\n",
    "\n",
    "features = tokenizer(['A man is eating pizza', 'A black race car starts up in front of a crowd of people.'], ['A man eats something', 'A man is driving down a lonely road.'],  padding=True, truncation=True, return_tensors=\"pt\")\n",
    "\n",
    "model.eval()\n",
    "with torch.no_grad():\n",
    "    scores = model(**features).logits\n",
    "    label_mapping = ['contradiction', 'entailment', 'neutral']\n",
    "    labels = [label_mapping[score_max] for score_max in scores.argmax(dim=1)]\n",
    "    print(labels)\n"
   ]
  },
  {
   "cell_type": "code",
   "execution_count": 10,
   "metadata": {},
   "outputs": [
    {
     "data": {
      "text/plain": [
       "DatabaseModel(db_id='department_management', db_schema={'department': {'Department_ID': 'text', 'Name': 'text', 'Creation': 'text', 'Ranking': 'text', 'Budget_in_Billions': 'text', 'Num_Employees': 'text'}, 'head': {'head_ID': 'number', 'name': 'number', 'born_state': 'number', 'age': 'number'}, 'management': {'department_ID': 'text', 'head_ID': 'text', 'temporary_acting': 'text'}}, col_explanation={'department': {'Department_ID': 'Unique identifier for each department.', 'Name': 'Name of the department.', 'Creation': 'Date when the department was established.', 'Ranking': 'Ranking of the department based on performance.', 'Budget_in_Billions': 'Annual budget allocated to the department in billions.', 'Num_Employees': 'Total number of employees in the department.'}, 'head': {'head_ID': 'Unique identifier for each department head.', 'name': 'Name of the department head.', 'born_state': 'State where the department head was born.', 'age': 'Age of the department head.'}, 'management': {'department_ID': 'Identifier for the department managed.', 'head_ID': 'Identifier for the head of the department.', 'temporary_acting': 'Indicates if the head is temporarily acting in the position.'}}, foreign_keys=['management.head_ID = head.head_ID', 'management.department_ID = department.Department_ID'], primary_keys=['department.Department_ID', 'head.head_ID', 'management.department_ID'])"
      ]
     },
     "execution_count": 10,
     "metadata": {},
     "output_type": "execute_result"
    }
   ],
   "source": [
    "spider_tables[train_samples[0].db_id].db_schema"
   ]
  },
  {
   "cell_type": "markdown",
   "metadata": {},
   "source": []
  },
  {
   "cell_type": "code",
   "execution_count": null,
   "metadata": {},
   "outputs": [],
   "source": [
    "import sqlglot\n",
    "import sqlglot.expressions as exp\n",
    "from sqlglot.optimizer import optimize\n",
    "\n",
    "def extract_used_table(sql: str, schema: dict) -> list[str]:\n",
    "    sql = optimize(sqlglot.parse_one(sql, read='sqlite'), schema=schema)\n",
    "    tbls = [x.this.this for x in list(sql.find_all(exp.Table))]\n",
    "    return tbls\n",
    "\n",
    "extract_used_table(train_samples[0].final.sql, spider_tables[train_samples[0].db_id].db_schema)"
   ]
  },
  {
   "cell_type": "markdown",
   "metadata": {},
   "source": [
    "# Sparc Dataset"
   ]
  },
  {
   "cell_type": "code",
   "execution_count": null,
   "metadata": {},
   "outputs": [],
   "source": [
    "sparc_path = proj_path / 'data' / 'sparc'\n",
    "\n",
    "tables, train_data, dev_data = load_spider_sparc_data(sparc_path)\n",
    "\n",
    "with (proj_path / 'db_data' / 'description.json').open() as f:\n",
    "    all_descriptions = json.load(f)\n",
    "\n",
    "sparc_tables = process_all_tables(tables, descriptions=all_descriptions)\n",
    "# filter samples by count, must have at least 5 samples\n",
    "all_data = filter_samples_by_count_sparc(train_data+dev_data, n=5)\n",
    "# process samples -> {db_id: list of samples}\n",
    "sparc_samples = process_samples_sparc(all_data, sparc_tables)\n",
    "# change train/dev by sample\n",
    "train_samples, dev_samples = split_train_dev(sparc_samples, ratio=0.8)\n",
    "\n",
    "print(f'Number of train: {len(train_samples)} | Number of dev: {len(dev_samples)}')\n",
    "\n",
    "db_id = 'hospital_1'\n",
    "db_file = str(sparc_path / 'database' / db_id / f'{db_id}.sqlite')\n",
    "database = SqliteDatabase(db_file, foreign_keys=sparc_tables[db_id].foreign_keys)\n",
    "print(database.table_cols.keys())\n",
    "database.execute('SELECT * FROM Department LIMIT 5;')"
   ]
  },
  {
   "cell_type": "code",
   "execution_count": null,
   "metadata": {},
   "outputs": [],
   "source": []
  },
  {
   "cell_type": "markdown",
   "metadata": {},
   "source": [
    "## Workload Analysis"
   ]
  },
  {
   "cell_type": "code",
   "execution_count": 7,
   "metadata": {},
   "outputs": [
    {
     "name": "stdout",
     "output_type": "stream",
     "text": [
      "[0-Question] How many employees does each department have?\n",
      "[0-SQL]: SELECT count(departmentID) FROM department GROUP BY departmentID\n",
      "[1-Question] Which department has the smallest number of employees?\n",
      "[1-SQL]: SELECT * FROM department GROUP BY departmentID ORDER BY count(departmentID) LIMIT 1;\n",
      "[2-Question] Tell me the name and position of the head of this department.\n",
      "[2-SQL]: SELECT T2.name ,  T2.position FROM department AS T1 JOIN physician AS T2 ON T1.head  =  T2.EmployeeID GROUP BY departmentID ORDER BY count(departmentID) LIMIT 1; \n",
      "\n",
      "[Final]\n",
      "Question: Find the name and position of the head of the department with the least employees.\n",
      "SQL: SELECT T2.name ,  T2.position FROM department AS T1 JOIN physician AS T2 ON T1.head  =  T2.EmployeeID GROUP BY departmentID ORDER BY count(departmentID) LIMIT 1;\n",
      "\n"
     ]
    }
   ],
   "source": [
    "from src.spider_sparc_preprocess import SparcSample, QuestionSQL\n",
    "\n",
    "def format_interactions(interactions: list[QuestionSQL]) -> str:\n",
    "    workload = ''\n",
    "    for i, interaction in enumerate(interactions):\n",
    "        workload += f'[{i}-Question] {interaction.question}\\n[{i}-SQL]: {interaction.sql}\\n'\n",
    "    return workload.strip()\n",
    "\n",
    "with (proj_path / 'db_data' / 'sparc_description.json').open() as f:\n",
    "    all_descriptions = json.load(f)\n",
    "\n",
    "db_id = 'hospital_1'\n",
    "train_subsamples = list(filter(lambda x: x.db_id == db_id, train_samples))\n",
    "dev_subsamples = list(filter(lambda x: x.db_id == db_id, dev_samples))\n",
    "\n",
    "table = sparc_tables[db_id]\n",
    "col_explanation = all_descriptions[db_id]\n",
    "# create schema string\n",
    "schema_str = get_schema_str(\n",
    "    schema=table.db_schema, \n",
    "    foreign_keys=table.foreign_keys,\n",
    "    primary_keys=table.primary_keys,\n",
    "    col_explanation=col_explanation\n",
    ")  \n",
    "database = SqliteDatabase(str(sparc_path / 'database' / db_id / f'{db_id}.sqlite'), foreign_keys=table.foreign_keys)\n",
    "\n",
    "data = train_samples[2]\n",
    "workload = format_interactions(data.interactions)\n",
    "print(workload, '\\n')\n",
    "print(f'[Final]\\nQuestion: {data.final.question}\\nSQL: {data.final.sql}\\n')"
   ]
  },
  {
   "cell_type": "code",
   "execution_count": 8,
   "metadata": {},
   "outputs": [
    {
     "data": {
      "text/html": [
       "<div>\n",
       "<style scoped>\n",
       "    .dataframe tbody tr th:only-of-type {\n",
       "        vertical-align: middle;\n",
       "    }\n",
       "\n",
       "    .dataframe tbody tr th {\n",
       "        vertical-align: top;\n",
       "    }\n",
       "\n",
       "    .dataframe thead th {\n",
       "        text-align: right;\n",
       "    }\n",
       "</style>\n",
       "<table border=\"1\" class=\"dataframe\">\n",
       "  <thead>\n",
       "    <tr style=\"text-align: right;\">\n",
       "      <th></th>\n",
       "      <th>count(departmentID)</th>\n",
       "    </tr>\n",
       "  </thead>\n",
       "  <tbody>\n",
       "    <tr>\n",
       "      <th>0</th>\n",
       "      <td>1</td>\n",
       "    </tr>\n",
       "    <tr>\n",
       "      <th>1</th>\n",
       "      <td>1</td>\n",
       "    </tr>\n",
       "    <tr>\n",
       "      <th>2</th>\n",
       "      <td>1</td>\n",
       "    </tr>\n",
       "  </tbody>\n",
       "</table>\n",
       "</div>"
      ],
      "text/plain": [
       "   count(departmentID)\n",
       "0                    1\n",
       "1                    1\n",
       "2                    1"
      ]
     },
     "execution_count": 8,
     "metadata": {},
     "output_type": "execute_result"
    }
   ],
   "source": [
    "database.execute(data.interactions[0].sql)"
   ]
  },
  {
   "cell_type": "code",
   "execution_count": 9,
   "metadata": {},
   "outputs": [
    {
     "data": {
      "text/html": [
       "<div>\n",
       "<style scoped>\n",
       "    .dataframe tbody tr th:only-of-type {\n",
       "        vertical-align: middle;\n",
       "    }\n",
       "\n",
       "    .dataframe tbody tr th {\n",
       "        vertical-align: top;\n",
       "    }\n",
       "\n",
       "    .dataframe thead th {\n",
       "        text-align: right;\n",
       "    }\n",
       "</style>\n",
       "<table border=\"1\" class=\"dataframe\">\n",
       "  <thead>\n",
       "    <tr style=\"text-align: right;\">\n",
       "      <th></th>\n",
       "      <th>DepartmentID</th>\n",
       "      <th>Name</th>\n",
       "      <th>Head</th>\n",
       "    </tr>\n",
       "  </thead>\n",
       "  <tbody>\n",
       "    <tr>\n",
       "      <th>0</th>\n",
       "      <td>1</td>\n",
       "      <td>General Medicine</td>\n",
       "      <td>4</td>\n",
       "    </tr>\n",
       "  </tbody>\n",
       "</table>\n",
       "</div>"
      ],
      "text/plain": [
       "   DepartmentID              Name  Head\n",
       "0             1  General Medicine     4"
      ]
     },
     "execution_count": 9,
     "metadata": {},
     "output_type": "execute_result"
    }
   ],
   "source": [
    "database.execute(data.interactions[1].sql)"
   ]
  },
  {
   "cell_type": "code",
   "execution_count": 10,
   "metadata": {},
   "outputs": [
    {
     "data": {
      "text/html": [
       "<div>\n",
       "<style scoped>\n",
       "    .dataframe tbody tr th:only-of-type {\n",
       "        vertical-align: middle;\n",
       "    }\n",
       "\n",
       "    .dataframe tbody tr th {\n",
       "        vertical-align: top;\n",
       "    }\n",
       "\n",
       "    .dataframe thead th {\n",
       "        text-align: right;\n",
       "    }\n",
       "</style>\n",
       "<table border=\"1\" class=\"dataframe\">\n",
       "  <thead>\n",
       "    <tr style=\"text-align: right;\">\n",
       "      <th></th>\n",
       "      <th>Name</th>\n",
       "      <th>Position</th>\n",
       "    </tr>\n",
       "  </thead>\n",
       "  <tbody>\n",
       "    <tr>\n",
       "      <th>0</th>\n",
       "      <td>Percival Cox</td>\n",
       "      <td>Senior Attending Physician</td>\n",
       "    </tr>\n",
       "  </tbody>\n",
       "</table>\n",
       "</div>"
      ],
      "text/plain": [
       "           Name                    Position\n",
       "0  Percival Cox  Senior Attending Physician"
      ]
     },
     "execution_count": 10,
     "metadata": {},
     "output_type": "execute_result"
    }
   ],
   "source": [
    "database.execute(data.interactions[2].sql)"
   ]
  },
  {
   "cell_type": "code",
   "execution_count": 11,
   "metadata": {},
   "outputs": [
    {
     "data": {
      "text/html": [
       "<div>\n",
       "<style scoped>\n",
       "    .dataframe tbody tr th:only-of-type {\n",
       "        vertical-align: middle;\n",
       "    }\n",
       "\n",
       "    .dataframe tbody tr th {\n",
       "        vertical-align: top;\n",
       "    }\n",
       "\n",
       "    .dataframe thead th {\n",
       "        text-align: right;\n",
       "    }\n",
       "</style>\n",
       "<table border=\"1\" class=\"dataframe\">\n",
       "  <thead>\n",
       "    <tr style=\"text-align: right;\">\n",
       "      <th></th>\n",
       "      <th>Name</th>\n",
       "      <th>Position</th>\n",
       "    </tr>\n",
       "  </thead>\n",
       "  <tbody>\n",
       "    <tr>\n",
       "      <th>0</th>\n",
       "      <td>Percival Cox</td>\n",
       "      <td>Senior Attending Physician</td>\n",
       "    </tr>\n",
       "  </tbody>\n",
       "</table>\n",
       "</div>"
      ],
      "text/plain": [
       "           Name                    Position\n",
       "0  Percival Cox  Senior Attending Physician"
      ]
     },
     "execution_count": 11,
     "metadata": {},
     "output_type": "execute_result"
    }
   ],
   "source": [
    "database.execute(data.final.sql)"
   ]
  },
  {
   "cell_type": "markdown",
   "metadata": {},
   "source": [
    "### 1. Common table extraction\n",
    "\n",
    "* find the common table used in the question-sql workloads: All joined tables"
   ]
  },
  {
   "cell_type": "code",
   "execution_count": 12,
   "metadata": {},
   "outputs": [
    {
     "name": "stdout",
     "output_type": "stream",
     "text": [
      "# of train workloads: 25\n",
      "# of used tables: 22\n",
      "-----------------\n",
      "appointment: 9\n",
      "department: 7\n",
      "physician: 6\n",
      "stay: 6\n",
      "physician,patient: 6\n",
      "block,room: 4\n",
      "room: 4\n",
      "medication: 3\n",
      "appointment,patient: 2\n",
      "appointment,physician: 2\n",
      "physician,affiliated_with,department: 2\n",
      "nurse,appointment: 2\n",
      "prescribes,medication: 2\n",
      "physician,prescribes,medication: 2\n",
      "department,physician: 1\n",
      "physician,appointment,physician: 1\n",
      "patient,appointment: 1\n",
      "prescribes,physician: 1\n",
      "patient,prescribes,physician: 1\n",
      "stay,patient,prescribes: 1\n",
      "stay,patient,prescribes,medication: 1\n",
      "medication,prescribes: 1\n"
     ]
    }
   ],
   "source": [
    "import sqlglot\n",
    "import sqlglot.expressions as exp\n",
    "from sqlglot.diff import Keep\n",
    "from sqlglot.optimizer import optimize\n",
    "from collections import Counter\n",
    "\n",
    "def extract_table_expression(x: QuestionSQL, schema: dict) -> str:\n",
    "    sql = optimize(sqlglot.parse_one(x.sql, read='sqlite'), schema=schema)\n",
    "    tbls = [x.this.this for x in list(sql.find_all(exp.Table))]\n",
    "    expression = ' '.join([x.sql() for x in sql.find_all(*[exp.From, exp.Join])])\n",
    "    return ','.join(tbls), expression\n",
    "\n",
    "def get_sources(data: SparcSample, schema: dict) -> list[tuple[str, list[str]]]:\n",
    "    sources = []\n",
    "    for x in data.interactions:\n",
    "        tbls, expression = extract_table_expression(x, schema)\n",
    "        sources.append({'question': x.question, 'table': tbls, 'expression': expression})\n",
    "    return sources\n",
    "\n",
    "db_id = 'hospital_1'\n",
    "train_subsamples = list(filter(lambda x: x.db_id == db_id, train_samples))\n",
    "dev_subsamples = list(filter(lambda x: x.db_id == db_id, dev_samples))\n",
    "table = sparc_tables[db_id]\n",
    "database = SqliteDatabase(str(sparc_path / 'database' / db_id / f'{db_id}.sqlite'), foreign_keys=table.foreign_keys)\n",
    "\n",
    "used_tables = Counter()\n",
    "for data in train_subsamples:\n",
    "    sources = get_sources(data, table.db_schema)\n",
    "    used = [x['table'] for x in sources]\n",
    "    used_tables.update(used)\n",
    "\n",
    "print(f'# of train workloads: {len(train_subsamples)}')\n",
    "print(f'# of used tables: {len(used_tables)}\\n-----------------')\n",
    "for k, v in used_tables.most_common():\n",
    "    print(f'{k}: {v}')"
   ]
  },
  {
   "cell_type": "code",
   "execution_count": 21,
   "metadata": {},
   "outputs": [],
   "source": [
    "# a nested query\n",
    "sql = \"\"\"\n",
    "SELECT * FROM (\n",
    "    SELECT * FROM Department\n",
    ") AS A\n",
    "WHERE A.department_id = 1;\n",
    "\"\"\"\n",
    "\n",
    "sql = sqlglot.parse_one(sql, read='sqlite')\n",
    "tbls = [x.this.this for x in list(sql.find_all(exp.Table))]\n",
    "expression = ' '.join([x.sql() for x in sql.find_all(*[exp.From, exp.Join])])"
   ]
  },
  {
   "cell_type": "markdown",
   "metadata": {},
   "source": [
    "### 2. Extract Term - Expression"
   ]
  },
  {
   "cell_type": "code",
   "execution_count": 18,
   "metadata": {},
   "outputs": [],
   "source": [
    "import os \n",
    "from dotenv import load_dotenv, find_dotenv\n",
    "from collections import defaultdict\n",
    "from tqdm import tqdm\n",
    "from langchain_core.pydantic_v1 import BaseModel, Field\n",
    "from langchain_openai import ChatOpenAI\n",
    "from langchain_core.prompts import PromptTemplate\n",
    "from langchain_core.output_parsers import JsonOutputParser\n",
    "\n",
    "_ = load_dotenv(find_dotenv())"
   ]
  },
  {
   "cell_type": "code",
   "execution_count": 31,
   "metadata": {},
   "outputs": [
    {
     "name": "stderr",
     "output_type": "stream",
     "text": [
      "  0%|          | 0/25 [00:00<?, ?it/s]"
     ]
    },
    {
     "name": "stderr",
     "output_type": "stream",
     "text": [
      "100%|██████████| 25/25 [01:21<00:00,  3.27s/it]\n"
     ]
    }
   ],
   "source": [
    "class TermExpressions(BaseModel):\n",
    "    rationale: str = Field(description='The reasoning behind the decision.')\n",
    "    index: int = Field(description='Index of the question-sql pair.')\n",
    "    term: str = Field(description='A declarative form of the natural language term.')\n",
    "    expression: str = Field(description='SQL expression that refers to the term.')\n",
    "\n",
    "class Response(BaseModel):\n",
    "    output: list[TermExpressions]\n",
    "    \n",
    "template = '''### Task\n",
    "You are tasked with identifying the partial term - partial expression relationship to represent the common interest query.\n",
    "You will be proveded several pairs of question and SQL with index. Do not extract the FROM and JOIN clauses.\n",
    "There could be multiple terms and expressions in a single question-SQL pair.\n",
    "\n",
    "### Formatting\n",
    "Your output should be of the following list of JSON format:\n",
    "[\n",
    "    {{\n",
    "        \"rationale\": <str: the reasoning behind decision>,\n",
    "        \"index: <int: the index of the question-sql pair>,\n",
    "        \"term\": <str: a partial natural language term>,\n",
    "        \"expression\" : <str: a partial SQL expression that refer to the term>,\n",
    "    }}, ...\n",
    "]\n",
    "\n",
    "\n",
    "### Output\n",
    "<QUESTION-SQL>:\\n{workload}\n",
    "<OUTPUT>: \n",
    "'''\n",
    "\n",
    "prompt = PromptTemplate(\n",
    "    template=template,\n",
    "    input_variables=['workload']\n",
    ")\n",
    "\n",
    "model_openai = ChatOpenAI(\n",
    "    model='gpt-4o-mini',\n",
    "    temperature=0.0,\n",
    ")\n",
    "\n",
    "model = model_openai.with_structured_output(Response)\n",
    "chain = (prompt | model)\n",
    "\n",
    "all_term_expression = defaultdict(list)\n",
    "for data in tqdm(train_subsamples, total=len(train_subsamples)):\n",
    "    workload = format_interactions(data.interactions)\n",
    "    term_expression = chain.invoke(input={'workload': workload}).output\n",
    "    all_term_expression[data.sample_id] = term_expression\n",
    "    # for x in data.interactions:\n",
    "    #     input_data = {'question': x.question, 'sql': x.sql}\n",
    "    #     term_expression = chain.invoke(input=input_data).output\n",
    "    #     tbls, _ = extract_table_expression(x, table.db_schema)\n",
    "    #     all_term_expression[tbls].append(term_expression)"
   ]
  },
  {
   "cell_type": "code",
   "execution_count": 35,
   "metadata": {},
   "outputs": [
    {
     "name": "stdout",
     "output_type": "stream",
     "text": [
      "[Sample 00-0]: employees - count(departmentID)\n",
      "[Sample 00-0]: department - GROUP BY departmentID\n",
      "[Sample 00-1]: most employees - ORDER BY count(departmentID) DESC LIMIT 1\n",
      "[Sample 00-1]: department name - name\n",
      "[Sample 00-1]: department - GROUP BY departmentID\n",
      "[Sample 01-0]: employees - count(departmentID)\n",
      "[Sample 01-0]: department - GROUP BY departmentID\n",
      "[Sample 01-1]: least employees - ORDER BY count(departmentID) LIMIT 1\n",
      "[Sample 01-1]: department - GROUP BY departmentID\n",
      "[Sample 01-2]: head - head\n",
      "[Sample 01-2]: department - GROUP BY departmentID\n",
      "[Sample 02-0]: employees - count(departmentID)\n",
      "[Sample 02-0]: department - GROUP BY departmentID\n",
      "[Sample 02-1]: smallest number of employees - ORDER BY count(departmentID) LIMIT 1\n",
      "[Sample 02-1]: department - GROUP BY departmentID\n",
      "[Sample 02-2]: name - T2.name\n",
      "[Sample 02-2]: position - T2.position\n",
      "[Sample 02-2]: department - GROUP BY departmentID\n",
      "[Sample 03-0]: patient id - patient\n",
      "[Sample 03-1]: names of patients - name\n",
      "[Sample 03-1]: appointments - appointment AS T1\n",
      "[Sample 04-0]: appointments - count(*)\n",
      "[Sample 04-0]: patient - GROUP BY patient\n",
      "[Sample 04-1]: more than one appointment - HAVING count(*) > 1\n",
      "[Sample 04-1]: patient - GROUP BY patient\n",
      "[Sample 04-2]: name - name\n",
      "[Sample 04-2]: phone number - phone\n",
      "[Sample 04-2]: patients - GROUP BY T1.patient\n",
      "[Sample 05-0]: start date - START\n",
      "[Sample 05-1]: appointments - ORDER BY START DESC\n",
      "[Sample 05-2]: most recent starting date - ORDER BY START DESC LIMIT 1\n",
      "[Sample 05-2]: appointment id - appointmentid\n",
      "[Sample 06-0]: ids of the physicians - Physician\n",
      "[Sample 06-1]: names - T2.name\n",
      "[Sample 06-1]: physicians - T2.EmployeeID\n",
      "[Sample 07-0]: physician names - SELECT name\n",
      "[Sample 07-1]: physicians who took appointments - SELECT T2.name FROM appointment AS T1 JOIN physician AS T2 ON T1.Physician = T2.EmployeeID\n",
      "[Sample 07-2]: physicians who never took any appointment - SELECT name FROM physician EXCEPT SELECT T2.name FROM appointment AS T1 JOIN physician AS T2 ON T1.Physician = T2.EmployeeID\n",
      "[Sample 08-0]: physician - SELECT name\n",
      "[Sample 08-1]: name - T3.name\n",
      "[Sample 08-1]: department - T2.department = T3.DepartmentID\n",
      "[Sample 08-2]: physician - T1.name\n",
      "[Sample 08-2]: department - T2.department = T3.DepartmentID\n",
      "[Sample 09-0]: appointments - SELECT * FROM appointment\n",
      "[Sample 09-0]: start date - ORDER BY START DESC\n",
      "[Sample 09-1]: most recent start date - ORDER BY START DESC LIMIT 1\n",
      "[Sample 09-1]: appointment - SELECT * FROM appointment\n",
      "[Sample 09-2]: name of the patient - T1.name\n",
      "[Sample 09-2]: appointment - JOIN appointment AS T2\n",
      "[Sample 09-2]: start - ORDER BY T2.start DESC\n",
      "[Sample 10-0]: stays - * FROM stay\n",
      "[Sample 10-0]: room 112 - room = 112\n",
      "[Sample 10-1]: patients - count(patient)\n",
      "[Sample 10-1]: room 112 - room = 112\n",
      "[Sample 11-0]: employee id - employeeid\n",
      "[Sample 11-0]: physician - physician\n",
      "[Sample 11-1]: prescriptions - prescribes\n",
      "[Sample 11-1]: physician - T2.employeeid\n",
      "[Sample 11-2]: patients - count(T1.SSN)\n",
      "[Sample 11-2]: prescriptions - T2.patient\n",
      "[Sample 11-2]: physician - T3.employeeid\n",
      "[Sample 12-0]: patient - patient\n",
      "[Sample 12-0]: room 111 - WHERE room = 111\n",
      "[Sample 12-1]: medication - T3.Medication\n",
      "[Sample 12-1]: patient - T2.SSN\n",
      "[Sample 12-2]: name of the medication - T4.name\n",
      "[Sample 12-2]: room 111 - WHERE room = 111\n",
      "[Sample 13-0]: patients - patient\n",
      "[Sample 13-0]: room 111 - room = 111\n",
      "[Sample 13-1]: stay start date - ORDER BY staystart DESC\n",
      "[Sample 13-1]: patients - patient\n",
      "[Sample 13-2]: most recently - ORDER BY staystart DESC LIMIT 1\n",
      "[Sample 13-2]: patients - patient\n",
      "[Sample 13-2]: room 111 - room = 111\n",
      "[Sample 14-0]: appointments - count(*)\n",
      "[Sample 14-0]: nurse - GROUP BY T1.employeeid\n",
      "[Sample 14-1]: most appointments - ORDER BY count(*) DESC LIMIT 1\n",
      "[Sample 14-1]: nurse - GROUP BY T1.employeeid\n",
      "[Sample 14-1]: name - T1.name\n",
      "[Sample 15-0]: patients - GROUP BY T1.employeeid\n",
      "[Sample 15-0]: physician - GROUP BY T1.employeeid\n",
      "[Sample 15-1]: patients - count(*)\n",
      "[Sample 15-1]: physician - GROUP BY T1.employeeid\n",
      "[Sample 15-2]: name - T1.name\n",
      "[Sample 15-2]: patients - count(*)\n",
      "[Sample 15-2]: physician - GROUP BY T1.employeeid\n",
      "[Sample 16-0]: patients - count(*)\n",
      "[Sample 16-0]: physician - GROUP BY T1.employeeid\n",
      "[Sample 16-1]: more than one - HAVING count(*) > 1\n",
      "[Sample 16-1]: physicians - GROUP BY T1.employeeid\n",
      "[Sample 16-2]: name - T1.name\n",
      "[Sample 16-2]: physicians - GROUP BY T1.employeeid\n",
      "[Sample 17-0]: block floor - T1.blockfloor\n",
      "[Sample 17-0]: room - T2.blockfloor\n",
      "[Sample 17-1]: rooms - count(*)\n",
      "[Sample 17-1]: block floor - T1.blockfloor\n",
      "[Sample 18-0]: room - T1.blockcode\n",
      "[Sample 18-0]: block code - T1.blockcode\n",
      "[Sample 18-1]: rooms - count(*)\n",
      "[Sample 18-1]: block code - T1.blockcode\n",
      "[Sample 19-0]: rooms - SELECT * FROM room\n",
      "[Sample 19-0]: available - WHERE unavailable = 0\n",
      "[Sample 19-1]: block codes - SELECT DISTINCT blockcode\n",
      "[Sample 19-1]: rooms available - WHERE unavailable = 0\n",
      "[Sample 20-0]: room types - roomtype\n",
      "[Sample 20-1]: distinct room types - count(DISTINCT roomtype)\n",
      "[Sample 21-0]: medication - WHERE name = 'Thesisin'\n",
      "[Sample 21-0]: code - SELECT code\n",
      "[Sample 21-1]: physicians - SELECT DISTINCT T1.physician\n",
      "[Sample 21-1]: medication - WHERE T2.name = 'Thesisin'\n",
      "[Sample 21-2]: names - SELECT DISTINCT T1.name\n",
      "[Sample 21-2]: medication - WHERE T3.name = 'Thesisin'\n",
      "[Sample 22-0]: medication - WHERE Brand = 'X'\n",
      "[Sample 22-0]: Brand X - WHERE Brand = 'X'\n",
      "[Sample 22-1]: physicians - SELECT DISTINCT T1.physician\n",
      "[Sample 22-1]: medication - WHERE T2.Brand = 'X'\n",
      "[Sample 22-2]: name - T1.name\n",
      "[Sample 22-2]: position - T1.position\n",
      "[Sample 22-2]: physician - JOIN physician AS T1\n",
      "[Sample 23-0]: medications - GROUP BY brand\n",
      "[Sample 23-0]: brand - GROUP BY brand\n",
      "[Sample 23-1]: medications - count(*)\n",
      "[Sample 23-1]: brand - GROUP BY T1.brand\n",
      "[Sample 24-0]: position title - POSITION\n",
      "[Sample 24-0]: physicians - FROM physician\n",
      "[Sample 24-1]: physicians - FROM physician\n",
      "[Sample 24-1]: senior - POSITION LIKE '%senior%'\n",
      "[Sample 24-2]: names - name\n",
      "[Sample 24-2]: physicians - FROM physician\n"
     ]
    }
   ],
   "source": [
    "for sample_id, term_exps in all_term_expression.items():\n",
    "    for x in term_exps:\n",
    "        print(f'[Sample {sample_id:02d}-{x.index}]: {x.term} - {x.expression}')"
   ]
  },
  {
   "cell_type": "code",
   "execution_count": null,
   "metadata": {},
   "outputs": [],
   "source": []
  },
  {
   "cell_type": "code",
   "execution_count": 13,
   "metadata": {},
   "outputs": [
    {
     "name": "stdout",
     "output_type": "stream",
     "text": [
      "[Table and Columns]\n",
      "Table Name: Physician\n",
      "  - 'EmployeeID'(text): Unique identifier for each physician.\n",
      "  - 'Name'(text): Full name of the physician.\n",
      "  - 'Position'(text): Job title or role of the physician.\n",
      "  - 'SSN'(text): Social Security Number of the physician.\n",
      "Table Name: Department\n",
      "  - 'Depart\n"
     ]
    }
   ],
   "source": [
    "with (proj_path / 'db_data' / 'sparc_description.json').open() as f:\n",
    "    all_descriptions = json.load(f)\n",
    "\n",
    "print(get_schema_str(\n",
    "    schema=sparc_tables['hospital_1'].db_schema, \n",
    "    col_explanation=all_descriptions['hospital_1'])[:300]\n",
    ")"
   ]
  },
  {
   "cell_type": "markdown",
   "metadata": {},
   "source": [
    "# Query Access Area"
   ]
  },
  {
   "cell_type": "code",
   "execution_count": 18,
   "metadata": {},
   "outputs": [
    {
     "data": {
      "text/plain": [
       "[(13216584, 100000001, 101, 1, '2008-04-24 10:00', '2008-04-24 11:00', 'A')]"
      ]
     },
     "execution_count": 18,
     "metadata": {},
     "output_type": "execute_result"
    }
   ],
   "source": [
    "dtype_functions = {\n",
    "    'numeric': pd.to_numeric,\n",
    "    'datetime': pd.to_datetime\n",
    "}\n",
    "\n",
    "def null_percentage(s: pd.Series) -> float:\n",
    "    return s.isnull().sum() / len(s)\n",
    "\n",
    "column_info = {}\n",
    "for col in df.columns:\n",
    "    # dtype\n",
    "    null_index = df[col].isnull()\n",
    "    for logical_type in ['numeric', 'datetime', 'text']:\n",
    "        if logical_type in ['numeric', 'datetime']:\n",
    "            try:\n",
    "                df.loc[~null_index, col] = dtype_functions[logical_type](df.loc[~null_index, col], errors='raise')\n",
    "                attribute_type = 'ordinal'\n",
    "                break\n",
    "            except ValueError as e:\n",
    "                # print(f'-- {col}: {logical_type} {e}')\n",
    "                continue\n",
    "            except TypeError as e:\n",
    "                # print(f'-- {col}: {logical_type} {e}')\n",
    "                continue\n",
    "        else:\n",
    "            attribute_type = 'nominal'\n",
    "            break\n",
    "    print(f'{col}: {logical_type} {attribute_type}')\n",
    "    # unique values\n",
    "    unique_values = df[col].unique()\n",
    "    # min, max\n",
    "    min_val = df[col].min()\n",
    "    max_val = df[col].max()\n",
    "    # null percentage\n",
    "    null_percent = null_percentage(df[col])\n",
    "\n",
    "    column_info[col] = {\n",
    "        'logical_type': logical_type,\n",
    "        'attribute_type': attribute_type,\n",
    "        'unique_values': unique_values,\n",
    "        'min': min_val,\n",
    "        'max': max_val,\n",
    "        'null_percentage': null_percent\n",
    "    }"
   ]
  }
 ],
 "metadata": {
  "kernelspec": {
   "display_name": ".venv",
   "language": "python",
   "name": "python3"
  },
  "language_info": {
   "codemirror_mode": {
    "name": "ipython",
    "version": 3
   },
   "file_extension": ".py",
   "mimetype": "text/x-python",
   "name": "python",
   "nbconvert_exporter": "python",
   "pygments_lexer": "ipython3",
   "version": "3.11.7"
  }
 },
 "nbformat": 4,
 "nbformat_minor": 2
}
