{
 "cells": [
  {
   "cell_type": "code",
   "execution_count": 1,
   "metadata": {},
   "outputs": [],
   "source": [
    "%load_ext autoreload\n",
    "%autoreload 2"
   ]
  },
  {
   "cell_type": "code",
   "execution_count": 2,
   "metadata": {},
   "outputs": [],
   "source": [
    "import sys\n",
    "from pathlib import Path\n",
    "proj_path = Path('.').resolve()\n",
    "sys.path.append(str(proj_path))\n",
    "\n",
    "import json\n",
    "from tqdm import tqdm\n",
    "import numpy as np\n",
    "import pandas as pd\n",
    "from typing import Optional\n",
    "from collections import defaultdict\n",
    "from dotenv import load_dotenv, find_dotenv\n",
    "from langchain_openai import ChatOpenAI\n",
    "from langchain_core.prompts import PromptTemplate\n",
    "from langchain_core.output_parsers import JsonOutputParser\n",
    "_ = load_dotenv(find_dotenv())\n",
    "\n",
    "from src.db_utils import get_schema_str, get_data_dict\n",
    "from src.pymodels import DatabaseModel, QuestionSQL, SparcSample, SpiderSample, Description\n",
    "from src.prompts import Prompts\n",
    "from src.database import SqliteDatabase\n",
    "from src.data_preprocess import (\n",
    "    load_raw_data,\n",
    "    process_all_tables,\n",
    "    filter_samples_by_count_spider_bird,\n",
    "    process_samples_bird,\n",
    "    split_train_dev_test,\n",
    "    save_samples_spider_bird,\n",
    "    load_samples_spider_bird,\n",
    ")\n",
    "\n",
    "bird_path = proj_path / 'data' / 'bird'\n",
    "tables, train_data, dev_data = load_raw_data(bird_path, load_test=False)\n",
    "\n",
    "with (proj_path / 'data' / 'bird_description.json').open() as f:\n",
    "    all_descriptions = json.load(f)\n",
    "\n",
    "bird_tables = process_all_tables(tables, descriptions=all_descriptions)"
   ]
  },
  {
   "cell_type": "code",
   "execution_count": 3,
   "metadata": {},
   "outputs": [
    {
     "name": "stderr",
     "output_type": "stream",
     "text": [
      "  0%|          | 0/10956 [00:00<?, ?it/s]"
     ]
    },
    {
     "name": "stderr",
     "output_type": "stream",
     "text": [
      "100%|██████████| 10956/10956 [00:03<00:00, 2973.10it/s]\n"
     ]
    }
   ],
   "source": [
    "all_data = filter_samples_by_count_spider_bird(train_data+dev_data, n=10)\n",
    "with open(proj_path / 'data' / 'bird_skip.txt') as f:\n",
    "    skip = [int(line.strip()) for line in f]\n",
    "\n",
    "bird_samples = process_samples_bird(all_data, bird_tables, skip=skip)\n",
    "# train_samples, dev_samples, test_samples = split_train_dev_test(bird_samples, train_ratio=0.6, dev_ratio=0.2)\n",
    "# makesure the dev/test sql is not in the train sql\n",
    "\n",
    "# save_samples_spider_bird(train_samples, proj_path / 'data' / 'bird_train.json')\n",
    "# save_samples_spider_bird(dev_samples, proj_path / 'data' / 'bird_dev.json')\n",
    "# save_samples_spider_bird(test_samples, proj_path / 'data' / 'bird_test.json')\n",
    "# print(len(train_samples), len(dev_samples), len(test_samples))"
   ]
  },
  {
   "cell_type": "code",
   "execution_count": 4,
   "metadata": {},
   "outputs": [],
   "source": [
    "import pickle\n",
    "with (proj_path / 'data' / 'bird_samples.pkl').open('wb') as f:\n",
    "    pickle.dump(bird_samples, f)\n",
    "\n",
    "\n",
    "# with (proj_path / 'data' / 'bird_samples.pkl').open() as f:\n",
    "#     bird_samples = pickle.load(f)"
   ]
  },
  {
   "cell_type": "code",
   "execution_count": 119,
   "metadata": {},
   "outputs": [],
   "source": [
    "# df_train = pd.DataFrame({\n",
    "#     'db_id': [x.db_id for x in train_samples], \n",
    "#     'sql': [x.final.sql for x in train_samples],\n",
    "#     'sample_id': [x.sample_id for x in train_samples]\n",
    "# })\n",
    "# df_dev = pd.DataFrame({\n",
    "#     'db_id': [x.db_id for x in dev_samples] + [x.db_id for x in test_samples],\n",
    "#     'sql': [x.final.sql for x in dev_samples] + [x.final.sql for x in test_samples],\n",
    "#     'sample_id': [x.sample_id for x in dev_samples] + [x.sample_id for x in test_samples]\n",
    "# })\n",
    "\n",
    "# df_train.to_csv(proj_path / 'data' / 'bird_train.csv', index=False)\n",
    "# df_dev.to_csv(proj_path / 'data' / 'bird_dev.csv', index=False)\n",
    "\n",
    "# df_train = pd.read_csv(proj_path / 'data' / 'bird_train.csv')\n",
    "# df_dev = pd.read_csv(proj_path / 'data' / 'bird_dev.csv')"
   ]
  },
  {
   "cell_type": "code",
   "execution_count": 4,
   "metadata": {},
   "outputs": [],
   "source": [
    "from src.eval_utils import (\n",
    "    partial_match, \n",
    "    compute_tsed\n",
    ")\n",
    "import sqlglot\n",
    "import spacy\n",
    "from src.parsing_sql import extract_all, Schema\n",
    "try:\n",
    "    nlp_spacy = spacy.load('en_core_web_md')\n",
    "except OSError:\n",
    "    from spacy.cli import download\n",
    "    download('en_core_web_md')"
   ]
  },
  {
   "cell_type": "code",
   "execution_count": 7,
   "metadata": {},
   "outputs": [
    {
     "name": "stderr",
     "output_type": "stream",
     "text": [
      "movie_platform: 100%|██████████| 167/167 [00:00<00:00, 214.74it/s]\n",
      "book_publishing_company: 100%|██████████| 73/73 [00:00<00:00, 207.85it/s]\n",
      "retail_complains: 100%|██████████| 168/168 [00:01<00:00, 84.74it/s] \n",
      "movies_4: 100%|██████████| 158/158 [00:00<00:00, 209.97it/s]\n",
      "codebase_comments: 100%|██████████| 123/123 [00:00<00:00, 240.83it/s]\n",
      "trains: 100%|██████████| 40/40 [00:00<00:00, 210.70it/s]\n",
      "movie: 100%|██████████| 46/46 [00:00<00:00, 199.61it/s]\n",
      "social_media: 100%|██████████| 78/78 [00:00<00:00, 237.69it/s]\n",
      "cs_semester: 100%|██████████| 113/113 [00:00<00:00, 218.01it/s]\n",
      "computer_student: 100%|██████████| 72/72 [00:00<00:00, 250.11it/s]\n",
      "talkingdata: 100%|██████████| 206/206 [00:00<00:00, 214.44it/s]\n",
      "law_episode: 100%|██████████| 114/114 [00:00<00:00, 222.12it/s]\n",
      "synthea: 100%|██████████| 185/185 [00:01<00:00, 165.74it/s]\n",
      "car_retails: 100%|██████████| 126/126 [00:00<00:00, 211.78it/s]\n",
      "restaurant: 100%|██████████| 117/117 [00:00<00:00, 242.16it/s]\n",
      "soccer_2016: 100%|██████████| 258/258 [00:01<00:00, 223.18it/s]\n",
      "music_tracker: 100%|██████████| 45/45 [00:00<00:00, 232.21it/s]\n",
      "world_development_indicators: 100%|██████████| 157/157 [00:00<00:00, 203.02it/s]\n",
      "movielens: 100%|██████████| 98/98 [00:00<00:00, 212.63it/s]\n",
      "superstore: 100%|██████████| 116/116 [00:00<00:00, 178.97it/s]\n",
      "shooting: 100%|██████████| 24/24 [00:00<00:00, 200.10it/s]\n",
      "genes: 100%|██████████| 23/23 [00:00<00:00, 206.53it/s]\n",
      "app_store: 100%|██████████| 57/57 [00:00<00:00, 227.37it/s]\n",
      "regional_sales: 100%|██████████| 164/164 [00:00<00:00, 179.75it/s]\n",
      "european_football_1: 100%|██████████| 57/57 [00:00<00:00, 205.28it/s]\n",
      "professional_basketball: 100%|██████████| 157/157 [00:01<00:00, 153.55it/s]\n",
      "shakespeare: 100%|██████████| 110/110 [00:00<00:00, 227.14it/s]\n",
      "cars: 100%|██████████| 84/84 [00:00<00:00, 201.41it/s]\n",
      "donor: 100%|██████████| 160/160 [00:00<00:00, 224.15it/s]\n",
      "video_games: 100%|██████████| 201/201 [00:00<00:00, 204.00it/s]\n",
      "authors: 100%|██████████| 174/174 [00:00<00:00, 229.09it/s]\n",
      "college_completion: 100%|██████████| 76/76 [00:00<00:00, 176.40it/s]\n",
      "public_review_platform: 100%|██████████| 381/381 [00:01<00:00, 212.92it/s]\n",
      "citeseer: 100%|██████████| 19/19 [00:00<00:00, 235.50it/s]\n",
      "simpson_episodes: 100%|██████████| 210/210 [00:00<00:00, 221.59it/s]\n",
      "student_loan: 100%|██████████| 203/203 [00:01<00:00, 174.23it/s]\n",
      "mental_health_survey: 100%|██████████| 50/50 [00:00<00:00, 168.25it/s]\n",
      "disney: 100%|██████████| 115/115 [00:00<00:00, 221.50it/s]\n",
      "legislator: 100%|██████████| 177/177 [00:00<00:00, 211.42it/s]\n",
      "olympics: 100%|██████████| 169/169 [00:00<00:00, 211.13it/s]\n",
      "address: 100%|██████████| 150/150 [00:00<00:00, 219.70it/s]\n",
      "beer_factory: 100%|██████████| 131/131 [00:00<00:00, 190.18it/s]\n",
      "sales: 100%|██████████| 107/107 [00:00<00:00, 227.00it/s]\n",
      "menu: 100%|██████████| 108/108 [00:00<00:00, 227.68it/s]\n",
      "shipping: 100%|██████████| 106/106 [00:00<00:00, 206.76it/s]\n",
      "language_corpus: 100%|██████████| 136/136 [00:00<00:00, 215.94it/s]\n",
      "airline: 100%|██████████| 92/92 [00:00<00:00, 211.22it/s]\n",
      "books: 100%|██████████| 198/198 [00:00<00:00, 203.47it/s]\n",
      "food_inspection_2: 100%|██████████| 139/139 [00:00<00:00, 200.40it/s]\n",
      "coinmarketcap: 100%|██████████| 48/48 [00:00<00:00, 218.12it/s]\n",
      "retail_world: 100%|██████████| 67/67 [00:00<00:00, 243.89it/s]\n",
      "retails: 100%|██████████| 245/245 [00:01<00:00, 223.07it/s]\n",
      "ice_hockey_draft: 100%|██████████| 79/79 [00:00<00:00, 95.04it/s] \n",
      "works_cycles: 100%|██████████| 468/468 [00:02<00:00, 228.67it/s]\n",
      "image_and_language: 100%|██████████| 139/139 [00:00<00:00, 234.58it/s]\n",
      "hockey: 100%|██████████| 207/207 [00:00<00:00, 220.53it/s]\n",
      "world: 100%|██████████| 99/99 [00:00<00:00, 251.41it/s]\n",
      "music_platform_2: 100%|██████████| 69/69 [00:00<00:00, 231.54it/s]\n",
      "university: 100%|██████████| 150/150 [00:00<00:00, 228.45it/s]\n",
      "sales_in_weather: 100%|██████████| 80/80 [00:00<00:00, 181.91it/s]\n",
      "mondial_geo: 100%|██████████| 293/293 [00:01<00:00, 223.58it/s]\n",
      "software_company: 100%|██████████| 75/75 [00:00<00:00, 232.80it/s]\n",
      "chicago_crime: 100%|██████████| 188/188 [00:00<00:00, 215.23it/s]\n",
      "food_inspection: 100%|██████████| 83/83 [00:00<00:00, 194.17it/s]\n",
      "cookbook: 100%|██████████| 69/69 [00:00<00:00, 220.87it/s]\n",
      "human_resources: 100%|██████████| 59/59 [00:00<00:00, 205.87it/s]\n",
      "bike_share_1: 100%|██████████| 112/112 [00:00<00:00, 197.78it/s]\n",
      "movie_3: 100%|██████████| 325/325 [00:01<00:00, 212.59it/s]\n",
      "california_schools: 100%|██████████| 89/89 [00:00<00:00, 198.67it/s]\n",
      "financial: 100%|██████████| 106/106 [00:01<00:00, 98.41it/s] \n",
      "toxicology: 100%|██████████| 145/145 [00:00<00:00, 212.61it/s]\n",
      "card_games: 100%|██████████| 191/191 [00:00<00:00, 226.57it/s]\n",
      "codebase_community: 100%|██████████| 186/186 [00:00<00:00, 234.79it/s]\n",
      "superhero: 100%|██████████| 129/129 [00:00<00:00, 219.85it/s]\n",
      "formula_1: 100%|██████████| 174/174 [00:00<00:00, 185.29it/s]\n",
      "european_football_2: 100%|██████████| 129/129 [00:00<00:00, 204.16it/s]\n",
      "thrombosis_prediction: 100%|██████████| 163/163 [00:00<00:00, 193.63it/s]\n",
      "student_club: 100%|██████████| 158/158 [00:00<00:00, 207.88it/s]\n",
      "debit_card_specializing: 100%|██████████| 64/64 [00:00<00:00, 193.52it/s]\n"
     ]
    }
   ],
   "source": [
    "error_ids = []\n",
    "results = defaultdict()\n",
    "parsed = defaultdict(list)\n",
    "for db_id, samples in bird_samples.items():\n",
    "    schema = Schema(bird_tables[db_id].db_schema)\n",
    "    iterator = tqdm(range(len(samples)), total=len(samples), desc=f\"{db_id}\")\n",
    "    for i in iterator:\n",
    "        sql_i = samples[i].final.sql\n",
    "        spacy_i = nlp_spacy(sql_i)\n",
    "        try:\n",
    "            parsed_i = sqlglot.parse_one(sql_i, dialect='sqlite')\n",
    "            ei = extract_all(parsed_i, schema)\n",
    "            assert len(ei['sel']) > 0, f'No selection found-{db_id}-{i}'\n",
    "        except Exception as e:\n",
    "            error_ids.append((db_id, i, samples[i].sample_id, str(e)))\n",
    "            parsed[db_id].append(None)\n",
    "            continue\n",
    "        parsed[db_id].append((spacy_i, ei))\n",
    "\n",
    "# for db_id, samples in tqdm(bird_samples.items(), total=len(bird_samples), desc='Computing similarity'):\n",
    "#     semantic_sim = np.zeros((len(samples), len(samples)))\n",
    "#     struct_sim = np.zeros((len(samples), len(samples)))\n",
    "#     # iterator = tqdm(range(len(samples)), total=len(samples), desc=f\"{db_id}\")\n",
    "#     for i in range(len(samples)):\n",
    "#         if parsed[db_id][i] is None:\n",
    "#             continue\n",
    "#         spacy_i, ei = parsed[db_id][i]        \n",
    "#         for j in range(i+1, len(samples)):\n",
    "#             if parsed[db_id][j] is None:\n",
    "#                 continue\n",
    "#             spacy_j, ej = parsed[db_id][j]\n",
    "\n",
    "#             sel_iou, *_ = partial_match(ei['sel'], ej['sel'])\n",
    "#             cond_iou, *_ = partial_match(ei['cond'], ej['cond'])\n",
    "#             agg_iou, *_ = partial_match(ei['agg'], ej['agg'])\n",
    "#             dis_iou, *_ = partial_match(ei['distinct'], ej['distinct'])\n",
    "#             ord_iou, *_ = partial_match(ei['order by'], ej['order by'])\n",
    "#             lim = int(ei['limit'] == ej['limit'])\n",
    "#             nested = int(ei['nested'] == ej['nested'])\n",
    "            \n",
    "#             semantic_sim[i, j] = spacy_i.similarity(spacy_j)\n",
    "#             semantic_sim[j, i] = semantic_sim[i, j]\n",
    "#             struct_sim[i, j] = sel_iou + cond_iou + agg_iou + dis_iou + ord_iou + (lim + nested) / 2\n",
    "#             struct_sim[j, i] = struct_sim[i, j]\n",
    "\n",
    "#     results[db_id] = {\n",
    "#         'semantic': semantic_sim,\n",
    "#         'struct': struct_sim\n",
    "#     }"
   ]
  },
  {
   "cell_type": "code",
   "execution_count": 8,
   "metadata": {},
   "outputs": [
    {
     "data": {
      "text/plain": [
       "(0, [])"
      ]
     },
     "execution_count": 8,
     "metadata": {},
     "output_type": "execute_result"
    }
   ],
   "source": [
    "len(error_ids), error_ids"
   ]
  },
  {
   "cell_type": "code",
   "execution_count": 8,
   "metadata": {},
   "outputs": [],
   "source": [
    "from src.parsing_sql import (\n",
    "    extract_aliases,\n",
    "    extract_condition,\n",
    "    get_subqueries,\n",
    "    _extract_conditions,\n",
    "    _extract_columns_from_expression,\n",
    "    _determine_tag,\n",
    "    _format_expression,\n",
    "    _get_full_column_name,\n",
    "    extract_aliases,\n",
    "    extract_selection,\n",
    "    extract_aggregation,\n",
    "    extract_orderby,\n",
    "    extract_others,\n",
    "    \n",
    "    _extract_aliases_from_select,\n",
    "    _handle_table_or_subquery\n",
    ")"
   ]
  },
  {
   "cell_type": "markdown",
   "metadata": {},
   "source": [
    "---"
   ]
  },
  {
   "cell_type": "code",
   "execution_count": 9,
   "metadata": {},
   "outputs": [
    {
     "name": "stdout",
     "output_type": "stream",
     "text": [
      "['movie_platform', 'book_publishing_company', 'retail_complains', 'movies_4', 'codebase_comments']\n"
     ]
    }
   ],
   "source": [
    "from src.database import SqliteDatabase\n",
    "from sqlglot import expressions as exp\n",
    "from src.db_utils import get_data_dict\n",
    "\n",
    "from pprint import pprint\n",
    "# for table in tables:\n",
    "#     data_dict = get_data_dict(table)\n",
    "#     break\n",
    "print(list(bird_samples.keys())[:5])"
   ]
  },
  {
   "cell_type": "code",
   "execution_count": 37,
   "metadata": {},
   "outputs": [
    {
     "data": {
      "text/plain": [
       "BirdSample(sample_id=2467, db_id='shooting', final=QuestionSQL(question=\"Who are the officers involved in cases that are voted as 'No Bill'. List their last name and gender.\", sql=\"SELECT T2.last_name, T2.gender FROM incidents AS T1 INNER JOIN officers AS T2 ON T1.case_number = T2.case_number WHERE T1.grand_jury_disposition = 'No Bill'\", source_tables=['officers', 'incidents']), evidence=\"voted as 'No Bill' refers to grand_jury_disposition = 'No Bill'\", bo=None)"
      ]
     },
     "execution_count": 37,
     "metadata": {},
     "output_type": "execute_result"
    }
   ],
   "source": [
    "[x for i, x in enumerate(samples) if x.sample_id == 2467][0]"
   ]
  },
  {
   "cell_type": "code",
   "execution_count": 106,
   "metadata": {},
   "outputs": [
    {
     "name": "stdout",
     "output_type": "stream",
     "text": [
      "SELECT\n",
      "  CASE\n",
      "    WHEN (\n",
      "      T1.SEX = 'F' AND T2.UA > 6.5\n",
      "    ) OR (\n",
      "      T1.SEX = 'M' AND T2.UA > 8.0\n",
      "    )\n",
      "    THEN TRUE\n",
      "    ELSE FALSE\n",
      "  END\n",
      "FROM Patient AS T1\n",
      "INNER JOIN Laboratory AS T2\n",
      "  ON T1.ID = T2.ID\n",
      "WHERE\n",
      "  T1.ID = 57266\n"
     ]
    },
    {
     "ename": "TypeError",
     "evalue": "sequence item 1: expected str instance, NoneType found",
     "output_type": "error",
     "traceback": [
      "\u001b[0;31m---------------------------------------------------------------------------\u001b[0m",
      "\u001b[0;31mTypeError\u001b[0m                                 Traceback (most recent call last)",
      "Cell \u001b[0;32mIn[106], line 19\u001b[0m\n\u001b[1;32m     16\u001b[0m \u001b[38;5;66;03m# res = database.execute(sql_i)\u001b[39;00m\n\u001b[1;32m     17\u001b[0m \u001b[38;5;66;03m# print(res)\u001b[39;00m\n\u001b[1;32m     18\u001b[0m parsed_i \u001b[38;5;241m=\u001b[39m sqlglot\u001b[38;5;241m.\u001b[39mparse_one(sql_i)\n\u001b[0;32m---> 19\u001b[0m ei \u001b[38;5;241m=\u001b[39m \u001b[43mextract_all\u001b[49m\u001b[43m(\u001b[49m\u001b[43mparsed_i\u001b[49m\u001b[43m,\u001b[49m\u001b[43m \u001b[49m\u001b[43mschema\u001b[49m\u001b[43m)\u001b[49m\n\u001b[1;32m     20\u001b[0m ei\n",
      "File \u001b[0;32m~/code/BusinessObjects/src/parsing_sql.py:951\u001b[0m, in \u001b[0;36mextract_all\u001b[0;34m(parsed_query, schema)\u001b[0m\n\u001b[1;32m    948\u001b[0m nested \u001b[38;5;241m=\u001b[39m \u001b[38;5;28mlen\u001b[39m(subqueries)\n\u001b[1;32m    950\u001b[0m \u001b[38;5;28;01mfor\u001b[39;00m query \u001b[38;5;129;01min\u001b[39;00m subqueries:\n\u001b[0;32m--> 951\u001b[0m     sel_cols, sel_asts  \u001b[38;5;241m=\u001b[39m \u001b[43mextract_selection\u001b[49m\u001b[43m(\u001b[49m\u001b[43mquery\u001b[49m\u001b[43m,\u001b[49m\u001b[43m \u001b[49m\u001b[43maliases\u001b[49m\u001b[43m,\u001b[49m\u001b[43m \u001b[49m\u001b[43mschema\u001b[49m\u001b[43m)\u001b[49m\n\u001b[1;32m    952\u001b[0m     cond_asts, op_types \u001b[38;5;241m=\u001b[39m extract_condition(query, aliases, schema)\n\u001b[1;32m    953\u001b[0m     agg_cols, agg_asts  \u001b[38;5;241m=\u001b[39m extract_aggregation(query, aliases, schema)\n",
      "File \u001b[0;32m~/code/BusinessObjects/src/parsing_sql.py:316\u001b[0m, in \u001b[0;36mextract_selection\u001b[0;34m(query, aliases, schema)\u001b[0m\n\u001b[1;32m    313\u001b[0m     unique_columns\u001b[38;5;241m.\u001b[39mupdate(columns)\n\u001b[1;32m    315\u001b[0m     tag \u001b[38;5;241m=\u001b[39m _determine_tag(select_exp)\n\u001b[0;32m--> 316\u001b[0m     expr_str, expr \u001b[38;5;241m=\u001b[39m \u001b[43m_format_expression\u001b[49m\u001b[43m(\u001b[49m\u001b[43mselect_exp\u001b[49m\u001b[43m,\u001b[49m\u001b[43m \u001b[49m\u001b[43maliases\u001b[49m\u001b[43m,\u001b[49m\u001b[43m \u001b[49m\u001b[43mschema\u001b[49m\u001b[43m,\u001b[49m\u001b[43m \u001b[49m\u001b[43mremove_alias\u001b[49m\u001b[38;5;241;43m=\u001b[39;49m\u001b[38;5;28;43;01mTrue\u001b[39;49;00m\u001b[43m)\u001b[49m\n\u001b[1;32m    317\u001b[0m     selection_asts\u001b[38;5;241m.\u001b[39madd((expr_str, expr, tag))\n\u001b[1;32m    319\u001b[0m \u001b[38;5;28;01mreturn\u001b[39;00m unique_columns, selection_asts\n",
      "File \u001b[0;32m~/code/BusinessObjects/src/parsing_sql.py:404\u001b[0m, in \u001b[0;36m_format_expression\u001b[0;34m(expr, aliases, schema, anonymize_literal, remove_alias, lower_case)\u001b[0m\n\u001b[1;32m    401\u001b[0m \u001b[38;5;28;01melif\u001b[39;00m \u001b[38;5;28misinstance\u001b[39m(arg_expr, \u001b[38;5;28mlist\u001b[39m):\n\u001b[1;32m    402\u001b[0m     \u001b[38;5;66;03m# handle case: IF, Anonymous Function arguments(e.g., strftime)\u001b[39;00m\n\u001b[1;32m    403\u001b[0m     \u001b[38;5;28;01mfor\u001b[39;00m sub_arg_expr \u001b[38;5;129;01min\u001b[39;00m arg_expr:\n\u001b[0;32m--> 404\u001b[0m         name, new_expr \u001b[38;5;241m=\u001b[39m \u001b[43m_format_expression\u001b[49m\u001b[43m(\u001b[49m\n\u001b[1;32m    405\u001b[0m \u001b[43m            \u001b[49m\u001b[43msub_arg_expr\u001b[49m\u001b[43m,\u001b[49m\u001b[43m \u001b[49m\n\u001b[1;32m    406\u001b[0m \u001b[43m            \u001b[49m\u001b[43maliases\u001b[49m\u001b[43m,\u001b[49m\u001b[43m \u001b[49m\n\u001b[1;32m    407\u001b[0m \u001b[43m            \u001b[49m\u001b[43mschema\u001b[49m\u001b[43m,\u001b[49m\u001b[43m \u001b[49m\n\u001b[1;32m    408\u001b[0m \u001b[43m            \u001b[49m\u001b[43manonymize_literal\u001b[49m\u001b[38;5;241;43m=\u001b[39;49m\u001b[43manonymize_literal\u001b[49m\n\u001b[1;32m    409\u001b[0m \u001b[43m        \u001b[49m\u001b[43m)\u001b[49m\n\u001b[1;32m    410\u001b[0m         sub_arg_expr \u001b[38;5;241m=\u001b[39m new_expr\n\u001b[1;32m    411\u001b[0m         args_list\u001b[38;5;241m.\u001b[39mappend(name)\n",
      "File \u001b[0;32m~/code/BusinessObjects/src/parsing_sql.py:413\u001b[0m, in \u001b[0;36m_format_expression\u001b[0;34m(expr, aliases, schema, anonymize_literal, remove_alias, lower_case)\u001b[0m\n\u001b[1;32m    410\u001b[0m                 sub_arg_expr \u001b[38;5;241m=\u001b[39m new_expr\n\u001b[1;32m    411\u001b[0m                 args_list\u001b[38;5;241m.\u001b[39mappend(name)\n\u001b[0;32m--> 413\u001b[0m     \u001b[38;5;28;01mreturn\u001b[39;00m \u001b[38;5;124mf\u001b[39m\u001b[38;5;124m\"\u001b[39m\u001b[38;5;132;01m{\u001b[39;00mfunc_name\u001b[38;5;132;01m}\u001b[39;00m\u001b[38;5;124m(\u001b[39m\u001b[38;5;132;01m{\u001b[39;00m\u001b[38;5;124m'\u001b[39m\u001b[38;5;124m, \u001b[39m\u001b[38;5;124m'\u001b[39m\u001b[38;5;241m.\u001b[39mjoin(args_list)\u001b[38;5;132;01m}\u001b[39;00m\u001b[38;5;124m)\u001b[39m\u001b[38;5;124m\"\u001b[39m, expr\n\u001b[1;32m    415\u001b[0m \u001b[38;5;28;01mif\u001b[39;00m \u001b[38;5;28misinstance\u001b[39m(expr, exp\u001b[38;5;241m.\u001b[39mDistinct):\n\u001b[1;32m    416\u001b[0m     \u001b[38;5;66;03m# Only one case that appears with Function e.g., COUNT(DISTINCT col)\u001b[39;00m\n\u001b[1;32m    417\u001b[0m     name, new_expr \u001b[38;5;241m=\u001b[39m _format_expression(\n\u001b[1;32m    418\u001b[0m         expr\u001b[38;5;241m.\u001b[39mexpressions[\u001b[38;5;241m0\u001b[39m], \n\u001b[1;32m    419\u001b[0m         aliases, \n\u001b[1;32m    420\u001b[0m         schema, \n\u001b[1;32m    421\u001b[0m         anonymize_literal\u001b[38;5;241m=\u001b[39manonymize_literal\n\u001b[1;32m    422\u001b[0m     )\n",
      "\u001b[0;31mTypeError\u001b[0m: sequence item 1: expected str instance, NoneType found"
     ]
    }
   ],
   "source": [
    "db_id = 'thrombosis_prediction'\n",
    "sample_idx = 56\n",
    "typ = 'dev'\n",
    "database = SqliteDatabase(db_file=str(proj_path / 'data' / 'bird' / typ / f'{typ}_databases' / db_id / f'{db_id}.sqlite'))\n",
    "samples = bird_samples[db_id]\n",
    "schema = Schema(bird_tables[db_id].db_schema)\n",
    "sql_i = [x.final.sql for i, x in enumerate(samples) if i == sample_idx][0]\n",
    "# sql_i = [x for i, x in enumerate(samples) if x.sample_id == 2467][0].final.sql\n",
    "# sql_i = \"\"\"\n",
    "# SELECT c1.title, c1.year, c1.rating FROM movie c1 WHERE c1.year = 2000\n",
    "# UNION\n",
    "# SELECT c2.title, c2.year, c2.rating FROM movie c2 WHERE c2.name = 'iwag'\n",
    "# \"\"\"\n",
    "# print(sql_i)\n",
    "print(sqlglot.transpile(sql_i, pretty=True)[0])\n",
    "# res = database.execute(sql_i)\n",
    "# print(res)\n",
    "parsed_i = sqlglot.parse_one(sql_i)\n",
    "ei = extract_all(parsed_i, schema)\n",
    "ei"
   ]
  },
  {
   "cell_type": "code",
   "execution_count": null,
   "metadata": {},
   "outputs": [],
   "source": []
  },
  {
   "cell_type": "code",
   "execution_count": 66,
   "metadata": {},
   "outputs": [
    {
     "data": {
      "text/plain": [
       "dict_keys(['countryregion', 'culture', 'currency', 'countryregioncurrency', 'person', 'businessentitycontact', 'emailaddress', 'employee', 'password', 'personcreditcard', 'productcategory', 'productdescription', 'productmodel', 'productmodelproductdescriptionculture', 'productphoto', 'productsubcategory', 'salesreason', 'salesterritory', 'salesperson', 'salespersonquotahistory', 'salesterritoryhistory', 'scrapreason', 'shift', 'shipmethod', 'specialoffer', 'businessentityaddress', 'salestaxrate', 'store', 'salesorderheadersalesreason', 'transactionhistoryarchive', 'unitmeasure', 'productcosthistory', 'productdocument', 'productinventory', 'productproductphoto', 'productreview', 'shoppingcartitem', 'specialofferproduct', 'salesorderdetail', 'transactionhistory', 'vendor', 'productvendor', 'purchaseorderheader', 'purchaseorderdetail', 'workorder', 'workorderrouting', 'customer', 'productlistpricehistory', 'address', 'addresstype', 'billofmaterials', 'businessentity', 'contacttype', 'currencyrate', 'department', 'employeedepartmenthistory', 'employeepayhistory', 'jobcandidate', 'location', 'phonenumbertype', 'product', 'document', 'stateprovince', 'creditcard', 'salesorderheader'])"
      ]
     },
     "execution_count": 66,
     "metadata": {},
     "output_type": "execute_result"
    }
   ],
   "source": [
    "schema.schema.keys()"
   ]
  },
  {
   "cell_type": "code",
   "execution_count": 107,
   "metadata": {},
   "outputs": [
    {
     "name": "stdout",
     "output_type": "stream",
     "text": [
      "1 SELECT\n",
      "  CASE\n",
      "    WHEN (\n",
      "      T1.SEX = 'F' AND T2.UA > 6.5\n",
      "    ) OR (\n",
      "      T1.SEX = 'M' AND T2.UA > 8.0\n",
      "    )\n",
      "    THEN TRUE\n",
      "    ELSE FALSE\n",
      "  END\n",
      "FROM Patient AS T1\n",
      "INNER JOIN Laboratory AS T2\n",
      "  ON T1.ID = T2.ID\n",
      "WHERE\n",
      "  T1.ID = 57266\n"
     ]
    },
    {
     "data": {
      "text/plain": [
       "{'table': {'t1': 'patient', 't2': 'laboratory'}, 'column': {}}"
      ]
     },
     "execution_count": 107,
     "metadata": {},
     "output_type": "execute_result"
    }
   ],
   "source": [
    "# sql_i = \"SELECT (T1.id) a FROM trains AS T1 INNER JOIN ( SELECT train_id, MAX(position) AS carsNum FROM cars GROUP BY train_id ) AS T2 ON T1.id = T2.train_id WHERE T1.direction = 'east' AND T2.carsNum < 4\"\n",
    "parsed_query = sqlglot.parse_one(sql_i)\n",
    "subqueries = get_subqueries(parsed_query)\n",
    "aliases = extract_aliases(parsed_query)\n",
    "print(len(subqueries), parsed_query.sql(pretty=True))\n",
    "aliases"
   ]
  },
  {
   "cell_type": "code",
   "execution_count": 108,
   "metadata": {},
   "outputs": [
    {
     "data": {
      "text/plain": [
       "{'examination': {'id': 'text',\n",
       "  'examination date': 'text',\n",
       "  'acl igg': 'text',\n",
       "  'acl igm': 'text',\n",
       "  'ana': 'text',\n",
       "  'ana pattern': 'text',\n",
       "  'acl iga': 'text',\n",
       "  'diagnosis': 'text',\n",
       "  'kct': 'text',\n",
       "  'rvvt': 'text',\n",
       "  'lac': 'text',\n",
       "  'symptoms': 'text',\n",
       "  'thrombosis': 'text'},\n",
       " 'patient': {'id': 'integer',\n",
       "  'sex': 'integer',\n",
       "  'birthday': 'integer',\n",
       "  'description': 'integer',\n",
       "  'first date': 'integer',\n",
       "  'admission': 'integer',\n",
       "  'diagnosis': 'integer'},\n",
       " 'laboratory': {'id': 'date',\n",
       "  'date': 'date',\n",
       "  'got': 'date',\n",
       "  'gpt': 'date',\n",
       "  'ldh': 'date',\n",
       "  'alp': 'date',\n",
       "  'tp': 'date',\n",
       "  'alb': 'date',\n",
       "  'ua': 'date',\n",
       "  'un': 'date',\n",
       "  'cre': 'date',\n",
       "  't-bil': 'date',\n",
       "  't-cho': 'date',\n",
       "  'tg': 'date',\n",
       "  'cpk': 'date',\n",
       "  'glu': 'date',\n",
       "  'wbc': 'date',\n",
       "  'rbc': 'date',\n",
       "  'hgb': 'date',\n",
       "  'hct': 'date',\n",
       "  'plt': 'date',\n",
       "  'pt': 'date',\n",
       "  'aptt': 'date',\n",
       "  'fg': 'date',\n",
       "  'pic': 'date',\n",
       "  'tat': 'date',\n",
       "  'tat2': 'date',\n",
       "  'u-pro': 'date',\n",
       "  'igg': 'date',\n",
       "  'iga': 'date',\n",
       "  'igm': 'date',\n",
       "  'crp': 'date',\n",
       "  'ra': 'date',\n",
       "  'rf': 'date',\n",
       "  'c3': 'date',\n",
       "  'c4': 'date',\n",
       "  'rnp': 'date',\n",
       "  'sm': 'date',\n",
       "  'sc170': 'date',\n",
       "  'ssa': 'date',\n",
       "  'ssb': 'date',\n",
       "  'centromea': 'date',\n",
       "  'dna': 'date',\n",
       "  'dna-ii': 'date'}}"
      ]
     },
     "execution_count": 108,
     "metadata": {},
     "output_type": "execute_result"
    }
   ],
   "source": [
    "schema.schema"
   ]
  },
  {
   "cell_type": "code",
   "execution_count": 109,
   "metadata": {},
   "outputs": [
    {
     "ename": "TypeError",
     "evalue": "sequence item 1: expected str instance, NoneType found",
     "output_type": "error",
     "traceback": [
      "\u001b[0;31m---------------------------------------------------------------------------\u001b[0m",
      "\u001b[0;31mTypeError\u001b[0m                                 Traceback (most recent call last)",
      "Cell \u001b[0;32mIn[109], line 2\u001b[0m\n\u001b[1;32m      1\u001b[0m \u001b[38;5;28;01mfor\u001b[39;00m query \u001b[38;5;129;01min\u001b[39;00m subqueries:\n\u001b[0;32m----> 2\u001b[0m     sel_cols, sel_types  \u001b[38;5;241m=\u001b[39m \u001b[43mextract_selection\u001b[49m\u001b[43m(\u001b[49m\u001b[43mquery\u001b[49m\u001b[43m,\u001b[49m\u001b[43m \u001b[49m\u001b[43maliases\u001b[49m\u001b[43m,\u001b[49m\u001b[43m \u001b[49m\u001b[43mschema\u001b[49m\u001b[43m)\u001b[49m\n\u001b[1;32m      3\u001b[0m     conds, op_types \u001b[38;5;241m=\u001b[39m extract_condition(query, aliases, schema)\n\u001b[1;32m      4\u001b[0m     agg_cols, agg_types  \u001b[38;5;241m=\u001b[39m extract_aggregation(query, aliases, schema)\n",
      "File \u001b[0;32m~/code/BusinessObjects/src/parsing_sql.py:316\u001b[0m, in \u001b[0;36mextract_selection\u001b[0;34m(query, aliases, schema)\u001b[0m\n\u001b[1;32m    313\u001b[0m     unique_columns\u001b[38;5;241m.\u001b[39mupdate(columns)\n\u001b[1;32m    315\u001b[0m     tag \u001b[38;5;241m=\u001b[39m _determine_tag(select_exp)\n\u001b[0;32m--> 316\u001b[0m     expr_str, expr \u001b[38;5;241m=\u001b[39m \u001b[43m_format_expression\u001b[49m\u001b[43m(\u001b[49m\u001b[43mselect_exp\u001b[49m\u001b[43m,\u001b[49m\u001b[43m \u001b[49m\u001b[43maliases\u001b[49m\u001b[43m,\u001b[49m\u001b[43m \u001b[49m\u001b[43mschema\u001b[49m\u001b[43m,\u001b[49m\u001b[43m \u001b[49m\u001b[43mremove_alias\u001b[49m\u001b[38;5;241;43m=\u001b[39;49m\u001b[38;5;28;43;01mTrue\u001b[39;49;00m\u001b[43m)\u001b[49m\n\u001b[1;32m    317\u001b[0m     selection_asts\u001b[38;5;241m.\u001b[39madd((expr_str, expr, tag))\n\u001b[1;32m    319\u001b[0m \u001b[38;5;28;01mreturn\u001b[39;00m unique_columns, selection_asts\n",
      "File \u001b[0;32m~/code/BusinessObjects/src/parsing_sql.py:404\u001b[0m, in \u001b[0;36m_format_expression\u001b[0;34m(expr, aliases, schema, anonymize_literal, remove_alias, lower_case)\u001b[0m\n\u001b[1;32m    401\u001b[0m \u001b[38;5;28;01melif\u001b[39;00m \u001b[38;5;28misinstance\u001b[39m(arg_expr, \u001b[38;5;28mlist\u001b[39m):\n\u001b[1;32m    402\u001b[0m     \u001b[38;5;66;03m# handle case: IF, Anonymous Function arguments(e.g., strftime)\u001b[39;00m\n\u001b[1;32m    403\u001b[0m     \u001b[38;5;28;01mfor\u001b[39;00m sub_arg_expr \u001b[38;5;129;01min\u001b[39;00m arg_expr:\n\u001b[0;32m--> 404\u001b[0m         name, new_expr \u001b[38;5;241m=\u001b[39m \u001b[43m_format_expression\u001b[49m\u001b[43m(\u001b[49m\n\u001b[1;32m    405\u001b[0m \u001b[43m            \u001b[49m\u001b[43msub_arg_expr\u001b[49m\u001b[43m,\u001b[49m\u001b[43m \u001b[49m\n\u001b[1;32m    406\u001b[0m \u001b[43m            \u001b[49m\u001b[43maliases\u001b[49m\u001b[43m,\u001b[49m\u001b[43m \u001b[49m\n\u001b[1;32m    407\u001b[0m \u001b[43m            \u001b[49m\u001b[43mschema\u001b[49m\u001b[43m,\u001b[49m\u001b[43m \u001b[49m\n\u001b[1;32m    408\u001b[0m \u001b[43m            \u001b[49m\u001b[43manonymize_literal\u001b[49m\u001b[38;5;241;43m=\u001b[39;49m\u001b[43manonymize_literal\u001b[49m\n\u001b[1;32m    409\u001b[0m \u001b[43m        \u001b[49m\u001b[43m)\u001b[49m\n\u001b[1;32m    410\u001b[0m         sub_arg_expr \u001b[38;5;241m=\u001b[39m new_expr\n\u001b[1;32m    411\u001b[0m         args_list\u001b[38;5;241m.\u001b[39mappend(name)\n",
      "File \u001b[0;32m~/code/BusinessObjects/src/parsing_sql.py:413\u001b[0m, in \u001b[0;36m_format_expression\u001b[0;34m(expr, aliases, schema, anonymize_literal, remove_alias, lower_case)\u001b[0m\n\u001b[1;32m    410\u001b[0m                 sub_arg_expr \u001b[38;5;241m=\u001b[39m new_expr\n\u001b[1;32m    411\u001b[0m                 args_list\u001b[38;5;241m.\u001b[39mappend(name)\n\u001b[0;32m--> 413\u001b[0m     \u001b[38;5;28;01mreturn\u001b[39;00m \u001b[38;5;124mf\u001b[39m\u001b[38;5;124m\"\u001b[39m\u001b[38;5;132;01m{\u001b[39;00mfunc_name\u001b[38;5;132;01m}\u001b[39;00m\u001b[38;5;124m(\u001b[39m\u001b[38;5;132;01m{\u001b[39;00m\u001b[38;5;124m'\u001b[39m\u001b[38;5;124m, \u001b[39m\u001b[38;5;124m'\u001b[39m\u001b[38;5;241m.\u001b[39mjoin(args_list)\u001b[38;5;132;01m}\u001b[39;00m\u001b[38;5;124m)\u001b[39m\u001b[38;5;124m\"\u001b[39m, expr\n\u001b[1;32m    415\u001b[0m \u001b[38;5;28;01mif\u001b[39;00m \u001b[38;5;28misinstance\u001b[39m(expr, exp\u001b[38;5;241m.\u001b[39mDistinct):\n\u001b[1;32m    416\u001b[0m     \u001b[38;5;66;03m# Only one case that appears with Function e.g., COUNT(DISTINCT col)\u001b[39;00m\n\u001b[1;32m    417\u001b[0m     name, new_expr \u001b[38;5;241m=\u001b[39m _format_expression(\n\u001b[1;32m    418\u001b[0m         expr\u001b[38;5;241m.\u001b[39mexpressions[\u001b[38;5;241m0\u001b[39m], \n\u001b[1;32m    419\u001b[0m         aliases, \n\u001b[1;32m    420\u001b[0m         schema, \n\u001b[1;32m    421\u001b[0m         anonymize_literal\u001b[38;5;241m=\u001b[39manonymize_literal\n\u001b[1;32m    422\u001b[0m     )\n",
      "\u001b[0;31mTypeError\u001b[0m: sequence item 1: expected str instance, NoneType found"
     ]
    }
   ],
   "source": [
    "for query in subqueries:\n",
    "    sel_cols, sel_types  = extract_selection(query, aliases, schema)\n",
    "    conds, op_types = extract_condition(query, aliases, schema)\n",
    "    agg_cols, agg_types  = extract_aggregation(query, aliases, schema)\n",
    "    orderby_cols, orderby_asts = extract_otherby(query, aliases, schema)\n",
    "    others = extract_others(query)\n",
    "    # pass"
   ]
  },
  {
   "cell_type": "markdown",
   "metadata": {},
   "source": [
    "Select"
   ]
  },
  {
   "cell_type": "code",
   "execution_count": 113,
   "metadata": {},
   "outputs": [],
   "source": [
    "unique_columns = set()\n",
    "selection_asts = set()\n",
    "\n",
    "for select_exp in query.select():\n",
    "    columns = _extract_columns_from_expression(select_exp, aliases, schema)\n",
    "    unique_columns.update(columns)\n",
    "\n",
    "    tag = _determine_tag(select_exp)\n",
    "    expr_str, expr = _format_expression(select_exp, aliases, schema, remove_alias=True)\n",
    "    selection_asts.add((expr_str, expr, tag))"
   ]
  },
  {
   "cell_type": "code",
   "execution_count": 114,
   "metadata": {},
   "outputs": [
    {
     "name": "stdout",
     "output_type": "stream",
     "text": [
      "CASE WHEN (patient.SEX = 'F' AND laboratory.UA > 6.5) OR (patient.SEX = 'M' AND laboratory.UA > 8.0) THEN TRUE ELSE FALSE END\n"
     ]
    }
   ],
   "source": [
    "print(select_exp)"
   ]
  },
  {
   "cell_type": "code",
   "execution_count": 116,
   "metadata": {},
   "outputs": [
    {
     "data": {
      "text/plain": [
       "\"case(if((__patient.sex__ eq 'F' and __laboratory.ua__ gt 6.5) or (__patient.sex__ eq 'M' and __laboratory.ua__ gt 8.0), TRUE), FALSE)\""
      ]
     },
     "execution_count": 116,
     "metadata": {},
     "output_type": "execute_result"
    }
   ],
   "source": [
    "expr_str"
   ]
  },
  {
   "cell_type": "code",
   "execution_count": 59,
   "metadata": {},
   "outputs": [
    {
     "data": {
      "text/plain": [
       "Window(\n",
       "  this=Count(\n",
       "    this=Column(\n",
       "      this=Identifier(this=ELITEID, quoted=False),\n",
       "      table=Identifier(this=T1, quoted=False)),\n",
       "    big_int=True),\n",
       "  order=Order(\n",
       "    expressions=[\n",
       "      Ordered(\n",
       "        this=Column(\n",
       "          this=Identifier(this=SEASON, quoted=False),\n",
       "          table=Identifier(this=T2, quoted=False)),\n",
       "        nulls_first=True)]),\n",
       "  over=OVER)"
      ]
     },
     "execution_count": 59,
     "metadata": {},
     "output_type": "execute_result"
    }
   ],
   "source": [
    "expr = select_exp  # Div - Binary\n",
    "left_expr = expr.args.get('this')\n",
    "right_expr = expr.args.get('expression')  # problem: Sum\n",
    "expr = right_expr\n",
    "expr"
   ]
  },
  {
   "cell_type": "code",
   "execution_count": 61,
   "metadata": {},
   "outputs": [
    {
     "data": {
      "text/plain": [
       "('count(__playerinfo.eliteid__) over (order by __seasonstatus.season__)',\n",
       " Window(\n",
       "   this=Count(\n",
       "     this=Column(\n",
       "       this=Identifier(this=ELITEID, quoted=False),\n",
       "       table=Identifier(this=playerinfo, quoted=False)),\n",
       "     big_int=True),\n",
       "   order=[\n",
       "     Column(\n",
       "       this=Identifier(this=SEASON, quoted=False),\n",
       "       table=Identifier(this=seasonstatus, quoted=False))],\n",
       "   over=OVER))"
      ]
     },
     "execution_count": 61,
     "metadata": {},
     "output_type": "execute_result"
    }
   ],
   "source": [
    "_format_expression(expr, aliases, schema)"
   ]
  },
  {
   "cell_type": "code",
   "execution_count": 40,
   "metadata": {},
   "outputs": [
    {
     "data": {
      "text/plain": [
       "(sqlglot.expressions.Expression,)"
      ]
     },
     "execution_count": 40,
     "metadata": {},
     "output_type": "execute_result"
    }
   ],
   "source": [
    "type(exp.Ordered()).__bases__"
   ]
  },
  {
   "cell_type": "code",
   "execution_count": 33,
   "metadata": {},
   "outputs": [
    {
     "data": {
      "text/plain": [
       "'over'"
      ]
     },
     "execution_count": 33,
     "metadata": {},
     "output_type": "execute_result"
    }
   ],
   "source": [
    "expr.args['over'].lower()"
   ]
  },
  {
   "cell_type": "code",
   "execution_count": 51,
   "metadata": {},
   "outputs": [],
   "source": [
    "window_name, new_expr = _format_expression(\n",
    "    expr.args.get('this'), \n",
    "    aliases, \n",
    "    schema, \n",
    "    anonymize_literal=True\n",
    ")\n",
    "partitions = expr.args.get('partition_by')\n",
    "\n",
    "if partitions:\n",
    "    partitions_str = []\n",
    "    partitions_expr = []\n",
    "    for partition in partitions:\n",
    "        name, new_expr = _format_expression(\n",
    "            partition, \n",
    "            aliases, \n",
    "            schema, \n",
    "            anonymize_literal=True\n",
    "        )\n",
    "        partitions_str.append(name)\n",
    "        partitions_expr.append(new_expr)\n",
    "    expr.args['partition_by'] = partitions_expr\n",
    "\n",
    "    key = f'(PARTITION BY {\", \".join(partitions_str)})'"
   ]
  },
  {
   "cell_type": "code",
   "execution_count": 52,
   "metadata": {},
   "outputs": [
    {
     "data": {
      "text/plain": [
       "('count(__playerinfo.eliteid__) over (partition by __seasonstatus.season__)',\n",
       " Window(\n",
       "   this=Count(\n",
       "     this=Column(\n",
       "       this=Identifier(this=ELITEID, quoted=False),\n",
       "       table=Identifier(this=playerinfo, quoted=False)),\n",
       "     big_int=True),\n",
       "   partition_by=[\n",
       "     Column(\n",
       "       this=Identifier(this=SEASON, quoted=False),\n",
       "       table=Identifier(this=seasonstatus, quoted=False))],\n",
       "   over=OVER))"
      ]
     },
     "execution_count": 52,
     "metadata": {},
     "output_type": "execute_result"
    }
   ],
   "source": [
    "(f\"{window_name} OVER \" + key).lower(), expr"
   ]
  },
  {
   "cell_type": "code",
   "execution_count": 19,
   "metadata": {},
   "outputs": [
    {
     "data": {
      "text/plain": [
       "(False, (sqlglot.expressions.Condition,))"
      ]
     },
     "execution_count": 19,
     "metadata": {},
     "output_type": "execute_result"
    }
   ],
   "source": [
    "isinstance(right_expr, exp.Func), type(right_expr).__bases__"
   ]
  },
  {
   "cell_type": "code",
   "execution_count": 17,
   "metadata": {},
   "outputs": [
    {
     "data": {
      "text/plain": [
       "(None,\n",
       " Window(\n",
       "   this=Count(\n",
       "     this=Column(\n",
       "       this=Identifier(this=ELITEID, quoted=False),\n",
       "       table=Identifier(this=T1, quoted=False)),\n",
       "     big_int=True),\n",
       "   partition_by=[\n",
       "     Column(\n",
       "       this=Identifier(this=SEASON, quoted=False),\n",
       "       table=Identifier(this=T2, quoted=False))],\n",
       "   over=OVER))"
      ]
     },
     "execution_count": 17,
     "metadata": {},
     "output_type": "execute_result"
    }
   ],
   "source": [
    "_format_expression(right_expr, aliases, schema, remove_alias=True)"
   ]
  },
  {
   "cell_type": "code",
   "execution_count": null,
   "metadata": {},
   "outputs": [],
   "source": []
  },
  {
   "cell_type": "code",
   "execution_count": null,
   "metadata": {},
   "outputs": [],
   "source": []
  },
  {
   "cell_type": "code",
   "execution_count": null,
   "metadata": {},
   "outputs": [],
   "source": []
  },
  {
   "cell_type": "code",
   "execution_count": null,
   "metadata": {},
   "outputs": [],
   "source": []
  },
  {
   "cell_type": "code",
   "execution_count": 224,
   "metadata": {},
   "outputs": [],
   "source": [
    "query = subqueries[0]"
   ]
  },
  {
   "cell_type": "markdown",
   "metadata": {},
   "source": [
    "Where"
   ]
  },
  {
   "cell_type": "code",
   "execution_count": 225,
   "metadata": {},
   "outputs": [],
   "source": [
    "condition_asts = set()\n",
    "operator_types = set()\n",
    "\n",
    "for clause_name in (\"where\", \"having\"):\n",
    "    clause = query.args.get(clause_name)\n",
    "    if clause:\n",
    "        # clause is WHERE or HAVING. We only want the conditions inside.\n",
    "        # clause.this is the actual condition expression (e.g., AND/OR tree).\n",
    "        break\n",
    "        conds = _extract_conditions(\n",
    "            clause.this, aliases, schema, operator_types, anonymize_literal=True\n",
    "        )\n",
    "        if not isinstance(conds, list):\n",
    "            conds = [conds]\n",
    "        condition_asts.update(conds)\n",
    "        assert len(condition_asts) > 0, f\"Failed to extract conditions from {clause_name} clause {len(condition_asts)}\""
   ]
  },
  {
   "cell_type": "code",
   "execution_count": 226,
   "metadata": {},
   "outputs": [
    {
     "data": {
      "text/plain": [
       "{'table': {'matchs': 'matchs'},\n",
       " 'column': {'t1': '(SELECT MAX(MAX(FTAG), MAX(FTHG)) FROM matchs WHERE season = 2021)'}}"
      ]
     },
     "execution_count": 226,
     "metadata": {},
     "output_type": "execute_result"
    }
   ],
   "source": [
    "aliases"
   ]
  },
  {
   "cell_type": "code",
   "execution_count": 222,
   "metadata": {},
   "outputs": [
    {
     "data": {
      "text/plain": [
       "'SELECT ( SELECT MAX(MAX(FTAG), MAX(FTHG)) FROM matchs WHERE season = 2021 ) AS T1, AwayTeam FROM matchs WHERE season = 2021 AND FTHG = T1 OR FTAG = T1'"
      ]
     },
     "execution_count": 222,
     "metadata": {},
     "output_type": "execute_result"
    }
   ],
   "source": [
    "sql_i"
   ]
  },
  {
   "cell_type": "code",
   "execution_count": 227,
   "metadata": {},
   "outputs": [
    {
     "data": {
      "text/plain": [
       "Column(\n",
       "  this=Identifier(this=T1, quoted=False))"
      ]
     },
     "execution_count": 227,
     "metadata": {},
     "output_type": "execute_result"
    }
   ],
   "source": [
    "expr = clause.this\n",
    "left = expr.args.get('this')\n",
    "right = expr.args.get('expression')\n",
    "expr = right.expression\n",
    "expr"
   ]
  },
  {
   "cell_type": "code",
   "execution_count": 232,
   "metadata": {},
   "outputs": [
    {
     "data": {
      "text/plain": [
       "('(SELECT MAX(MAX(FTAG), MAX(FTHG)) FROM matchs WHERE season = 2021)',\n",
       " Column(\n",
       "   this=Subquery(\n",
       "     this=Select(\n",
       "       expressions=[\n",
       "         Max(\n",
       "           this=Max(\n",
       "             this=Column(\n",
       "               this=Identifier(this=FTAG, quoted=False))),\n",
       "           expressions=[\n",
       "             Max(\n",
       "               this=Column(\n",
       "                 this=Identifier(this=FTHG, quoted=False)))])],\n",
       "       from=From(\n",
       "         this=Table(\n",
       "           this=Identifier(this=matchs, quoted=False))),\n",
       "       where=Where(\n",
       "         this=EQ(\n",
       "           this=Column(\n",
       "             this=Identifier(this=season, quoted=False)),\n",
       "           expression=Literal(this=2021, is_string=False)))))))"
      ]
     },
     "execution_count": 232,
     "metadata": {},
     "output_type": "execute_result"
    }
   ],
   "source": [
    "_format_expression(expr, aliases, schema, remove_alias=True, anonymize_literal=True)"
   ]
  },
  {
   "cell_type": "code",
   "execution_count": 230,
   "metadata": {},
   "outputs": [
    {
     "data": {
      "text/plain": [
       "Column(\n",
       "  this=Identifier(this=FTAG, quoted=False))"
      ]
     },
     "execution_count": 230,
     "metadata": {},
     "output_type": "execute_result"
    }
   ],
   "source": [
    "right.args['this']"
   ]
  },
  {
   "cell_type": "code",
   "execution_count": 138,
   "metadata": {},
   "outputs": [
    {
     "data": {
      "text/plain": [
       "Select(\n",
       "  expressions=[\n",
       "    Max(\n",
       "      this=Max(\n",
       "        this=Column(\n",
       "          this=Identifier(this=FTAG, quoted=False))),\n",
       "      expressions=[\n",
       "        Max(\n",
       "          this=Column(\n",
       "            this=Identifier(this=FTHG, quoted=False)))])],\n",
       "  from=From(\n",
       "    this=Table(\n",
       "      this=Identifier(this=matchs, quoted=False))),\n",
       "  where=Where(\n",
       "    this=EQ(\n",
       "      this=Column(\n",
       "        this=Identifier(this=season, quoted=False)),\n",
       "      expression=Literal(this=2021, is_string=False))))"
      ]
     },
     "execution_count": 138,
     "metadata": {},
     "output_type": "execute_result"
    }
   ],
   "source": [
    "sqlglot.parse_one(aliases['column'][column_name].strip('(').strip(')'))"
   ]
  },
  {
   "cell_type": "code",
   "execution_count": 186,
   "metadata": {},
   "outputs": [
    {
     "data": {
      "text/plain": [
       "Column(\n",
       "  this=Subquery(\n",
       "    this=Select(\n",
       "      expressions=[\n",
       "        Max(\n",
       "          this=Max(\n",
       "            this=Column(\n",
       "              this=Identifier(this=FTAG, quoted=False))),\n",
       "          expressions=[\n",
       "            Max(\n",
       "              this=Column(\n",
       "                this=Identifier(this=FTHG, quoted=False)))])],\n",
       "      from=From(\n",
       "        this=Table(\n",
       "          this=Identifier(this=matchs, quoted=False))),\n",
       "      where=Where(\n",
       "        this=EQ(\n",
       "          this=Column(\n",
       "            this=Identifier(this=season, quoted=False)),\n",
       "          expression=Literal(this=2021, is_string=False))))))"
      ]
     },
     "execution_count": 186,
     "metadata": {},
     "output_type": "execute_result"
    }
   ],
   "source": [
    "exp.Column(this=exp.Subquery(this=sqlglot.parse_one(aliases['column'][column_name].strip('(').strip(')'))))"
   ]
  },
  {
   "cell_type": "code",
   "execution_count": 231,
   "metadata": {},
   "outputs": [
    {
     "data": {
      "text/plain": [
       "'(SELECT MAX(MAX(FTAG), MAX(FTHG)) FROM matchs WHERE season = 2021)'"
      ]
     },
     "execution_count": 231,
     "metadata": {},
     "output_type": "execute_result"
    }
   ],
   "source": [
    "name = _get_full_column_name(expr, aliases, schema)\n",
    "name"
   ]
  },
  {
   "cell_type": "code",
   "execution_count": 175,
   "metadata": {},
   "outputs": [],
   "source": [
    "col = right.expression\n",
    "\n",
    "column_name = col.name.lower()\n",
    "if (not schema.check_column_exist(column_name)) and (column_name not in aliases['column']):\n",
    "    assert False, f\"Column {column_name} not found in schema\"\n",
    "\n",
    "# If the column is *, map directly to __all__\n",
    "if column_name == '*':\n",
    "    print(schema.idMap['*'])\n",
    "\n",
    "table_alias = col.table.lower() if col.table else None"
   ]
  },
  {
   "cell_type": "code",
   "execution_count": 176,
   "metadata": {},
   "outputs": [
    {
     "data": {
      "text/plain": [
       "[]"
      ]
     },
     "execution_count": 176,
     "metadata": {},
     "output_type": "execute_result"
    }
   ],
   "source": [
    "possible_tables = [v for v in aliases['table'].values() if 'select' not in v.lower()]\n",
    "real_table_name = schema.get_table_name(column_name, possible_tables)\n",
    "possible_tables = [k for k, v in aliases['table'].items() if 'select' in v.lower()]\n",
    "possible_tables"
   ]
  },
  {
   "cell_type": "code",
   "execution_count": 125,
   "metadata": {},
   "outputs": [
    {
     "data": {
      "text/plain": [
       "{'matchs': 'matchs'}"
      ]
     },
     "execution_count": 125,
     "metadata": {},
     "output_type": "execute_result"
    }
   ],
   "source": [
    "aliases['table']"
   ]
  },
  {
   "cell_type": "code",
   "execution_count": 124,
   "metadata": {},
   "outputs": [
    {
     "data": {
      "text/plain": [
       "[('matchs', 'matchs')]"
      ]
     },
     "execution_count": 124,
     "metadata": {},
     "output_type": "execute_result"
    }
   ],
   "source": [
    "list(aliases['table'].items())"
   ]
  },
  {
   "cell_type": "code",
   "execution_count": 55,
   "metadata": {},
   "outputs": [
    {
     "name": "stdout",
     "output_type": "stream",
     "text": [
      "None\n"
     ]
    },
    {
     "ename": "AssertionError",
     "evalue": "Table not found for column rating_score rating_score",
     "output_type": "error",
     "traceback": [
      "\u001b[0;31m---------------------------------------------------------------------------\u001b[0m",
      "\u001b[0;31mAssertionError\u001b[0m                            Traceback (most recent call last)",
      "Cell \u001b[0;32mIn[55], line 1\u001b[0m\n\u001b[0;32m----> 1\u001b[0m \u001b[43m_format_expression\u001b[49m\u001b[43m(\u001b[49m\u001b[43mright\u001b[49m\u001b[43m,\u001b[49m\u001b[43m \u001b[49m\u001b[43maliases\u001b[49m\u001b[43m,\u001b[49m\u001b[43m \u001b[49m\u001b[43mschema\u001b[49m\u001b[43m,\u001b[49m\u001b[43m  \u001b[49m\u001b[43manonymize_literal\u001b[49m\u001b[38;5;241;43m=\u001b[39;49m\u001b[38;5;28;43;01mTrue\u001b[39;49;00m\u001b[43m)\u001b[49m\n",
      "File \u001b[0;32m~/code/BusinessObjects/src/parsing_sql.py:427\u001b[0m, in \u001b[0;36m_format_expression\u001b[0;34m(expr, aliases, schema, anonymize_literal, remove_alias, lower_case)\u001b[0m\n\u001b[1;32m    424\u001b[0m \u001b[38;5;28;01mif\u001b[39;00m \u001b[38;5;28misinstance\u001b[39m(expr, exp\u001b[38;5;241m.\u001b[39mBinary):\n\u001b[1;32m    425\u001b[0m     \u001b[38;5;66;03m# Binary operators like EQ, LT, GT, Div, Mul etc.\u001b[39;00m\n\u001b[1;32m    426\u001b[0m     left_expr \u001b[38;5;241m=\u001b[39m expr\u001b[38;5;241m.\u001b[39margs\u001b[38;5;241m.\u001b[39mget(\u001b[38;5;124m'\u001b[39m\u001b[38;5;124mthis\u001b[39m\u001b[38;5;124m'\u001b[39m)\n\u001b[0;32m--> 427\u001b[0m     left_name, new_expr \u001b[38;5;241m=\u001b[39m \u001b[43m_format_expression\u001b[49m\u001b[43m(\u001b[49m\u001b[43mleft_expr\u001b[49m\u001b[43m,\u001b[49m\u001b[43m \u001b[49m\u001b[43maliases\u001b[49m\u001b[43m,\u001b[49m\u001b[43m \u001b[49m\u001b[43mschema\u001b[49m\u001b[43m,\u001b[49m\u001b[43m \u001b[49m\u001b[43manonymize_literal\u001b[49m\u001b[38;5;241;43m=\u001b[39;49m\u001b[43manonymize_literal\u001b[49m\u001b[43m)\u001b[49m\n\u001b[1;32m    428\u001b[0m     expr\u001b[38;5;241m.\u001b[39margs[\u001b[38;5;124m'\u001b[39m\u001b[38;5;124mthis\u001b[39m\u001b[38;5;124m'\u001b[39m] \u001b[38;5;241m=\u001b[39m new_expr\n\u001b[1;32m    430\u001b[0m     right_expr \u001b[38;5;241m=\u001b[39m expr\u001b[38;5;241m.\u001b[39margs\u001b[38;5;241m.\u001b[39mget(\u001b[38;5;124m'\u001b[39m\u001b[38;5;124mexpression\u001b[39m\u001b[38;5;124m'\u001b[39m)\n",
      "File \u001b[0;32m~/code/BusinessObjects/src/parsing_sql.py:343\u001b[0m, in \u001b[0;36m_format_expression\u001b[0;34m(expr, aliases, schema, anonymize_literal, remove_alias, lower_case)\u001b[0m\n\u001b[1;32m    334\u001b[0m     \u001b[38;5;28;01mreturn\u001b[39;00m _format_expression(\n\u001b[1;32m    335\u001b[0m         expr\u001b[38;5;241m.\u001b[39mthis, \n\u001b[1;32m    336\u001b[0m         aliases, \n\u001b[0;32m   (...)\u001b[0m\n\u001b[1;32m    339\u001b[0m         anonymize_literal\u001b[38;5;241m=\u001b[39manonymize_literal\n\u001b[1;32m    340\u001b[0m     )\n\u001b[1;32m    342\u001b[0m \u001b[38;5;28;01mif\u001b[39;00m \u001b[38;5;28misinstance\u001b[39m(expr, (exp\u001b[38;5;241m.\u001b[39mColumn, exp\u001b[38;5;241m.\u001b[39mStar)):\n\u001b[0;32m--> 343\u001b[0m     name \u001b[38;5;241m=\u001b[39m \u001b[43m_get_full_column_name\u001b[49m\u001b[43m(\u001b[49m\u001b[43mexpr\u001b[49m\u001b[43m,\u001b[49m\u001b[43m \u001b[49m\u001b[43maliases\u001b[49m\u001b[43m,\u001b[49m\u001b[43m \u001b[49m\u001b[43mschema\u001b[49m\u001b[43m)\u001b[49m\n\u001b[1;32m    344\u001b[0m     \u001b[38;5;66;03m# change expression\u001b[39;00m\n\u001b[1;32m    345\u001b[0m     \u001b[38;5;28;01mif\u001b[39;00m expr\u001b[38;5;241m.\u001b[39margs\u001b[38;5;241m.\u001b[39mget(\u001b[38;5;124m'\u001b[39m\u001b[38;5;124mtable\u001b[39m\u001b[38;5;124m'\u001b[39m) \u001b[38;5;129;01mand\u001b[39;00m expr\u001b[38;5;241m.\u001b[39mtable\u001b[38;5;241m.\u001b[39mlower() \u001b[38;5;129;01min\u001b[39;00m aliases[\u001b[38;5;124m'\u001b[39m\u001b[38;5;124mtable\u001b[39m\u001b[38;5;124m'\u001b[39m]:\n\u001b[1;32m    346\u001b[0m         \u001b[38;5;66;03m# 1st condition: check if there is table\u001b[39;00m\n\u001b[1;32m    347\u001b[0m         \u001b[38;5;66;03m# 2nd condition: check alias table\u001b[39;00m\n",
      "File \u001b[0;32m~/code/BusinessObjects/src/parsing_sql.py:568\u001b[0m, in \u001b[0;36m_get_full_column_name\u001b[0;34m(col, aliases, schema)\u001b[0m\n\u001b[1;32m    565\u001b[0m                 \u001b[38;5;28;01mbreak\u001b[39;00m\n\u001b[1;32m    567\u001b[0m     \u001b[38;5;28;01mif\u001b[39;00m \u001b[38;5;129;01mnot\u001b[39;00m real_table_name:\n\u001b[0;32m--> 568\u001b[0m         \u001b[38;5;28;01massert\u001b[39;00m \u001b[38;5;28;01mFalse\u001b[39;00m, \u001b[38;5;124mf\u001b[39m\u001b[38;5;124m\"\u001b[39m\u001b[38;5;124mTable not found for column \u001b[39m\u001b[38;5;132;01m{\u001b[39;00mcol\u001b[38;5;132;01m}\u001b[39;00m\u001b[38;5;124m \u001b[39m\u001b[38;5;132;01m{\u001b[39;00mcolumn_name\u001b[38;5;132;01m}\u001b[39;00m\u001b[38;5;124m\"\u001b[39m\n\u001b[1;32m    569\u001b[0m     \u001b[38;5;66;03m# if column_name in aliases['column']:\u001b[39;00m\n\u001b[1;32m    570\u001b[0m     \u001b[38;5;66;03m#     original_table_name = aliases['column'][column_name].split('.')[0].lower()\u001b[39;00m\n\u001b[1;32m    571\u001b[0m     \u001b[38;5;66;03m#     real_table_name = aliases['table'][original_table_name]\u001b[39;00m\n\u001b[1;32m    572\u001b[0m     \u001b[38;5;66;03m# else:\u001b[39;00m\n\u001b[1;32m    573\u001b[0m     \u001b[38;5;66;03m#     possible_tables = list(aliases['table'].values())\u001b[39;00m\n\u001b[1;32m    574\u001b[0m     \u001b[38;5;66;03m#     real_table_name = schema.get_table_name(column_name, possible_tables)\u001b[39;00m\n\u001b[1;32m    576\u001b[0m \u001b[38;5;28;01mif\u001b[39;00m real_table_name:\n",
      "\u001b[0;31mAssertionError\u001b[0m: Table not found for column rating_score rating_score"
     ]
    }
   ],
   "source": [
    "_format_expression(right, aliases, schema,  anonymize_literal=True)"
   ]
  },
  {
   "cell_type": "code",
   "execution_count": 42,
   "metadata": {},
   "outputs": [
    {
     "data": {
      "text/plain": [
       "('__ratings_users.user_id__',\n",
       " Column(\n",
       "   this=Identifier(this=user_id, quoted=False),\n",
       "   table=Identifier(this=ratings_users, quoted=False)))"
      ]
     },
     "execution_count": 42,
     "metadata": {},
     "output_type": "execute_result"
    }
   ],
   "source": [
    "_extract_conditions(\n",
    "    left, aliases, schema, operator_types, anonymize_literal=True\n",
    ")"
   ]
  },
  {
   "cell_type": "code",
   "execution_count": 40,
   "metadata": {},
   "outputs": [
    {
     "data": {
      "text/plain": [
       "{'user_id': 'text',\n",
       " 'list_id': 'text',\n",
       " 'list_update_date_utc': 'text',\n",
       " 'list_creation_date_utc': 'text',\n",
       " 'user_trialist': 'text',\n",
       " 'user_subscriber': 'text',\n",
       " 'user_avatar_image_url': 'text',\n",
       " 'user_cover_image_url': 'text',\n",
       " 'user_eligible_for_trial': 'text',\n",
       " 'user_has_payment_method': 'text'}"
      ]
     },
     "execution_count": 40,
     "metadata": {},
     "output_type": "execute_result"
    }
   ],
   "source": [
    "schema.schema[possible_tables[0]]"
   ]
  },
  {
   "cell_type": "code",
   "execution_count": 30,
   "metadata": {},
   "outputs": [
    {
     "data": {
      "text/plain": [
       "'__list_title__'"
      ]
     },
     "execution_count": 30,
     "metadata": {},
     "output_type": "execute_result"
    }
   ],
   "source": [
    "name = _get_full_column_name(left, aliases, schema)\n",
    "name"
   ]
  },
  {
   "cell_type": "code",
   "execution_count": 179,
   "metadata": {},
   "outputs": [
    {
     "data": {
      "text/plain": [
       "('__user_reviews.app__',\n",
       " Column(\n",
       "   this=Identifier(this=App, quoted=False),\n",
       "   table=Identifier(this=user_reviews, quoted=False)))"
      ]
     },
     "execution_count": 179,
     "metadata": {},
     "output_type": "execute_result"
    }
   ],
   "source": [
    "_format_expression(left, aliases, schema, remove_alias=True, anonymize_literal=False)"
   ]
  },
  {
   "cell_type": "code",
   "execution_count": 176,
   "metadata": {},
   "outputs": [
    {
     "data": {
      "text/plain": [
       "True"
      ]
     },
     "execution_count": 176,
     "metadata": {},
     "output_type": "execute_result"
    }
   ],
   "source": [
    "'user_reviews' in schema.schema"
   ]
  },
  {
   "cell_type": "code",
   "execution_count": 171,
   "metadata": {},
   "outputs": [],
   "source": [
    "left.args.get('table') and left.table.lower() in aliases['table']"
   ]
  },
  {
   "cell_type": "code",
   "execution_count": 26,
   "metadata": {},
   "outputs": [],
   "source": [
    "unique_columns = set()\n",
    "otherby_asts = set()\n",
    "order = query.args.get('order')\n",
    "for order_expr in order.expressions:\n",
    "    # ordered_expr.this is the actual expression being ordered\n",
    "    columns = _extract_columns_from_expression(order_expr.this, aliases, schema)\n",
    "    unique_columns.update(columns)\n",
    "\n",
    "    tag = _determine_tag(order_expr)\n",
    "    expr_str, expr = _format_expression(order_expr.this, aliases, schema, remove_alias=True, anonymize_literal=False)\n",
    "    otherby_asts.add((expr_str, expr, tag))\n"
   ]
  },
  {
   "cell_type": "code",
   "execution_count": 27,
   "metadata": {},
   "outputs": [
    {
     "data": {
      "text/plain": [
       "{('count(__movies.movie_title__)',\n",
       "  Count(\n",
       "    this=Column(\n",
       "      this=Identifier(this=movie_title, quoted=False)),\n",
       "    big_int=True),\n",
       "  '<f>')}"
      ]
     },
     "execution_count": 27,
     "metadata": {},
     "output_type": "execute_result"
    }
   ],
   "source": [
    "otherby_asts"
   ]
  },
  {
   "cell_type": "code",
   "execution_count": 25,
   "metadata": {},
   "outputs": [
    {
     "data": {
      "text/plain": [
       "True"
      ]
     },
     "execution_count": 25,
     "metadata": {},
     "output_type": "execute_result"
    }
   ],
   "source": [
    "isinstance(expr.this, exp.Expression)"
   ]
  },
  {
   "cell_type": "code",
   "execution_count": 278,
   "metadata": {},
   "outputs": [],
   "source": [
    "conditions = set()\n",
    "operator_types = set()\n",
    "\n",
    "for clause_name in (\"where\", \"having\"):\n",
    "    clause = query.args.get(clause_name)\n",
    "    if clause:\n",
    "        # clause is WHERE or HAVING. We only want the conditions inside.\n",
    "        # clause.this is the actual condition expression (e.g., AND/OR tree).\n",
    "        # conds = _extract_conditions(\n",
    "        #     clause.this, aliases, schema, operator_types\n",
    "        # )\n",
    "        # conditions.update(conds)\n",
    "        break"
   ]
  },
  {
   "cell_type": "code",
   "execution_count": 273,
   "metadata": {},
   "outputs": [],
   "source": [
    "expr = clause.this\n",
    "\n",
    "conditions = []\n",
    "left = expr.args.get('this')\n",
    "right = expr.args.get('expression')\n",
    "# if left:\n",
    "#     left_cond = _extract_conditions(left, aliases, schema, operator_types)\n",
    "#     if isinstance(left_cond, str):\n",
    "#         left_cond = [left_cond]\n",
    "#     conditions.extend(left_cond)\n",
    "# if right:\n",
    "#     right_cond = _extract_conditions(right, aliases, schema, operator_types)\n",
    "#     if isinstance(right_cond, str):\n",
    "#         right_cond = [right_cond]\n",
    "#     conditions.extend(right_cond)"
   ]
  },
  {
   "cell_type": "code",
   "execution_count": 282,
   "metadata": {},
   "outputs": [
    {
     "data": {
      "text/plain": [
       "('cast(substring(__ratings.rating_timestamp_utc__, [placeholder-type:numeric], [placeholder-type:numeric]), int) eq [placeholder-type:numeric]',\n",
       " EQ(\n",
       "   this=Cast(\n",
       "     this=Substring(\n",
       "       this=Column(\n",
       "         this=Identifier(this=rating_timestamp_utc, quoted=False),\n",
       "         table=Identifier(this=ratings, quoted=False)),\n",
       "       start=Literal(this=[placeholder-type:numeric], is_string=False),\n",
       "       length=Literal(this=[placeholder-type:numeric], is_string=False)),\n",
       "     to=DataType(this=Type.INT, nested=False)),\n",
       "   expression=Literal(this=[placeholder-type:numeric], is_string=False)))"
      ]
     },
     "execution_count": 282,
     "metadata": {},
     "output_type": "execute_result"
    }
   ],
   "source": [
    "_extract_conditions(clause.this, aliases, schema, operator_types, anonymize_literal=True)"
   ]
  },
  {
   "cell_type": "code",
   "execution_count": 258,
   "metadata": {},
   "outputs": [
    {
     "data": {
      "text/plain": [
       "('cast(substring(__ratings.rating_timestamp_utc__, [PLACEHOLDER-TYPE:NUMERIC], [PLACEHOLDER-TYPE:NUMERIC]), int) eq [PLACEHOLDER-TYPE:NUMERIC]',\n",
       " EQ(\n",
       "   this=Cast(\n",
       "     this=Substring(\n",
       "       this=Column(\n",
       "         this=Identifier(this=rating_timestamp_utc, quoted=False),\n",
       "         table=Identifier(this=ratings, quoted=False)),\n",
       "       start=Literal(this=[PLACEHOLDER-TYPE:NUMERIC], is_string=False),\n",
       "       length=Literal(this=[PLACEHOLDER-TYPE:NUMERIC], is_string=False)),\n",
       "     to=DataType(this=Type.INT, nested=False)),\n",
       "   expression=Literal(this=[PLACEHOLDER-TYPE:NUMERIC], is_string=False)))"
      ]
     },
     "execution_count": 258,
     "metadata": {},
     "output_type": "execute_result"
    }
   ],
   "source": [
    "left_cond, new_expr = _format_expression(left.this, aliases, schema, remove_alias=True, anonymize_literal=True)\n",
    "left_cond, new_expr"
   ]
  },
  {
   "cell_type": "code",
   "execution_count": 242,
   "metadata": {},
   "outputs": [
    {
     "data": {
      "text/plain": [
       "EQ(\n",
       "  this=Cast(\n",
       "    this=Substring(\n",
       "      this=Column(\n",
       "        this=Identifier(this=rating_timestamp_utc, quoted=False),\n",
       "        table=Identifier(this=ratings, quoted=False)),\n",
       "      start=Literal(this=[PLACEHOLDER-TYPE:NUMERIC], is_string=False),\n",
       "      length=Literal(this=[PLACEHOLDER-TYPE:NUMERIC], is_string=False)),\n",
       "    to=DataType(this=Type.INT, nested=False)),\n",
       "  expression=Literal(this=2020, is_string=False))"
      ]
     },
     "execution_count": 242,
     "metadata": {},
     "output_type": "execute_result"
    }
   ],
   "source": [
    "new_expr"
   ]
  },
  {
   "cell_type": "code",
   "execution_count": 65,
   "metadata": {},
   "outputs": [
    {
     "name": "stdout",
     "output_type": "stream",
     "text": [
      "SUM(ratings.rating_score)\n",
      "movies.movie_title\n"
     ]
    }
   ],
   "source": [
    "sql1 = list(sel_types)[0][1]\n",
    "sql2 = list(sel_types)[2][1]\n",
    "print(sql1)\n",
    "print(sql2)"
   ]
  },
  {
   "cell_type": "code",
   "execution_count": null,
   "metadata": {},
   "outputs": [
    {
     "name": "stdout",
     "output_type": "stream",
     "text": [
      "Remove(expression=Literal(this=1, is_string=False))\n",
      "Insert(expression=Literal(this=2, is_string=False))\n",
      "Insert(expression=Column(\n",
      "  this=Identifier(this=c2, quoted=False)))\n",
      "Move(expression=Literal(this=2, is_string=False))\n"
     ]
    },
    {
     "data": {
      "text/plain": [
       "defaultdict(int,\n",
       "            {sqlglot.diff.Remove: 1,\n",
       "             sqlglot.diff.Insert: 2,\n",
       "             sqlglot.diff.Keep: 11,\n",
       "             sqlglot.diff.Move: 1})"
      ]
     },
     "execution_count": 7,
     "metadata": {},
     "output_type": "execute_result"
    }
   ],
   "source": [
    "from src.eval_utils import compute_tsed\n",
    "# from collections import defaultdict\n",
    "# from sqlglot.diff import _get_leaves, _is_same_type\n",
    "\n",
    "sql1 = sqlglot.parse_one(\"SELECT c1 FROM t1 WHERE a = 1 AND b = 2\")\n",
    "sql2 = sqlglot.parse_one(\"SELECT c1,c2 FROM t1 WHERE a = 2 AND b = 2\")\n",
    "\n",
    "sql_i"
   ]
  },
  {
   "cell_type": "code",
   "execution_count": 43,
   "metadata": {},
   "outputs": [
    {
     "name": "stdout",
     "output_type": "stream",
     "text": [
      "TSED: 0.0182, Distance: 54\n"
     ]
    }
   ],
   "source": [
    "from zss import simple_distance, Node\n",
    "from sqlglot import expressions as exp\n",
    "from apted import APTED\n",
    "from apted.helpers import Tree\n",
    "\n",
    "def build_tree(ast_node: exp.Query, build_type: str):\n",
    "    \"\"\"Build a tree from an AST node.\n",
    "    \n",
    "    Args:\n",
    "        ast_node (exp.Expression): The root AST node.\n",
    "        build_type (str): The type of tree to build (zss or apted).\n",
    "    \"\"\"\n",
    "    tree_node, node_count = _build_tree(ast_node, build_type)\n",
    "    if build_type == 'apted':\n",
    "        tree_node = Tree.from_text(tree_node + '}')\n",
    "    return tree_node, node_count\n",
    "\n",
    "def _build_tree(ast_node: exp.Query, build_type: str):\n",
    "    tree_node = _build_node(ast_node, build_type)\n",
    "    node_count = 1\n",
    "    # Recursively add children and count nodes\n",
    "    for child in ast_node.args.values():\n",
    "        if isinstance(child, exp.Expression):\n",
    "            child_node, child_count = _build_tree(child, build_type)\n",
    "            tree_node = _add_child(child_node, tree_node, build_type)\n",
    "            node_count += child_count\n",
    "        elif isinstance(child, list):\n",
    "            for sub_child in child:\n",
    "                if isinstance(sub_child, exp.Expression):\n",
    "                    sub_child_node, sub_child_count = _build_tree(sub_child, build_type)\n",
    "                    tree_node = _add_child(sub_child_node, tree_node, build_type)\n",
    "                    node_count += sub_child_count\n",
    "    return tree_node, node_count\n",
    "\n",
    "def _build_node(ast_node: exp.Expression, build_type: str):\n",
    "    node_name = f'{ast_node.key}({str(ast_node)})'\n",
    "    if build_type == 'zss':\n",
    "        return Node(node_name)\n",
    "    elif build_type == 'apted':\n",
    "        return '{' + node_name\n",
    "    else:\n",
    "        raise ValueError(f\"Invalid build type: {build_type} (zss or apted)\")\n",
    "    \n",
    "def _add_child(child_node: exp.Expression|str, parent_node: Node|str, build_type: str):\n",
    "    if build_type == 'zss':\n",
    "        parent_node.addkid(child_node)\n",
    "    elif build_type == 'apted':\n",
    "        parent_node += child_node + '}'\n",
    "    else:\n",
    "        raise ValueError(f\"Invalid build type: {build_type} (zss or apted)\")\n",
    "    return parent_node\n",
    "\n",
    "def stringify_zsstree(node, level=0):\n",
    "    result = \"  \" * level + node.label + \"\\n\"\n",
    "    for child in node.children:\n",
    "        result += stringify_zsstree(child, level + 1)\n",
    "    return result\n",
    "\n",
    "def compute_tsed(sql1, sql2, build_type='zss'):\n",
    "    tree1, node_count1 = build_tree(sql1, build_type)\n",
    "    tree2, node_count2 = build_tree(sql2, build_type)\n",
    "    if build_type == 'zss':\n",
    "        distance = simple_distance(tree1, tree2)\n",
    "    elif build_type == 'apted':\n",
    "        distance = APTED(tree1, tree2).compute_edit_distance()\n",
    "    tsed = max(1-distance/max(node_count1,node_count2), 0)\n",
    "    return tsed, distance\n",
    "    \n",
    "build_type = 'apted' # zss or apted\n",
    "# sql1 = sqlglot.parse_one(\"SELECT c1 FROM t1 WHERE a = 1 AND b = 2\")\n",
    "# sql2 = sqlglot.parse_one(\"SELECT c1,c2 FROM t1 WHERE a = 2 AND b = 2\")\n",
    "sql1 = sqlglot.parse_one(sql_i)\n",
    "sql2 = sqlglot.parse_one(\"SELECT c1 FROM t1 WHERE a = 1 AND b = 2\")\n",
    "tsed, distance = compute_tsed(sql1, sql2, build_type)\n",
    "print(f'TSED: {tsed:.4f}, Distance: {distance}')"
   ]
  },
  {
   "cell_type": "code",
   "execution_count": 66,
   "metadata": {},
   "outputs": [
    {
     "name": "stdout",
     "output_type": "stream",
     "text": [
      "Move(expression=Literal(this=2, is_string=False))\n"
     ]
    }
   ],
   "source": [
    "for diff in d:\n",
    "    if isinstance(diff, Move):\n",
    "        print(diff)"
   ]
  },
  {
   "cell_type": "code",
   "execution_count": 56,
   "metadata": {},
   "outputs": [
    {
     "data": {
      "text/plain": [
       "'cast(substring(__ratings.rating_timestamp_utc__)) eq 2020'"
      ]
     },
     "execution_count": 56,
     "metadata": {},
     "output_type": "execute_result"
    }
   ],
   "source": [
    "_extract_conditions(left, aliases, schema, operator_types)"
   ]
  },
  {
   "cell_type": "code",
   "execution_count": 102,
   "metadata": {},
   "outputs": [
    {
     "name": "stdout",
     "output_type": "stream",
     "text": [
      "CASE WHEN 'Studio Entertainment[NI 1]' > 'Disney Media Networks' THEN 'Studio Entertainment[NI 1]' ELSE 'Disney Media Networks' END\n"
     ]
    }
   ],
   "source": [
    "unique_columns = set()\n",
    "selection_types = set()\n",
    "\n",
    "for select_exp in query.select():\n",
    "    print(select_exp)\n",
    "    columns_in_item = _extract_columns_from_expression(select_exp, aliases, schema)\n",
    "    unique_columns.update(columns_in_item)\n",
    "\n",
    "    tag = _determine_tag(select_exp)\n",
    "    expr_str = _format_expression(select_exp, aliases, schema, remove_alias=True)\n",
    "    selection_types.add((expr_str, tag))"
   ]
  },
  {
   "cell_type": "code",
   "execution_count": 110,
   "metadata": {},
   "outputs": [
    {
     "data": {
      "text/plain": [
       "set()"
      ]
     },
     "execution_count": 110,
     "metadata": {},
     "output_type": "execute_result"
    }
   ],
   "source": [
    "_extract_columns_from_expression(select_exp, aliases, schema)"
   ]
  },
  {
   "cell_type": "code",
   "execution_count": 114,
   "metadata": {},
   "outputs": [
    {
     "data": {
      "text/plain": [
       "Case(\n",
       "  ifs=[\n",
       "    If(\n",
       "      this=GT(\n",
       "        this=Literal(this=Studio Entertainment[NI 1], is_string=True),\n",
       "        expression=Literal(this=Disney Media Networks, is_string=True)),\n",
       "      true=Literal(this=Studio Entertainment[NI 1], is_string=True))],\n",
       "  default=Literal(this=Disney Media Networks, is_string=True))"
      ]
     },
     "execution_count": 114,
     "metadata": {},
     "output_type": "execute_result"
    }
   ],
   "source": [
    "select_exp"
   ]
  },
  {
   "cell_type": "code",
   "execution_count": 113,
   "metadata": {},
   "outputs": [
    {
     "data": {
      "text/plain": [
       "(sqlglot.expressions.Func,)"
      ]
     },
     "execution_count": 113,
     "metadata": {},
     "output_type": "execute_result"
    }
   ],
   "source": [
    "type(select_exp).__bases__"
   ]
  },
  {
   "cell_type": "code",
   "execution_count": 112,
   "metadata": {},
   "outputs": [
    {
     "data": {
      "text/plain": [
       "0"
      ]
     },
     "execution_count": 112,
     "metadata": {},
     "output_type": "execute_result"
    }
   ],
   "source": [
    "len(list(select_exp.find_all(exp.Column, exp.Star)))"
   ]
  },
  {
   "cell_type": "code",
   "execution_count": 111,
   "metadata": {},
   "outputs": [
    {
     "data": {
      "text/plain": [
       "Column(\n",
       "  this=Identifier(this=Complaint ID, quoted=True))"
      ]
     },
     "execution_count": 111,
     "metadata": {},
     "output_type": "execute_result"
    }
   ],
   "source": [
    "for col in select_exp.find_all(exp.Column, exp.Star):\n",
    "    break\n",
    "\n",
    "col"
   ]
  },
  {
   "cell_type": "code",
   "execution_count": 108,
   "metadata": {},
   "outputs": [
    {
     "data": {
      "text/plain": [
       "Column(\n",
       "  this=Identifier(this=Complaint ID, quoted=True))"
      ]
     },
     "execution_count": 108,
     "metadata": {},
     "output_type": "execute_result"
    }
   ],
   "source": [
    "col"
   ]
  },
  {
   "cell_type": "code",
   "execution_count": 62,
   "metadata": {},
   "outputs": [
    {
     "data": {
      "text/plain": [
       "'__complaint id__'"
      ]
     },
     "execution_count": 62,
     "metadata": {},
     "output_type": "execute_result"
    }
   ],
   "source": [
    "_get_full_column_name(col, aliases, schema)"
   ]
  },
  {
   "cell_type": "code",
   "execution_count": 65,
   "metadata": {},
   "outputs": [
    {
     "data": {
      "text/plain": [
       "{'state': {'StateCode': 'text', 'State': 'text', 'Region': 'text'},\n",
       " 'callcenterlogs': {'Date received': 'text',\n",
       "  'Complaint ID': 'text',\n",
       "  'rand client': 'text',\n",
       "  'phonefinal': 'text',\n",
       "  'vru+line': 'text',\n",
       "  'call_id': 'text',\n",
       "  'priority': 'text',\n",
       "  'type': 'text',\n",
       "  'outcome': 'text',\n",
       "  'server': 'text',\n",
       "  'ser_start': 'text',\n",
       "  'ser_exit': 'text',\n",
       "  'ser_time': 'text'},\n",
       " 'client': {'client_id': 'text',\n",
       "  'sex': 'text',\n",
       "  'day': 'text',\n",
       "  'month': 'text',\n",
       "  'year': 'text',\n",
       "  'age': 'text',\n",
       "  'social': 'text',\n",
       "  'first': 'text',\n",
       "  'middle': 'text',\n",
       "  'last': 'text',\n",
       "  'phone': 'text',\n",
       "  'email': 'text',\n",
       "  'address_1': 'text',\n",
       "  'address_2': 'text',\n",
       "  'city': 'text',\n",
       "  'state': 'text',\n",
       "  'zipcode': 'text',\n",
       "  'district_id': 'text'},\n",
       " 'district': {'district_id': 'text',\n",
       "  'city': 'text',\n",
       "  'state_abbrev': 'text',\n",
       "  'division': 'text'},\n",
       " 'events': {'Date received': 'date',\n",
       "  'Product': 'date',\n",
       "  'Sub-product': 'date',\n",
       "  'Issue': 'date',\n",
       "  'Sub-issue': 'date',\n",
       "  'Consumer complaint narrative': 'date',\n",
       "  'Tags': 'date',\n",
       "  'Consumer consent provided?': 'date',\n",
       "  'Submitted via': 'date',\n",
       "  'Date sent to company': 'date',\n",
       "  'Company response to consumer': 'date',\n",
       "  'Timely response?': 'date',\n",
       "  'Consumer disputed?': 'date',\n",
       "  'Complaint ID': 'date',\n",
       "  'Client_ID': 'date'},\n",
       " 'reviews': {'Date': 'text',\n",
       "  'Stars': 'text',\n",
       "  'Reviews': 'text',\n",
       "  'Product': 'text',\n",
       "  'district_id': 'text'}}"
      ]
     },
     "execution_count": 65,
     "metadata": {},
     "output_type": "execute_result"
    }
   ],
   "source": [
    "schema.schema"
   ]
  },
  {
   "cell_type": "code",
   "execution_count": 30,
   "metadata": {},
   "outputs": [
    {
     "data": {
      "text/html": [
       "<div>\n",
       "<style scoped>\n",
       "    .dataframe tbody tr th:only-of-type {\n",
       "        vertical-align: middle;\n",
       "    }\n",
       "\n",
       "    .dataframe tbody tr th {\n",
       "        vertical-align: top;\n",
       "    }\n",
       "\n",
       "    .dataframe thead th {\n",
       "        text-align: right;\n",
       "    }\n",
       "</style>\n",
       "<table border=\"1\" class=\"dataframe\">\n",
       "  <thead>\n",
       "    <tr style=\"text-align: right;\">\n",
       "      <th></th>\n",
       "      <th>Complaint ID</th>\n",
       "    </tr>\n",
       "  </thead>\n",
       "  <tbody>\n",
       "    <tr>\n",
       "      <th>0</th>\n",
       "      <td>CR0656522</td>\n",
       "    </tr>\n",
       "  </tbody>\n",
       "</table>\n",
       "</div>"
      ],
      "text/plain": [
       "  Complaint ID\n",
       "0    CR0656522"
      ]
     },
     "execution_count": 30,
     "metadata": {},
     "output_type": "execute_result"
    }
   ],
   "source": [
    "database.execute('''\n",
    "SELECT `Complaint ID` FROM callcenterlogs WHERE `Complaint ID` = \"CR0656522\" ORDER BY ser_time DESC LIMIT 3\n",
    "''')"
   ]
  },
  {
   "cell_type": "code",
   "execution_count": 31,
   "metadata": {},
   "outputs": [
    {
     "data": {
      "text/plain": [
       "Select(\n",
       "  expressions=[\n",
       "    Column(\n",
       "      this=Identifier(this=Complaint ID, quoted=True))],\n",
       "  limit=Limit(\n",
       "    expression=Literal(this=3, is_string=False)),\n",
       "  from=From(\n",
       "    this=Table(\n",
       "      this=Identifier(this=callcenterlogs, quoted=False))),\n",
       "  where=Where(\n",
       "    this=EQ(\n",
       "      this=Column(\n",
       "        this=Identifier(this=Complaint ID, quoted=True)),\n",
       "      expression=Column(\n",
       "        this=Identifier(this=CR0656522, quoted=True)))),\n",
       "  order=Order(\n",
       "    expressions=[\n",
       "      Ordered(\n",
       "        this=Column(\n",
       "          this=Identifier(this=ser_time, quoted=False)),\n",
       "        desc=True,\n",
       "        nulls_first=False)]))"
      ]
     },
     "execution_count": 31,
     "metadata": {},
     "output_type": "execute_result"
    }
   ],
   "source": [
    "sqlglot.parse_one('''\n",
    "SELECT \"Complaint ID\" FROM callcenterlogs WHERE \"Complaint ID\" = \"CR0656522\" ORDER BY ser_time DESC LIMIT 3\n",
    "''')"
   ]
  },
  {
   "cell_type": "code",
   "execution_count": null,
   "metadata": {},
   "outputs": [],
   "source": []
  },
  {
   "cell_type": "code",
   "execution_count": null,
   "metadata": {},
   "outputs": [],
   "source": []
  },
  {
   "cell_type": "code",
   "execution_count": null,
   "metadata": {},
   "outputs": [],
   "source": []
  },
  {
   "cell_type": "code",
   "execution_count": null,
   "metadata": {},
   "outputs": [],
   "source": []
  },
  {
   "cell_type": "code",
   "execution_count": null,
   "metadata": {},
   "outputs": [],
   "source": []
  },
  {
   "cell_type": "code",
   "execution_count": 43,
   "metadata": {},
   "outputs": [],
   "source": [
    "from langchain_openai import ChatOpenAI\n",
    "from langchain_core.documents import Document\n",
    "from langchain_core.runnables import RunnableSequence\n",
    "from langchain_community.vectorstores import FAISS\n",
    "from langchain_community.vectorstores.utils import DistanceStrategy\n",
    "from langchain_openai.embeddings import OpenAIEmbeddings\n",
    "from langchain_core.prompts import PromptTemplate\n",
    "from langchain_core.output_parsers import JsonOutputParser\n",
    "from src.pymodels import SQLResponse\n",
    "   \n",
    "prompt = PromptTemplate(\n",
    "    template=Prompts.zero_shot_inference_bird,\n",
    "    input_variables=['schema', 'input_query', 'evidence']\n",
    ")\n",
    "model_name = 'gpt-4o-mini'\n",
    "model_openai = ChatOpenAI(\n",
    "    model=model_name,\n",
    "    temperature=0.0,\n",
    "    logprobs=True,\n",
    "    top_logprobs=5\n",
    ")\n",
    "\n",
    "# model = model_openai.with_structured_output(SQLResponse, include_raw=True)\n",
    "chain = (prompt | model_openai)"
   ]
  },
  {
   "cell_type": "code",
   "execution_count": null,
   "metadata": {},
   "outputs": [
    {
     "name": "stderr",
     "output_type": "stream",
     "text": [
      "Processing movie_platform - 8:   0%|          | 8/8731 [00:41<12:42:35,  5.25s/it]\n"
     ]
    },
    {
     "ename": "KeyboardInterrupt",
     "evalue": "",
     "output_type": "error",
     "traceback": [
      "\u001b[0;31m---------------------------------------------------------------------------\u001b[0m",
      "\u001b[0;31mKeyboardInterrupt\u001b[0m                         Traceback (most recent call last)",
      "Cell \u001b[0;32mIn[84], line 17\u001b[0m\n\u001b[1;32m     10\u001b[0m iterator\u001b[38;5;241m.\u001b[39mset_description(\u001b[38;5;124mf\u001b[39m\u001b[38;5;124m\"\u001b[39m\u001b[38;5;124mProcessing \u001b[39m\u001b[38;5;132;01m{\u001b[39;00mdb_id\u001b[38;5;132;01m}\u001b[39;00m\u001b[38;5;124m - \u001b[39m\u001b[38;5;132;01m{\u001b[39;00msample\u001b[38;5;241m.\u001b[39msample_id\u001b[38;5;132;01m}\u001b[39;00m\u001b[38;5;124m\"\u001b[39m)\n\u001b[1;32m     11\u001b[0m schema \u001b[38;5;241m=\u001b[39m get_schema_str(\n\u001b[1;32m     12\u001b[0m     schema\u001b[38;5;241m=\u001b[39mbird_tables[db_id]\u001b[38;5;241m.\u001b[39mdb_schema,\n\u001b[1;32m     13\u001b[0m     foreign_keys\u001b[38;5;241m=\u001b[39mbird_tables[db_id]\u001b[38;5;241m.\u001b[39mforeign_keys,\n\u001b[1;32m     14\u001b[0m     primary_keys\u001b[38;5;241m=\u001b[39mbird_tables[db_id]\u001b[38;5;241m.\u001b[39mprimary_keys,\n\u001b[1;32m     15\u001b[0m     col_explanation\u001b[38;5;241m=\u001b[39mall_descriptions[db_id]    \n\u001b[1;32m     16\u001b[0m )\n\u001b[0;32m---> 17\u001b[0m output \u001b[38;5;241m=\u001b[39m \u001b[43mchain\u001b[49m\u001b[38;5;241;43m.\u001b[39;49m\u001b[43minvoke\u001b[49m\u001b[43m(\u001b[49m\u001b[38;5;28;43minput\u001b[39;49m\u001b[38;5;241;43m=\u001b[39;49m\u001b[43m{\u001b[49m\n\u001b[1;32m     18\u001b[0m \u001b[43m    \u001b[49m\u001b[38;5;124;43m'\u001b[39;49m\u001b[38;5;124;43mschema\u001b[39;49m\u001b[38;5;124;43m'\u001b[39;49m\u001b[43m:\u001b[49m\u001b[43m \u001b[49m\u001b[43mschema\u001b[49m\u001b[43m,\u001b[49m\n\u001b[1;32m     19\u001b[0m \u001b[43m    \u001b[49m\u001b[38;5;124;43m'\u001b[39;49m\u001b[38;5;124;43minput_query\u001b[39;49m\u001b[38;5;124;43m'\u001b[39;49m\u001b[43m:\u001b[49m\u001b[43m \u001b[49m\u001b[43msample\u001b[49m\u001b[38;5;241;43m.\u001b[39;49m\u001b[43mfinal\u001b[49m\u001b[38;5;241;43m.\u001b[39;49m\u001b[43mquestion\u001b[49m\u001b[43m,\u001b[49m\n\u001b[1;32m     20\u001b[0m \u001b[43m    \u001b[49m\u001b[38;5;124;43m'\u001b[39;49m\u001b[38;5;124;43mevidence\u001b[39;49m\u001b[38;5;124;43m'\u001b[39;49m\u001b[43m:\u001b[49m\u001b[43m \u001b[49m\u001b[43msample\u001b[49m\u001b[38;5;241;43m.\u001b[39;49m\u001b[43mevidence\u001b[49m\n\u001b[1;32m     21\u001b[0m \u001b[43m\u001b[49m\u001b[43m}\u001b[49m\u001b[43m)\u001b[49m\n\u001b[1;32m     22\u001b[0m o \u001b[38;5;241m=\u001b[39m SQLResponse(\u001b[38;5;241m*\u001b[39m\u001b[38;5;241m*\u001b[39mjson\u001b[38;5;241m.\u001b[39mloads(output\u001b[38;5;241m.\u001b[39mcontent))\n\u001b[1;32m     23\u001b[0m usage \u001b[38;5;241m=\u001b[39m output\u001b[38;5;241m.\u001b[39musage_metadata\n",
      "File \u001b[0;32m~/code/BusinessObjects/.venv/lib/python3.11/site-packages/langchain_core/runnables/base.py:3022\u001b[0m, in \u001b[0;36mRunnableSequence.invoke\u001b[0;34m(self, input, config, **kwargs)\u001b[0m\n\u001b[1;32m   3020\u001b[0m             \u001b[38;5;28minput\u001b[39m \u001b[38;5;241m=\u001b[39m context\u001b[38;5;241m.\u001b[39mrun(step\u001b[38;5;241m.\u001b[39minvoke, \u001b[38;5;28minput\u001b[39m, config, \u001b[38;5;241m*\u001b[39m\u001b[38;5;241m*\u001b[39mkwargs)\n\u001b[1;32m   3021\u001b[0m         \u001b[38;5;28;01melse\u001b[39;00m:\n\u001b[0;32m-> 3022\u001b[0m             \u001b[38;5;28minput\u001b[39m \u001b[38;5;241m=\u001b[39m context\u001b[38;5;241m.\u001b[39mrun(step\u001b[38;5;241m.\u001b[39minvoke, \u001b[38;5;28minput\u001b[39m, config)\n\u001b[1;32m   3023\u001b[0m \u001b[38;5;66;03m# finish the root run\u001b[39;00m\n\u001b[1;32m   3024\u001b[0m \u001b[38;5;28;01mexcept\u001b[39;00m \u001b[38;5;167;01mBaseException\u001b[39;00m \u001b[38;5;28;01mas\u001b[39;00m e:\n",
      "File \u001b[0;32m~/code/BusinessObjects/.venv/lib/python3.11/site-packages/langchain_core/language_models/chat_models.py:284\u001b[0m, in \u001b[0;36mBaseChatModel.invoke\u001b[0;34m(self, input, config, stop, **kwargs)\u001b[0m\n\u001b[1;32m    273\u001b[0m \u001b[38;5;28;01mdef\u001b[39;00m \u001b[38;5;21minvoke\u001b[39m(\n\u001b[1;32m    274\u001b[0m     \u001b[38;5;28mself\u001b[39m,\n\u001b[1;32m    275\u001b[0m     \u001b[38;5;28minput\u001b[39m: LanguageModelInput,\n\u001b[0;32m   (...)\u001b[0m\n\u001b[1;32m    279\u001b[0m     \u001b[38;5;241m*\u001b[39m\u001b[38;5;241m*\u001b[39mkwargs: Any,\n\u001b[1;32m    280\u001b[0m ) \u001b[38;5;241m-\u001b[39m\u001b[38;5;241m>\u001b[39m BaseMessage:\n\u001b[1;32m    281\u001b[0m     config \u001b[38;5;241m=\u001b[39m ensure_config(config)\n\u001b[1;32m    282\u001b[0m     \u001b[38;5;28;01mreturn\u001b[39;00m cast(\n\u001b[1;32m    283\u001b[0m         ChatGeneration,\n\u001b[0;32m--> 284\u001b[0m         \u001b[38;5;28;43mself\u001b[39;49m\u001b[38;5;241;43m.\u001b[39;49m\u001b[43mgenerate_prompt\u001b[49m\u001b[43m(\u001b[49m\n\u001b[1;32m    285\u001b[0m \u001b[43m            \u001b[49m\u001b[43m[\u001b[49m\u001b[38;5;28;43mself\u001b[39;49m\u001b[38;5;241;43m.\u001b[39;49m\u001b[43m_convert_input\u001b[49m\u001b[43m(\u001b[49m\u001b[38;5;28;43minput\u001b[39;49m\u001b[43m)\u001b[49m\u001b[43m]\u001b[49m\u001b[43m,\u001b[49m\n\u001b[1;32m    286\u001b[0m \u001b[43m            \u001b[49m\u001b[43mstop\u001b[49m\u001b[38;5;241;43m=\u001b[39;49m\u001b[43mstop\u001b[49m\u001b[43m,\u001b[49m\n\u001b[1;32m    287\u001b[0m \u001b[43m            \u001b[49m\u001b[43mcallbacks\u001b[49m\u001b[38;5;241;43m=\u001b[39;49m\u001b[43mconfig\u001b[49m\u001b[38;5;241;43m.\u001b[39;49m\u001b[43mget\u001b[49m\u001b[43m(\u001b[49m\u001b[38;5;124;43m\"\u001b[39;49m\u001b[38;5;124;43mcallbacks\u001b[39;49m\u001b[38;5;124;43m\"\u001b[39;49m\u001b[43m)\u001b[49m\u001b[43m,\u001b[49m\n\u001b[1;32m    288\u001b[0m \u001b[43m            \u001b[49m\u001b[43mtags\u001b[49m\u001b[38;5;241;43m=\u001b[39;49m\u001b[43mconfig\u001b[49m\u001b[38;5;241;43m.\u001b[39;49m\u001b[43mget\u001b[49m\u001b[43m(\u001b[49m\u001b[38;5;124;43m\"\u001b[39;49m\u001b[38;5;124;43mtags\u001b[39;49m\u001b[38;5;124;43m\"\u001b[39;49m\u001b[43m)\u001b[49m\u001b[43m,\u001b[49m\n\u001b[1;32m    289\u001b[0m \u001b[43m            \u001b[49m\u001b[43mmetadata\u001b[49m\u001b[38;5;241;43m=\u001b[39;49m\u001b[43mconfig\u001b[49m\u001b[38;5;241;43m.\u001b[39;49m\u001b[43mget\u001b[49m\u001b[43m(\u001b[49m\u001b[38;5;124;43m\"\u001b[39;49m\u001b[38;5;124;43mmetadata\u001b[39;49m\u001b[38;5;124;43m\"\u001b[39;49m\u001b[43m)\u001b[49m\u001b[43m,\u001b[49m\n\u001b[1;32m    290\u001b[0m \u001b[43m            \u001b[49m\u001b[43mrun_name\u001b[49m\u001b[38;5;241;43m=\u001b[39;49m\u001b[43mconfig\u001b[49m\u001b[38;5;241;43m.\u001b[39;49m\u001b[43mget\u001b[49m\u001b[43m(\u001b[49m\u001b[38;5;124;43m\"\u001b[39;49m\u001b[38;5;124;43mrun_name\u001b[39;49m\u001b[38;5;124;43m\"\u001b[39;49m\u001b[43m)\u001b[49m\u001b[43m,\u001b[49m\n\u001b[1;32m    291\u001b[0m \u001b[43m            \u001b[49m\u001b[43mrun_id\u001b[49m\u001b[38;5;241;43m=\u001b[39;49m\u001b[43mconfig\u001b[49m\u001b[38;5;241;43m.\u001b[39;49m\u001b[43mpop\u001b[49m\u001b[43m(\u001b[49m\u001b[38;5;124;43m\"\u001b[39;49m\u001b[38;5;124;43mrun_id\u001b[39;49m\u001b[38;5;124;43m\"\u001b[39;49m\u001b[43m,\u001b[49m\u001b[43m \u001b[49m\u001b[38;5;28;43;01mNone\u001b[39;49;00m\u001b[43m)\u001b[49m\u001b[43m,\u001b[49m\n\u001b[1;32m    292\u001b[0m \u001b[43m            \u001b[49m\u001b[38;5;241;43m*\u001b[39;49m\u001b[38;5;241;43m*\u001b[39;49m\u001b[43mkwargs\u001b[49m\u001b[43m,\u001b[49m\n\u001b[1;32m    293\u001b[0m \u001b[43m        \u001b[49m\u001b[43m)\u001b[49m\u001b[38;5;241m.\u001b[39mgenerations[\u001b[38;5;241m0\u001b[39m][\u001b[38;5;241m0\u001b[39m],\n\u001b[1;32m    294\u001b[0m     )\u001b[38;5;241m.\u001b[39mmessage\n",
      "File \u001b[0;32m~/code/BusinessObjects/.venv/lib/python3.11/site-packages/langchain_core/language_models/chat_models.py:784\u001b[0m, in \u001b[0;36mBaseChatModel.generate_prompt\u001b[0;34m(self, prompts, stop, callbacks, **kwargs)\u001b[0m\n\u001b[1;32m    776\u001b[0m \u001b[38;5;28;01mdef\u001b[39;00m \u001b[38;5;21mgenerate_prompt\u001b[39m(\n\u001b[1;32m    777\u001b[0m     \u001b[38;5;28mself\u001b[39m,\n\u001b[1;32m    778\u001b[0m     prompts: \u001b[38;5;28mlist\u001b[39m[PromptValue],\n\u001b[0;32m   (...)\u001b[0m\n\u001b[1;32m    781\u001b[0m     \u001b[38;5;241m*\u001b[39m\u001b[38;5;241m*\u001b[39mkwargs: Any,\n\u001b[1;32m    782\u001b[0m ) \u001b[38;5;241m-\u001b[39m\u001b[38;5;241m>\u001b[39m LLMResult:\n\u001b[1;32m    783\u001b[0m     prompt_messages \u001b[38;5;241m=\u001b[39m [p\u001b[38;5;241m.\u001b[39mto_messages() \u001b[38;5;28;01mfor\u001b[39;00m p \u001b[38;5;129;01min\u001b[39;00m prompts]\n\u001b[0;32m--> 784\u001b[0m     \u001b[38;5;28;01mreturn\u001b[39;00m \u001b[38;5;28;43mself\u001b[39;49m\u001b[38;5;241;43m.\u001b[39;49m\u001b[43mgenerate\u001b[49m\u001b[43m(\u001b[49m\u001b[43mprompt_messages\u001b[49m\u001b[43m,\u001b[49m\u001b[43m \u001b[49m\u001b[43mstop\u001b[49m\u001b[38;5;241;43m=\u001b[39;49m\u001b[43mstop\u001b[49m\u001b[43m,\u001b[49m\u001b[43m \u001b[49m\u001b[43mcallbacks\u001b[49m\u001b[38;5;241;43m=\u001b[39;49m\u001b[43mcallbacks\u001b[49m\u001b[43m,\u001b[49m\u001b[43m \u001b[49m\u001b[38;5;241;43m*\u001b[39;49m\u001b[38;5;241;43m*\u001b[39;49m\u001b[43mkwargs\u001b[49m\u001b[43m)\u001b[49m\n",
      "File \u001b[0;32m~/code/BusinessObjects/.venv/lib/python3.11/site-packages/langchain_core/language_models/chat_models.py:641\u001b[0m, in \u001b[0;36mBaseChatModel.generate\u001b[0;34m(self, messages, stop, callbacks, tags, metadata, run_name, run_id, **kwargs)\u001b[0m\n\u001b[1;32m    639\u001b[0m         \u001b[38;5;28;01mif\u001b[39;00m run_managers:\n\u001b[1;32m    640\u001b[0m             run_managers[i]\u001b[38;5;241m.\u001b[39mon_llm_error(e, response\u001b[38;5;241m=\u001b[39mLLMResult(generations\u001b[38;5;241m=\u001b[39m[]))\n\u001b[0;32m--> 641\u001b[0m         \u001b[38;5;28;01mraise\u001b[39;00m e\n\u001b[1;32m    642\u001b[0m flattened_outputs \u001b[38;5;241m=\u001b[39m [\n\u001b[1;32m    643\u001b[0m     LLMResult(generations\u001b[38;5;241m=\u001b[39m[res\u001b[38;5;241m.\u001b[39mgenerations], llm_output\u001b[38;5;241m=\u001b[39mres\u001b[38;5;241m.\u001b[39mllm_output)  \u001b[38;5;66;03m# type: ignore[list-item]\u001b[39;00m\n\u001b[1;32m    644\u001b[0m     \u001b[38;5;28;01mfor\u001b[39;00m res \u001b[38;5;129;01min\u001b[39;00m results\n\u001b[1;32m    645\u001b[0m ]\n\u001b[1;32m    646\u001b[0m llm_output \u001b[38;5;241m=\u001b[39m \u001b[38;5;28mself\u001b[39m\u001b[38;5;241m.\u001b[39m_combine_llm_outputs([res\u001b[38;5;241m.\u001b[39mllm_output \u001b[38;5;28;01mfor\u001b[39;00m res \u001b[38;5;129;01min\u001b[39;00m results])\n",
      "File \u001b[0;32m~/code/BusinessObjects/.venv/lib/python3.11/site-packages/langchain_core/language_models/chat_models.py:631\u001b[0m, in \u001b[0;36mBaseChatModel.generate\u001b[0;34m(self, messages, stop, callbacks, tags, metadata, run_name, run_id, **kwargs)\u001b[0m\n\u001b[1;32m    628\u001b[0m \u001b[38;5;28;01mfor\u001b[39;00m i, m \u001b[38;5;129;01min\u001b[39;00m \u001b[38;5;28menumerate\u001b[39m(messages):\n\u001b[1;32m    629\u001b[0m     \u001b[38;5;28;01mtry\u001b[39;00m:\n\u001b[1;32m    630\u001b[0m         results\u001b[38;5;241m.\u001b[39mappend(\n\u001b[0;32m--> 631\u001b[0m             \u001b[38;5;28;43mself\u001b[39;49m\u001b[38;5;241;43m.\u001b[39;49m\u001b[43m_generate_with_cache\u001b[49m\u001b[43m(\u001b[49m\n\u001b[1;32m    632\u001b[0m \u001b[43m                \u001b[49m\u001b[43mm\u001b[49m\u001b[43m,\u001b[49m\n\u001b[1;32m    633\u001b[0m \u001b[43m                \u001b[49m\u001b[43mstop\u001b[49m\u001b[38;5;241;43m=\u001b[39;49m\u001b[43mstop\u001b[49m\u001b[43m,\u001b[49m\n\u001b[1;32m    634\u001b[0m \u001b[43m                \u001b[49m\u001b[43mrun_manager\u001b[49m\u001b[38;5;241;43m=\u001b[39;49m\u001b[43mrun_managers\u001b[49m\u001b[43m[\u001b[49m\u001b[43mi\u001b[49m\u001b[43m]\u001b[49m\u001b[43m \u001b[49m\u001b[38;5;28;43;01mif\u001b[39;49;00m\u001b[43m \u001b[49m\u001b[43mrun_managers\u001b[49m\u001b[43m \u001b[49m\u001b[38;5;28;43;01melse\u001b[39;49;00m\u001b[43m \u001b[49m\u001b[38;5;28;43;01mNone\u001b[39;49;00m\u001b[43m,\u001b[49m\n\u001b[1;32m    635\u001b[0m \u001b[43m                \u001b[49m\u001b[38;5;241;43m*\u001b[39;49m\u001b[38;5;241;43m*\u001b[39;49m\u001b[43mkwargs\u001b[49m\u001b[43m,\u001b[49m\n\u001b[1;32m    636\u001b[0m \u001b[43m            \u001b[49m\u001b[43m)\u001b[49m\n\u001b[1;32m    637\u001b[0m         )\n\u001b[1;32m    638\u001b[0m     \u001b[38;5;28;01mexcept\u001b[39;00m \u001b[38;5;167;01mBaseException\u001b[39;00m \u001b[38;5;28;01mas\u001b[39;00m e:\n\u001b[1;32m    639\u001b[0m         \u001b[38;5;28;01mif\u001b[39;00m run_managers:\n",
      "File \u001b[0;32m~/code/BusinessObjects/.venv/lib/python3.11/site-packages/langchain_core/language_models/chat_models.py:853\u001b[0m, in \u001b[0;36mBaseChatModel._generate_with_cache\u001b[0;34m(self, messages, stop, run_manager, **kwargs)\u001b[0m\n\u001b[1;32m    851\u001b[0m \u001b[38;5;28;01melse\u001b[39;00m:\n\u001b[1;32m    852\u001b[0m     \u001b[38;5;28;01mif\u001b[39;00m inspect\u001b[38;5;241m.\u001b[39msignature(\u001b[38;5;28mself\u001b[39m\u001b[38;5;241m.\u001b[39m_generate)\u001b[38;5;241m.\u001b[39mparameters\u001b[38;5;241m.\u001b[39mget(\u001b[38;5;124m\"\u001b[39m\u001b[38;5;124mrun_manager\u001b[39m\u001b[38;5;124m\"\u001b[39m):\n\u001b[0;32m--> 853\u001b[0m         result \u001b[38;5;241m=\u001b[39m \u001b[38;5;28;43mself\u001b[39;49m\u001b[38;5;241;43m.\u001b[39;49m\u001b[43m_generate\u001b[49m\u001b[43m(\u001b[49m\n\u001b[1;32m    854\u001b[0m \u001b[43m            \u001b[49m\u001b[43mmessages\u001b[49m\u001b[43m,\u001b[49m\u001b[43m \u001b[49m\u001b[43mstop\u001b[49m\u001b[38;5;241;43m=\u001b[39;49m\u001b[43mstop\u001b[49m\u001b[43m,\u001b[49m\u001b[43m \u001b[49m\u001b[43mrun_manager\u001b[49m\u001b[38;5;241;43m=\u001b[39;49m\u001b[43mrun_manager\u001b[49m\u001b[43m,\u001b[49m\u001b[43m \u001b[49m\u001b[38;5;241;43m*\u001b[39;49m\u001b[38;5;241;43m*\u001b[39;49m\u001b[43mkwargs\u001b[49m\n\u001b[1;32m    855\u001b[0m \u001b[43m        \u001b[49m\u001b[43m)\u001b[49m\n\u001b[1;32m    856\u001b[0m     \u001b[38;5;28;01melse\u001b[39;00m:\n\u001b[1;32m    857\u001b[0m         result \u001b[38;5;241m=\u001b[39m \u001b[38;5;28mself\u001b[39m\u001b[38;5;241m.\u001b[39m_generate(messages, stop\u001b[38;5;241m=\u001b[39mstop, \u001b[38;5;241m*\u001b[39m\u001b[38;5;241m*\u001b[39mkwargs)\n",
      "File \u001b[0;32m~/code/BusinessObjects/.venv/lib/python3.11/site-packages/langchain_openai/chat_models/base.py:688\u001b[0m, in \u001b[0;36mBaseChatOpenAI._generate\u001b[0;34m(self, messages, stop, run_manager, **kwargs)\u001b[0m\n\u001b[1;32m    686\u001b[0m     generation_info \u001b[38;5;241m=\u001b[39m {\u001b[38;5;124m\"\u001b[39m\u001b[38;5;124mheaders\u001b[39m\u001b[38;5;124m\"\u001b[39m: \u001b[38;5;28mdict\u001b[39m(raw_response\u001b[38;5;241m.\u001b[39mheaders)}\n\u001b[1;32m    687\u001b[0m \u001b[38;5;28;01melse\u001b[39;00m:\n\u001b[0;32m--> 688\u001b[0m     response \u001b[38;5;241m=\u001b[39m \u001b[38;5;28;43mself\u001b[39;49m\u001b[38;5;241;43m.\u001b[39;49m\u001b[43mclient\u001b[49m\u001b[38;5;241;43m.\u001b[39;49m\u001b[43mcreate\u001b[49m\u001b[43m(\u001b[49m\u001b[38;5;241;43m*\u001b[39;49m\u001b[38;5;241;43m*\u001b[39;49m\u001b[43mpayload\u001b[49m\u001b[43m)\u001b[49m\n\u001b[1;32m    689\u001b[0m \u001b[38;5;28;01mreturn\u001b[39;00m \u001b[38;5;28mself\u001b[39m\u001b[38;5;241m.\u001b[39m_create_chat_result(response, generation_info)\n",
      "File \u001b[0;32m~/code/BusinessObjects/.venv/lib/python3.11/site-packages/openai/_utils/_utils.py:275\u001b[0m, in \u001b[0;36mrequired_args.<locals>.inner.<locals>.wrapper\u001b[0;34m(*args, **kwargs)\u001b[0m\n\u001b[1;32m    273\u001b[0m             msg \u001b[38;5;241m=\u001b[39m \u001b[38;5;124mf\u001b[39m\u001b[38;5;124m\"\u001b[39m\u001b[38;5;124mMissing required argument: \u001b[39m\u001b[38;5;132;01m{\u001b[39;00mquote(missing[\u001b[38;5;241m0\u001b[39m])\u001b[38;5;132;01m}\u001b[39;00m\u001b[38;5;124m\"\u001b[39m\n\u001b[1;32m    274\u001b[0m     \u001b[38;5;28;01mraise\u001b[39;00m \u001b[38;5;167;01mTypeError\u001b[39;00m(msg)\n\u001b[0;32m--> 275\u001b[0m \u001b[38;5;28;01mreturn\u001b[39;00m \u001b[43mfunc\u001b[49m\u001b[43m(\u001b[49m\u001b[38;5;241;43m*\u001b[39;49m\u001b[43margs\u001b[49m\u001b[43m,\u001b[49m\u001b[43m \u001b[49m\u001b[38;5;241;43m*\u001b[39;49m\u001b[38;5;241;43m*\u001b[39;49m\u001b[43mkwargs\u001b[49m\u001b[43m)\u001b[49m\n",
      "File \u001b[0;32m~/code/BusinessObjects/.venv/lib/python3.11/site-packages/openai/resources/chat/completions.py:829\u001b[0m, in \u001b[0;36mCompletions.create\u001b[0;34m(self, messages, model, audio, frequency_penalty, function_call, functions, logit_bias, logprobs, max_completion_tokens, max_tokens, metadata, modalities, n, parallel_tool_calls, prediction, presence_penalty, response_format, seed, service_tier, stop, store, stream, stream_options, temperature, tool_choice, tools, top_logprobs, top_p, user, extra_headers, extra_query, extra_body, timeout)\u001b[0m\n\u001b[1;32m    788\u001b[0m \u001b[38;5;129m@required_args\u001b[39m([\u001b[38;5;124m\"\u001b[39m\u001b[38;5;124mmessages\u001b[39m\u001b[38;5;124m\"\u001b[39m, \u001b[38;5;124m\"\u001b[39m\u001b[38;5;124mmodel\u001b[39m\u001b[38;5;124m\"\u001b[39m], [\u001b[38;5;124m\"\u001b[39m\u001b[38;5;124mmessages\u001b[39m\u001b[38;5;124m\"\u001b[39m, \u001b[38;5;124m\"\u001b[39m\u001b[38;5;124mmodel\u001b[39m\u001b[38;5;124m\"\u001b[39m, \u001b[38;5;124m\"\u001b[39m\u001b[38;5;124mstream\u001b[39m\u001b[38;5;124m\"\u001b[39m])\n\u001b[1;32m    789\u001b[0m \u001b[38;5;28;01mdef\u001b[39;00m \u001b[38;5;21mcreate\u001b[39m(\n\u001b[1;32m    790\u001b[0m     \u001b[38;5;28mself\u001b[39m,\n\u001b[0;32m   (...)\u001b[0m\n\u001b[1;32m    826\u001b[0m     timeout: \u001b[38;5;28mfloat\u001b[39m \u001b[38;5;241m|\u001b[39m httpx\u001b[38;5;241m.\u001b[39mTimeout \u001b[38;5;241m|\u001b[39m \u001b[38;5;28;01mNone\u001b[39;00m \u001b[38;5;241m|\u001b[39m NotGiven \u001b[38;5;241m=\u001b[39m NOT_GIVEN,\n\u001b[1;32m    827\u001b[0m ) \u001b[38;5;241m-\u001b[39m\u001b[38;5;241m>\u001b[39m ChatCompletion \u001b[38;5;241m|\u001b[39m Stream[ChatCompletionChunk]:\n\u001b[1;32m    828\u001b[0m     validate_response_format(response_format)\n\u001b[0;32m--> 829\u001b[0m     \u001b[38;5;28;01mreturn\u001b[39;00m \u001b[38;5;28;43mself\u001b[39;49m\u001b[38;5;241;43m.\u001b[39;49m\u001b[43m_post\u001b[49m\u001b[43m(\u001b[49m\n\u001b[1;32m    830\u001b[0m \u001b[43m        \u001b[49m\u001b[38;5;124;43m\"\u001b[39;49m\u001b[38;5;124;43m/chat/completions\u001b[39;49m\u001b[38;5;124;43m\"\u001b[39;49m\u001b[43m,\u001b[49m\n\u001b[1;32m    831\u001b[0m \u001b[43m        \u001b[49m\u001b[43mbody\u001b[49m\u001b[38;5;241;43m=\u001b[39;49m\u001b[43mmaybe_transform\u001b[49m\u001b[43m(\u001b[49m\n\u001b[1;32m    832\u001b[0m \u001b[43m            \u001b[49m\u001b[43m{\u001b[49m\n\u001b[1;32m    833\u001b[0m \u001b[43m                \u001b[49m\u001b[38;5;124;43m\"\u001b[39;49m\u001b[38;5;124;43mmessages\u001b[39;49m\u001b[38;5;124;43m\"\u001b[39;49m\u001b[43m:\u001b[49m\u001b[43m \u001b[49m\u001b[43mmessages\u001b[49m\u001b[43m,\u001b[49m\n\u001b[1;32m    834\u001b[0m \u001b[43m                \u001b[49m\u001b[38;5;124;43m\"\u001b[39;49m\u001b[38;5;124;43mmodel\u001b[39;49m\u001b[38;5;124;43m\"\u001b[39;49m\u001b[43m:\u001b[49m\u001b[43m \u001b[49m\u001b[43mmodel\u001b[49m\u001b[43m,\u001b[49m\n\u001b[1;32m    835\u001b[0m \u001b[43m                \u001b[49m\u001b[38;5;124;43m\"\u001b[39;49m\u001b[38;5;124;43maudio\u001b[39;49m\u001b[38;5;124;43m\"\u001b[39;49m\u001b[43m:\u001b[49m\u001b[43m \u001b[49m\u001b[43maudio\u001b[49m\u001b[43m,\u001b[49m\n\u001b[1;32m    836\u001b[0m \u001b[43m                \u001b[49m\u001b[38;5;124;43m\"\u001b[39;49m\u001b[38;5;124;43mfrequency_penalty\u001b[39;49m\u001b[38;5;124;43m\"\u001b[39;49m\u001b[43m:\u001b[49m\u001b[43m \u001b[49m\u001b[43mfrequency_penalty\u001b[49m\u001b[43m,\u001b[49m\n\u001b[1;32m    837\u001b[0m \u001b[43m                \u001b[49m\u001b[38;5;124;43m\"\u001b[39;49m\u001b[38;5;124;43mfunction_call\u001b[39;49m\u001b[38;5;124;43m\"\u001b[39;49m\u001b[43m:\u001b[49m\u001b[43m \u001b[49m\u001b[43mfunction_call\u001b[49m\u001b[43m,\u001b[49m\n\u001b[1;32m    838\u001b[0m \u001b[43m                \u001b[49m\u001b[38;5;124;43m\"\u001b[39;49m\u001b[38;5;124;43mfunctions\u001b[39;49m\u001b[38;5;124;43m\"\u001b[39;49m\u001b[43m:\u001b[49m\u001b[43m \u001b[49m\u001b[43mfunctions\u001b[49m\u001b[43m,\u001b[49m\n\u001b[1;32m    839\u001b[0m \u001b[43m                \u001b[49m\u001b[38;5;124;43m\"\u001b[39;49m\u001b[38;5;124;43mlogit_bias\u001b[39;49m\u001b[38;5;124;43m\"\u001b[39;49m\u001b[43m:\u001b[49m\u001b[43m \u001b[49m\u001b[43mlogit_bias\u001b[49m\u001b[43m,\u001b[49m\n\u001b[1;32m    840\u001b[0m \u001b[43m                \u001b[49m\u001b[38;5;124;43m\"\u001b[39;49m\u001b[38;5;124;43mlogprobs\u001b[39;49m\u001b[38;5;124;43m\"\u001b[39;49m\u001b[43m:\u001b[49m\u001b[43m \u001b[49m\u001b[43mlogprobs\u001b[49m\u001b[43m,\u001b[49m\n\u001b[1;32m    841\u001b[0m \u001b[43m                \u001b[49m\u001b[38;5;124;43m\"\u001b[39;49m\u001b[38;5;124;43mmax_completion_tokens\u001b[39;49m\u001b[38;5;124;43m\"\u001b[39;49m\u001b[43m:\u001b[49m\u001b[43m \u001b[49m\u001b[43mmax_completion_tokens\u001b[49m\u001b[43m,\u001b[49m\n\u001b[1;32m    842\u001b[0m \u001b[43m                \u001b[49m\u001b[38;5;124;43m\"\u001b[39;49m\u001b[38;5;124;43mmax_tokens\u001b[39;49m\u001b[38;5;124;43m\"\u001b[39;49m\u001b[43m:\u001b[49m\u001b[43m \u001b[49m\u001b[43mmax_tokens\u001b[49m\u001b[43m,\u001b[49m\n\u001b[1;32m    843\u001b[0m \u001b[43m                \u001b[49m\u001b[38;5;124;43m\"\u001b[39;49m\u001b[38;5;124;43mmetadata\u001b[39;49m\u001b[38;5;124;43m\"\u001b[39;49m\u001b[43m:\u001b[49m\u001b[43m \u001b[49m\u001b[43mmetadata\u001b[49m\u001b[43m,\u001b[49m\n\u001b[1;32m    844\u001b[0m \u001b[43m                \u001b[49m\u001b[38;5;124;43m\"\u001b[39;49m\u001b[38;5;124;43mmodalities\u001b[39;49m\u001b[38;5;124;43m\"\u001b[39;49m\u001b[43m:\u001b[49m\u001b[43m \u001b[49m\u001b[43mmodalities\u001b[49m\u001b[43m,\u001b[49m\n\u001b[1;32m    845\u001b[0m \u001b[43m                \u001b[49m\u001b[38;5;124;43m\"\u001b[39;49m\u001b[38;5;124;43mn\u001b[39;49m\u001b[38;5;124;43m\"\u001b[39;49m\u001b[43m:\u001b[49m\u001b[43m \u001b[49m\u001b[43mn\u001b[49m\u001b[43m,\u001b[49m\n\u001b[1;32m    846\u001b[0m \u001b[43m                \u001b[49m\u001b[38;5;124;43m\"\u001b[39;49m\u001b[38;5;124;43mparallel_tool_calls\u001b[39;49m\u001b[38;5;124;43m\"\u001b[39;49m\u001b[43m:\u001b[49m\u001b[43m \u001b[49m\u001b[43mparallel_tool_calls\u001b[49m\u001b[43m,\u001b[49m\n\u001b[1;32m    847\u001b[0m \u001b[43m                \u001b[49m\u001b[38;5;124;43m\"\u001b[39;49m\u001b[38;5;124;43mprediction\u001b[39;49m\u001b[38;5;124;43m\"\u001b[39;49m\u001b[43m:\u001b[49m\u001b[43m \u001b[49m\u001b[43mprediction\u001b[49m\u001b[43m,\u001b[49m\n\u001b[1;32m    848\u001b[0m \u001b[43m                \u001b[49m\u001b[38;5;124;43m\"\u001b[39;49m\u001b[38;5;124;43mpresence_penalty\u001b[39;49m\u001b[38;5;124;43m\"\u001b[39;49m\u001b[43m:\u001b[49m\u001b[43m \u001b[49m\u001b[43mpresence_penalty\u001b[49m\u001b[43m,\u001b[49m\n\u001b[1;32m    849\u001b[0m \u001b[43m                \u001b[49m\u001b[38;5;124;43m\"\u001b[39;49m\u001b[38;5;124;43mresponse_format\u001b[39;49m\u001b[38;5;124;43m\"\u001b[39;49m\u001b[43m:\u001b[49m\u001b[43m \u001b[49m\u001b[43mresponse_format\u001b[49m\u001b[43m,\u001b[49m\n\u001b[1;32m    850\u001b[0m \u001b[43m                \u001b[49m\u001b[38;5;124;43m\"\u001b[39;49m\u001b[38;5;124;43mseed\u001b[39;49m\u001b[38;5;124;43m\"\u001b[39;49m\u001b[43m:\u001b[49m\u001b[43m \u001b[49m\u001b[43mseed\u001b[49m\u001b[43m,\u001b[49m\n\u001b[1;32m    851\u001b[0m \u001b[43m                \u001b[49m\u001b[38;5;124;43m\"\u001b[39;49m\u001b[38;5;124;43mservice_tier\u001b[39;49m\u001b[38;5;124;43m\"\u001b[39;49m\u001b[43m:\u001b[49m\u001b[43m \u001b[49m\u001b[43mservice_tier\u001b[49m\u001b[43m,\u001b[49m\n\u001b[1;32m    852\u001b[0m \u001b[43m                \u001b[49m\u001b[38;5;124;43m\"\u001b[39;49m\u001b[38;5;124;43mstop\u001b[39;49m\u001b[38;5;124;43m\"\u001b[39;49m\u001b[43m:\u001b[49m\u001b[43m \u001b[49m\u001b[43mstop\u001b[49m\u001b[43m,\u001b[49m\n\u001b[1;32m    853\u001b[0m \u001b[43m                \u001b[49m\u001b[38;5;124;43m\"\u001b[39;49m\u001b[38;5;124;43mstore\u001b[39;49m\u001b[38;5;124;43m\"\u001b[39;49m\u001b[43m:\u001b[49m\u001b[43m \u001b[49m\u001b[43mstore\u001b[49m\u001b[43m,\u001b[49m\n\u001b[1;32m    854\u001b[0m \u001b[43m                \u001b[49m\u001b[38;5;124;43m\"\u001b[39;49m\u001b[38;5;124;43mstream\u001b[39;49m\u001b[38;5;124;43m\"\u001b[39;49m\u001b[43m:\u001b[49m\u001b[43m \u001b[49m\u001b[43mstream\u001b[49m\u001b[43m,\u001b[49m\n\u001b[1;32m    855\u001b[0m \u001b[43m                \u001b[49m\u001b[38;5;124;43m\"\u001b[39;49m\u001b[38;5;124;43mstream_options\u001b[39;49m\u001b[38;5;124;43m\"\u001b[39;49m\u001b[43m:\u001b[49m\u001b[43m \u001b[49m\u001b[43mstream_options\u001b[49m\u001b[43m,\u001b[49m\n\u001b[1;32m    856\u001b[0m \u001b[43m                \u001b[49m\u001b[38;5;124;43m\"\u001b[39;49m\u001b[38;5;124;43mtemperature\u001b[39;49m\u001b[38;5;124;43m\"\u001b[39;49m\u001b[43m:\u001b[49m\u001b[43m \u001b[49m\u001b[43mtemperature\u001b[49m\u001b[43m,\u001b[49m\n\u001b[1;32m    857\u001b[0m \u001b[43m                \u001b[49m\u001b[38;5;124;43m\"\u001b[39;49m\u001b[38;5;124;43mtool_choice\u001b[39;49m\u001b[38;5;124;43m\"\u001b[39;49m\u001b[43m:\u001b[49m\u001b[43m \u001b[49m\u001b[43mtool_choice\u001b[49m\u001b[43m,\u001b[49m\n\u001b[1;32m    858\u001b[0m \u001b[43m                \u001b[49m\u001b[38;5;124;43m\"\u001b[39;49m\u001b[38;5;124;43mtools\u001b[39;49m\u001b[38;5;124;43m\"\u001b[39;49m\u001b[43m:\u001b[49m\u001b[43m \u001b[49m\u001b[43mtools\u001b[49m\u001b[43m,\u001b[49m\n\u001b[1;32m    859\u001b[0m \u001b[43m                \u001b[49m\u001b[38;5;124;43m\"\u001b[39;49m\u001b[38;5;124;43mtop_logprobs\u001b[39;49m\u001b[38;5;124;43m\"\u001b[39;49m\u001b[43m:\u001b[49m\u001b[43m \u001b[49m\u001b[43mtop_logprobs\u001b[49m\u001b[43m,\u001b[49m\n\u001b[1;32m    860\u001b[0m \u001b[43m                \u001b[49m\u001b[38;5;124;43m\"\u001b[39;49m\u001b[38;5;124;43mtop_p\u001b[39;49m\u001b[38;5;124;43m\"\u001b[39;49m\u001b[43m:\u001b[49m\u001b[43m \u001b[49m\u001b[43mtop_p\u001b[49m\u001b[43m,\u001b[49m\n\u001b[1;32m    861\u001b[0m \u001b[43m                \u001b[49m\u001b[38;5;124;43m\"\u001b[39;49m\u001b[38;5;124;43muser\u001b[39;49m\u001b[38;5;124;43m\"\u001b[39;49m\u001b[43m:\u001b[49m\u001b[43m \u001b[49m\u001b[43muser\u001b[49m\u001b[43m,\u001b[49m\n\u001b[1;32m    862\u001b[0m \u001b[43m            \u001b[49m\u001b[43m}\u001b[49m\u001b[43m,\u001b[49m\n\u001b[1;32m    863\u001b[0m \u001b[43m            \u001b[49m\u001b[43mcompletion_create_params\u001b[49m\u001b[38;5;241;43m.\u001b[39;49m\u001b[43mCompletionCreateParams\u001b[49m\u001b[43m,\u001b[49m\n\u001b[1;32m    864\u001b[0m \u001b[43m        \u001b[49m\u001b[43m)\u001b[49m\u001b[43m,\u001b[49m\n\u001b[1;32m    865\u001b[0m \u001b[43m        \u001b[49m\u001b[43moptions\u001b[49m\u001b[38;5;241;43m=\u001b[39;49m\u001b[43mmake_request_options\u001b[49m\u001b[43m(\u001b[49m\n\u001b[1;32m    866\u001b[0m \u001b[43m            \u001b[49m\u001b[43mextra_headers\u001b[49m\u001b[38;5;241;43m=\u001b[39;49m\u001b[43mextra_headers\u001b[49m\u001b[43m,\u001b[49m\u001b[43m \u001b[49m\u001b[43mextra_query\u001b[49m\u001b[38;5;241;43m=\u001b[39;49m\u001b[43mextra_query\u001b[49m\u001b[43m,\u001b[49m\u001b[43m \u001b[49m\u001b[43mextra_body\u001b[49m\u001b[38;5;241;43m=\u001b[39;49m\u001b[43mextra_body\u001b[49m\u001b[43m,\u001b[49m\u001b[43m \u001b[49m\u001b[43mtimeout\u001b[49m\u001b[38;5;241;43m=\u001b[39;49m\u001b[43mtimeout\u001b[49m\n\u001b[1;32m    867\u001b[0m \u001b[43m        \u001b[49m\u001b[43m)\u001b[49m\u001b[43m,\u001b[49m\n\u001b[1;32m    868\u001b[0m \u001b[43m        \u001b[49m\u001b[43mcast_to\u001b[49m\u001b[38;5;241;43m=\u001b[39;49m\u001b[43mChatCompletion\u001b[49m\u001b[43m,\u001b[49m\n\u001b[1;32m    869\u001b[0m \u001b[43m        \u001b[49m\u001b[43mstream\u001b[49m\u001b[38;5;241;43m=\u001b[39;49m\u001b[43mstream\u001b[49m\u001b[43m \u001b[49m\u001b[38;5;129;43;01mor\u001b[39;49;00m\u001b[43m \u001b[49m\u001b[38;5;28;43;01mFalse\u001b[39;49;00m\u001b[43m,\u001b[49m\n\u001b[1;32m    870\u001b[0m \u001b[43m        \u001b[49m\u001b[43mstream_cls\u001b[49m\u001b[38;5;241;43m=\u001b[39;49m\u001b[43mStream\u001b[49m\u001b[43m[\u001b[49m\u001b[43mChatCompletionChunk\u001b[49m\u001b[43m]\u001b[49m\u001b[43m,\u001b[49m\n\u001b[1;32m    871\u001b[0m \u001b[43m    \u001b[49m\u001b[43m)\u001b[49m\n",
      "File \u001b[0;32m~/code/BusinessObjects/.venv/lib/python3.11/site-packages/openai/_base_client.py:1280\u001b[0m, in \u001b[0;36mSyncAPIClient.post\u001b[0;34m(self, path, cast_to, body, options, files, stream, stream_cls)\u001b[0m\n\u001b[1;32m   1266\u001b[0m \u001b[38;5;28;01mdef\u001b[39;00m \u001b[38;5;21mpost\u001b[39m(\n\u001b[1;32m   1267\u001b[0m     \u001b[38;5;28mself\u001b[39m,\n\u001b[1;32m   1268\u001b[0m     path: \u001b[38;5;28mstr\u001b[39m,\n\u001b[0;32m   (...)\u001b[0m\n\u001b[1;32m   1275\u001b[0m     stream_cls: \u001b[38;5;28mtype\u001b[39m[_StreamT] \u001b[38;5;241m|\u001b[39m \u001b[38;5;28;01mNone\u001b[39;00m \u001b[38;5;241m=\u001b[39m \u001b[38;5;28;01mNone\u001b[39;00m,\n\u001b[1;32m   1276\u001b[0m ) \u001b[38;5;241m-\u001b[39m\u001b[38;5;241m>\u001b[39m ResponseT \u001b[38;5;241m|\u001b[39m _StreamT:\n\u001b[1;32m   1277\u001b[0m     opts \u001b[38;5;241m=\u001b[39m FinalRequestOptions\u001b[38;5;241m.\u001b[39mconstruct(\n\u001b[1;32m   1278\u001b[0m         method\u001b[38;5;241m=\u001b[39m\u001b[38;5;124m\"\u001b[39m\u001b[38;5;124mpost\u001b[39m\u001b[38;5;124m\"\u001b[39m, url\u001b[38;5;241m=\u001b[39mpath, json_data\u001b[38;5;241m=\u001b[39mbody, files\u001b[38;5;241m=\u001b[39mto_httpx_files(files), \u001b[38;5;241m*\u001b[39m\u001b[38;5;241m*\u001b[39moptions\n\u001b[1;32m   1279\u001b[0m     )\n\u001b[0;32m-> 1280\u001b[0m     \u001b[38;5;28;01mreturn\u001b[39;00m cast(ResponseT, \u001b[38;5;28;43mself\u001b[39;49m\u001b[38;5;241;43m.\u001b[39;49m\u001b[43mrequest\u001b[49m\u001b[43m(\u001b[49m\u001b[43mcast_to\u001b[49m\u001b[43m,\u001b[49m\u001b[43m \u001b[49m\u001b[43mopts\u001b[49m\u001b[43m,\u001b[49m\u001b[43m \u001b[49m\u001b[43mstream\u001b[49m\u001b[38;5;241;43m=\u001b[39;49m\u001b[43mstream\u001b[49m\u001b[43m,\u001b[49m\u001b[43m \u001b[49m\u001b[43mstream_cls\u001b[49m\u001b[38;5;241;43m=\u001b[39;49m\u001b[43mstream_cls\u001b[49m\u001b[43m)\u001b[49m)\n",
      "File \u001b[0;32m~/code/BusinessObjects/.venv/lib/python3.11/site-packages/openai/_base_client.py:957\u001b[0m, in \u001b[0;36mSyncAPIClient.request\u001b[0;34m(self, cast_to, options, remaining_retries, stream, stream_cls)\u001b[0m\n\u001b[1;32m    954\u001b[0m \u001b[38;5;28;01melse\u001b[39;00m:\n\u001b[1;32m    955\u001b[0m     retries_taken \u001b[38;5;241m=\u001b[39m \u001b[38;5;241m0\u001b[39m\n\u001b[0;32m--> 957\u001b[0m \u001b[38;5;28;01mreturn\u001b[39;00m \u001b[38;5;28;43mself\u001b[39;49m\u001b[38;5;241;43m.\u001b[39;49m\u001b[43m_request\u001b[49m\u001b[43m(\u001b[49m\n\u001b[1;32m    958\u001b[0m \u001b[43m    \u001b[49m\u001b[43mcast_to\u001b[49m\u001b[38;5;241;43m=\u001b[39;49m\u001b[43mcast_to\u001b[49m\u001b[43m,\u001b[49m\n\u001b[1;32m    959\u001b[0m \u001b[43m    \u001b[49m\u001b[43moptions\u001b[49m\u001b[38;5;241;43m=\u001b[39;49m\u001b[43moptions\u001b[49m\u001b[43m,\u001b[49m\n\u001b[1;32m    960\u001b[0m \u001b[43m    \u001b[49m\u001b[43mstream\u001b[49m\u001b[38;5;241;43m=\u001b[39;49m\u001b[43mstream\u001b[49m\u001b[43m,\u001b[49m\n\u001b[1;32m    961\u001b[0m \u001b[43m    \u001b[49m\u001b[43mstream_cls\u001b[49m\u001b[38;5;241;43m=\u001b[39;49m\u001b[43mstream_cls\u001b[49m\u001b[43m,\u001b[49m\n\u001b[1;32m    962\u001b[0m \u001b[43m    \u001b[49m\u001b[43mretries_taken\u001b[49m\u001b[38;5;241;43m=\u001b[39;49m\u001b[43mretries_taken\u001b[49m\u001b[43m,\u001b[49m\n\u001b[1;32m    963\u001b[0m \u001b[43m\u001b[49m\u001b[43m)\u001b[49m\n",
      "File \u001b[0;32m~/code/BusinessObjects/.venv/lib/python3.11/site-packages/openai/_base_client.py:993\u001b[0m, in \u001b[0;36mSyncAPIClient._request\u001b[0;34m(self, cast_to, options, retries_taken, stream, stream_cls)\u001b[0m\n\u001b[1;32m    990\u001b[0m log\u001b[38;5;241m.\u001b[39mdebug(\u001b[38;5;124m\"\u001b[39m\u001b[38;5;124mSending HTTP Request: \u001b[39m\u001b[38;5;132;01m%s\u001b[39;00m\u001b[38;5;124m \u001b[39m\u001b[38;5;132;01m%s\u001b[39;00m\u001b[38;5;124m\"\u001b[39m, request\u001b[38;5;241m.\u001b[39mmethod, request\u001b[38;5;241m.\u001b[39murl)\n\u001b[1;32m    992\u001b[0m \u001b[38;5;28;01mtry\u001b[39;00m:\n\u001b[0;32m--> 993\u001b[0m     response \u001b[38;5;241m=\u001b[39m \u001b[38;5;28;43mself\u001b[39;49m\u001b[38;5;241;43m.\u001b[39;49m\u001b[43m_client\u001b[49m\u001b[38;5;241;43m.\u001b[39;49m\u001b[43msend\u001b[49m\u001b[43m(\u001b[49m\n\u001b[1;32m    994\u001b[0m \u001b[43m        \u001b[49m\u001b[43mrequest\u001b[49m\u001b[43m,\u001b[49m\n\u001b[1;32m    995\u001b[0m \u001b[43m        \u001b[49m\u001b[43mstream\u001b[49m\u001b[38;5;241;43m=\u001b[39;49m\u001b[43mstream\u001b[49m\u001b[43m \u001b[49m\u001b[38;5;129;43;01mor\u001b[39;49;00m\u001b[43m \u001b[49m\u001b[38;5;28;43mself\u001b[39;49m\u001b[38;5;241;43m.\u001b[39;49m\u001b[43m_should_stream_response_body\u001b[49m\u001b[43m(\u001b[49m\u001b[43mrequest\u001b[49m\u001b[38;5;241;43m=\u001b[39;49m\u001b[43mrequest\u001b[49m\u001b[43m)\u001b[49m\u001b[43m,\u001b[49m\n\u001b[1;32m    996\u001b[0m \u001b[43m        \u001b[49m\u001b[38;5;241;43m*\u001b[39;49m\u001b[38;5;241;43m*\u001b[39;49m\u001b[43mkwargs\u001b[49m\u001b[43m,\u001b[49m\n\u001b[1;32m    997\u001b[0m \u001b[43m    \u001b[49m\u001b[43m)\u001b[49m\n\u001b[1;32m    998\u001b[0m \u001b[38;5;28;01mexcept\u001b[39;00m httpx\u001b[38;5;241m.\u001b[39mTimeoutException \u001b[38;5;28;01mas\u001b[39;00m err:\n\u001b[1;32m    999\u001b[0m     log\u001b[38;5;241m.\u001b[39mdebug(\u001b[38;5;124m\"\u001b[39m\u001b[38;5;124mEncountered httpx.TimeoutException\u001b[39m\u001b[38;5;124m\"\u001b[39m, exc_info\u001b[38;5;241m=\u001b[39m\u001b[38;5;28;01mTrue\u001b[39;00m)\n",
      "File \u001b[0;32m~/code/BusinessObjects/.venv/lib/python3.11/site-packages/httpx/_client.py:926\u001b[0m, in \u001b[0;36mClient.send\u001b[0;34m(self, request, stream, auth, follow_redirects)\u001b[0m\n\u001b[1;32m    922\u001b[0m \u001b[38;5;28mself\u001b[39m\u001b[38;5;241m.\u001b[39m_set_timeout(request)\n\u001b[1;32m    924\u001b[0m auth \u001b[38;5;241m=\u001b[39m \u001b[38;5;28mself\u001b[39m\u001b[38;5;241m.\u001b[39m_build_request_auth(request, auth)\n\u001b[0;32m--> 926\u001b[0m response \u001b[38;5;241m=\u001b[39m \u001b[38;5;28;43mself\u001b[39;49m\u001b[38;5;241;43m.\u001b[39;49m\u001b[43m_send_handling_auth\u001b[49m\u001b[43m(\u001b[49m\n\u001b[1;32m    927\u001b[0m \u001b[43m    \u001b[49m\u001b[43mrequest\u001b[49m\u001b[43m,\u001b[49m\n\u001b[1;32m    928\u001b[0m \u001b[43m    \u001b[49m\u001b[43mauth\u001b[49m\u001b[38;5;241;43m=\u001b[39;49m\u001b[43mauth\u001b[49m\u001b[43m,\u001b[49m\n\u001b[1;32m    929\u001b[0m \u001b[43m    \u001b[49m\u001b[43mfollow_redirects\u001b[49m\u001b[38;5;241;43m=\u001b[39;49m\u001b[43mfollow_redirects\u001b[49m\u001b[43m,\u001b[49m\n\u001b[1;32m    930\u001b[0m \u001b[43m    \u001b[49m\u001b[43mhistory\u001b[49m\u001b[38;5;241;43m=\u001b[39;49m\u001b[43m[\u001b[49m\u001b[43m]\u001b[49m\u001b[43m,\u001b[49m\n\u001b[1;32m    931\u001b[0m \u001b[43m\u001b[49m\u001b[43m)\u001b[49m\n\u001b[1;32m    932\u001b[0m \u001b[38;5;28;01mtry\u001b[39;00m:\n\u001b[1;32m    933\u001b[0m     \u001b[38;5;28;01mif\u001b[39;00m \u001b[38;5;129;01mnot\u001b[39;00m stream:\n",
      "File \u001b[0;32m~/code/BusinessObjects/.venv/lib/python3.11/site-packages/httpx/_client.py:954\u001b[0m, in \u001b[0;36mClient._send_handling_auth\u001b[0;34m(self, request, auth, follow_redirects, history)\u001b[0m\n\u001b[1;32m    951\u001b[0m request \u001b[38;5;241m=\u001b[39m \u001b[38;5;28mnext\u001b[39m(auth_flow)\n\u001b[1;32m    953\u001b[0m \u001b[38;5;28;01mwhile\u001b[39;00m \u001b[38;5;28;01mTrue\u001b[39;00m:\n\u001b[0;32m--> 954\u001b[0m     response \u001b[38;5;241m=\u001b[39m \u001b[38;5;28;43mself\u001b[39;49m\u001b[38;5;241;43m.\u001b[39;49m\u001b[43m_send_handling_redirects\u001b[49m\u001b[43m(\u001b[49m\n\u001b[1;32m    955\u001b[0m \u001b[43m        \u001b[49m\u001b[43mrequest\u001b[49m\u001b[43m,\u001b[49m\n\u001b[1;32m    956\u001b[0m \u001b[43m        \u001b[49m\u001b[43mfollow_redirects\u001b[49m\u001b[38;5;241;43m=\u001b[39;49m\u001b[43mfollow_redirects\u001b[49m\u001b[43m,\u001b[49m\n\u001b[1;32m    957\u001b[0m \u001b[43m        \u001b[49m\u001b[43mhistory\u001b[49m\u001b[38;5;241;43m=\u001b[39;49m\u001b[43mhistory\u001b[49m\u001b[43m,\u001b[49m\n\u001b[1;32m    958\u001b[0m \u001b[43m    \u001b[49m\u001b[43m)\u001b[49m\n\u001b[1;32m    959\u001b[0m     \u001b[38;5;28;01mtry\u001b[39;00m:\n\u001b[1;32m    960\u001b[0m         \u001b[38;5;28;01mtry\u001b[39;00m:\n",
      "File \u001b[0;32m~/code/BusinessObjects/.venv/lib/python3.11/site-packages/httpx/_client.py:991\u001b[0m, in \u001b[0;36mClient._send_handling_redirects\u001b[0;34m(self, request, follow_redirects, history)\u001b[0m\n\u001b[1;32m    988\u001b[0m \u001b[38;5;28;01mfor\u001b[39;00m hook \u001b[38;5;129;01min\u001b[39;00m \u001b[38;5;28mself\u001b[39m\u001b[38;5;241m.\u001b[39m_event_hooks[\u001b[38;5;124m\"\u001b[39m\u001b[38;5;124mrequest\u001b[39m\u001b[38;5;124m\"\u001b[39m]:\n\u001b[1;32m    989\u001b[0m     hook(request)\n\u001b[0;32m--> 991\u001b[0m response \u001b[38;5;241m=\u001b[39m \u001b[38;5;28;43mself\u001b[39;49m\u001b[38;5;241;43m.\u001b[39;49m\u001b[43m_send_single_request\u001b[49m\u001b[43m(\u001b[49m\u001b[43mrequest\u001b[49m\u001b[43m)\u001b[49m\n\u001b[1;32m    992\u001b[0m \u001b[38;5;28;01mtry\u001b[39;00m:\n\u001b[1;32m    993\u001b[0m     \u001b[38;5;28;01mfor\u001b[39;00m hook \u001b[38;5;129;01min\u001b[39;00m \u001b[38;5;28mself\u001b[39m\u001b[38;5;241m.\u001b[39m_event_hooks[\u001b[38;5;124m\"\u001b[39m\u001b[38;5;124mresponse\u001b[39m\u001b[38;5;124m\"\u001b[39m]:\n",
      "File \u001b[0;32m~/code/BusinessObjects/.venv/lib/python3.11/site-packages/httpx/_client.py:1027\u001b[0m, in \u001b[0;36mClient._send_single_request\u001b[0;34m(self, request)\u001b[0m\n\u001b[1;32m   1022\u001b[0m     \u001b[38;5;28;01mraise\u001b[39;00m \u001b[38;5;167;01mRuntimeError\u001b[39;00m(\n\u001b[1;32m   1023\u001b[0m         \u001b[38;5;124m\"\u001b[39m\u001b[38;5;124mAttempted to send an async request with a sync Client instance.\u001b[39m\u001b[38;5;124m\"\u001b[39m\n\u001b[1;32m   1024\u001b[0m     )\n\u001b[1;32m   1026\u001b[0m \u001b[38;5;28;01mwith\u001b[39;00m request_context(request\u001b[38;5;241m=\u001b[39mrequest):\n\u001b[0;32m-> 1027\u001b[0m     response \u001b[38;5;241m=\u001b[39m \u001b[43mtransport\u001b[49m\u001b[38;5;241;43m.\u001b[39;49m\u001b[43mhandle_request\u001b[49m\u001b[43m(\u001b[49m\u001b[43mrequest\u001b[49m\u001b[43m)\u001b[49m\n\u001b[1;32m   1029\u001b[0m \u001b[38;5;28;01massert\u001b[39;00m \u001b[38;5;28misinstance\u001b[39m(response\u001b[38;5;241m.\u001b[39mstream, SyncByteStream)\n\u001b[1;32m   1031\u001b[0m response\u001b[38;5;241m.\u001b[39mrequest \u001b[38;5;241m=\u001b[39m request\n",
      "File \u001b[0;32m~/code/BusinessObjects/.venv/lib/python3.11/site-packages/httpx/_transports/default.py:236\u001b[0m, in \u001b[0;36mHTTPTransport.handle_request\u001b[0;34m(self, request)\u001b[0m\n\u001b[1;32m    223\u001b[0m req \u001b[38;5;241m=\u001b[39m httpcore\u001b[38;5;241m.\u001b[39mRequest(\n\u001b[1;32m    224\u001b[0m     method\u001b[38;5;241m=\u001b[39mrequest\u001b[38;5;241m.\u001b[39mmethod,\n\u001b[1;32m    225\u001b[0m     url\u001b[38;5;241m=\u001b[39mhttpcore\u001b[38;5;241m.\u001b[39mURL(\n\u001b[0;32m   (...)\u001b[0m\n\u001b[1;32m    233\u001b[0m     extensions\u001b[38;5;241m=\u001b[39mrequest\u001b[38;5;241m.\u001b[39mextensions,\n\u001b[1;32m    234\u001b[0m )\n\u001b[1;32m    235\u001b[0m \u001b[38;5;28;01mwith\u001b[39;00m map_httpcore_exceptions():\n\u001b[0;32m--> 236\u001b[0m     resp \u001b[38;5;241m=\u001b[39m \u001b[38;5;28;43mself\u001b[39;49m\u001b[38;5;241;43m.\u001b[39;49m\u001b[43m_pool\u001b[49m\u001b[38;5;241;43m.\u001b[39;49m\u001b[43mhandle_request\u001b[49m\u001b[43m(\u001b[49m\u001b[43mreq\u001b[49m\u001b[43m)\u001b[49m\n\u001b[1;32m    238\u001b[0m \u001b[38;5;28;01massert\u001b[39;00m \u001b[38;5;28misinstance\u001b[39m(resp\u001b[38;5;241m.\u001b[39mstream, typing\u001b[38;5;241m.\u001b[39mIterable)\n\u001b[1;32m    240\u001b[0m \u001b[38;5;28;01mreturn\u001b[39;00m Response(\n\u001b[1;32m    241\u001b[0m     status_code\u001b[38;5;241m=\u001b[39mresp\u001b[38;5;241m.\u001b[39mstatus,\n\u001b[1;32m    242\u001b[0m     headers\u001b[38;5;241m=\u001b[39mresp\u001b[38;5;241m.\u001b[39mheaders,\n\u001b[1;32m    243\u001b[0m     stream\u001b[38;5;241m=\u001b[39mResponseStream(resp\u001b[38;5;241m.\u001b[39mstream),\n\u001b[1;32m    244\u001b[0m     extensions\u001b[38;5;241m=\u001b[39mresp\u001b[38;5;241m.\u001b[39mextensions,\n\u001b[1;32m    245\u001b[0m )\n",
      "File \u001b[0;32m~/code/BusinessObjects/.venv/lib/python3.11/site-packages/httpcore/_sync/connection_pool.py:216\u001b[0m, in \u001b[0;36mConnectionPool.handle_request\u001b[0;34m(self, request)\u001b[0m\n\u001b[1;32m    213\u001b[0m         closing \u001b[38;5;241m=\u001b[39m \u001b[38;5;28mself\u001b[39m\u001b[38;5;241m.\u001b[39m_assign_requests_to_connections()\n\u001b[1;32m    215\u001b[0m     \u001b[38;5;28mself\u001b[39m\u001b[38;5;241m.\u001b[39m_close_connections(closing)\n\u001b[0;32m--> 216\u001b[0m     \u001b[38;5;28;01mraise\u001b[39;00m exc \u001b[38;5;28;01mfrom\u001b[39;00m \u001b[38;5;28;01mNone\u001b[39;00m\n\u001b[1;32m    218\u001b[0m \u001b[38;5;66;03m# Return the response. Note that in this case we still have to manage\u001b[39;00m\n\u001b[1;32m    219\u001b[0m \u001b[38;5;66;03m# the point at which the response is closed.\u001b[39;00m\n\u001b[1;32m    220\u001b[0m \u001b[38;5;28;01massert\u001b[39;00m \u001b[38;5;28misinstance\u001b[39m(response\u001b[38;5;241m.\u001b[39mstream, Iterable)\n",
      "File \u001b[0;32m~/code/BusinessObjects/.venv/lib/python3.11/site-packages/httpcore/_sync/connection_pool.py:196\u001b[0m, in \u001b[0;36mConnectionPool.handle_request\u001b[0;34m(self, request)\u001b[0m\n\u001b[1;32m    192\u001b[0m connection \u001b[38;5;241m=\u001b[39m pool_request\u001b[38;5;241m.\u001b[39mwait_for_connection(timeout\u001b[38;5;241m=\u001b[39mtimeout)\n\u001b[1;32m    194\u001b[0m \u001b[38;5;28;01mtry\u001b[39;00m:\n\u001b[1;32m    195\u001b[0m     \u001b[38;5;66;03m# Send the request on the assigned connection.\u001b[39;00m\n\u001b[0;32m--> 196\u001b[0m     response \u001b[38;5;241m=\u001b[39m \u001b[43mconnection\u001b[49m\u001b[38;5;241;43m.\u001b[39;49m\u001b[43mhandle_request\u001b[49m\u001b[43m(\u001b[49m\n\u001b[1;32m    197\u001b[0m \u001b[43m        \u001b[49m\u001b[43mpool_request\u001b[49m\u001b[38;5;241;43m.\u001b[39;49m\u001b[43mrequest\u001b[49m\n\u001b[1;32m    198\u001b[0m \u001b[43m    \u001b[49m\u001b[43m)\u001b[49m\n\u001b[1;32m    199\u001b[0m \u001b[38;5;28;01mexcept\u001b[39;00m ConnectionNotAvailable:\n\u001b[1;32m    200\u001b[0m     \u001b[38;5;66;03m# In some cases a connection may initially be available to\u001b[39;00m\n\u001b[1;32m    201\u001b[0m     \u001b[38;5;66;03m# handle a request, but then become unavailable.\u001b[39;00m\n\u001b[1;32m    202\u001b[0m     \u001b[38;5;66;03m#\u001b[39;00m\n\u001b[1;32m    203\u001b[0m     \u001b[38;5;66;03m# In this case we clear the connection and try again.\u001b[39;00m\n\u001b[1;32m    204\u001b[0m     pool_request\u001b[38;5;241m.\u001b[39mclear_connection()\n",
      "File \u001b[0;32m~/code/BusinessObjects/.venv/lib/python3.11/site-packages/httpcore/_sync/connection.py:101\u001b[0m, in \u001b[0;36mHTTPConnection.handle_request\u001b[0;34m(self, request)\u001b[0m\n\u001b[1;32m     98\u001b[0m     \u001b[38;5;28mself\u001b[39m\u001b[38;5;241m.\u001b[39m_connect_failed \u001b[38;5;241m=\u001b[39m \u001b[38;5;28;01mTrue\u001b[39;00m\n\u001b[1;32m     99\u001b[0m     \u001b[38;5;28;01mraise\u001b[39;00m exc\n\u001b[0;32m--> 101\u001b[0m \u001b[38;5;28;01mreturn\u001b[39;00m \u001b[38;5;28;43mself\u001b[39;49m\u001b[38;5;241;43m.\u001b[39;49m\u001b[43m_connection\u001b[49m\u001b[38;5;241;43m.\u001b[39;49m\u001b[43mhandle_request\u001b[49m\u001b[43m(\u001b[49m\u001b[43mrequest\u001b[49m\u001b[43m)\u001b[49m\n",
      "File \u001b[0;32m~/code/BusinessObjects/.venv/lib/python3.11/site-packages/httpcore/_sync/http11.py:143\u001b[0m, in \u001b[0;36mHTTP11Connection.handle_request\u001b[0;34m(self, request)\u001b[0m\n\u001b[1;32m    141\u001b[0m     \u001b[38;5;28;01mwith\u001b[39;00m Trace(\u001b[38;5;124m\"\u001b[39m\u001b[38;5;124mresponse_closed\u001b[39m\u001b[38;5;124m\"\u001b[39m, logger, request) \u001b[38;5;28;01mas\u001b[39;00m trace:\n\u001b[1;32m    142\u001b[0m         \u001b[38;5;28mself\u001b[39m\u001b[38;5;241m.\u001b[39m_response_closed()\n\u001b[0;32m--> 143\u001b[0m \u001b[38;5;28;01mraise\u001b[39;00m exc\n",
      "File \u001b[0;32m~/code/BusinessObjects/.venv/lib/python3.11/site-packages/httpcore/_sync/http11.py:113\u001b[0m, in \u001b[0;36mHTTP11Connection.handle_request\u001b[0;34m(self, request)\u001b[0m\n\u001b[1;32m    102\u001b[0m     \u001b[38;5;28;01mpass\u001b[39;00m\n\u001b[1;32m    104\u001b[0m \u001b[38;5;28;01mwith\u001b[39;00m Trace(\n\u001b[1;32m    105\u001b[0m     \u001b[38;5;124m\"\u001b[39m\u001b[38;5;124mreceive_response_headers\u001b[39m\u001b[38;5;124m\"\u001b[39m, logger, request, kwargs\n\u001b[1;32m    106\u001b[0m ) \u001b[38;5;28;01mas\u001b[39;00m trace:\n\u001b[1;32m    107\u001b[0m     (\n\u001b[1;32m    108\u001b[0m         http_version,\n\u001b[1;32m    109\u001b[0m         status,\n\u001b[1;32m    110\u001b[0m         reason_phrase,\n\u001b[1;32m    111\u001b[0m         headers,\n\u001b[1;32m    112\u001b[0m         trailing_data,\n\u001b[0;32m--> 113\u001b[0m     ) \u001b[38;5;241m=\u001b[39m \u001b[38;5;28;43mself\u001b[39;49m\u001b[38;5;241;43m.\u001b[39;49m\u001b[43m_receive_response_headers\u001b[49m\u001b[43m(\u001b[49m\u001b[38;5;241;43m*\u001b[39;49m\u001b[38;5;241;43m*\u001b[39;49m\u001b[43mkwargs\u001b[49m\u001b[43m)\u001b[49m\n\u001b[1;32m    114\u001b[0m     trace\u001b[38;5;241m.\u001b[39mreturn_value \u001b[38;5;241m=\u001b[39m (\n\u001b[1;32m    115\u001b[0m         http_version,\n\u001b[1;32m    116\u001b[0m         status,\n\u001b[1;32m    117\u001b[0m         reason_phrase,\n\u001b[1;32m    118\u001b[0m         headers,\n\u001b[1;32m    119\u001b[0m     )\n\u001b[1;32m    121\u001b[0m network_stream \u001b[38;5;241m=\u001b[39m \u001b[38;5;28mself\u001b[39m\u001b[38;5;241m.\u001b[39m_network_stream\n",
      "File \u001b[0;32m~/code/BusinessObjects/.venv/lib/python3.11/site-packages/httpcore/_sync/http11.py:186\u001b[0m, in \u001b[0;36mHTTP11Connection._receive_response_headers\u001b[0;34m(self, request)\u001b[0m\n\u001b[1;32m    183\u001b[0m timeout \u001b[38;5;241m=\u001b[39m timeouts\u001b[38;5;241m.\u001b[39mget(\u001b[38;5;124m\"\u001b[39m\u001b[38;5;124mread\u001b[39m\u001b[38;5;124m\"\u001b[39m, \u001b[38;5;28;01mNone\u001b[39;00m)\n\u001b[1;32m    185\u001b[0m \u001b[38;5;28;01mwhile\u001b[39;00m \u001b[38;5;28;01mTrue\u001b[39;00m:\n\u001b[0;32m--> 186\u001b[0m     event \u001b[38;5;241m=\u001b[39m \u001b[38;5;28;43mself\u001b[39;49m\u001b[38;5;241;43m.\u001b[39;49m\u001b[43m_receive_event\u001b[49m\u001b[43m(\u001b[49m\u001b[43mtimeout\u001b[49m\u001b[38;5;241;43m=\u001b[39;49m\u001b[43mtimeout\u001b[49m\u001b[43m)\u001b[49m\n\u001b[1;32m    187\u001b[0m     \u001b[38;5;28;01mif\u001b[39;00m \u001b[38;5;28misinstance\u001b[39m(event, h11\u001b[38;5;241m.\u001b[39mResponse):\n\u001b[1;32m    188\u001b[0m         \u001b[38;5;28;01mbreak\u001b[39;00m\n",
      "File \u001b[0;32m~/code/BusinessObjects/.venv/lib/python3.11/site-packages/httpcore/_sync/http11.py:224\u001b[0m, in \u001b[0;36mHTTP11Connection._receive_event\u001b[0;34m(self, timeout)\u001b[0m\n\u001b[1;32m    221\u001b[0m     event \u001b[38;5;241m=\u001b[39m \u001b[38;5;28mself\u001b[39m\u001b[38;5;241m.\u001b[39m_h11_state\u001b[38;5;241m.\u001b[39mnext_event()\n\u001b[1;32m    223\u001b[0m \u001b[38;5;28;01mif\u001b[39;00m event \u001b[38;5;129;01mis\u001b[39;00m h11\u001b[38;5;241m.\u001b[39mNEED_DATA:\n\u001b[0;32m--> 224\u001b[0m     data \u001b[38;5;241m=\u001b[39m \u001b[38;5;28;43mself\u001b[39;49m\u001b[38;5;241;43m.\u001b[39;49m\u001b[43m_network_stream\u001b[49m\u001b[38;5;241;43m.\u001b[39;49m\u001b[43mread\u001b[49m\u001b[43m(\u001b[49m\n\u001b[1;32m    225\u001b[0m \u001b[43m        \u001b[49m\u001b[38;5;28;43mself\u001b[39;49m\u001b[38;5;241;43m.\u001b[39;49m\u001b[43mREAD_NUM_BYTES\u001b[49m\u001b[43m,\u001b[49m\u001b[43m \u001b[49m\u001b[43mtimeout\u001b[49m\u001b[38;5;241;43m=\u001b[39;49m\u001b[43mtimeout\u001b[49m\n\u001b[1;32m    226\u001b[0m \u001b[43m    \u001b[49m\u001b[43m)\u001b[49m\n\u001b[1;32m    228\u001b[0m     \u001b[38;5;66;03m# If we feed this case through h11 we'll raise an exception like:\u001b[39;00m\n\u001b[1;32m    229\u001b[0m     \u001b[38;5;66;03m#\u001b[39;00m\n\u001b[1;32m    230\u001b[0m     \u001b[38;5;66;03m#     httpcore.RemoteProtocolError: can't handle event type\u001b[39;00m\n\u001b[0;32m   (...)\u001b[0m\n\u001b[1;32m    234\u001b[0m     \u001b[38;5;66;03m# perspective. Instead we handle this case distinctly and treat\u001b[39;00m\n\u001b[1;32m    235\u001b[0m     \u001b[38;5;66;03m# it as a ConnectError.\u001b[39;00m\n\u001b[1;32m    236\u001b[0m     \u001b[38;5;28;01mif\u001b[39;00m data \u001b[38;5;241m==\u001b[39m \u001b[38;5;124mb\u001b[39m\u001b[38;5;124m\"\u001b[39m\u001b[38;5;124m\"\u001b[39m \u001b[38;5;129;01mand\u001b[39;00m \u001b[38;5;28mself\u001b[39m\u001b[38;5;241m.\u001b[39m_h11_state\u001b[38;5;241m.\u001b[39mtheir_state \u001b[38;5;241m==\u001b[39m h11\u001b[38;5;241m.\u001b[39mSEND_RESPONSE:\n",
      "File \u001b[0;32m~/code/BusinessObjects/.venv/lib/python3.11/site-packages/httpcore/_backends/sync.py:126\u001b[0m, in \u001b[0;36mSyncStream.read\u001b[0;34m(self, max_bytes, timeout)\u001b[0m\n\u001b[1;32m    124\u001b[0m \u001b[38;5;28;01mwith\u001b[39;00m map_exceptions(exc_map):\n\u001b[1;32m    125\u001b[0m     \u001b[38;5;28mself\u001b[39m\u001b[38;5;241m.\u001b[39m_sock\u001b[38;5;241m.\u001b[39msettimeout(timeout)\n\u001b[0;32m--> 126\u001b[0m     \u001b[38;5;28;01mreturn\u001b[39;00m \u001b[38;5;28;43mself\u001b[39;49m\u001b[38;5;241;43m.\u001b[39;49m\u001b[43m_sock\u001b[49m\u001b[38;5;241;43m.\u001b[39;49m\u001b[43mrecv\u001b[49m\u001b[43m(\u001b[49m\u001b[43mmax_bytes\u001b[49m\u001b[43m)\u001b[49m\n",
      "File \u001b[0;32m/usr/lib/python3.11/ssl.py:1296\u001b[0m, in \u001b[0;36mSSLSocket.recv\u001b[0;34m(self, buflen, flags)\u001b[0m\n\u001b[1;32m   1292\u001b[0m     \u001b[38;5;28;01mif\u001b[39;00m flags \u001b[38;5;241m!=\u001b[39m \u001b[38;5;241m0\u001b[39m:\n\u001b[1;32m   1293\u001b[0m         \u001b[38;5;28;01mraise\u001b[39;00m \u001b[38;5;167;01mValueError\u001b[39;00m(\n\u001b[1;32m   1294\u001b[0m             \u001b[38;5;124m\"\u001b[39m\u001b[38;5;124mnon-zero flags not allowed in calls to recv() on \u001b[39m\u001b[38;5;132;01m%s\u001b[39;00m\u001b[38;5;124m\"\u001b[39m \u001b[38;5;241m%\u001b[39m\n\u001b[1;32m   1295\u001b[0m             \u001b[38;5;28mself\u001b[39m\u001b[38;5;241m.\u001b[39m\u001b[38;5;18m__class__\u001b[39m)\n\u001b[0;32m-> 1296\u001b[0m     \u001b[38;5;28;01mreturn\u001b[39;00m \u001b[38;5;28;43mself\u001b[39;49m\u001b[38;5;241;43m.\u001b[39;49m\u001b[43mread\u001b[49m\u001b[43m(\u001b[49m\u001b[43mbuflen\u001b[49m\u001b[43m)\u001b[49m\n\u001b[1;32m   1297\u001b[0m \u001b[38;5;28;01melse\u001b[39;00m:\n\u001b[1;32m   1298\u001b[0m     \u001b[38;5;28;01mreturn\u001b[39;00m \u001b[38;5;28msuper\u001b[39m()\u001b[38;5;241m.\u001b[39mrecv(buflen, flags)\n",
      "File \u001b[0;32m/usr/lib/python3.11/ssl.py:1169\u001b[0m, in \u001b[0;36mSSLSocket.read\u001b[0;34m(self, len, buffer)\u001b[0m\n\u001b[1;32m   1167\u001b[0m         \u001b[38;5;28;01mreturn\u001b[39;00m \u001b[38;5;28mself\u001b[39m\u001b[38;5;241m.\u001b[39m_sslobj\u001b[38;5;241m.\u001b[39mread(\u001b[38;5;28mlen\u001b[39m, buffer)\n\u001b[1;32m   1168\u001b[0m     \u001b[38;5;28;01melse\u001b[39;00m:\n\u001b[0;32m-> 1169\u001b[0m         \u001b[38;5;28;01mreturn\u001b[39;00m \u001b[38;5;28;43mself\u001b[39;49m\u001b[38;5;241;43m.\u001b[39;49m\u001b[43m_sslobj\u001b[49m\u001b[38;5;241;43m.\u001b[39;49m\u001b[43mread\u001b[49m\u001b[43m(\u001b[49m\u001b[38;5;28;43mlen\u001b[39;49m\u001b[43m)\u001b[49m\n\u001b[1;32m   1170\u001b[0m \u001b[38;5;28;01mexcept\u001b[39;00m SSLError \u001b[38;5;28;01mas\u001b[39;00m x:\n\u001b[1;32m   1171\u001b[0m     \u001b[38;5;28;01mif\u001b[39;00m x\u001b[38;5;241m.\u001b[39margs[\u001b[38;5;241m0\u001b[39m] \u001b[38;5;241m==\u001b[39m SSL_ERROR_EOF \u001b[38;5;129;01mand\u001b[39;00m \u001b[38;5;28mself\u001b[39m\u001b[38;5;241m.\u001b[39msuppress_ragged_eofs:\n",
      "\u001b[0;31mKeyboardInterrupt\u001b[0m: "
     ]
    }
   ],
   "source": [
    "eval_path = proj_path / 'experiments' / 'zero_shot' / 'bird'\n",
    "if not eval_path.exists():\n",
    "    eval_path.mkdir(parents=True)\n",
    "\n",
    "# run zero-shot SQL generation\n",
    "results = {}\n",
    "iterator = tqdm(samples, total=len(samples))\n",
    "for i, sample in enumerate(iterator):\n",
    "    db_id = sample.db_id\n",
    "    iterator.set_description(f\"Processing {db_id} - {sample.sample_id}\")\n",
    "    schema = get_schema_str(\n",
    "        schema=bird_tables[db_id].db_schema,\n",
    "        foreign_keys=bird_tables[db_id].foreign_keys,\n",
    "        primary_keys=bird_tables[db_id].primary_keys,\n",
    "        col_explanation=all_descriptions[db_id]    \n",
    "    )\n",
    "    output = chain.invoke(input={\n",
    "        'schema': schema,\n",
    "        'input_query': sample.final.question,\n",
    "        'evidence': sample.evidence\n",
    "    })\n",
    "    o = SQLResponse(**json.loads(output.content))\n",
    "    usage = output.usage_metadata\n",
    "    logprobs = output.response_metadata['logprobs']['content']\n",
    "    results[sample.sample_id] = {\n",
    "        'sample_id': sample.sample_id,\n",
    "        'output': {\n",
    "            'sql': o.full_sql_query,\n",
    "            'rationale': o.rationale,\n",
    "        },\n",
    "        'usage': usage,\n",
    "        'logprobs': logprobs\n",
    "    }"
   ]
  },
  {
   "cell_type": "code",
   "execution_count": null,
   "metadata": {},
   "outputs": [],
   "source": [
    "# detect token indices after `full_sql_query`\n",
    "txt = ''\n",
    "sql_tokens = []\n",
    "start = False\n",
    "for i, x in enumerate(logprobs):\n",
    "    txt += x['token']\n",
    "    if 'full_sql_query' in txt:\n",
    "        if x['token'] == 'SELECT':\n",
    "            start = True\n",
    "            txt = ''\n",
    "\n",
    "    if start:\n",
    "        sql_tokens.append(x)"
   ]
  },
  {
   "cell_type": "code",
   "execution_count": 83,
   "metadata": {},
   "outputs": [
    {
     "data": {
      "text/plain": [
       "'SELECT movie_title FROM movies WHERE movie_release_year = 1945 ORDER BY movie_popularity DESC;\"\\n'"
      ]
     },
     "execution_count": 83,
     "metadata": {},
     "output_type": "execute_result"
    }
   ],
   "source": [
    "''.join([x['token'] for x in sql_tokens][:-1])"
   ]
  }
 ],
 "metadata": {
  "kernelspec": {
   "display_name": ".venv",
   "language": "python",
   "name": "python3"
  },
  "language_info": {
   "codemirror_mode": {
    "name": "ipython",
    "version": 3
   },
   "file_extension": ".py",
   "mimetype": "text/x-python",
   "name": "python",
   "nbconvert_exporter": "python",
   "pygments_lexer": "ipython3",
   "version": "3.11.7"
  }
 },
 "nbformat": 4,
 "nbformat_minor": 2
}
