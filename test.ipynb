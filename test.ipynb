{
 "cells": [
  {
   "cell_type": "markdown",
   "metadata": {},
   "source": [
    "## Load Data"
   ]
  },
  {
   "cell_type": "code",
   "execution_count": 1,
   "metadata": {},
   "outputs": [],
   "source": [
    "import json\n",
    "import numpy as np\n",
    "import pandas as pd\n",
    "\n",
    "from pathlib import Path\n",
    "from src.db_utils import get_schema_str, get_data_dict\n",
    "from src.database import SqliteDatabase, DuckDBDatabase\n",
    "from src.sparc_preprocess import (\n",
    "    load_sparc_data,\n",
    "    process_all_tables, \n",
    "    filter_samples_by_count_sparc,\n",
    "    filter_samples_by_count_spider, \n",
    "    process_samples_sparc,\n",
    "    process_samples_spider, \n",
    "    split_train_dev\n",
    ")\n",
    "\n",
    "proj_path = Path('.').resolve()"
   ]
  },
  {
   "cell_type": "markdown",
   "metadata": {},
   "source": [
    "## Sparc Dataset"
   ]
  },
  {
   "cell_type": "code",
   "execution_count": 2,
   "metadata": {},
   "outputs": [
    {
     "name": "stdout",
     "output_type": "stream",
     "text": [
      "Number of train: 3034 | Number of dev: 422\n"
     ]
    }
   ],
   "source": [
    "sparc_path = proj_path / 'data' / 'sparc'\n",
    "\n",
    "tables, train_data, dev_data = load_sparc_data(sparc_path)\n",
    "print(f'Number of train: {len(train_data)} | Number of dev: {len(dev_data)}')\n",
    "\n",
    "with (proj_path / 'db_data' / 'description.json').open() as f:\n",
    "    all_descriptions = json.load(f)\n",
    "\n",
    "sparc_tables = process_all_tables(tables, descriptions=all_descriptions)\n",
    "# filter samples by count, must have at least 5 samples\n",
    "all_data = filter_samples_by_count_sparc(train_data+dev_data, n=5)\n",
    "# process samples -> {db_id: list of samples}\n",
    "sparc_samples = process_samples_sparc(all_data)\n",
    "# change train/dev by sample\n",
    "train_samples, dev_samples = split_train_dev(sparc_samples, ratio=0.8)"
   ]
  },
  {
   "cell_type": "code",
   "execution_count": 3,
   "metadata": {},
   "outputs": [
    {
     "name": "stdout",
     "output_type": "stream",
     "text": [
      "dict_keys(['Physician', 'Department', 'Affiliated_With', 'Procedures', 'Trained_In', 'Patient', 'Nurse', 'Appointment', 'Medication', 'Prescribes', 'Block', 'Room', 'On_Call', 'Stay', 'Undergoes'])\n"
     ]
    },
    {
     "data": {
      "text/html": [
       "<div>\n",
       "<style scoped>\n",
       "    .dataframe tbody tr th:only-of-type {\n",
       "        vertical-align: middle;\n",
       "    }\n",
       "\n",
       "    .dataframe tbody tr th {\n",
       "        vertical-align: top;\n",
       "    }\n",
       "\n",
       "    .dataframe thead th {\n",
       "        text-align: right;\n",
       "    }\n",
       "</style>\n",
       "<table border=\"1\" class=\"dataframe\">\n",
       "  <thead>\n",
       "    <tr style=\"text-align: right;\">\n",
       "      <th></th>\n",
       "      <th>DepartmentID</th>\n",
       "      <th>Name</th>\n",
       "      <th>Head</th>\n",
       "    </tr>\n",
       "  </thead>\n",
       "  <tbody>\n",
       "    <tr>\n",
       "      <th>0</th>\n",
       "      <td>1</td>\n",
       "      <td>General Medicine</td>\n",
       "      <td>4</td>\n",
       "    </tr>\n",
       "    <tr>\n",
       "      <th>1</th>\n",
       "      <td>2</td>\n",
       "      <td>Surgery</td>\n",
       "      <td>7</td>\n",
       "    </tr>\n",
       "    <tr>\n",
       "      <th>2</th>\n",
       "      <td>3</td>\n",
       "      <td>Psychiatry</td>\n",
       "      <td>9</td>\n",
       "    </tr>\n",
       "  </tbody>\n",
       "</table>\n",
       "</div>"
      ],
      "text/plain": [
       "   DepartmentID              Name  Head\n",
       "0             1  General Medicine     4\n",
       "1             2           Surgery     7\n",
       "2             3        Psychiatry     9"
      ]
     },
     "execution_count": 3,
     "metadata": {},
     "output_type": "execute_result"
    }
   ],
   "source": [
    "db_id = 'hospital_1'\n",
    "db_file = str(sparc_path / 'database' / db_id / f'{db_id}.sqlite')\n",
    "database = SqliteDatabase(db_file, foreign_keys=sparc_tables[db_id].foreign_keys)\n",
    "print(database.table_cols.keys())\n",
    "database.execute('SELECT * FROM Department LIMIT 5;')"
   ]
  },
  {
   "cell_type": "markdown",
   "metadata": {},
   "source": [
    "## Spider Dataset"
   ]
  },
  {
   "cell_type": "code",
   "execution_count": 4,
   "metadata": {},
   "outputs": [
    {
     "name": "stdout",
     "output_type": "stream",
     "text": [
      "Number of train: 7000 | Number of dev: 1034\n"
     ]
    }
   ],
   "source": [
    "spider_path = proj_path / 'data' / 'spider'\n",
    "tables, train_data, dev_data = load_sparc_data(spider_path)\n",
    "print(f'Number of train: {len(train_data)} | Number of dev: {len(dev_data)}')\n",
    "\n",
    "with (proj_path / 'db_data' / 'description.json').open() as f:\n",
    "    all_descriptions = json.load(f)\n",
    "spider_tables = process_all_tables(tables, descriptions=all_descriptions)\n",
    "\n",
    "all_data = filter_samples_by_count_spider(train_data+dev_data, n=5)\n",
    "# process samples -> {db_id: list of samples}\n",
    "spider_samples = process_samples_spider(all_data)\n",
    "# change train/dev by sample\n",
    "train_samples, dev_samples = split_train_dev(spider_samples, ratio=0.8)"
   ]
  },
  {
   "cell_type": "markdown",
   "metadata": {},
   "source": [
    "## Workload Analysis"
   ]
  },
  {
   "cell_type": "code",
   "execution_count": 23,
   "metadata": {},
   "outputs": [
    {
     "name": "stdout",
     "output_type": "stream",
     "text": [
      "[0-Question] How many games are there?\n",
      "[0-SQL]: SELECT COUNT(*) FROM basketball_match\n",
      "[1-Question] What is the lowest acc percent among the competitions?\n",
      "[1-SQL]: SELECT MIN(acc_percent) FROM basketball_match\n",
      "[2-Question] Can you order the schools by acc percent in descending order?\n",
      "[2-SQL]: SELECT Team_Name FROM basketball_match ORDER BY acc_percent DESC\n",
      "[3-Question] What is the highest acc percent socre?\n",
      "[3-SQL]: SELECT acc_percent FROM basketball_match ORDER BY acc_percent DESC LIMIT 1 \n",
      "\n",
      "[Final]\n",
      "Question: What is the highest acc percent score in the competition?\n",
      "SQL: SELECT acc_percent FROM basketball_match ORDER BY acc_percent DESC LIMIT 1\n",
      "\n"
     ]
    }
   ],
   "source": [
    "from src.sparc_preprocess import SparcSample, QuestionSQL\n",
    "\n",
    "def format_interactions(interactions: list[QuestionSQL]) -> str:\n",
    "    workload = ''\n",
    "    for i, interaction in enumerate(interactions):\n",
    "        workload += f'[{i}-Question] {interaction.question}\\n[{i}-SQL]: {interaction.sql}\\n'\n",
    "    return workload.strip()\n",
    "\n",
    "with (proj_path / 'db_data' / 'sparc_description.json').open() as f:\n",
    "    all_descriptions = json.load(f)\n",
    "\n",
    "idx = 1000\n",
    "data = train_samples[idx]\n",
    "table = sparc_tables[data.db_id]\n",
    "col_explanation = all_descriptions[data.db_id]\n",
    "# create schema string\n",
    "schema_str = get_schema_str(\n",
    "    schema=table.db_schema, \n",
    "    foreign_keys=table.foreign_keys,\n",
    "    primary_keys=table.primary_keys,\n",
    "    col_explanation=col_explanation\n",
    ")\n",
    "database = SqliteDatabase(str(sparc_path / 'database' / data.db_id / f'{data.db_id}.sqlite'), foreign_keys=table.foreign_keys)\n",
    "workload = format_interactions(data.interactions)\n",
    "print(workload, '\\n')\n",
    "print(f'[Final]\\nQuestion: {data.final.question}\\nSQL: {data.final.sql}\\n')"
   ]
  },
  {
   "cell_type": "code",
   "execution_count": 24,
   "metadata": {},
   "outputs": [
    {
     "data": {
      "text/html": [
       "<div>\n",
       "<style scoped>\n",
       "    .dataframe tbody tr th:only-of-type {\n",
       "        vertical-align: middle;\n",
       "    }\n",
       "\n",
       "    .dataframe tbody tr th {\n",
       "        vertical-align: top;\n",
       "    }\n",
       "\n",
       "    .dataframe thead th {\n",
       "        text-align: right;\n",
       "    }\n",
       "</style>\n",
       "<table border=\"1\" class=\"dataframe\">\n",
       "  <thead>\n",
       "    <tr style=\"text-align: right;\">\n",
       "      <th></th>\n",
       "      <th>COUNT(*)</th>\n",
       "    </tr>\n",
       "  </thead>\n",
       "  <tbody>\n",
       "    <tr>\n",
       "      <th>0</th>\n",
       "      <td>4</td>\n",
       "    </tr>\n",
       "  </tbody>\n",
       "</table>\n",
       "</div>"
      ],
      "text/plain": [
       "   COUNT(*)\n",
       "0         4"
      ]
     },
     "execution_count": 24,
     "metadata": {},
     "output_type": "execute_result"
    }
   ],
   "source": [
    "database.execute(data.interactions[0].sql)"
   ]
  },
  {
   "cell_type": "code",
   "execution_count": 25,
   "metadata": {},
   "outputs": [
    {
     "data": {
      "text/html": [
       "<div>\n",
       "<style scoped>\n",
       "    .dataframe tbody tr th:only-of-type {\n",
       "        vertical-align: middle;\n",
       "    }\n",
       "\n",
       "    .dataframe tbody tr th {\n",
       "        vertical-align: top;\n",
       "    }\n",
       "\n",
       "    .dataframe thead th {\n",
       "        text-align: right;\n",
       "    }\n",
       "</style>\n",
       "<table border=\"1\" class=\"dataframe\">\n",
       "  <thead>\n",
       "    <tr style=\"text-align: right;\">\n",
       "      <th></th>\n",
       "      <th>MIN(acc_percent)</th>\n",
       "    </tr>\n",
       "  </thead>\n",
       "  <tbody>\n",
       "    <tr>\n",
       "      <th>0</th>\n",
       "      <td>.563</td>\n",
       "    </tr>\n",
       "  </tbody>\n",
       "</table>\n",
       "</div>"
      ],
      "text/plain": [
       "  MIN(acc_percent)\n",
       "0             .563"
      ]
     },
     "execution_count": 25,
     "metadata": {},
     "output_type": "execute_result"
    }
   ],
   "source": [
    "database.execute(data.interactions[1].sql)"
   ]
  },
  {
   "cell_type": "code",
   "execution_count": 26,
   "metadata": {},
   "outputs": [
    {
     "data": {
      "text/html": [
       "<div>\n",
       "<style scoped>\n",
       "    .dataframe tbody tr th:only-of-type {\n",
       "        vertical-align: middle;\n",
       "    }\n",
       "\n",
       "    .dataframe tbody tr th {\n",
       "        vertical-align: top;\n",
       "    }\n",
       "\n",
       "    .dataframe thead th {\n",
       "        text-align: right;\n",
       "    }\n",
       "</style>\n",
       "<table border=\"1\" class=\"dataframe\">\n",
       "  <thead>\n",
       "    <tr style=\"text-align: right;\">\n",
       "      <th></th>\n",
       "      <th>Team_Name</th>\n",
       "    </tr>\n",
       "  </thead>\n",
       "  <tbody>\n",
       "    <tr>\n",
       "      <th>0</th>\n",
       "      <td>North Carolina</td>\n",
       "    </tr>\n",
       "    <tr>\n",
       "      <th>1</th>\n",
       "      <td>Duke</td>\n",
       "    </tr>\n",
       "    <tr>\n",
       "      <th>2</th>\n",
       "      <td>Clemson</td>\n",
       "    </tr>\n",
       "    <tr>\n",
       "      <th>3</th>\n",
       "      <td>Virginia Tech</td>\n",
       "    </tr>\n",
       "  </tbody>\n",
       "</table>\n",
       "</div>"
      ],
      "text/plain": [
       "        Team_Name\n",
       "0  North Carolina\n",
       "1            Duke\n",
       "2         Clemson\n",
       "3   Virginia Tech"
      ]
     },
     "execution_count": 26,
     "metadata": {},
     "output_type": "execute_result"
    }
   ],
   "source": [
    "database.execute(data.interactions[2].sql)"
   ]
  },
  {
   "cell_type": "code",
   "execution_count": 27,
   "metadata": {},
   "outputs": [
    {
     "data": {
      "text/html": [
       "<div>\n",
       "<style scoped>\n",
       "    .dataframe tbody tr th:only-of-type {\n",
       "        vertical-align: middle;\n",
       "    }\n",
       "\n",
       "    .dataframe tbody tr th {\n",
       "        vertical-align: top;\n",
       "    }\n",
       "\n",
       "    .dataframe thead th {\n",
       "        text-align: right;\n",
       "    }\n",
       "</style>\n",
       "<table border=\"1\" class=\"dataframe\">\n",
       "  <thead>\n",
       "    <tr style=\"text-align: right;\">\n",
       "      <th></th>\n",
       "      <th>ACC_Percent</th>\n",
       "    </tr>\n",
       "  </thead>\n",
       "  <tbody>\n",
       "    <tr>\n",
       "      <th>0</th>\n",
       "      <td>.875</td>\n",
       "    </tr>\n",
       "  </tbody>\n",
       "</table>\n",
       "</div>"
      ],
      "text/plain": [
       "  ACC_Percent\n",
       "0        .875"
      ]
     },
     "execution_count": 27,
     "metadata": {},
     "output_type": "execute_result"
    }
   ],
   "source": [
    "database.execute(data.final.sql)"
   ]
  },
  {
   "cell_type": "markdown",
   "metadata": {},
   "source": [
    "### 1. Common table extraction\n",
    "\n",
    "* find the common table used in the question-sql workloads: All joined tables"
   ]
  },
  {
   "cell_type": "code",
   "execution_count": 28,
   "metadata": {},
   "outputs": [
    {
     "name": "stdout",
     "output_type": "stream",
     "text": [
      "# of train workloads: 25\n",
      "# of used tables: 22\n",
      "-----------------\n",
      "appointment: 9\n",
      "department: 7\n",
      "physician: 6\n",
      "stay: 6\n",
      "physician,patient: 6\n",
      "block,room: 4\n",
      "room: 4\n",
      "medication: 3\n",
      "appointment,patient: 2\n",
      "appointment,physician: 2\n",
      "physician,affiliated_with,department: 2\n",
      "nurse,appointment: 2\n",
      "prescribes,medication: 2\n",
      "physician,prescribes,medication: 2\n",
      "department,physician: 1\n",
      "physician,appointment,physician: 1\n",
      "patient,appointment: 1\n",
      "prescribes,physician: 1\n",
      "patient,prescribes,physician: 1\n",
      "stay,patient,prescribes: 1\n",
      "stay,patient,prescribes,medication: 1\n",
      "medication,prescribes: 1\n"
     ]
    }
   ],
   "source": [
    "import sqlglot\n",
    "import sqlglot.expressions as exp\n",
    "from sqlglot.diff import Keep\n",
    "from sqlglot.optimizer import optimize\n",
    "from collections import Counter\n",
    "\n",
    "def extract_table_expression(x: QuestionSQL, schema: dict) -> str:\n",
    "    sql = optimize(sqlglot.parse_one(x.sql, read='sqlite'), schema=schema)\n",
    "    tbls = [x.this.this for x in list(sql.find_all(exp.Table))]\n",
    "    expression = ' '.join([x.sql() for x in sql.find_all(*[exp.From, exp.Join])])\n",
    "    return ','.join(tbls), expression\n",
    "\n",
    "def get_sources(data: SparcSample, schema: dict) -> list[tuple[str, list[str]]]:\n",
    "    sources = []\n",
    "    for x in data.interactions:\n",
    "        tbls, expression = extract_table_expression(x, schema)\n",
    "        sources.append({'question': x.question, 'table': tbls, 'expression': expression})\n",
    "    return sources\n",
    "\n",
    "db_id = 'hospital_1'\n",
    "train_subsamples = list(filter(lambda x: x.db_id == db_id, train_samples))\n",
    "dev_subsamples = list(filter(lambda x: x.db_id == db_id, dev_samples))\n",
    "table = sparc_tables[db_id]\n",
    "database = SqliteDatabase(str(sparc_path / 'database' / db_id / f'{db_id}.sqlite'), foreign_keys=table.foreign_keys)\n",
    "\n",
    "used_tables = Counter()\n",
    "for data in train_subsamples:\n",
    "    sources = get_sources(data, table.db_schema)\n",
    "    used = [x['table'] for x in sources]\n",
    "    used_tables.update(used)\n",
    "\n",
    "print(f'# of train workloads: {len(train_subsamples)}')\n",
    "print(f'# of used tables: {len(used_tables)}\\n-----------------')\n",
    "for k, v in used_tables.most_common():\n",
    "    print(f'{k}: {v}')"
   ]
  },
  {
   "cell_type": "code",
   "execution_count": 29,
   "metadata": {},
   "outputs": [
    {
     "name": "stdout",
     "output_type": "stream",
     "text": [
      "[0-Question] How many employees does each department have?\n",
      "[0-SQL]: SELECT count(departmentID) FROM department GROUP BY departmentID\n",
      "[1-Question] Which department has the smallest number of employees?\n",
      "[1-SQL]: SELECT * FROM department GROUP BY departmentID ORDER BY count(departmentID) LIMIT 1;\n",
      "[2-Question] Tell me the name and position of the head of this department.\n",
      "[2-SQL]: SELECT T2.name ,  T2.position FROM department AS T1 JOIN physician AS T2 ON T1.head  =  T2.EmployeeID GROUP BY departmentID ORDER BY count(departmentID) LIMIT 1; \n",
      "\n"
     ]
    }
   ],
   "source": [
    "for data in train_subsamples:\n",
    "    sources = get_sources(data, table.db_schema)\n",
    "    used = [x['table'] for x in sources]\n",
    "    if any([',' in x for x in used]):\n",
    "        break\n",
    "\n",
    "workload = format_interactions(data.interactions)\n",
    "print(workload, '\\n')"
   ]
  },
  {
   "cell_type": "code",
   "execution_count": 30,
   "metadata": {},
   "outputs": [
    {
     "name": "stdout",
     "output_type": "stream",
     "text": [
      "SELECT\n",
      "  T2.name,\n",
      "  T2.position\n",
      "FROM department AS T1\n",
      "JOIN physician AS T2\n",
      "  ON T1.head = T2.EmployeeID\n",
      "GROUP BY\n",
      "  departmentID\n",
      "ORDER BY\n",
      "  COUNT(departmentID)\n",
      "LIMIT 1\n"
     ]
    }
   ],
   "source": [
    "print(sqlglot.transpile(data.interactions[2].sql, write=\"sqlite\", identify=False, pretty=True)[0])\n",
    "sql = optimize(sqlglot.parse_one(data.interactions[2].sql, read='sqlite'), schema=table.db_schema)"
   ]
  },
  {
   "cell_type": "markdown",
   "metadata": {},
   "source": [
    "### 2. Extract Term - Expression"
   ]
  },
  {
   "cell_type": "code",
   "execution_count": 31,
   "metadata": {},
   "outputs": [],
   "source": [
    "import os \n",
    "from dotenv import load_dotenv, find_dotenv\n",
    "from collections import defaultdict\n",
    "from tqdm import tqdm\n",
    "from langchain_core.pydantic_v1 import BaseModel, Field\n",
    "from langchain_openai import ChatOpenAI\n",
    "from langchain_core.prompts import PromptTemplate\n",
    "from langchain_core.output_parsers import JsonOutputParser\n",
    "\n",
    "_ = load_dotenv(find_dotenv())"
   ]
  },
  {
   "cell_type": "code",
   "execution_count": 34,
   "metadata": {},
   "outputs": [
    {
     "name": "stderr",
     "output_type": "stream",
     "text": [
      "  0%|          | 0/25 [00:00<?, ?it/s]"
     ]
    },
    {
     "name": "stderr",
     "output_type": "stream",
     "text": [
      "100%|██████████| 25/25 [01:17<00:00,  3.12s/it]\n"
     ]
    }
   ],
   "source": [
    "class TermExpressions(BaseModel):\n",
    "    rationale: str = Field(description='The reasoning behind the decision.')\n",
    "    term: str = Field(description='A declarative form of the natural language term.')\n",
    "    expression: str = Field(description='SQL expression that refers to the term.')\n",
    "\n",
    "class Response(BaseModel):\n",
    "    output: list[TermExpressions]\n",
    "\n",
    "template = '''### Task\n",
    "You are tasked with identifying which SQL expression(except FROM and JOIN clause) is related to the knowledge term of the natural language question.\n",
    "You will be proveded a pair of question and SQL.\n",
    "The term should be declarative form(e.g., \"how many students\" -> \"the number of students\").\n",
    "There could be multiple terms that related to the SQL expression, vice versa.\n",
    "\n",
    "### Formatting\n",
    "Your output should be of the following list of JSON format:\n",
    "[{{\n",
    "    \"rationale\": \"<str: the reasoning behind decision>\",\n",
    "    \"term\": \"<str: a declarative form of natural language term>\",\n",
    "    \"expression\" : \"<str: SQL expression that refer to the term>\",\n",
    "}}, ...]\n",
    "\n",
    "### Output\n",
    "<QUESTION>: {question}\n",
    "<SQL>: {sql}\n",
    "<OUTPUT>: \n",
    "'''\n",
    "\n",
    "prompt = PromptTemplate(\n",
    "    template=template,\n",
    "    input_variables=['question', 'sql']\n",
    ")\n",
    "\n",
    "model_openai = ChatOpenAI(\n",
    "    model='gpt-4o-mini',\n",
    "    temperature=0.3,\n",
    ")\n",
    "\n",
    "model = model_openai.with_structured_output(Response)\n",
    "chain = (prompt | model)\n",
    "\n",
    "all_term_expression = defaultdict(list)\n",
    "for data in tqdm(train_subsamples, total=len(train_subsamples)):\n",
    "    for x in data.interactions:\n",
    "        input_data = {'question': x.question, 'sql': x.sql}\n",
    "        term_expression = chain.invoke(input=input_data).output\n",
    "        tbls, _ = extract_table_expression(x, table.db_schema)\n",
    "        all_term_expression[tbls].append(term_expression)"
   ]
  },
  {
   "cell_type": "code",
   "execution_count": 35,
   "metadata": {},
   "outputs": [
    {
     "data": {
      "text/plain": [
       "defaultdict(list,\n",
       "            {'department': [[TermExpressions(rationale='The SQL expression uses the COUNT function to aggregate the number of employees grouped by departmentID, which directly relates to the question asking for the number of employees in each department.', term='the number of employees in each department', expression='count(departmentID)')],\n",
       "              [TermExpressions(rationale='The SQL expression counts the number of employees in each department and orders them to find the one with the most employees.', term='the department with the most employees', expression='count(departmentID)')],\n",
       "              [TermExpressions(rationale=\"The SQL expression uses the COUNT function to aggregate the number of employees in each department, which directly relates to the term 'the number of employees in each department'.\", term='the number of employees in each department', expression='count(departmentID)')],\n",
       "              [TermExpressions(rationale=\"The SQL expression uses 'count(departmentID)' to determine the number of employees in each department, which is directly related to identifying the department with the least employees.\", term='the number of employees', expression='count(departmentID)')],\n",
       "              [TermExpressions(rationale=\"The SQL expression is selecting the 'head' from the 'department', which directly relates to the term 'the head of this department'.\", term='the head of this department', expression='head')],\n",
       "              [TermExpressions(rationale='The SQL expression counts the number of department IDs, which corresponds to the number of employees in each department.', term='the number of employees in each department', expression='count(departmentID)')],\n",
       "              [TermExpressions(rationale=\"The SQL expression 'count(departmentID)' is used to determine the number of employees in each department, which directly relates to the term 'the number of employees'.\", term='the number of employees', expression='count(departmentID)')]],\n",
       "             'department,physician': [[TermExpressions(rationale=\"The SQL expression retrieves the 'name' of the head of the department, which corresponds to the natural language term 'the name of the head of this department'.\", term='the name of the head of this department', expression='T2.name'),\n",
       "               TermExpressions(rationale=\"The SQL expression retrieves the 'position' of the head of the department, which corresponds to the natural language term 'the position of the head of this department'.\", term='the position of the head of this department', expression='T2.position')]],\n",
       "             'appointment': [[TermExpressions(rationale=\"The SQL expression 'SELECT patient' indicates that we are retrieving information about patients, specifically their IDs, from the appointments table.\", term='the patient IDs', expression='SELECT patient')],\n",
       "              [TermExpressions(rationale=\"The SQL expression 'count(*)' is used to calculate the total number of appointments, which directly relates to the term 'the number of appointments'.\", term='the number of appointments', expression='count(*)'),\n",
       "               TermExpressions(rationale=\"The SQL expression 'GROUP BY patient' indicates that the count is being grouped by each patient, which relates to the term 'each patient'.\", term='each patient', expression='GROUP BY patient')],\n",
       "              [TermExpressions(rationale='The SQL expression uses the COUNT function to determine the number of appointments per patient, which directly relates to identifying patients who have made more than one appointment.', term='patients who made more than one appointment', expression='count(*) > 1')],\n",
       "              [TermExpressions(rationale=\"The SQL expression 'SELECT START' indicates that we are retrieving the start date of appointments.\", term='the start date of each appointment', expression='START')],\n",
       "              [TermExpressions(rationale='The question asks to sort appointments by the starting date, which directly relates to the SQL expression that specifies ordering by the START column in descending order.', term='the starting date of appointments', expression='ORDER BY START DESC')],\n",
       "              [TermExpressions(rationale='The SQL expression retrieves the appointment ID with the most recent starting date by ordering the appointments in descending order based on the START date and limiting the result to one entry.', term='the appointment with the most recent starting date', expression='ORDER BY START DESC LIMIT 1'),\n",
       "               TermExpressions(rationale='The SQL expression focuses on the appointment ID, which is the unique identifier for each appointment in the database.', term='the appointment id', expression='SELECT appointmentid')],\n",
       "              [TermExpressions(rationale=\"The SQL expression 'SELECT Physician' indicates that we are retrieving the identifiers of physicians from the appointment table.\", term='the ids of physicians', expression='Physician')],\n",
       "              [TermExpressions(rationale='The question asks to sort appointments based on their start date, which directly relates to the SQL expression that specifies the ordering of results by the START column in descending order.', term='the start date of appointments', expression='ORDER BY START DESC')],\n",
       "              [TermExpressions(rationale='The SQL expression orders the appointments by their start date in descending order, which directly relates to identifying the most recent start date.', term='the most recent start date', expression='ORDER BY START DESC')]],\n",
       "             'appointment,patient': [[TermExpressions(rationale=\"The SQL expression 'SELECT name' is directly related to retrieving the names of patients, which corresponds to the natural language term 'the names of patients'.\", term='the names of patients', expression='SELECT name')],\n",
       "              [TermExpressions(rationale=\"The SQL expression selects the 'name' of the patients, which directly relates to the term 'the name of these patients'.\", term='the name of these patients', expression='name'),\n",
       "               TermExpressions(rationale=\"The SQL expression selects the 'phone' number of the patients, which directly relates to the term 'the phone number of these patients'.\", term='the phone number of these patients', expression='phone')]],\n",
       "             'appointment,physician': [[TermExpressions(rationale=\"The SQL expression 'T2.name' is selecting the names of physicians, which directly relates to the term 'the names of physicians'.\", term='the names of physicians', expression='T2.name')],\n",
       "              [TermExpressions(rationale=\"The SQL expression selects the 'name' from the 'physician' table, which directly relates to the term 'the names of the physicians'.\", term='the names of the physicians', expression='T2.name')]],\n",
       "             'physician': [[TermExpressions(rationale=\"The SQL expression 'SELECT name' indicates that we are retrieving the names of physicians, which corresponds to the natural language request to list physician names.\", term='the names of physicians', expression='name')],\n",
       "              [TermExpressions(rationale=\"The SQL expression 'SELECT name' indicates that we are retrieving the names of physicians, which directly relates to the term 'the names of physicians'.\", term='the names of physicians', expression='SELECT name')],\n",
       "              [TermExpressions(rationale=\"The SQL expression 'employeeid' directly refers to the specific identifier of the employee, which is the focus of the question.\", term='the employee id', expression='employeeid')],\n",
       "              [TermExpressions(rationale=\"The SQL expression 'SELECT POSITION' indicates that we are retrieving the position title of each physician.\", term='the position title of each physician', expression='POSITION')],\n",
       "              [TermExpressions(rationale=\"The SQL expression is filtering physicians based on their title containing the word 'senior'. Therefore, it relates to identifying physicians with a specific title.\", term=\"physicians with 'senior' in their titles\", expression=\"POSITION LIKE '%senior%'\"),\n",
       "               TermExpressions(rationale='The SQL expression specifies a condition on the POSITION field, which is directly related to the titles of the physicians.', term='the title of physicians', expression=\"POSITION LIKE '%senior%'\"),\n",
       "               TermExpressions(rationale=\"The query is focused on the presence of the term 'senior' within the titles of physicians, indicating a specific characteristic of those titles.\", term=\"titles containing 'senior'\", expression=\"POSITION LIKE '%senior%'\"),\n",
       "               TermExpressions(rationale='The SQL expression is used to filter records based on the content of the POSITION field, which represents the title of the physicians.', term='the content of the POSITION field', expression=\"POSITION LIKE '%senior%'\"),\n",
       "               TermExpressions(rationale=\"The SQL expression is concerned with the specific attribute of the physicians, which is their title that includes 'senior'.\", term=\"the attribute of physicians' titles\", expression=\"POSITION LIKE '%senior%'\")],\n",
       "              [TermExpressions(rationale=\"The SQL expression is selecting the 'name' field from the 'physician' table, which directly relates to the natural language term 'their names'.\", term='the names of physicians', expression='name')]],\n",
       "             'physician,appointment,physician': [[TermExpressions(rationale='The SQL expression retrieves the names of physicians who are not present in the appointment table, indicating they never took any appointments.', term='the names of physicians who never took any appointment', expression='SELECT name FROM physician EXCEPT SELECT T2.name FROM appointment AS T1 JOIN physician AS T2 ON T1.Physician  =  T2.EmployeeID')]],\n",
       "             'physician,affiliated_with,department': [[TermExpressions(rationale=\"The SQL expression 'T3.name' is used to select the name of the department, which corresponds to the natural language term 'the name of the primarily affiliated department'.\", term='the name of the primarily affiliated department', expression='T3.name')],\n",
       "              [TermExpressions(rationale='The SQL expression includes a condition that filters physicians based on their primary affiliation, which relates to the concept of identifying the primary affiliation of physicians.', term='the primary affiliation of physicians', expression='T2.PrimaryAffiliation = 1')]],\n",
       "             'patient,appointment': [[TermExpressions(rationale=\"The SQL expression 'SELECT T1.name' indicates that we are retrieving the name of a patient.\", term='the name of the patient', expression='T1.name')]],\n",
       "             'stay': [[TermExpressions(rationale='The SQL expression filters stays based on the room number, which directly relates to the term identifying the specific room.', term='the stays in room 112', expression='room = 112')],\n",
       "              [TermExpressions(rationale=\"The SQL expression uses the COUNT function to determine the total number of patients, which directly relates to the term 'the number of patients'.\", term='the number of patients', expression='count(patient)')],\n",
       "              [TermExpressions(rationale=\"The SQL expression is selecting the 'patient' from the 'stay' table where the condition is that the 'room' equals 111. This directly relates to identifying which patient is associated with room 111.\", term='the patient in room 111', expression='patient')],\n",
       "              [TermExpressions(rationale=\"The SQL expression is selecting patients based on a specific room number, which directly relates to the term 'patients who stayed in room 111'.\", term='the patients who stayed in room 111', expression='patient')],\n",
       "              [TermExpressions(rationale=\"The question asks to sort patients by the stay start date, which is directly related to the SQL expression that includes 'ORDER BY staystart DESC'.\", term='the stay start date of patients', expression='ORDER BY staystart DESC')],\n",
       "              [TermExpressions(rationale='The SQL expression retrieves the patient who stayed in room 111 most recently, which relates to identifying the most recent patient.', term='the most recent patient', expression='ORDER BY staystart DESC LIMIT 1')]],\n",
       "             'prescribes,physician': [[TermExpressions(rationale=\"The question asks for all prescriptions made by a specific physician, which relates to the SQL expression that retrieves all records from the 'prescribes' table.\", term='all prescriptions made by him', expression='*')]],\n",
       "             'patient,prescribes,physician': [[TermExpressions(rationale=\"The SQL expression 'count(T1.SSN)' indicates that we are counting the number of patients' prescriptions made by a specific physician, which directly relates to the question about how many prescriptions are made by him.\", term=\"the number of patients' prescriptions made by him\", expression='count(T1.SSN)')]],\n",
       "             'stay,patient,prescribes': [[TermExpressions(rationale=\"The SQL expression 'T3.Medication' refers to the specific medication associated with the patient, which directly answers the question about the id of the medication used for the patient.\", term='the id of the medication', expression='T3.Medication')]],\n",
       "             'stay,patient,prescribes,medication': [[TermExpressions(rationale=\"The SQL expression selects the 'name' from the 'Medication' table, which directly relates to the question asking for the name of the medication.\", term='the name of the medication', expression='T4.name')]],\n",
       "             'nurse,appointment': [[TermExpressions(rationale=\"The SQL expression 'count(*)' is used to determine the total number of appointments associated with each nurse.\", term='the number of appointments for each nurse', expression='count(*)')],\n",
       "              [TermExpressions(rationale='The SQL expression is counting the number of appointments for each nurse and ordering them to find the one with the most appointments.', term='the nurse with the most appointments', expression='count(*)'),\n",
       "               TermExpressions(rationale=\"The SQL expression selects the name of the nurse, which directly relates to the question asking for the nurse's name.\", term=\"the nurse's name\", expression='T1.name')]],\n",
       "             'physician,patient': [[TermExpressions(rationale='The SQL expression groups patients based on the physician treating them, which directly relates to identifying the physicians associated with each patient.', term='the physicians treating the patients', expression='GROUP BY T1.employeeid')],\n",
       "              [TermExpressions(rationale=\"The SQL expression 'count(*)' is used to count the number of patients associated with each physician, which directly relates to the question asking how many patients each physician is taking care of.\", term='the number of patients each physician is taking care of', expression='count(*)')],\n",
       "              [TermExpressions(rationale=\"The SQL expression 'count(*)' is used to calculate the total number of patients associated with each physician, which directly relates to the term 'the number of patients'.\", term='the number of patients', expression='count(*)')],\n",
       "              [TermExpressions(rationale=\"The SQL expression 'count(*)' is used to determine the total number of patients associated with each physician, which directly relates to the term 'the number of patients'.\", term='the number of patients', expression='count(*)'),\n",
       "               TermExpressions(rationale=\"The GROUP BY clause groups the results by 'T1.employeeid', which relates to the term 'each physician'.\", term='each physician', expression='GROUP BY T1.employeeid')],\n",
       "              [TermExpressions(rationale='The SQL expression uses the HAVING clause to filter groups of physicians based on the count of patients they are in charge of, specifically looking for those with a count greater than one.', term='physicians in charge of more than one patient', expression='count(*) > 1')],\n",
       "              [TermExpressions(rationale=\"The SQL expression is selecting the 'name' of physicians, which directly relates to the natural language term asking for the names of physicians.\", term='the names of physicians', expression='T1.name')]],\n",
       "             'block,room': [[TermExpressions(rationale=\"The SQL expression 'T1.blockfloor' directly refers to the block floor of the rooms, which is the main subject of the question.\", term='the block floor of each room', expression='T1.blockfloor')],\n",
       "              [TermExpressions(rationale=\"The SQL expression 'count(*)' is used to determine the total number of rooms associated with each block floor.\", term='the number of rooms', expression='count(*)'),\n",
       "               TermExpressions(rationale=\"The SQL expression 'T1.blockfloor' is used to identify each distinct block floor in the result set.\", term='each block floor', expression='T1.blockfloor')],\n",
       "              [TermExpressions(rationale=\"The SQL expression 'T1.blockcode' directly corresponds to the natural language term 'each room's block code' as it retrieves the block code associated with each room.\", term=\"each room's block code\", expression='T1.blockcode')],\n",
       "              [TermExpressions(rationale=\"The SQL expression 'count(*)' is used to calculate the total number of rooms associated with each block code.\", term='the number of rooms', expression='count(*)'),\n",
       "               TermExpressions(rationale=\"The SQL expression 'T1.blockcode' is used to identify each unique block code in the result set.\", term='the block code', expression='T1.blockcode')]],\n",
       "             'room': [[TermExpressions(rationale='The SQL expression checks for rooms that are not unavailable, which relates to the availability of rooms.', term='available rooms', expression='unavailable = 0')],\n",
       "              [TermExpressions(rationale=\"The SQL expression selects distinct values of 'blockcode' from the 'room' table, which directly relates to the question asking for distinct block codes.\", term='the distinct block codes', expression='DISTINCT blockcode')],\n",
       "              [TermExpressions(rationale=\"The SQL expression 'SELECT roomtype' is used to retrieve the distinct types of rooms available in the database, which directly relates to the natural language term 'room types'.\", term='the room types', expression='roomtype')],\n",
       "              [TermExpressions(rationale=\"The SQL expression 'count(DISTINCT roomtype)' is used to determine the number of unique room types in the 'room' table.\", term='the number of distinct room types', expression='count(DISTINCT roomtype)')]],\n",
       "             'medication': [[TermExpressions(rationale=\"The SQL expression retrieves the 'code' of a specific medication, which corresponds to the term being asked about in the question.\", term='the code of the medication', expression='code')],\n",
       "              [TermExpressions(rationale='The question asks for a specific medication associated with a brand name, which relates to the SQL expression filtering medications by the brand.', term='the medication with brand X', expression=\"Brand = 'X'\")],\n",
       "              [TermExpressions(rationale=\"The SQL expression 'GROUP BY brand' indicates that the medications are being categorized or aggregated based on their brand names.\", term='medications grouped by brand', expression='GROUP BY brand')]],\n",
       "             'prescribes,medication': [[TermExpressions(rationale='The SQL expression is selecting distinct physician IDs who prescribed a specific medication, which relates to identifying the unique physicians involved.', term='the distinct ids of physicians', expression='DISTINCT T1.physician')],\n",
       "              [TermExpressions(rationale='The SQL expression is selecting distinct physicians who are associated with a specific medication brand, which relates to identifying the physicians prescribing that medication.', term='the physicians who prescribe this medication', expression='SELECT DISTINCT T1.physician')]],\n",
       "             'physician,prescribes,medication': [[TermExpressions(rationale=\"The query is selecting distinct names from the physician table, which directly relates to the term 'the names of the physicians'.\", term='the names of the physicians', expression='T1.name')],\n",
       "              [TermExpressions(rationale=\"The SQL expression 'T1.name' refers to the names of the physicians, which corresponds to the term 'the names of the physicians'.\", term='the names of the physicians', expression='T1.name'),\n",
       "               TermExpressions(rationale=\"The SQL expression 'T1.position' refers to the positions of the physicians, which corresponds to the term 'the positions of the physicians'.\", term='the positions of the physicians', expression='T1.position')]],\n",
       "             'medication,prescribes': [[TermExpressions(rationale=\"The SQL expression 'count(*)' is used to count the number of medications prescribed, which directly relates to the term 'the number of medications'.\", term='the number of medications', expression='count(*)'),\n",
       "               TermExpressions(rationale=\"The SQL expression 'T1.name' is used to select the name of the medication, which relates to the term 'the name of the medication'.\", term='the name of the medication', expression='T1.name'),\n",
       "               TermExpressions(rationale=\"The SQL expression 'T1.brand' is used to group the results by brand, which relates to the term 'the brand of the medication'.\", term='the brand of the medication', expression='T1.brand')]]})"
      ]
     },
     "execution_count": 35,
     "metadata": {},
     "output_type": "execute_result"
    }
   ],
   "source": [
    "all_term_expression"
   ]
  },
  {
   "cell_type": "code",
   "execution_count": 13,
   "metadata": {},
   "outputs": [
    {
     "name": "stdout",
     "output_type": "stream",
     "text": [
      "[Table and Columns]\n",
      "Table Name: Physician\n",
      "  - 'EmployeeID'(text): Unique identifier for each physician.\n",
      "  - 'Name'(text): Full name of the physician.\n",
      "  - 'Position'(text): Job title or role of the physician.\n",
      "  - 'SSN'(text): Social Security Number of the physician.\n",
      "Table Name: Department\n",
      "  - 'Depart\n"
     ]
    }
   ],
   "source": [
    "with (proj_path / 'db_data' / 'sparc_description.json').open() as f:\n",
    "    all_descriptions = json.load(f)\n",
    "\n",
    "print(get_schema_str(\n",
    "    schema=sparc_tables['hospital_1'].db_schema, \n",
    "    col_explanation=all_descriptions['hospital_1'])[:300]\n",
    ")"
   ]
  },
  {
   "cell_type": "markdown",
   "metadata": {},
   "source": [
    "# Query Access Area"
   ]
  },
  {
   "cell_type": "code",
   "execution_count": 18,
   "metadata": {},
   "outputs": [
    {
     "data": {
      "text/plain": [
       "[(13216584, 100000001, 101, 1, '2008-04-24 10:00', '2008-04-24 11:00', 'A')]"
      ]
     },
     "execution_count": 18,
     "metadata": {},
     "output_type": "execute_result"
    }
   ],
   "source": [
    "dtype_functions = {\n",
    "    'numeric': pd.to_numeric,\n",
    "    'datetime': pd.to_datetime\n",
    "}\n",
    "\n",
    "def null_percentage(s: pd.Series) -> float:\n",
    "    return s.isnull().sum() / len(s)\n",
    "\n",
    "column_info = {}\n",
    "for col in df.columns:\n",
    "    # dtype\n",
    "    null_index = df[col].isnull()\n",
    "    for logical_type in ['numeric', 'datetime', 'text']:\n",
    "        if logical_type in ['numeric', 'datetime']:\n",
    "            try:\n",
    "                df.loc[~null_index, col] = dtype_functions[logical_type](df.loc[~null_index, col], errors='raise')\n",
    "                attribute_type = 'ordinal'\n",
    "                break\n",
    "            except ValueError as e:\n",
    "                # print(f'-- {col}: {logical_type} {e}')\n",
    "                continue\n",
    "            except TypeError as e:\n",
    "                # print(f'-- {col}: {logical_type} {e}')\n",
    "                continue\n",
    "        else:\n",
    "            attribute_type = 'nominal'\n",
    "            break\n",
    "    print(f'{col}: {logical_type} {attribute_type}')\n",
    "    # unique values\n",
    "    unique_values = df[col].unique()\n",
    "    # min, max\n",
    "    min_val = df[col].min()\n",
    "    max_val = df[col].max()\n",
    "    # null percentage\n",
    "    null_percent = null_percentage(df[col])\n",
    "\n",
    "    column_info[col] = {\n",
    "        'logical_type': logical_type,\n",
    "        'attribute_type': attribute_type,\n",
    "        'unique_values': unique_values,\n",
    "        'min': min_val,\n",
    "        'max': max_val,\n",
    "        'null_percentage': null_percent\n",
    "    }"
   ]
  }
 ],
 "metadata": {
  "kernelspec": {
   "display_name": ".venv",
   "language": "python",
   "name": "python3"
  },
  "language_info": {
   "codemirror_mode": {
    "name": "ipython",
    "version": 3
   },
   "file_extension": ".py",
   "mimetype": "text/x-python",
   "name": "python",
   "nbconvert_exporter": "python",
   "pygments_lexer": "ipython3",
   "version": "3.11.9"
  }
 },
 "nbformat": 4,
 "nbformat_minor": 2
}
