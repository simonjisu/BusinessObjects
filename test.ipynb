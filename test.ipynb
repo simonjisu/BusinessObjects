{
 "cells": [
  {
   "cell_type": "code",
   "execution_count": 1,
   "metadata": {},
   "outputs": [],
   "source": [
    "%load_ext autoreload\n",
    "%autoreload 2"
   ]
  },
  {
   "cell_type": "code",
   "execution_count": 2,
   "metadata": {},
   "outputs": [],
   "source": [
    "import sys\n",
    "from pathlib import Path\n",
    "proj_path = Path('.').resolve()\n",
    "sys.path.append(str(proj_path))\n",
    "\n",
    "import json\n",
    "import sqlglot\n",
    "import sqlglot.expressions as exp\n",
    "from tqdm import tqdm\n",
    "import numpy as np\n",
    "import pandas as pd\n",
    "from typing import Optional\n",
    "from collections import defaultdict\n",
    "from dotenv import load_dotenv, find_dotenv\n",
    "from langchain_openai import ChatOpenAI\n",
    "from langchain_core.prompts import PromptTemplate\n",
    "from langchain_core.output_parsers import JsonOutputParser\n",
    "_ = load_dotenv(find_dotenv())\n",
    "\n",
    "from src.db_utils import get_schema_str, get_data_dict\n",
    "from src.pymodels import DatabaseModel, QuestionSQL, SparcSample, SpiderSample, Description\n",
    "from src.prompts import Prompts\n",
    "from src.database import SqliteDatabase\n",
    "from src.data_preprocess import (\n",
    "    load_raw_data,\n",
    "    process_all_tables,\n",
    "    filter_samples_by_count_spider_bird,\n",
    "    process_samples_bird,\n",
    "    split_train_dev_test,\n",
    "    save_samples_spider_bird,\n",
    "    load_samples_spider_bird,\n",
    ")"
   ]
  },
  {
   "cell_type": "code",
   "execution_count": null,
   "metadata": {},
   "outputs": [
    {
     "name": "stderr",
     "output_type": "stream",
     "text": [
      "  0%|          | 0/10956 [00:00<?, ?it/s]"
     ]
    },
    {
     "name": "stderr",
     "output_type": "stream",
     "text": [
      "100%|██████████| 10956/10956 [00:03<00:00, 2953.83it/s]\n"
     ]
    },
    {
     "name": "stdout",
     "output_type": "stream",
     "text": [
      "6535 2155 2260\n"
     ]
    }
   ],
   "source": [
    "bird_path = proj_path / 'data' / 'bird'\n",
    "tables, train_data, dev_data = load_raw_data(bird_path, load_test=False)\n",
    "\n",
    "with (proj_path / 'data' / 'bird_description.json').open() as f:\n",
    "    all_descriptions = json.load(f)\n",
    "\n",
    "bird_tables = process_all_tables(tables, descriptions=all_descriptions)\n",
    "\n",
    "all_data = filter_samples_by_count_spider_bird(train_data+dev_data, n=10)\n",
    "skip = [622, 6916, 6917, 6930, 6967, 6987]\n",
    "bird_samples = process_samples_bird(all_data, bird_tables, skip=skip)\n",
    "train_samples, dev_samples, test_samples = split_train_dev_test(bird_samples, train_ratio=0.6, dev_ratio=0.2)\n",
    "# makesure the dev/test sql is not in the train sql\n",
    "\n",
    "save_samples_spider_bird(train_samples, proj_path / 'data' / 'bird_train.json')\n",
    "save_samples_spider_bird(dev_samples+test_samples, proj_path / 'data' / 'bird_dev.json')\n",
    "print(len(train_samples), len(dev_samples), len(test_samples))"
   ]
  },
  {
   "cell_type": "code",
   "execution_count": 5,
   "metadata": {},
   "outputs": [],
   "source": [
    "df_train = pd.DataFrame({\n",
    "    'db_id': [x.db_id for x in train_samples], \n",
    "    'sql': [x.final.sql for x in train_samples],\n",
    "    'sample_id': [x.sample_id for x in train_samples]\n",
    "})\n",
    "df_dev = pd.DataFrame({\n",
    "    'db_id': [x.db_id for x in dev_samples] + [x.db_id for x in test_samples],\n",
    "    'sql': [x.final.sql for x in dev_samples] + [x.final.sql for x in test_samples],\n",
    "    'sample_id': [x.sample_id for x in dev_samples] + [x.sample_id for x in test_samples]\n",
    "})"
   ]
  },
  {
   "cell_type": "code",
   "execution_count": 99,
   "metadata": {},
   "outputs": [],
   "source": [
    "df_train.to_csv(proj_path / 'data' / 'bird_train.csv', index=False)\n",
    "df_dev.to_csv(proj_path / 'data' / 'bird_dev.csv', index=False)"
   ]
  },
  {
   "cell_type": "code",
   "execution_count": 23,
   "metadata": {},
   "outputs": [
    {
     "data": {
      "text/plain": [
       "db_id\n",
       "address                          90\n",
       "airline                          55\n",
       "app_store                        37\n",
       "authors                         104\n",
       "beer_factory                     78\n",
       "                               ... \n",
       "university                       90\n",
       "video_games                     120\n",
       "works_cycles                    284\n",
       "world                            59\n",
       "world_development_indicators     94\n",
       "Length: 79, dtype: int64"
      ]
     },
     "execution_count": 23,
     "metadata": {},
     "output_type": "execute_result"
    }
   ],
   "source": [
    "df_train.groupby('db_id').size()"
   ]
  },
  {
   "cell_type": "code",
   "execution_count": 24,
   "metadata": {},
   "outputs": [
    {
     "data": {
      "text/plain": [
       "db_id\n",
       "address                          60\n",
       "airline                          37\n",
       "app_store                        26\n",
       "authors                          70\n",
       "beer_factory                     53\n",
       "                               ... \n",
       "university                       60\n",
       "video_games                      81\n",
       "works_cycles                    190\n",
       "world                            40\n",
       "world_development_indicators     63\n",
       "Length: 79, dtype: int64"
      ]
     },
     "execution_count": 24,
     "metadata": {},
     "output_type": "execute_result"
    }
   ],
   "source": [
    "df_dev.groupby('db_id').size()"
   ]
  },
  {
   "cell_type": "code",
   "execution_count": 6,
   "metadata": {},
   "outputs": [],
   "source": [
    "import sqlparse\n",
    "from src.parsing_sql import (\n",
    "    extract_aliases, \n",
    "    extract_selection, \n",
    "    extract_condition,\n",
    "    extract_aggregation,\n",
    "    extract_nested_setoperation,\n",
    "    extract_others,\n",
    "    Schema\n",
    ")\n",
    "from src.eval_complexity import (\n",
    "    partial_match\n",
    ")\n",
    "import spacy\n",
    "nlp_spacy = spacy.load('en_core_web_md')"
   ]
  },
  {
   "cell_type": "code",
   "execution_count": 34,
   "metadata": {},
   "outputs": [],
   "source": [
    "for i, row in sql_db_id_dev.iterrows():\n",
    "    break"
   ]
  },
  {
   "cell_type": "code",
   "execution_count": 35,
   "metadata": {},
   "outputs": [
    {
     "data": {
      "text/plain": [
       "sql          SELECT COUNT(T1.TransactionID) FROM transactio...\n",
       "sample_id                                                10930\n",
       "Name: 2143, dtype: object"
      ]
     },
     "execution_count": 35,
     "metadata": {},
     "output_type": "execute_result"
    }
   ],
   "source": [
    "row"
   ]
  },
  {
   "cell_type": "code",
   "execution_count": 37,
   "metadata": {},
   "outputs": [
    {
     "name": "stderr",
     "output_type": "stream",
     "text": [
      "DB movie_platform: 100%|██████████| 67/67 [00:09<00:00,  7.27it/s]\n",
      "DB book_publishing_company: 100%|██████████| 30/30 [00:01<00:00, 16.35it/s]\n",
      "DB retail_complains: 100%|██████████| 68/68 [00:10<00:00,  6.38it/s]\n",
      "DB movies_4: 100%|██████████| 64/64 [00:08<00:00,  7.42it/s]\n",
      "DB codebase_comments: 100%|██████████| 50/50 [00:04<00:00, 10.99it/s]\n",
      "DB trains: 100%|██████████| 16/16 [00:00<00:00, 37.06it/s]\n",
      "DB movie: 100%|██████████| 19/19 [00:00<00:00, 26.09it/s]\n",
      "DB social_media: 100%|██████████| 32/32 [00:01<00:00, 19.19it/s]\n",
      "DB cs_semester: 100%|██████████| 46/46 [00:04<00:00,  9.75it/s]\n",
      "DB computer_student: 100%|██████████| 29/29 [00:01<00:00, 19.20it/s]\n",
      "DB talkingdata: 100%|██████████| 83/83 [00:13<00:00,  6.08it/s]\n",
      "DB law_episode: 100%|██████████| 46/46 [00:04<00:00, 10.71it/s]\n",
      "DB synthea: 100%|██████████| 74/74 [00:13<00:00,  5.46it/s]\n",
      "DB car_retails: 100%|██████████| 51/51 [00:06<00:00,  8.40it/s]\n",
      "DB restaurant: 100%|██████████| 47/47 [00:03<00:00, 12.26it/s]\n",
      "DB soccer_2016: 100%|██████████| 104/104 [00:20<00:00,  5.01it/s]\n",
      "DB music_tracker: 100%|██████████| 18/18 [00:00<00:00, 27.39it/s]\n",
      "DB world_development_indicators: 100%|██████████| 63/63 [00:08<00:00,  7.62it/s]\n",
      "DB movielens: 100%|██████████| 40/40 [00:03<00:00, 10.88it/s]\n",
      "DB superstore: 100%|██████████| 47/47 [00:05<00:00,  8.42it/s]\n",
      "DB shooting: 100%|██████████| 12/12 [00:00<00:00, 44.95it/s]\n",
      "DB genes: 100%|██████████| 10/10 [00:00<00:00, 48.52it/s]\n",
      "DB app_store: 100%|██████████| 26/26 [00:01<00:00, 21.87it/s]\n",
      "DB regional_sales: 100%|██████████| 66/66 [00:09<00:00,  6.71it/s]\n",
      "DB european_football_1: 100%|██████████| 23/23 [00:01<00:00, 16.00it/s]\n",
      "DB professional_basketball: 100%|██████████| 63/63 [00:09<00:00,  6.68it/s]\n",
      "DB shakespeare: 100%|██████████| 44/44 [00:03<00:00, 11.37it/s]\n",
      "DB cars: 100%|██████████| 34/34 [00:02<00:00, 14.82it/s]\n",
      "DB donor: 100%|██████████| 64/64 [00:07<00:00,  8.42it/s]\n",
      "DB video_games: 100%|██████████| 81/81 [00:13<00:00,  5.90it/s]\n",
      "DB authors: 100%|██████████| 70/70 [00:08<00:00,  7.79it/s]\n",
      "DB college_completion: 100%|██████████| 31/31 [00:02<00:00, 11.36it/s]\n",
      "DB public_review_platform: 100%|██████████| 153/153 [00:50<00:00,  3.02it/s]\n",
      "DB citeseer: 100%|██████████| 8/8 [00:00<00:00, 61.64it/s]\n",
      "DB simpson_episodes: 100%|██████████| 84/84 [00:14<00:00,  5.80it/s]\n",
      "DB student_loan: 100%|██████████| 82/82 [00:10<00:00,  8.08it/s]\n",
      "DB mental_health_survey: 100%|██████████| 20/20 [00:00<00:00, 20.20it/s]\n",
      "DB disney: 100%|██████████| 46/46 [00:03<00:00, 12.65it/s]\n",
      "DB legislator: 100%|██████████| 71/71 [00:09<00:00,  7.62it/s]\n",
      "DB olympics: 100%|██████████| 68/68 [00:10<00:00,  6.56it/s]\n",
      "DB address: 100%|██████████| 60/60 [00:07<00:00,  8.23it/s]\n",
      "DB beer_factory: 100%|██████████| 53/53 [00:06<00:00,  8.50it/s]\n",
      "DB sales: 100%|██████████| 43/43 [00:03<00:00, 12.64it/s]\n",
      "DB menu: 100%|██████████| 44/44 [00:03<00:00, 12.88it/s]\n",
      "DB shipping: 100%|██████████| 43/43 [00:03<00:00, 11.26it/s]\n",
      "DB language_corpus: 100%|██████████| 55/55 [00:05<00:00, 10.61it/s]\n",
      "DB airline: 100%|██████████| 37/37 [00:03<00:00, 11.45it/s]\n",
      "DB books: 100%|██████████| 80/80 [00:12<00:00,  6.17it/s]\n",
      "DB food_inspection_2: 100%|██████████| 56/56 [00:07<00:00,  7.77it/s]\n",
      "DB coinmarketcap: 100%|██████████| 20/20 [00:00<00:00, 21.07it/s]\n",
      "DB retail_world: 100%|██████████| 150/150 [00:42<00:00,  3.50it/s]\n",
      "DB retails: 100%|██████████| 98/98 [00:18<00:00,  5.19it/s]\n",
      "DB ice_hockey_draft: 100%|██████████| 32/32 [00:02<00:00, 13.97it/s]\n",
      "DB works_cycles: 100%|██████████| 190/190 [01:07<00:00,  2.81it/s]\n",
      "DB image_and_language: 100%|██████████| 56/56 [00:06<00:00,  9.15it/s]\n",
      "DB hockey: 100%|██████████| 83/83 [00:14<00:00,  5.81it/s]\n",
      "DB world: 100%|██████████| 40/40 [00:02<00:00, 15.11it/s]\n",
      "DB music_platform_2: 100%|██████████| 28/28 [00:01<00:00, 19.00it/s]\n",
      "DB university: 100%|██████████| 60/60 [00:06<00:00,  8.85it/s]\n",
      "DB sales_in_weather: 100%|██████████| 32/32 [00:02<00:00, 11.19it/s]\n",
      "DB mondial_geo: 100%|██████████| 118/118 [00:29<00:00,  3.96it/s]\n",
      "DB software_company: 100%|██████████| 30/30 [00:01<00:00, 16.39it/s]\n",
      "DB chicago_crime: 100%|██████████| 76/76 [00:11<00:00,  6.47it/s]\n",
      "DB food_inspection: 100%|██████████| 34/34 [00:02<00:00, 12.14it/s]\n",
      "DB cookbook: 100%|██████████| 28/28 [00:01<00:00, 18.75it/s]\n",
      "DB human_resources: 100%|██████████| 24/24 [00:01<00:00, 18.70it/s]\n",
      "DB bike_share_1: 100%|██████████| 46/46 [00:05<00:00,  7.99it/s]\n",
      "DB movie_3: 100%|██████████| 130/130 [00:36<00:00,  3.60it/s]\n",
      "DB california_schools: 100%|██████████| 36/36 [00:03<00:00, 11.10it/s]\n",
      "DB financial: 100%|██████████| 43/43 [00:04<00:00,  9.49it/s]\n",
      "DB toxicology: 100%|██████████| 58/58 [00:06<00:00,  8.33it/s]\n",
      "DB card_games: 100%|██████████| 77/77 [00:10<00:00,  7.66it/s]\n",
      "DB codebase_community: 100%|██████████| 75/75 [00:09<00:00,  7.70it/s]\n",
      "DB superhero: 100%|██████████| 52/52 [00:05<00:00,  9.53it/s]\n",
      "DB formula_1: 100%|██████████| 70/70 [00:10<00:00,  6.58it/s]\n",
      "DB european_football_2: 100%|██████████| 52/52 [00:06<00:00,  8.46it/s]\n",
      "DB thrombosis_prediction: 100%|██████████| 66/66 [00:10<00:00,  6.30it/s]\n",
      "DB student_club: 100%|██████████| 64/64 [00:07<00:00,  8.15it/s]\n",
      "DB debit_card_specializing: 100%|██████████| 26/26 [00:01<00:00, 14.11it/s]\n"
     ]
    }
   ],
   "source": [
    "db_ids = df_dev['db_id'].unique()\n",
    "error_ids = []\n",
    "results = defaultdict()\n",
    "for db_id in db_ids:\n",
    "    sql_db_id_dev = df_dev.loc[df_dev['db_id'] == db_id, ['sql', 'sample_id']]\n",
    "    sql_db_id_train = df_train.loc[df_train['db_id'] == db_id, ['sql', 'sample_id']]\n",
    "    # spacy similarity\n",
    "    sql_dev = sql_db_id_dev['sql'].apply(lambda x: nlp_spacy(x))\n",
    "    sql_train = sql_db_id_train['sql'].apply(lambda x: nlp_spacy(x))\n",
    "    semantic_sim = np.zeros((len(sql_dev), len(sql_train)))\n",
    "    for i, sql_d in enumerate(sql_dev):\n",
    "        for j, sql_t in enumerate(sql_train):\n",
    "            semantic_sim[i, j] = sql_d.similarity(sql_t)\n",
    "\n",
    "    # structural similarity\n",
    "    schema = Schema(bird_tables[db_id].db_schema)\n",
    "    \n",
    "    for i, (_, row_d) in tqdm(enumerate(sql_db_id_dev.iterrows()), total=len(sql_db_id_dev), desc=f'DB {db_id}'):\n",
    "        sql_d = row_d['sql']\n",
    "        sid_d = row_d['sample_id']\n",
    "        struct_sim = np.zeros((len(sql_dev), len(sql_train)))\n",
    "        try:\n",
    "            stmt_d = sqlparse.parse(sql_d)[0]\n",
    "            alias_d = extract_aliases(stmt_d)\n",
    "            \n",
    "            sel_d = extract_selection(stmt_d, alias_d, schema)[0]\n",
    "            cond_d = extract_condition(stmt_d, alias_d, schema)[0]\n",
    "            agg_d = extract_aggregation(stmt_d, alias_d, schema)[0]\n",
    "            nested_d = extract_nested_setoperation(stmt_d)\n",
    "            others_d = extract_others(stmt_d, alias_d, schema)\n",
    "            distinct_d = others_d.get('distinct', False)\n",
    "            orderby_d = others_d.get('order by', False)\n",
    "            limit_d = others_d.get('limit', False)\n",
    "        except Exception as e:\n",
    "            error_ids.append(('dev', sid_d, str(e)))\n",
    "            continue\n",
    "\n",
    "        for j, (_, row_t) in enumerate(sql_db_id_train.iterrows()):\n",
    "            sql_t = row_t['sql']\n",
    "            sid_t = row_t['sample_id']\n",
    "            try:    \n",
    "                stmt_t = sqlparse.parse(sql_t)[0]\n",
    "                alias_t = extract_aliases(stmt_t)\n",
    "\n",
    "                sel_t = extract_selection(stmt_t, alias_t, schema)[0]\n",
    "                cond_t = extract_condition(stmt_t, alias_t, schema)[0]\n",
    "                agg_t = extract_aggregation(stmt_t, alias_t, schema)[0]\n",
    "                nested_t = extract_nested_setoperation(stmt_t)\n",
    "                others_t = extract_others(stmt_t, alias_t, schema)\n",
    "                distinct_t = others_t.get('distinct', False)\n",
    "                orderby_t = others_t.get('order by', False)\n",
    "                limit_t = others_t.get('limit', False)\n",
    "            except Exception as e:\n",
    "                if ('tr', sid_t, str(e)) not in error_ids:\n",
    "                    error_ids.append(('tr', sid_t, str(e)))\n",
    "                continue\n",
    "\n",
    "            sel_iou, *_ = partial_match(sel_d, sel_t)\n",
    "            cond_iou, *_ = partial_match(cond_d, cond_t)\n",
    "            agg_iou, *_ = partial_match(agg_d, agg_t)\n",
    "            dis = int(distinct_d == distinct_t)\n",
    "            ord = int(orderby_d == orderby_t)\n",
    "            lim = int(limit_d == limit_t)\n",
    "            struct_sim[i, j] = (sel_iou + cond_iou + agg_iou + (dis + ord + lim)/3)/4\n",
    "\n",
    "    results[db_id] = {\n",
    "        'sem': semantic_sim,\n",
    "        'struct': struct_sim\n",
    "    }  "
   ]
  },
  {
   "cell_type": "code",
   "execution_count": 100,
   "metadata": {},
   "outputs": [],
   "source": [
    "import pickle \n",
    "with open(proj_path / 'data' / 'errors_bird.pkl', 'wb') as f:\n",
    "    pickle.dump(error_ids, f)"
   ]
  },
  {
   "cell_type": "code",
   "execution_count": 67,
   "metadata": {},
   "outputs": [
    {
     "ename": "AttributeError",
     "evalue": "'NoneType' object has no attribute 'lower'",
     "output_type": "error",
     "traceback": [
      "\u001b[0;31m---------------------------------------------------------------------------\u001b[0m",
      "\u001b[0;31mAttributeError\u001b[0m                            Traceback (most recent call last)",
      "Cell \u001b[0;32mIn[67], line 15\u001b[0m\n\u001b[1;32m     13\u001b[0m agg_d \u001b[38;5;241m=\u001b[39m extract_aggregation(statement, aliases, schema)[\u001b[38;5;241m0\u001b[39m]\n\u001b[1;32m     14\u001b[0m nested_d \u001b[38;5;241m=\u001b[39m extract_nested_setoperation(statement)\n\u001b[0;32m---> 15\u001b[0m others_d \u001b[38;5;241m=\u001b[39m \u001b[43mextract_others\u001b[49m\u001b[43m(\u001b[49m\u001b[43mstatement\u001b[49m\u001b[43m,\u001b[49m\u001b[43m \u001b[49m\u001b[43maliases\u001b[49m\u001b[43m,\u001b[49m\u001b[43m \u001b[49m\u001b[43mschema\u001b[49m\u001b[43m)\u001b[49m\n\u001b[1;32m     16\u001b[0m distinct_d \u001b[38;5;241m=\u001b[39m others_d\u001b[38;5;241m.\u001b[39mget(\u001b[38;5;124m'\u001b[39m\u001b[38;5;124mdistinct\u001b[39m\u001b[38;5;124m'\u001b[39m, \u001b[38;5;28;01mFalse\u001b[39;00m)\n\u001b[1;32m     17\u001b[0m orderby_d \u001b[38;5;241m=\u001b[39m others_d\u001b[38;5;241m.\u001b[39mget(\u001b[38;5;124m'\u001b[39m\u001b[38;5;124morder by\u001b[39m\u001b[38;5;124m'\u001b[39m, \u001b[38;5;28;01mFalse\u001b[39;00m)\n",
      "File \u001b[0;32m~/code/BusinessObjects/src/parsing_sql.py:797\u001b[0m, in \u001b[0;36mextract_others\u001b[0;34m(statement, aliases, schema)\u001b[0m\n\u001b[1;32m    795\u001b[0m statements \u001b[38;5;241m=\u001b[39m split_set_operation(statement)\n\u001b[1;32m    796\u001b[0m \u001b[38;5;28;01mfor\u001b[39;00m stmt \u001b[38;5;129;01min\u001b[39;00m statements:\n\u001b[0;32m--> 797\u001b[0m     others \u001b[38;5;241m=\u001b[39m \u001b[43mextract_distinct_orderby_limit\u001b[49m\u001b[43m(\u001b[49m\u001b[43mstmt\u001b[49m\u001b[43m,\u001b[49m\u001b[43m \u001b[49m\u001b[43maliases\u001b[49m\u001b[43m,\u001b[49m\u001b[43m \u001b[49m\u001b[43mschema\u001b[49m\u001b[43m,\u001b[49m\u001b[43m \u001b[49m\u001b[43mothers\u001b[49m\u001b[43m)\u001b[49m\n\u001b[1;32m    798\u001b[0m \u001b[38;5;28;01mreturn\u001b[39;00m others\n",
      "File \u001b[0;32m~/code/BusinessObjects/src/parsing_sql.py:840\u001b[0m, in \u001b[0;36mextract_distinct_orderby_limit\u001b[0;34m(stmt, aliases, schema, others)\u001b[0m\n\u001b[1;32m    837\u001b[0m             \u001b[38;5;28mord\u001b[39m\u001b[38;5;241m.\u001b[39mappend(token)\n\u001b[1;32m    839\u001b[0m \u001b[38;5;28;01mif\u001b[39;00m \u001b[38;5;28mord\u001b[39m \u001b[38;5;129;01mand\u001b[39;00m sqlparse\u001b[38;5;241m.\u001b[39mparse(\u001b[38;5;28mstr\u001b[39m(TokenList(\u001b[38;5;28mord\u001b[39m))):\n\u001b[0;32m--> 840\u001b[0m     orderby_tokens\u001b[38;5;241m.\u001b[39mappend(\u001b[43mget_orderby_expression\u001b[49m\u001b[43m(\u001b[49m\u001b[38;5;28;43mord\u001b[39;49m\u001b[43m,\u001b[49m\u001b[43m \u001b[49m\u001b[43maliases\u001b[49m\u001b[43m,\u001b[49m\u001b[43m \u001b[49m\u001b[43mschema\u001b[49m\u001b[43m)\u001b[49m)\n\u001b[1;32m    841\u001b[0m others[\u001b[38;5;124m'\u001b[39m\u001b[38;5;124morder by\u001b[39m\u001b[38;5;124m'\u001b[39m]\u001b[38;5;241m.\u001b[39mupdate(orderby_tokens)\n\u001b[1;32m    842\u001b[0m \u001b[38;5;28;01mreturn\u001b[39;00m others\n",
      "File \u001b[0;32m~/code/BusinessObjects/src/parsing_sql.py:847\u001b[0m, in \u001b[0;36mget_orderby_expression\u001b[0;34m(ord, aliases, schema)\u001b[0m\n\u001b[1;32m    845\u001b[0m expression \u001b[38;5;241m=\u001b[39m []\n\u001b[1;32m    846\u001b[0m \u001b[38;5;28;01mfor\u001b[39;00m tkn \u001b[38;5;129;01min\u001b[39;00m sqlparse\u001b[38;5;241m.\u001b[39mparse(\u001b[38;5;28mstr\u001b[39m(TokenList(\u001b[38;5;28mord\u001b[39m)))[\u001b[38;5;241m0\u001b[39m]\u001b[38;5;241m.\u001b[39mtokens:\n\u001b[0;32m--> 847\u001b[0m     _ \u001b[38;5;241m=\u001b[39m \u001b[43mextract_columns_from_expression\u001b[49m\u001b[43m(\u001b[49m\u001b[43mtkn\u001b[49m\u001b[43m,\u001b[49m\u001b[43m \u001b[49m\u001b[43maliases\u001b[49m\u001b[43m,\u001b[49m\u001b[43m \u001b[49m\u001b[43mschema\u001b[49m\u001b[43m,\u001b[49m\u001b[43m \u001b[49m\u001b[43mexpression\u001b[49m\u001b[43m)\u001b[49m\n\u001b[1;32m    848\u001b[0m \u001b[38;5;28;01mreturn\u001b[39;00m \u001b[38;5;28mstr\u001b[39m(\u001b[38;5;124m'\u001b[39m\u001b[38;5;124m'\u001b[39m\u001b[38;5;241m.\u001b[39mjoin(expression))\u001b[38;5;241m.\u001b[39mstrip()\u001b[38;5;241m.\u001b[39mlower()\n",
      "File \u001b[0;32m~/code/BusinessObjects/src/parsing_sql.py:496\u001b[0m, in \u001b[0;36mextract_columns_from_expression\u001b[0;34m(token, aliases, schema, expression)\u001b[0m\n\u001b[1;32m    494\u001b[0m \u001b[38;5;28;01melif\u001b[39;00m \u001b[38;5;28misinstance\u001b[39m(token, (Operation, Parenthesis)):\n\u001b[1;32m    495\u001b[0m     \u001b[38;5;28;01mfor\u001b[39;00m sub_token \u001b[38;5;129;01min\u001b[39;00m token\u001b[38;5;241m.\u001b[39mtokens:\n\u001b[0;32m--> 496\u001b[0m         columns\u001b[38;5;241m.\u001b[39mupdate(\u001b[43mextract_columns_from_expression\u001b[49m\u001b[43m(\u001b[49m\u001b[43msub_token\u001b[49m\u001b[43m,\u001b[49m\u001b[43m \u001b[49m\u001b[43maliases\u001b[49m\u001b[43m,\u001b[49m\u001b[43m \u001b[49m\u001b[43mschema\u001b[49m\u001b[43m,\u001b[49m\u001b[43m \u001b[49m\u001b[43mexpression\u001b[49m\u001b[43m)\u001b[49m)\n\u001b[1;32m    497\u001b[0m \u001b[38;5;28;01melse\u001b[39;00m:\n\u001b[1;32m    498\u001b[0m     \u001b[38;5;66;03m# Other tokens, possibly operators or literals\u001b[39;00m\n\u001b[1;32m    499\u001b[0m     expression\u001b[38;5;241m.\u001b[39mappend(\u001b[38;5;28mstr\u001b[39m(token))\n",
      "File \u001b[0;32m~/code/BusinessObjects/src/parsing_sql.py:484\u001b[0m, in \u001b[0;36mextract_columns_from_expression\u001b[0;34m(token, aliases, schema, expression)\u001b[0m\n\u001b[1;32m    482\u001b[0m \u001b[38;5;66;03m# print(token, token.ttype, type(token))\u001b[39;00m\n\u001b[1;32m    483\u001b[0m \u001b[38;5;28;01mif\u001b[39;00m \u001b[38;5;28misinstance\u001b[39m(token, Identifier) \u001b[38;5;129;01mor\u001b[39;00m token\u001b[38;5;241m.\u001b[39mttype \u001b[38;5;129;01mis\u001b[39;00m tks\u001b[38;5;241m.\u001b[39mWildcard:\n\u001b[0;32m--> 484\u001b[0m     column_name \u001b[38;5;241m=\u001b[39m \u001b[43mget_full_column_name\u001b[49m\u001b[43m(\u001b[49m\u001b[43mtoken\u001b[49m\u001b[43m,\u001b[49m\u001b[43m \u001b[49m\u001b[43maliases\u001b[49m\u001b[43m,\u001b[49m\u001b[43m \u001b[49m\u001b[43mschema\u001b[49m\u001b[43m)\u001b[49m\n\u001b[1;32m    485\u001b[0m     columns\u001b[38;5;241m.\u001b[39madd(column_name)\n\u001b[1;32m    486\u001b[0m     expression\u001b[38;5;241m.\u001b[39mappend(column_name)\n",
      "File \u001b[0;32m~/code/BusinessObjects/src/parsing_sql.py:451\u001b[0m, in \u001b[0;36mget_full_column_name\u001b[0;34m(token, aliases, schema)\u001b[0m\n\u001b[1;32m    447\u001b[0m \u001b[38;5;250m\u001b[39m\u001b[38;5;124;03m\"\"\"\u001b[39;00m\n\u001b[1;32m    448\u001b[0m \u001b[38;5;124;03mReturns the fully qualified column name (table.column) from a token.\u001b[39;00m\n\u001b[1;32m    449\u001b[0m \u001b[38;5;124;03m\"\"\"\u001b[39;00m\n\u001b[1;32m    450\u001b[0m \u001b[38;5;28;01mif\u001b[39;00m \u001b[38;5;28misinstance\u001b[39m(token, Identifier):\n\u001b[0;32m--> 451\u001b[0m     column_name \u001b[38;5;241m=\u001b[39m \u001b[43mtoken\u001b[49m\u001b[38;5;241;43m.\u001b[39;49m\u001b[43mget_real_name\u001b[49m\u001b[43m(\u001b[49m\u001b[43m)\u001b[49m\u001b[38;5;241;43m.\u001b[39;49m\u001b[43mlower\u001b[49m()\n\u001b[1;32m    452\u001b[0m     \u001b[38;5;28;01mif\u001b[39;00m aliases[\u001b[38;5;124m'\u001b[39m\u001b[38;5;124mcolumn\u001b[39m\u001b[38;5;124m'\u001b[39m]\u001b[38;5;241m.\u001b[39mget(column_name):\n\u001b[1;32m    453\u001b[0m         real_column_name \u001b[38;5;241m=\u001b[39m aliases[\u001b[38;5;124m'\u001b[39m\u001b[38;5;124mcolumn\u001b[39m\u001b[38;5;124m'\u001b[39m][column_name]\n",
      "\u001b[0;31mAttributeError\u001b[0m: 'NoneType' object has no attribute 'lower'"
     ]
    }
   ],
   "source": [
    "for typ, sample_id, msg in set(error_ids):\n",
    "    if typ == 'dev':\n",
    "        df = df_dev\n",
    "    else:\n",
    "        df = df_train\n",
    "    \n",
    "    sql = df_dev.loc[df_dev['sample_id'] == 7755, 'sql'].values[0]\n",
    "    statement = sqlparse.parse(sql)[0]\n",
    "    aliases = extract_aliases(statement)\n",
    "    \n",
    "    sel_d = extract_selection(statement, aliases, schema)[0]\n",
    "    cond_d = extract_condition(statement, aliases, schema)[0]\n",
    "    agg_d = extract_aggregation(statement, aliases, schema)[0]\n",
    "    nested_d = extract_nested_setoperation(statement)\n",
    "    others_d = extract_others(statement, aliases, schema)\n",
    "    distinct_d = others_d.get('distinct', False)\n",
    "    orderby_d = others_d.get('order by', False)\n",
    "    limit_d = others_d.get('limit', False)\n",
    "    \n",
    "    break"
   ]
  },
  {
   "cell_type": "code",
   "execution_count": 68,
   "metadata": {},
   "outputs": [
    {
     "data": {
      "text/html": [
       "<div>\n",
       "<style scoped>\n",
       "    .dataframe tbody tr th:only-of-type {\n",
       "        vertical-align: middle;\n",
       "    }\n",
       "\n",
       "    .dataframe tbody tr th {\n",
       "        vertical-align: top;\n",
       "    }\n",
       "\n",
       "    .dataframe thead th {\n",
       "        text-align: right;\n",
       "    }\n",
       "</style>\n",
       "<table border=\"1\" class=\"dataframe\">\n",
       "  <thead>\n",
       "    <tr style=\"text-align: right;\">\n",
       "      <th></th>\n",
       "      <th>db_id</th>\n",
       "      <th>sql</th>\n",
       "      <th>sample_id</th>\n",
       "    </tr>\n",
       "  </thead>\n",
       "  <tbody>\n",
       "    <tr>\n",
       "      <th>1517</th>\n",
       "      <td>hockey</td>\n",
       "      <td>SELECT name FROM Teams WHERE year = 2006 GROUP...</td>\n",
       "      <td>7755</td>\n",
       "    </tr>\n",
       "  </tbody>\n",
       "</table>\n",
       "</div>"
      ],
      "text/plain": [
       "       db_id                                                sql  sample_id\n",
       "1517  hockey  SELECT name FROM Teams WHERE year = 2006 GROUP...       7755"
      ]
     },
     "execution_count": 68,
     "metadata": {},
     "output_type": "execute_result"
    }
   ],
   "source": [
    "df_dev.loc[df_dev['sample_id'] == 7755]"
   ]
  },
  {
   "cell_type": "code",
   "execution_count": 69,
   "metadata": {},
   "outputs": [
    {
     "data": {
      "text/plain": [
       "{'table': {'teams': 'teams'}, 'column': {}}"
      ]
     },
     "execution_count": 69,
     "metadata": {},
     "output_type": "execute_result"
    }
   ],
   "source": [
    "aliases"
   ]
  },
  {
   "cell_type": "code",
   "execution_count": 61,
   "metadata": {},
   "outputs": [
    {
     "data": {
      "text/plain": [
       "'SELECT name FROM Teams WHERE year = 2006 GROUP BY tmID, name ORDER BY CAST(SUM(BenchMinor) AS REAL) / 2 DESC LIMIT 1'"
      ]
     },
     "execution_count": 61,
     "metadata": {},
     "output_type": "execute_result"
    }
   ],
   "source": [
    "sql"
   ]
  },
  {
   "cell_type": "code",
   "execution_count": 59,
   "metadata": {},
   "outputs": [
    {
     "data": {
      "text/plain": [
       "{'__name__'}"
      ]
     },
     "execution_count": 59,
     "metadata": {},
     "output_type": "execute_result"
    }
   ],
   "source": [
    "sel_d"
   ]
  },
  {
   "cell_type": "code",
   "execution_count": null,
   "metadata": {},
   "outputs": [],
   "source": [
    "sql = \"\"\"\n",
    "SELECT name \n",
    "FROM Teams \n",
    "WHERE year = 2006 \n",
    "GROUP BY tmID, name \n",
    "ORDER BY CAST(SUM(BenchMinor) AS REAL) / 2 DESC LIMIT 1\n",
    "\"\"\"\n",
    "statement = sqlparse.parse(sql)[0]"
   ]
  },
  {
   "cell_type": "code",
   "execution_count": 70,
   "metadata": {},
   "outputs": [],
   "source": [
    "from src.parsing_sql import (\n",
    "    split_set_operation, \n",
    "    tks, \n",
    "    is_pwn, \n",
    "    get_full_column_name,\n",
    "    Identifier, TokenList,\n",
    "    get_orderby_expression\n",
    ")"
   ]
  },
  {
   "cell_type": "code",
   "execution_count": 71,
   "metadata": {},
   "outputs": [
    {
     "name": "stdout",
     "output_type": "stream",
     "text": [
      "SELECT name FROM Teams WHERE year = 2006 GROUP BY tmID, name ORDER BY CAST(SUM(BenchMinor) AS REAL) / 2 DESC LIMIT 1\n"
     ]
    }
   ],
   "source": [
    "statements = split_set_operation(statement)\n",
    "for stmt in statements:\n",
    "    print(stmt)"
   ]
  },
  {
   "cell_type": "code",
   "execution_count": 93,
   "metadata": {},
   "outputs": [
    {
     "name": "stdout",
     "output_type": "stream",
     "text": [
      "  Token.Text.Whitespace <class 'sqlparse.sql.Token'>\n",
      "CAST Token.Name <class 'sqlparse.sql.Token'>\n",
      "( Token.Punctuation <class 'sqlparse.sql.Token'>\n",
      "SUM Token.Name <class 'sqlparse.sql.Token'>\n",
      "( Token.Punctuation <class 'sqlparse.sql.Token'>\n",
      "BenchMinor Token.Name <class 'sqlparse.sql.Token'>\n",
      ") Token.Punctuation <class 'sqlparse.sql.Token'>\n",
      "  Token.Text.Whitespace <class 'sqlparse.sql.Token'>\n",
      "AS Token.Keyword <class 'sqlparse.sql.Token'>\n",
      "  Token.Text.Whitespace <class 'sqlparse.sql.Token'>\n",
      "REAL Token.Name.Builtin <class 'sqlparse.sql.Token'>\n",
      ") Token.Punctuation <class 'sqlparse.sql.Token'>\n",
      "  Token.Text.Whitespace <class 'sqlparse.sql.Token'>\n",
      "/ Token.Operator <class 'sqlparse.sql.Token'>\n",
      "  Token.Text.Whitespace <class 'sqlparse.sql.Token'>\n",
      "2 Token.Literal.Number.Integer <class 'sqlparse.sql.Token'>\n",
      "  Token.Text.Whitespace <class 'sqlparse.sql.Token'>\n",
      "DESC Token.Keyword.Order <class 'sqlparse.sql.Token'>\n",
      "  Token.Text.Whitespace <class 'sqlparse.sql.Token'>\n"
     ]
    }
   ],
   "source": [
    "others = {'distinct': set(), 'order by': set(), 'limit': False}\n",
    "distinct_used = False\n",
    "order_by_used = False\n",
    "orderby_tokens = []\n",
    "ord = []\n",
    "for token in stmt.flatten():\n",
    "    if token.ttype is tks.Keyword:\n",
    "        if token.value.upper() == 'DISTINCT':\n",
    "            distinct_used = True\n",
    "            continue\n",
    "        if token.value.upper() == 'ORDER BY':\n",
    "            ord = []\n",
    "            order_by_used = True\n",
    "            continue\n",
    "        if token.value.upper() == 'LIMIT':\n",
    "            order_by_used = False\n",
    "            others['limit'] = True\n",
    "            continue\n",
    "    \n",
    "    if distinct_used:\n",
    "        if is_pwn(token):\n",
    "            continue\n",
    "        column_name = get_full_column_name(Identifier([token]), aliases, schema)\n",
    "        others['distinct'].add(column_name)\n",
    "        distinct_used = False\n",
    "\n",
    "    if order_by_used:\n",
    "        print(token, token.ttype, type(token))\n",
    "        if token.ttype is tks.Punctuation and token.value == ',':\n",
    "            if sqlparse.parse(str(TokenList(ord))):\n",
    "                orderby_tokens.append(get_orderby_expression(ord, aliases, schema))\n",
    "            ord = []\n",
    "        else:\n",
    "            ord.append(token)"
   ]
  },
  {
   "cell_type": "code",
   "execution_count": 94,
   "metadata": {},
   "outputs": [
    {
     "data": {
      "text/plain": [
       "'cast(__sum__) / 2 desc'"
      ]
     },
     "execution_count": 94,
     "metadata": {},
     "output_type": "execute_result"
    }
   ],
   "source": [
    "get_orderby_expression(ord, aliases, schema)"
   ]
  },
  {
   "cell_type": "code",
   "execution_count": 83,
   "metadata": {},
   "outputs": [
    {
     "name": "stdout",
     "output_type": "stream",
     "text": [
      "CAST(SUM(BenchMinor) AS REAL) / 2 DESC None <class 'sqlparse.sql.Operation'>\n"
     ]
    }
   ],
   "source": [
    "for tkn in sqlparse.parse(str(TokenList(ord)))[0].tokens:\n",
    "    if is_pwn(tkn):\n",
    "        continue\n",
    "    print(tkn, tkn.ttype, type(tkn))"
   ]
  },
  {
   "cell_type": "code",
   "execution_count": 85,
   "metadata": {},
   "outputs": [
    {
     "data": {
      "text/plain": [
       "<Operation 'CAST(S...' at 0x7F6C4A54AAD0>"
      ]
     },
     "execution_count": 85,
     "metadata": {},
     "output_type": "execute_result"
    }
   ],
   "source": [
    "tkn = sqlparse.parse(str(TokenList(ord)))[0].tokens[1]\n",
    "tkn"
   ]
  },
  {
   "cell_type": "code",
   "execution_count": 97,
   "metadata": {},
   "outputs": [
    {
     "name": "stdout",
     "output_type": "stream",
     "text": [
      "CAST(SUM(BenchMinor) AS REAL) None <class 'sqlparse.sql.Function'>\n",
      "  Token.Text.Whitespace <class 'sqlparse.sql.Token'>\n",
      "/ Token.Operator <class 'sqlparse.sql.Token'>\n",
      "  Token.Text.Whitespace <class 'sqlparse.sql.Token'>\n",
      "2 DESC None <class 'sqlparse.sql.Identifier'>\n"
     ]
    }
   ],
   "source": [
    "for sub_token in tkn.tokens:\n",
    "    print(sub_token, sub_token.ttype, type(sub_token))\n",
    "    # get_full_column_name(sub_token, aliases, schema)\n",
    "    "
   ]
  },
  {
   "cell_type": "code",
   "execution_count": 96,
   "metadata": {},
   "outputs": [
    {
     "name": "stdout",
     "output_type": "stream",
     "text": [
      "CAST None <class 'sqlparse.sql.Identifier'>\n",
      "(SUM(BenchMinor) AS REAL) None <class 'sqlparse.sql.Parenthesis'>\n"
     ]
    }
   ],
   "source": [
    "for sub_token2 in sub_token.tokens:\n",
    "    print(sub_token2, sub_token2.ttype, type(sub_token2))"
   ]
  },
  {
   "cell_type": "code",
   "execution_count": 87,
   "metadata": {},
   "outputs": [
    {
     "ename": "AttributeError",
     "evalue": "'NoneType' object has no attribute 'lower'",
     "output_type": "error",
     "traceback": [
      "\u001b[0;31m---------------------------------------------------------------------------\u001b[0m",
      "\u001b[0;31mAttributeError\u001b[0m                            Traceback (most recent call last)",
      "Cell \u001b[0;32mIn[87], line 1\u001b[0m\n\u001b[0;32m----> 1\u001b[0m \u001b[43mget_full_column_name\u001b[49m\u001b[43m(\u001b[49m\u001b[43msub_token\u001b[49m\u001b[43m,\u001b[49m\u001b[43m \u001b[49m\u001b[43maliases\u001b[49m\u001b[43m,\u001b[49m\u001b[43m \u001b[49m\u001b[43mschema\u001b[49m\u001b[43m)\u001b[49m\n",
      "File \u001b[0;32m~/code/BusinessObjects/src/parsing_sql.py:451\u001b[0m, in \u001b[0;36mget_full_column_name\u001b[0;34m(token, aliases, schema)\u001b[0m\n\u001b[1;32m    447\u001b[0m \u001b[38;5;250m\u001b[39m\u001b[38;5;124;03m\"\"\"\u001b[39;00m\n\u001b[1;32m    448\u001b[0m \u001b[38;5;124;03mReturns the fully qualified column name (table.column) from a token.\u001b[39;00m\n\u001b[1;32m    449\u001b[0m \u001b[38;5;124;03m\"\"\"\u001b[39;00m\n\u001b[1;32m    450\u001b[0m \u001b[38;5;28;01mif\u001b[39;00m \u001b[38;5;28misinstance\u001b[39m(token, Identifier):\n\u001b[0;32m--> 451\u001b[0m     column_name \u001b[38;5;241m=\u001b[39m \u001b[43mtoken\u001b[49m\u001b[38;5;241;43m.\u001b[39;49m\u001b[43mget_real_name\u001b[49m\u001b[43m(\u001b[49m\u001b[43m)\u001b[49m\u001b[38;5;241;43m.\u001b[39;49m\u001b[43mlower\u001b[49m()\n\u001b[1;32m    452\u001b[0m     \u001b[38;5;28;01mif\u001b[39;00m aliases[\u001b[38;5;124m'\u001b[39m\u001b[38;5;124mcolumn\u001b[39m\u001b[38;5;124m'\u001b[39m]\u001b[38;5;241m.\u001b[39mget(column_name):\n\u001b[1;32m    453\u001b[0m         real_column_name \u001b[38;5;241m=\u001b[39m aliases[\u001b[38;5;124m'\u001b[39m\u001b[38;5;124mcolumn\u001b[39m\u001b[38;5;124m'\u001b[39m][column_name]\n",
      "\u001b[0;31mAttributeError\u001b[0m: 'NoneType' object has no attribute 'lower'"
     ]
    }
   ],
   "source": [
    "get_full_column_name(sub_token, aliases, schema)"
   ]
  },
  {
   "cell_type": "code",
   "execution_count": 82,
   "metadata": {},
   "outputs": [
    {
     "ename": "AttributeError",
     "evalue": "'NoneType' object has no attribute 'lower'",
     "output_type": "error",
     "traceback": [
      "\u001b[0;31m---------------------------------------------------------------------------\u001b[0m",
      "\u001b[0;31mAttributeError\u001b[0m                            Traceback (most recent call last)",
      "Cell \u001b[0;32mIn[82], line 1\u001b[0m\n\u001b[0;32m----> 1\u001b[0m \u001b[43mget_orderby_expression\u001b[49m\u001b[43m(\u001b[49m\u001b[38;5;28;43mord\u001b[39;49m\u001b[43m,\u001b[49m\u001b[43m \u001b[49m\u001b[43maliases\u001b[49m\u001b[43m,\u001b[49m\u001b[43m \u001b[49m\u001b[43mschema\u001b[49m\u001b[43m)\u001b[49m\n",
      "File \u001b[0;32m~/code/BusinessObjects/src/parsing_sql.py:847\u001b[0m, in \u001b[0;36mget_orderby_expression\u001b[0;34m(ord, aliases, schema)\u001b[0m\n\u001b[1;32m    845\u001b[0m expression \u001b[38;5;241m=\u001b[39m []\n\u001b[1;32m    846\u001b[0m \u001b[38;5;28;01mfor\u001b[39;00m tkn \u001b[38;5;129;01min\u001b[39;00m sqlparse\u001b[38;5;241m.\u001b[39mparse(\u001b[38;5;28mstr\u001b[39m(TokenList(\u001b[38;5;28mord\u001b[39m)))[\u001b[38;5;241m0\u001b[39m]\u001b[38;5;241m.\u001b[39mtokens:\n\u001b[0;32m--> 847\u001b[0m     _ \u001b[38;5;241m=\u001b[39m \u001b[43mextract_columns_from_expression\u001b[49m\u001b[43m(\u001b[49m\u001b[43mtkn\u001b[49m\u001b[43m,\u001b[49m\u001b[43m \u001b[49m\u001b[43maliases\u001b[49m\u001b[43m,\u001b[49m\u001b[43m \u001b[49m\u001b[43mschema\u001b[49m\u001b[43m,\u001b[49m\u001b[43m \u001b[49m\u001b[43mexpression\u001b[49m\u001b[43m)\u001b[49m\n\u001b[1;32m    848\u001b[0m \u001b[38;5;28;01mreturn\u001b[39;00m \u001b[38;5;28mstr\u001b[39m(\u001b[38;5;124m'\u001b[39m\u001b[38;5;124m'\u001b[39m\u001b[38;5;241m.\u001b[39mjoin(expression))\u001b[38;5;241m.\u001b[39mstrip()\u001b[38;5;241m.\u001b[39mlower()\n",
      "File \u001b[0;32m~/code/BusinessObjects/src/parsing_sql.py:496\u001b[0m, in \u001b[0;36mextract_columns_from_expression\u001b[0;34m(token, aliases, schema, expression)\u001b[0m\n\u001b[1;32m    494\u001b[0m \u001b[38;5;28;01melif\u001b[39;00m \u001b[38;5;28misinstance\u001b[39m(token, (Operation, Parenthesis)):\n\u001b[1;32m    495\u001b[0m     \u001b[38;5;28;01mfor\u001b[39;00m sub_token \u001b[38;5;129;01min\u001b[39;00m token\u001b[38;5;241m.\u001b[39mtokens:\n\u001b[0;32m--> 496\u001b[0m         columns\u001b[38;5;241m.\u001b[39mupdate(\u001b[43mextract_columns_from_expression\u001b[49m\u001b[43m(\u001b[49m\u001b[43msub_token\u001b[49m\u001b[43m,\u001b[49m\u001b[43m \u001b[49m\u001b[43maliases\u001b[49m\u001b[43m,\u001b[49m\u001b[43m \u001b[49m\u001b[43mschema\u001b[49m\u001b[43m,\u001b[49m\u001b[43m \u001b[49m\u001b[43mexpression\u001b[49m\u001b[43m)\u001b[49m)\n\u001b[1;32m    497\u001b[0m \u001b[38;5;28;01melse\u001b[39;00m:\n\u001b[1;32m    498\u001b[0m     \u001b[38;5;66;03m# Other tokens, possibly operators or literals\u001b[39;00m\n\u001b[1;32m    499\u001b[0m     expression\u001b[38;5;241m.\u001b[39mappend(\u001b[38;5;28mstr\u001b[39m(token))\n",
      "File \u001b[0;32m~/code/BusinessObjects/src/parsing_sql.py:484\u001b[0m, in \u001b[0;36mextract_columns_from_expression\u001b[0;34m(token, aliases, schema, expression)\u001b[0m\n\u001b[1;32m    482\u001b[0m \u001b[38;5;66;03m# print(token, token.ttype, type(token))\u001b[39;00m\n\u001b[1;32m    483\u001b[0m \u001b[38;5;28;01mif\u001b[39;00m \u001b[38;5;28misinstance\u001b[39m(token, Identifier) \u001b[38;5;129;01mor\u001b[39;00m token\u001b[38;5;241m.\u001b[39mttype \u001b[38;5;129;01mis\u001b[39;00m tks\u001b[38;5;241m.\u001b[39mWildcard:\n\u001b[0;32m--> 484\u001b[0m     column_name \u001b[38;5;241m=\u001b[39m \u001b[43mget_full_column_name\u001b[49m\u001b[43m(\u001b[49m\u001b[43mtoken\u001b[49m\u001b[43m,\u001b[49m\u001b[43m \u001b[49m\u001b[43maliases\u001b[49m\u001b[43m,\u001b[49m\u001b[43m \u001b[49m\u001b[43mschema\u001b[49m\u001b[43m)\u001b[49m\n\u001b[1;32m    485\u001b[0m     columns\u001b[38;5;241m.\u001b[39madd(column_name)\n\u001b[1;32m    486\u001b[0m     expression\u001b[38;5;241m.\u001b[39mappend(column_name)\n",
      "File \u001b[0;32m~/code/BusinessObjects/src/parsing_sql.py:451\u001b[0m, in \u001b[0;36mget_full_column_name\u001b[0;34m(token, aliases, schema)\u001b[0m\n\u001b[1;32m    447\u001b[0m \u001b[38;5;250m\u001b[39m\u001b[38;5;124;03m\"\"\"\u001b[39;00m\n\u001b[1;32m    448\u001b[0m \u001b[38;5;124;03mReturns the fully qualified column name (table.column) from a token.\u001b[39;00m\n\u001b[1;32m    449\u001b[0m \u001b[38;5;124;03m\"\"\"\u001b[39;00m\n\u001b[1;32m    450\u001b[0m \u001b[38;5;28;01mif\u001b[39;00m \u001b[38;5;28misinstance\u001b[39m(token, Identifier):\n\u001b[0;32m--> 451\u001b[0m     column_name \u001b[38;5;241m=\u001b[39m \u001b[43mtoken\u001b[49m\u001b[38;5;241;43m.\u001b[39;49m\u001b[43mget_real_name\u001b[49m\u001b[43m(\u001b[49m\u001b[43m)\u001b[49m\u001b[38;5;241;43m.\u001b[39;49m\u001b[43mlower\u001b[49m()\n\u001b[1;32m    452\u001b[0m     \u001b[38;5;28;01mif\u001b[39;00m aliases[\u001b[38;5;124m'\u001b[39m\u001b[38;5;124mcolumn\u001b[39m\u001b[38;5;124m'\u001b[39m]\u001b[38;5;241m.\u001b[39mget(column_name):\n\u001b[1;32m    453\u001b[0m         real_column_name \u001b[38;5;241m=\u001b[39m aliases[\u001b[38;5;124m'\u001b[39m\u001b[38;5;124mcolumn\u001b[39m\u001b[38;5;124m'\u001b[39m][column_name]\n",
      "\u001b[0;31mAttributeError\u001b[0m: 'NoneType' object has no attribute 'lower'"
     ]
    }
   ],
   "source": [
    "get_orderby_expression(ord, aliases, schema)"
   ]
  },
  {
   "cell_type": "code",
   "execution_count": 48,
   "metadata": {},
   "outputs": [
    {
     "data": {
      "text/plain": [
       "{('dev', 344, \"'Token' object is not subscriptable\"),\n",
       " ('dev', 376, \"'Token' object is not subscriptable\"),\n",
       " ('dev', 511, \"'NoneType' object has no attribute 'lower'\"),\n",
       " ('dev',\n",
       "  728,\n",
       "  \"Alias trailposi already exists in the column mapping.\\n{'trailposi': 'max(position)'}\"),\n",
       " ('dev', 729, \"'NoneType' object has no attribute 'lower'\"),\n",
       " ('dev', 765, \"'NoneType' object has no attribute 'lower'\"),\n",
       " ('dev', 833, \"'NoneType' object has no attribute 'lower'\"),\n",
       " ('dev', 1190, \"'NoneType' object has no attribute 'lower'\"),\n",
       " ('dev', 1329, \"'NoneType' object has no attribute 'lower'\"),\n",
       " ('dev', 1482, \"'NoneType' object has no attribute 'lower'\"),\n",
       " ('dev', 1536, \"'NoneType' object has no attribute 'lower'\"),\n",
       " ('dev', 1768, \"'NoneType' object has no attribute 'lower'\"),\n",
       " ('dev', 2568, \"'NoneType' object has no attribute 'lower'\"),\n",
       " ('dev', 2573, \"'NoneType' object has no attribute 'lower'\"),\n",
       " ('dev', 2680, \"'NoneType' object has no attribute 'lower'\"),\n",
       " ('dev', 2682, \"'NoneType' object has no attribute 'lower'\"),\n",
       " ('dev', 2683, \"'NoneType' object has no attribute 'lower'\"),\n",
       " ('dev', 2690, \"'NoneType' object has no attribute 'lower'\"),\n",
       " ('dev', 2707, \"'NoneType' object has no attribute 'lower'\"),\n",
       " ('dev', 2711, \"'NoneType' object has no attribute 'lower'\"),\n",
       " ('dev', 2714, \"'NoneType' object has no attribute 'lower'\"),\n",
       " ('dev', 2722, \"'NoneType' object has no attribute 'lower'\"),\n",
       " ('dev', 2733, \"'NoneType' object has no attribute 'lower'\"),\n",
       " ('dev', 3430, \"'NoneType' object has no attribute 'lower'\"),\n",
       " ('dev', 3729, \"'NoneType' object has no attribute 'lower'\"),\n",
       " ('dev', 4069, \"'NoneType' object has no attribute 'lower'\"),\n",
       " ('dev', 4322, \"'NoneType' object has no attribute 'lower'\"),\n",
       " ('dev', 4516, \"'NoneType' object has no attribute 'lower'\"),\n",
       " ('dev', 4693, \"'NoneType' object has no attribute 'lower'\"),\n",
       " ('dev', 4711, \"'NoneType' object has no attribute 'lower'\"),\n",
       " ('dev', 4712, \"'NoneType' object has no attribute 'lower'\"),\n",
       " ('dev', 4717, \"'NoneType' object has no attribute 'lower'\"),\n",
       " ('dev', 4722, \"'NoneType' object has no attribute 'lower'\"),\n",
       " ('dev', 4725, \"'NoneType' object has no attribute 'lower'\"),\n",
       " ('dev', 4726, \"'NoneType' object has no attribute 'lower'\"),\n",
       " ('dev', 4729, \"'NoneType' object has no attribute 'lower'\"),\n",
       " ('dev', 4878, \"'NoneType' object has no attribute 'lower'\"),\n",
       " ('dev', 5333, \"'NoneType' object has no attribute 'lower'\"),\n",
       " ('dev', 5657, \"'NoneType' object has no attribute 'lower'\"),\n",
       " ('dev', 7395, \"'NoneType' object has no attribute 'lower'\"),\n",
       " ('dev', 7743, \"'Token' object is not subscriptable\"),\n",
       " ('dev', 7753, \"'Token' object is not subscriptable\"),\n",
       " ('dev', 7755, \"'NoneType' object has no attribute 'lower'\"),\n",
       " ('dev', 7817, \"'Token' object is not subscriptable\"),\n",
       " ('dev', 8113, \"'NoneType' object has no attribute 'lower'\"),\n",
       " ('dev', 8132, \"'NoneType' object has no attribute 'lower'\"),\n",
       " ('dev', 8494, \"'Token' object is not subscriptable\"),\n",
       " ('dev', 8897, \"'NoneType' object has no attribute 'lower'\"),\n",
       " ('dev', 8983, \"'NoneType' object has no attribute 'lower'\"),\n",
       " ('dev', 9331, \"'NoneType' object has no attribute 'lower'\"),\n",
       " ('dev', 9885, \"'NoneType' object has no attribute 'lower'\"),\n",
       " ('dev', 10119, \"'Token' object is not subscriptable\"),\n",
       " ('dev', 10377, \"'Token' object is not subscriptable\"),\n",
       " ('dev', 10400, \"'Token' object is not subscriptable\"),\n",
       " ('dev', 10423, \"'NoneType' object has no attribute 'lower'\"),\n",
       " ('dev', 10428, \"'NoneType' object has no attribute 'lower'\"),\n",
       " ('dev', 10865, \"'Token' object is not subscriptable\"),\n",
       " ('tr', 243, \"'Token' object is not subscriptable\"),\n",
       " ('tr', 273, \"'Token' object is not subscriptable\"),\n",
       " ('tr', 326, \"'Token' object is not subscriptable\"),\n",
       " ('tr', 605, \"'NoneType' object has no attribute 'lower'\"),\n",
       " ('tr', 709, \"'NoneType' object has no attribute 'lower'\"),\n",
       " ('tr', 794, \"'NoneType' object has no attribute 'lower'\"),\n",
       " ('tr', 880, \"'NoneType' object has no attribute 'lower'\"),\n",
       " ('tr', 1299, \"'NoneType' object has no attribute 'lower'\"),\n",
       " ('tr', 1376, \"'NoneType' object has no attribute 'lower'\"),\n",
       " ('tr', 1377, \"'NoneType' object has no attribute 'lower'\"),\n",
       " ('tr', 1398, \"'NoneType' object has no attribute 'lower'\"),\n",
       " ('tr', 1399, \"'NoneType' object has no attribute 'lower'\"),\n",
       " ('tr', 1401, \"'NoneType' object has no attribute 'lower'\"),\n",
       " ('tr', 1429, \"'NoneType' object has no attribute 'lower'\"),\n",
       " ('tr',\n",
       "  1833,\n",
       "  \"Alias a already exists in the column mapping.\\n{'a': 'count(team_1)'}\"),\n",
       " ('tr', 1853, \"'NoneType' object has no attribute 'lower'\"),\n",
       " ('tr', 2513, \"'NoneType' object has no attribute 'lower'\"),\n",
       " ('tr', 2516, \"'NoneType' object has no attribute 'lower'\"),\n",
       " ('tr', 2518, \"'NoneType' object has no attribute 'lower'\"),\n",
       " ('tr', 2520, \"'NoneType' object has no attribute 'lower'\"),\n",
       " ('tr', 2528, \"'NoneType' object has no attribute 'lower'\"),\n",
       " ('tr', 2529, \"'NoneType' object has no attribute 'lower'\"),\n",
       " ('tr', 2543, \"'NoneType' object has no attribute 'lower'\"),\n",
       " ('tr', 2616, \"'NoneType' object has no attribute 'lower'\"),\n",
       " ('tr', 2617, \"'NoneType' object has no attribute 'lower'\"),\n",
       " ('tr', 2619, \"'NoneType' object has no attribute 'lower'\"),\n",
       " ('tr', 2620, \"'NoneType' object has no attribute 'lower'\"),\n",
       " ('tr', 2623, \"'NoneType' object has no attribute 'lower'\"),\n",
       " ('tr', 2630, \"'NoneType' object has no attribute 'lower'\"),\n",
       " ('tr', 2642, \"'NoneType' object has no attribute 'lower'\"),\n",
       " ('tr', 2651, \"'NoneType' object has no attribute 'lower'\"),\n",
       " ('tr', 2657, \"'NoneType' object has no attribute 'lower'\"),\n",
       " ('tr', 2662, \"'NoneType' object has no attribute 'lower'\"),\n",
       " ('tr', 2670, \"'NoneType' object has no attribute 'lower'\"),\n",
       " ('tr', 2741, \"'NoneType' object has no attribute 'lower'\"),\n",
       " ('tr', 2747, \"'NoneType' object has no attribute 'lower'\"),\n",
       " ('tr', 2956, \"'NoneType' object has no attribute 'lower'\"),\n",
       " ('tr', 3011, \"'NoneType' object has no attribute 'lower'\"),\n",
       " ('tr', 3162, \"'NoneType' object has no attribute 'lower'\"),\n",
       " ('tr', 3368, \"'NoneType' object has no attribute 'lower'\"),\n",
       " ('tr', 3585, \"'Token' object is not subscriptable\"),\n",
       " ('tr', 3704, \"'NoneType' object has no attribute 'lower'\"),\n",
       " ('tr', 3712, \"'NoneType' object has no attribute 'lower'\"),\n",
       " ('tr', 3713, \"'NoneType' object has no attribute 'lower'\"),\n",
       " ('tr', 3714, \"'NoneType' object has no attribute 'lower'\"),\n",
       " ('tr', 3715, \"'NoneType' object has no attribute 'lower'\"),\n",
       " ('tr', 3717, \"'NoneType' object has no attribute 'lower'\"),\n",
       " ('tr', 3774, \"'NoneType' object has no attribute 'lower'\"),\n",
       " ('tr', 3775, \"'NoneType' object has no attribute 'lower'\"),\n",
       " ('tr', 3783, \"'NoneType' object has no attribute 'lower'\"),\n",
       " ('tr', 3785, \"'NoneType' object has no attribute 'lower'\"),\n",
       " ('tr', 3793, \"'NoneType' object has no attribute 'lower'\"),\n",
       " ('tr', 3794, \"'NoneType' object has no attribute 'lower'\"),\n",
       " ('tr', 3814, \"'NoneType' object has no attribute 'lower'\"),\n",
       " ('tr', 3821, \"'NoneType' object has no attribute 'lower'\"),\n",
       " ('tr', 3831, \"'NoneType' object has no attribute 'lower'\"),\n",
       " ('tr', 3837, \"'NoneType' object has no attribute 'lower'\"),\n",
       " ('tr', 3862, \"'NoneType' object has no attribute 'lower'\"),\n",
       " ('tr', 3870, \"'NoneType' object has no attribute 'lower'\"),\n",
       " ('tr', 3877, \"'NoneType' object has no attribute 'lower'\"),\n",
       " ('tr', 3878, \"'NoneType' object has no attribute 'lower'\"),\n",
       " ('tr', 3896, \"'NoneType' object has no attribute 'lower'\"),\n",
       " ('tr', 3908, \"'NoneType' object has no attribute 'lower'\"),\n",
       " ('tr', 3933, \"'NoneType' object has no attribute 'lower'\"),\n",
       " ('tr', 4144, \"'NoneType' object has no attribute 'lower'\"),\n",
       " ('tr', 4243, \"'Token' object is not subscriptable\"),\n",
       " ('tr', 4407, \"'Token' object is not subscriptable\"),\n",
       " ('tr', 4485, \"'Token' object is not subscriptable\"),\n",
       " ('tr', 4593, \"'NoneType' object has no attribute 'lower'\"),\n",
       " ('tr', 4640, \"'NoneType' object has no attribute 'lower'\"),\n",
       " ('tr', 4646, \"'NoneType' object has no attribute 'lower'\"),\n",
       " ('tr', 4648, \"'NoneType' object has no attribute 'lower'\"),\n",
       " ('tr', 4658, \"'NoneType' object has no attribute 'lower'\"),\n",
       " ('tr', 4672, \"'NoneType' object has no attribute 'lower'\"),\n",
       " ('tr', 4676, \"'NoneType' object has no attribute 'lower'\"),\n",
       " ('tr', 4677, \"'NoneType' object has no attribute 'lower'\"),\n",
       " ('tr', 4683, \"'NoneType' object has no attribute 'lower'\"),\n",
       " ('tr', 4685, \"'Token' object is not subscriptable\"),\n",
       " ('tr', 4794, \"'NoneType' object has no attribute 'lower'\"),\n",
       " ('tr', 4795, \"'NoneType' object has no attribute 'lower'\"),\n",
       " ('tr',\n",
       "  4954,\n",
       "  \"Alias p2 already exists in the column mapping.\\n{'p2': 'count(t2.person_id)', 'p1': 't1.season'}\"),\n",
       " ('tr', 5094, \"'NoneType' object has no attribute 'lower'\"),\n",
       " ('tr', 5262, \"'NoneType' object has no attribute 'lower'\"),\n",
       " ('tr', 5268, \"'Token' object is not subscriptable\"),\n",
       " ('tr', 5286, \"'Token' object is not subscriptable\"),\n",
       " ('tr', 5835, \"'NoneType' object has no attribute 'lower'\"),\n",
       " ('tr', 6302, \"'NoneType' object has no attribute 'lower'\"),\n",
       " ('tr', 7128, \"'NoneType' object has no attribute 'lower'\"),\n",
       " ('tr', 7621, \"'Token' object is not subscriptable\"),\n",
       " ('tr', 7628, \"'Token' object is not subscriptable\"),\n",
       " ('tr', 7651, \"'NoneType' object has no attribute 'lower'\"),\n",
       " ('tr', 8006, \"'NoneType' object has no attribute 'lower'\"),\n",
       " ('tr', 8022, \"'NoneType' object has no attribute 'lower'\"),\n",
       " ('tr', 8028, \"'NoneType' object has no attribute 'lower'\"),\n",
       " ('tr', 8671, \"'NoneType' object has no attribute 'lower'\"),\n",
       " ('tr',\n",
       "  8690,\n",
       "  'Alias average already exists in the column mapping.\\n{\\'average\\': \"sum(case when secondary_description = \\'SOLICIT FOR PROSTITUTE\\' then 1.0 else 0 end) / count(iucr_no)\"}'),\n",
       " ('tr', 8692, \"'NoneType' object has no attribute 'lower'\"),\n",
       " ('tr', 8785, \"'NoneType' object has no attribute 'lower'\"),\n",
       " ('tr', 8860, \"'NoneType' object has no attribute 'lower'\"),\n",
       " ('tr', 9004, \"'NoneType' object has no attribute 'lower'\"),\n",
       " ('tr', 9005, \"'NoneType' object has no attribute 'lower'\"),\n",
       " ('tr', 9177, \"'Token' object is not subscriptable\"),\n",
       " ('tr', 9283, \"'NoneType' object has no attribute 'lower'\"),\n",
       " ('tr', 9623, \"'NoneType' object has no attribute 'lower'\"),\n",
       " ('tr', 9637, \"'NoneType' object has no attribute 'lower'\"),\n",
       " ('tr', 9640, \"'NoneType' object has no attribute 'lower'\"),\n",
       " ('tr', 9641, \"'NoneType' object has no attribute 'lower'\"),\n",
       " ('tr',\n",
       "  9771,\n",
       "  \"Alias count_uuid already exists in the column mapping.\\n{'count_uuid': 'count(distinct uuid)'}\"),\n",
       " ('tr', 9810, \"'Token' object is not subscriptable\"),\n",
       " ('tr', 9862, \"'NoneType' object has no attribute 'lower'\"),\n",
       " ('tr', 10480, \"'Token' object is not subscriptable\"),\n",
       " ('tr', 10821, \"'NoneType' object has no attribute 'lower'\"),\n",
       " ('tr', 10904, \"'NoneType' object has no attribute 'lower'\")}"
      ]
     },
     "execution_count": 48,
     "metadata": {},
     "output_type": "execute_result"
    }
   ],
   "source": [
    "set(error_ids)"
   ]
  },
  {
   "cell_type": "code",
   "execution_count": 28,
   "metadata": {},
   "outputs": [],
   "source": [
    "x = nlp(sql_dev_temp[0])"
   ]
  },
  {
   "cell_type": "code",
   "execution_count": 30,
   "metadata": {},
   "outputs": [
    {
     "data": {
      "text/plain": [
       "1.0"
      ]
     },
     "execution_count": 30,
     "metadata": {},
     "output_type": "execute_result"
    }
   ],
   "source": [
    "x.similarity(x)"
   ]
  },
  {
   "cell_type": "code",
   "execution_count": 20,
   "metadata": {},
   "outputs": [
    {
     "name": "stdout",
     "output_type": "stream",
     "text": [
      "({'__movies.movie_title__'}, {('__movies.movie_title__', '<s>')})\n",
      "({'__movies.movie_release_year__ = 2003', '__ratings.user_id__ = 2941'}, {'='})\n",
      "(set(), set())\n",
      "0\n",
      "{'distinct': set(), 'order by': set(), 'limit': False}\n"
     ]
    }
   ],
   "source": [
    "print(extract_selection(statement, aliases, schema))\n",
    "print(extract_condition(statement, aliases, schema))\n",
    "print(extract_aggregation(statement, aliases, schema))\n",
    "print(extract_nested_setoperation(statement))\n",
    "print(extract_others(statement, aliases, schema))"
   ]
  },
  {
   "cell_type": "code",
   "execution_count": 18,
   "metadata": {},
   "outputs": [
    {
     "data": {
      "text/html": [
       "<div>\n",
       "<style scoped>\n",
       "    .dataframe tbody tr th:only-of-type {\n",
       "        vertical-align: middle;\n",
       "    }\n",
       "\n",
       "    .dataframe tbody tr th {\n",
       "        vertical-align: top;\n",
       "    }\n",
       "\n",
       "    .dataframe thead th {\n",
       "        text-align: right;\n",
       "    }\n",
       "</style>\n",
       "<table border=\"1\" class=\"dataframe\">\n",
       "  <thead>\n",
       "    <tr style=\"text-align: right;\">\n",
       "      <th></th>\n",
       "      <th>db_id</th>\n",
       "      <th>sql</th>\n",
       "    </tr>\n",
       "  </thead>\n",
       "  <tbody>\n",
       "    <tr>\n",
       "      <th>0</th>\n",
       "      <td>movie_platform</td>\n",
       "      <td>SELECT T2.movie_title FROM ratings AS T1 INNER...</td>\n",
       "    </tr>\n",
       "    <tr>\n",
       "      <th>1</th>\n",
       "      <td>movie_platform</td>\n",
       "      <td>SELECT COUNT(T1.user_id) FROM ratings AS T1 IN...</td>\n",
       "    </tr>\n",
       "    <tr>\n",
       "      <th>2</th>\n",
       "      <td>movie_platform</td>\n",
       "      <td>SELECT T2.movie_title FROM ratings AS T1 INNER...</td>\n",
       "    </tr>\n",
       "    <tr>\n",
       "      <th>3</th>\n",
       "      <td>movie_platform</td>\n",
       "      <td>SELECT T2.movie_title FROM ratings AS T1 INNER...</td>\n",
       "    </tr>\n",
       "    <tr>\n",
       "      <th>4</th>\n",
       "      <td>movie_platform</td>\n",
       "      <td>SELECT T2.list_title, T1.user_avatar_image_url...</td>\n",
       "    </tr>\n",
       "    <tr>\n",
       "      <th>...</th>\n",
       "      <td>...</td>\n",
       "      <td>...</td>\n",
       "    </tr>\n",
       "    <tr>\n",
       "      <th>4410</th>\n",
       "      <td>debit_card_specializing</td>\n",
       "      <td>SELECT SUM(T1.Price) , SUM(IIF(T3.Date = '2012...</td>\n",
       "    </tr>\n",
       "    <tr>\n",
       "      <th>4411</th>\n",
       "      <td>debit_card_specializing</td>\n",
       "      <td>SELECT T2.Description FROM transactions_1k AS ...</td>\n",
       "    </tr>\n",
       "    <tr>\n",
       "      <th>4412</th>\n",
       "      <td>debit_card_specializing</td>\n",
       "      <td>SELECT T2.CustomerID, SUM(T2.Price / T2.Amount...</td>\n",
       "    </tr>\n",
       "    <tr>\n",
       "      <th>4413</th>\n",
       "      <td>debit_card_specializing</td>\n",
       "      <td>SELECT T2.Country FROM transactions_1k AS T1 I...</td>\n",
       "    </tr>\n",
       "    <tr>\n",
       "      <th>4414</th>\n",
       "      <td>debit_card_specializing</td>\n",
       "      <td>SELECT T2.Consumption FROM transactions_1k AS ...</td>\n",
       "    </tr>\n",
       "  </tbody>\n",
       "</table>\n",
       "<p>4415 rows × 2 columns</p>\n",
       "</div>"
      ],
      "text/plain": [
       "                        db_id  \\\n",
       "0              movie_platform   \n",
       "1              movie_platform   \n",
       "2              movie_platform   \n",
       "3              movie_platform   \n",
       "4              movie_platform   \n",
       "...                       ...   \n",
       "4410  debit_card_specializing   \n",
       "4411  debit_card_specializing   \n",
       "4412  debit_card_specializing   \n",
       "4413  debit_card_specializing   \n",
       "4414  debit_card_specializing   \n",
       "\n",
       "                                                    sql  \n",
       "0     SELECT T2.movie_title FROM ratings AS T1 INNER...  \n",
       "1     SELECT COUNT(T1.user_id) FROM ratings AS T1 IN...  \n",
       "2     SELECT T2.movie_title FROM ratings AS T1 INNER...  \n",
       "3     SELECT T2.movie_title FROM ratings AS T1 INNER...  \n",
       "4     SELECT T2.list_title, T1.user_avatar_image_url...  \n",
       "...                                                 ...  \n",
       "4410  SELECT SUM(T1.Price) , SUM(IIF(T3.Date = '2012...  \n",
       "4411  SELECT T2.Description FROM transactions_1k AS ...  \n",
       "4412  SELECT T2.CustomerID, SUM(T2.Price / T2.Amount...  \n",
       "4413  SELECT T2.Country FROM transactions_1k AS T1 I...  \n",
       "4414  SELECT T2.Consumption FROM transactions_1k AS ...  \n",
       "\n",
       "[4415 rows x 2 columns]"
      ]
     },
     "execution_count": 18,
     "metadata": {},
     "output_type": "execute_result"
    }
   ],
   "source": [
    "df_dev"
   ]
  },
  {
   "cell_type": "code",
   "execution_count": null,
   "metadata": {},
   "outputs": [],
   "source": [
    "group_count = {}\n",
    "for sample in dev_samples+test_samples:\n",
    "    if sample.db_id not in group_count:\n",
    "        group_count[sample.db_id] = 0\n",
    "    group_count[sample.db_id] += 1\n",
    "\n"
   ]
  },
  {
   "cell_type": "code",
   "execution_count": 4,
   "metadata": {},
   "outputs": [],
   "source": [
    "samples = load_samples_spider_bird(proj_path / 'data' / f'bird_train.json')"
   ]
  },
  {
   "cell_type": "code",
   "execution_count": 43,
   "metadata": {},
   "outputs": [],
   "source": [
    "from langchain_openai import ChatOpenAI\n",
    "from langchain_core.documents import Document\n",
    "from langchain_core.runnables import RunnableSequence\n",
    "from langchain_community.vectorstores import FAISS\n",
    "from langchain_community.vectorstores.utils import DistanceStrategy\n",
    "from langchain_openai.embeddings import OpenAIEmbeddings\n",
    "from langchain_core.prompts import PromptTemplate\n",
    "from langchain_core.output_parsers import JsonOutputParser\n",
    "from src.pymodels import SQLResponse\n",
    "   \n",
    "prompt = PromptTemplate(\n",
    "    template=Prompts.zero_shot_inference_bird,\n",
    "    input_variables=['schema', 'input_query', 'evidence']\n",
    ")\n",
    "model_name = 'gpt-4o-mini'\n",
    "model_openai = ChatOpenAI(\n",
    "    model=model_name,\n",
    "    temperature=0.0,\n",
    "    logprobs=True,\n",
    "    top_logprobs=5\n",
    ")\n",
    "\n",
    "# model = model_openai.with_structured_output(SQLResponse, include_raw=True)\n",
    "chain = (prompt | model_openai)"
   ]
  },
  {
   "cell_type": "code",
   "execution_count": null,
   "metadata": {},
   "outputs": [
    {
     "name": "stderr",
     "output_type": "stream",
     "text": [
      "Processing movie_platform - 8:   0%|          | 8/8731 [00:41<12:42:35,  5.25s/it]\n"
     ]
    },
    {
     "ename": "KeyboardInterrupt",
     "evalue": "",
     "output_type": "error",
     "traceback": [
      "\u001b[0;31m---------------------------------------------------------------------------\u001b[0m",
      "\u001b[0;31mKeyboardInterrupt\u001b[0m                         Traceback (most recent call last)",
      "Cell \u001b[0;32mIn[84], line 17\u001b[0m\n\u001b[1;32m     10\u001b[0m iterator\u001b[38;5;241m.\u001b[39mset_description(\u001b[38;5;124mf\u001b[39m\u001b[38;5;124m\"\u001b[39m\u001b[38;5;124mProcessing \u001b[39m\u001b[38;5;132;01m{\u001b[39;00mdb_id\u001b[38;5;132;01m}\u001b[39;00m\u001b[38;5;124m - \u001b[39m\u001b[38;5;132;01m{\u001b[39;00msample\u001b[38;5;241m.\u001b[39msample_id\u001b[38;5;132;01m}\u001b[39;00m\u001b[38;5;124m\"\u001b[39m)\n\u001b[1;32m     11\u001b[0m schema \u001b[38;5;241m=\u001b[39m get_schema_str(\n\u001b[1;32m     12\u001b[0m     schema\u001b[38;5;241m=\u001b[39mbird_tables[db_id]\u001b[38;5;241m.\u001b[39mdb_schema,\n\u001b[1;32m     13\u001b[0m     foreign_keys\u001b[38;5;241m=\u001b[39mbird_tables[db_id]\u001b[38;5;241m.\u001b[39mforeign_keys,\n\u001b[1;32m     14\u001b[0m     primary_keys\u001b[38;5;241m=\u001b[39mbird_tables[db_id]\u001b[38;5;241m.\u001b[39mprimary_keys,\n\u001b[1;32m     15\u001b[0m     col_explanation\u001b[38;5;241m=\u001b[39mall_descriptions[db_id]    \n\u001b[1;32m     16\u001b[0m )\n\u001b[0;32m---> 17\u001b[0m output \u001b[38;5;241m=\u001b[39m \u001b[43mchain\u001b[49m\u001b[38;5;241;43m.\u001b[39;49m\u001b[43minvoke\u001b[49m\u001b[43m(\u001b[49m\u001b[38;5;28;43minput\u001b[39;49m\u001b[38;5;241;43m=\u001b[39;49m\u001b[43m{\u001b[49m\n\u001b[1;32m     18\u001b[0m \u001b[43m    \u001b[49m\u001b[38;5;124;43m'\u001b[39;49m\u001b[38;5;124;43mschema\u001b[39;49m\u001b[38;5;124;43m'\u001b[39;49m\u001b[43m:\u001b[49m\u001b[43m \u001b[49m\u001b[43mschema\u001b[49m\u001b[43m,\u001b[49m\n\u001b[1;32m     19\u001b[0m \u001b[43m    \u001b[49m\u001b[38;5;124;43m'\u001b[39;49m\u001b[38;5;124;43minput_query\u001b[39;49m\u001b[38;5;124;43m'\u001b[39;49m\u001b[43m:\u001b[49m\u001b[43m \u001b[49m\u001b[43msample\u001b[49m\u001b[38;5;241;43m.\u001b[39;49m\u001b[43mfinal\u001b[49m\u001b[38;5;241;43m.\u001b[39;49m\u001b[43mquestion\u001b[49m\u001b[43m,\u001b[49m\n\u001b[1;32m     20\u001b[0m \u001b[43m    \u001b[49m\u001b[38;5;124;43m'\u001b[39;49m\u001b[38;5;124;43mevidence\u001b[39;49m\u001b[38;5;124;43m'\u001b[39;49m\u001b[43m:\u001b[49m\u001b[43m \u001b[49m\u001b[43msample\u001b[49m\u001b[38;5;241;43m.\u001b[39;49m\u001b[43mevidence\u001b[49m\n\u001b[1;32m     21\u001b[0m \u001b[43m\u001b[49m\u001b[43m}\u001b[49m\u001b[43m)\u001b[49m\n\u001b[1;32m     22\u001b[0m o \u001b[38;5;241m=\u001b[39m SQLResponse(\u001b[38;5;241m*\u001b[39m\u001b[38;5;241m*\u001b[39mjson\u001b[38;5;241m.\u001b[39mloads(output\u001b[38;5;241m.\u001b[39mcontent))\n\u001b[1;32m     23\u001b[0m usage \u001b[38;5;241m=\u001b[39m output\u001b[38;5;241m.\u001b[39musage_metadata\n",
      "File \u001b[0;32m~/code/BusinessObjects/.venv/lib/python3.11/site-packages/langchain_core/runnables/base.py:3022\u001b[0m, in \u001b[0;36mRunnableSequence.invoke\u001b[0;34m(self, input, config, **kwargs)\u001b[0m\n\u001b[1;32m   3020\u001b[0m             \u001b[38;5;28minput\u001b[39m \u001b[38;5;241m=\u001b[39m context\u001b[38;5;241m.\u001b[39mrun(step\u001b[38;5;241m.\u001b[39minvoke, \u001b[38;5;28minput\u001b[39m, config, \u001b[38;5;241m*\u001b[39m\u001b[38;5;241m*\u001b[39mkwargs)\n\u001b[1;32m   3021\u001b[0m         \u001b[38;5;28;01melse\u001b[39;00m:\n\u001b[0;32m-> 3022\u001b[0m             \u001b[38;5;28minput\u001b[39m \u001b[38;5;241m=\u001b[39m context\u001b[38;5;241m.\u001b[39mrun(step\u001b[38;5;241m.\u001b[39minvoke, \u001b[38;5;28minput\u001b[39m, config)\n\u001b[1;32m   3023\u001b[0m \u001b[38;5;66;03m# finish the root run\u001b[39;00m\n\u001b[1;32m   3024\u001b[0m \u001b[38;5;28;01mexcept\u001b[39;00m \u001b[38;5;167;01mBaseException\u001b[39;00m \u001b[38;5;28;01mas\u001b[39;00m e:\n",
      "File \u001b[0;32m~/code/BusinessObjects/.venv/lib/python3.11/site-packages/langchain_core/language_models/chat_models.py:284\u001b[0m, in \u001b[0;36mBaseChatModel.invoke\u001b[0;34m(self, input, config, stop, **kwargs)\u001b[0m\n\u001b[1;32m    273\u001b[0m \u001b[38;5;28;01mdef\u001b[39;00m \u001b[38;5;21minvoke\u001b[39m(\n\u001b[1;32m    274\u001b[0m     \u001b[38;5;28mself\u001b[39m,\n\u001b[1;32m    275\u001b[0m     \u001b[38;5;28minput\u001b[39m: LanguageModelInput,\n\u001b[0;32m   (...)\u001b[0m\n\u001b[1;32m    279\u001b[0m     \u001b[38;5;241m*\u001b[39m\u001b[38;5;241m*\u001b[39mkwargs: Any,\n\u001b[1;32m    280\u001b[0m ) \u001b[38;5;241m-\u001b[39m\u001b[38;5;241m>\u001b[39m BaseMessage:\n\u001b[1;32m    281\u001b[0m     config \u001b[38;5;241m=\u001b[39m ensure_config(config)\n\u001b[1;32m    282\u001b[0m     \u001b[38;5;28;01mreturn\u001b[39;00m cast(\n\u001b[1;32m    283\u001b[0m         ChatGeneration,\n\u001b[0;32m--> 284\u001b[0m         \u001b[38;5;28;43mself\u001b[39;49m\u001b[38;5;241;43m.\u001b[39;49m\u001b[43mgenerate_prompt\u001b[49m\u001b[43m(\u001b[49m\n\u001b[1;32m    285\u001b[0m \u001b[43m            \u001b[49m\u001b[43m[\u001b[49m\u001b[38;5;28;43mself\u001b[39;49m\u001b[38;5;241;43m.\u001b[39;49m\u001b[43m_convert_input\u001b[49m\u001b[43m(\u001b[49m\u001b[38;5;28;43minput\u001b[39;49m\u001b[43m)\u001b[49m\u001b[43m]\u001b[49m\u001b[43m,\u001b[49m\n\u001b[1;32m    286\u001b[0m \u001b[43m            \u001b[49m\u001b[43mstop\u001b[49m\u001b[38;5;241;43m=\u001b[39;49m\u001b[43mstop\u001b[49m\u001b[43m,\u001b[49m\n\u001b[1;32m    287\u001b[0m \u001b[43m            \u001b[49m\u001b[43mcallbacks\u001b[49m\u001b[38;5;241;43m=\u001b[39;49m\u001b[43mconfig\u001b[49m\u001b[38;5;241;43m.\u001b[39;49m\u001b[43mget\u001b[49m\u001b[43m(\u001b[49m\u001b[38;5;124;43m\"\u001b[39;49m\u001b[38;5;124;43mcallbacks\u001b[39;49m\u001b[38;5;124;43m\"\u001b[39;49m\u001b[43m)\u001b[49m\u001b[43m,\u001b[49m\n\u001b[1;32m    288\u001b[0m \u001b[43m            \u001b[49m\u001b[43mtags\u001b[49m\u001b[38;5;241;43m=\u001b[39;49m\u001b[43mconfig\u001b[49m\u001b[38;5;241;43m.\u001b[39;49m\u001b[43mget\u001b[49m\u001b[43m(\u001b[49m\u001b[38;5;124;43m\"\u001b[39;49m\u001b[38;5;124;43mtags\u001b[39;49m\u001b[38;5;124;43m\"\u001b[39;49m\u001b[43m)\u001b[49m\u001b[43m,\u001b[49m\n\u001b[1;32m    289\u001b[0m \u001b[43m            \u001b[49m\u001b[43mmetadata\u001b[49m\u001b[38;5;241;43m=\u001b[39;49m\u001b[43mconfig\u001b[49m\u001b[38;5;241;43m.\u001b[39;49m\u001b[43mget\u001b[49m\u001b[43m(\u001b[49m\u001b[38;5;124;43m\"\u001b[39;49m\u001b[38;5;124;43mmetadata\u001b[39;49m\u001b[38;5;124;43m\"\u001b[39;49m\u001b[43m)\u001b[49m\u001b[43m,\u001b[49m\n\u001b[1;32m    290\u001b[0m \u001b[43m            \u001b[49m\u001b[43mrun_name\u001b[49m\u001b[38;5;241;43m=\u001b[39;49m\u001b[43mconfig\u001b[49m\u001b[38;5;241;43m.\u001b[39;49m\u001b[43mget\u001b[49m\u001b[43m(\u001b[49m\u001b[38;5;124;43m\"\u001b[39;49m\u001b[38;5;124;43mrun_name\u001b[39;49m\u001b[38;5;124;43m\"\u001b[39;49m\u001b[43m)\u001b[49m\u001b[43m,\u001b[49m\n\u001b[1;32m    291\u001b[0m \u001b[43m            \u001b[49m\u001b[43mrun_id\u001b[49m\u001b[38;5;241;43m=\u001b[39;49m\u001b[43mconfig\u001b[49m\u001b[38;5;241;43m.\u001b[39;49m\u001b[43mpop\u001b[49m\u001b[43m(\u001b[49m\u001b[38;5;124;43m\"\u001b[39;49m\u001b[38;5;124;43mrun_id\u001b[39;49m\u001b[38;5;124;43m\"\u001b[39;49m\u001b[43m,\u001b[49m\u001b[43m \u001b[49m\u001b[38;5;28;43;01mNone\u001b[39;49;00m\u001b[43m)\u001b[49m\u001b[43m,\u001b[49m\n\u001b[1;32m    292\u001b[0m \u001b[43m            \u001b[49m\u001b[38;5;241;43m*\u001b[39;49m\u001b[38;5;241;43m*\u001b[39;49m\u001b[43mkwargs\u001b[49m\u001b[43m,\u001b[49m\n\u001b[1;32m    293\u001b[0m \u001b[43m        \u001b[49m\u001b[43m)\u001b[49m\u001b[38;5;241m.\u001b[39mgenerations[\u001b[38;5;241m0\u001b[39m][\u001b[38;5;241m0\u001b[39m],\n\u001b[1;32m    294\u001b[0m     )\u001b[38;5;241m.\u001b[39mmessage\n",
      "File \u001b[0;32m~/code/BusinessObjects/.venv/lib/python3.11/site-packages/langchain_core/language_models/chat_models.py:784\u001b[0m, in \u001b[0;36mBaseChatModel.generate_prompt\u001b[0;34m(self, prompts, stop, callbacks, **kwargs)\u001b[0m\n\u001b[1;32m    776\u001b[0m \u001b[38;5;28;01mdef\u001b[39;00m \u001b[38;5;21mgenerate_prompt\u001b[39m(\n\u001b[1;32m    777\u001b[0m     \u001b[38;5;28mself\u001b[39m,\n\u001b[1;32m    778\u001b[0m     prompts: \u001b[38;5;28mlist\u001b[39m[PromptValue],\n\u001b[0;32m   (...)\u001b[0m\n\u001b[1;32m    781\u001b[0m     \u001b[38;5;241m*\u001b[39m\u001b[38;5;241m*\u001b[39mkwargs: Any,\n\u001b[1;32m    782\u001b[0m ) \u001b[38;5;241m-\u001b[39m\u001b[38;5;241m>\u001b[39m LLMResult:\n\u001b[1;32m    783\u001b[0m     prompt_messages \u001b[38;5;241m=\u001b[39m [p\u001b[38;5;241m.\u001b[39mto_messages() \u001b[38;5;28;01mfor\u001b[39;00m p \u001b[38;5;129;01min\u001b[39;00m prompts]\n\u001b[0;32m--> 784\u001b[0m     \u001b[38;5;28;01mreturn\u001b[39;00m \u001b[38;5;28;43mself\u001b[39;49m\u001b[38;5;241;43m.\u001b[39;49m\u001b[43mgenerate\u001b[49m\u001b[43m(\u001b[49m\u001b[43mprompt_messages\u001b[49m\u001b[43m,\u001b[49m\u001b[43m \u001b[49m\u001b[43mstop\u001b[49m\u001b[38;5;241;43m=\u001b[39;49m\u001b[43mstop\u001b[49m\u001b[43m,\u001b[49m\u001b[43m \u001b[49m\u001b[43mcallbacks\u001b[49m\u001b[38;5;241;43m=\u001b[39;49m\u001b[43mcallbacks\u001b[49m\u001b[43m,\u001b[49m\u001b[43m \u001b[49m\u001b[38;5;241;43m*\u001b[39;49m\u001b[38;5;241;43m*\u001b[39;49m\u001b[43mkwargs\u001b[49m\u001b[43m)\u001b[49m\n",
      "File \u001b[0;32m~/code/BusinessObjects/.venv/lib/python3.11/site-packages/langchain_core/language_models/chat_models.py:641\u001b[0m, in \u001b[0;36mBaseChatModel.generate\u001b[0;34m(self, messages, stop, callbacks, tags, metadata, run_name, run_id, **kwargs)\u001b[0m\n\u001b[1;32m    639\u001b[0m         \u001b[38;5;28;01mif\u001b[39;00m run_managers:\n\u001b[1;32m    640\u001b[0m             run_managers[i]\u001b[38;5;241m.\u001b[39mon_llm_error(e, response\u001b[38;5;241m=\u001b[39mLLMResult(generations\u001b[38;5;241m=\u001b[39m[]))\n\u001b[0;32m--> 641\u001b[0m         \u001b[38;5;28;01mraise\u001b[39;00m e\n\u001b[1;32m    642\u001b[0m flattened_outputs \u001b[38;5;241m=\u001b[39m [\n\u001b[1;32m    643\u001b[0m     LLMResult(generations\u001b[38;5;241m=\u001b[39m[res\u001b[38;5;241m.\u001b[39mgenerations], llm_output\u001b[38;5;241m=\u001b[39mres\u001b[38;5;241m.\u001b[39mllm_output)  \u001b[38;5;66;03m# type: ignore[list-item]\u001b[39;00m\n\u001b[1;32m    644\u001b[0m     \u001b[38;5;28;01mfor\u001b[39;00m res \u001b[38;5;129;01min\u001b[39;00m results\n\u001b[1;32m    645\u001b[0m ]\n\u001b[1;32m    646\u001b[0m llm_output \u001b[38;5;241m=\u001b[39m \u001b[38;5;28mself\u001b[39m\u001b[38;5;241m.\u001b[39m_combine_llm_outputs([res\u001b[38;5;241m.\u001b[39mllm_output \u001b[38;5;28;01mfor\u001b[39;00m res \u001b[38;5;129;01min\u001b[39;00m results])\n",
      "File \u001b[0;32m~/code/BusinessObjects/.venv/lib/python3.11/site-packages/langchain_core/language_models/chat_models.py:631\u001b[0m, in \u001b[0;36mBaseChatModel.generate\u001b[0;34m(self, messages, stop, callbacks, tags, metadata, run_name, run_id, **kwargs)\u001b[0m\n\u001b[1;32m    628\u001b[0m \u001b[38;5;28;01mfor\u001b[39;00m i, m \u001b[38;5;129;01min\u001b[39;00m \u001b[38;5;28menumerate\u001b[39m(messages):\n\u001b[1;32m    629\u001b[0m     \u001b[38;5;28;01mtry\u001b[39;00m:\n\u001b[1;32m    630\u001b[0m         results\u001b[38;5;241m.\u001b[39mappend(\n\u001b[0;32m--> 631\u001b[0m             \u001b[38;5;28;43mself\u001b[39;49m\u001b[38;5;241;43m.\u001b[39;49m\u001b[43m_generate_with_cache\u001b[49m\u001b[43m(\u001b[49m\n\u001b[1;32m    632\u001b[0m \u001b[43m                \u001b[49m\u001b[43mm\u001b[49m\u001b[43m,\u001b[49m\n\u001b[1;32m    633\u001b[0m \u001b[43m                \u001b[49m\u001b[43mstop\u001b[49m\u001b[38;5;241;43m=\u001b[39;49m\u001b[43mstop\u001b[49m\u001b[43m,\u001b[49m\n\u001b[1;32m    634\u001b[0m \u001b[43m                \u001b[49m\u001b[43mrun_manager\u001b[49m\u001b[38;5;241;43m=\u001b[39;49m\u001b[43mrun_managers\u001b[49m\u001b[43m[\u001b[49m\u001b[43mi\u001b[49m\u001b[43m]\u001b[49m\u001b[43m \u001b[49m\u001b[38;5;28;43;01mif\u001b[39;49;00m\u001b[43m \u001b[49m\u001b[43mrun_managers\u001b[49m\u001b[43m \u001b[49m\u001b[38;5;28;43;01melse\u001b[39;49;00m\u001b[43m \u001b[49m\u001b[38;5;28;43;01mNone\u001b[39;49;00m\u001b[43m,\u001b[49m\n\u001b[1;32m    635\u001b[0m \u001b[43m                \u001b[49m\u001b[38;5;241;43m*\u001b[39;49m\u001b[38;5;241;43m*\u001b[39;49m\u001b[43mkwargs\u001b[49m\u001b[43m,\u001b[49m\n\u001b[1;32m    636\u001b[0m \u001b[43m            \u001b[49m\u001b[43m)\u001b[49m\n\u001b[1;32m    637\u001b[0m         )\n\u001b[1;32m    638\u001b[0m     \u001b[38;5;28;01mexcept\u001b[39;00m \u001b[38;5;167;01mBaseException\u001b[39;00m \u001b[38;5;28;01mas\u001b[39;00m e:\n\u001b[1;32m    639\u001b[0m         \u001b[38;5;28;01mif\u001b[39;00m run_managers:\n",
      "File \u001b[0;32m~/code/BusinessObjects/.venv/lib/python3.11/site-packages/langchain_core/language_models/chat_models.py:853\u001b[0m, in \u001b[0;36mBaseChatModel._generate_with_cache\u001b[0;34m(self, messages, stop, run_manager, **kwargs)\u001b[0m\n\u001b[1;32m    851\u001b[0m \u001b[38;5;28;01melse\u001b[39;00m:\n\u001b[1;32m    852\u001b[0m     \u001b[38;5;28;01mif\u001b[39;00m inspect\u001b[38;5;241m.\u001b[39msignature(\u001b[38;5;28mself\u001b[39m\u001b[38;5;241m.\u001b[39m_generate)\u001b[38;5;241m.\u001b[39mparameters\u001b[38;5;241m.\u001b[39mget(\u001b[38;5;124m\"\u001b[39m\u001b[38;5;124mrun_manager\u001b[39m\u001b[38;5;124m\"\u001b[39m):\n\u001b[0;32m--> 853\u001b[0m         result \u001b[38;5;241m=\u001b[39m \u001b[38;5;28;43mself\u001b[39;49m\u001b[38;5;241;43m.\u001b[39;49m\u001b[43m_generate\u001b[49m\u001b[43m(\u001b[49m\n\u001b[1;32m    854\u001b[0m \u001b[43m            \u001b[49m\u001b[43mmessages\u001b[49m\u001b[43m,\u001b[49m\u001b[43m \u001b[49m\u001b[43mstop\u001b[49m\u001b[38;5;241;43m=\u001b[39;49m\u001b[43mstop\u001b[49m\u001b[43m,\u001b[49m\u001b[43m \u001b[49m\u001b[43mrun_manager\u001b[49m\u001b[38;5;241;43m=\u001b[39;49m\u001b[43mrun_manager\u001b[49m\u001b[43m,\u001b[49m\u001b[43m \u001b[49m\u001b[38;5;241;43m*\u001b[39;49m\u001b[38;5;241;43m*\u001b[39;49m\u001b[43mkwargs\u001b[49m\n\u001b[1;32m    855\u001b[0m \u001b[43m        \u001b[49m\u001b[43m)\u001b[49m\n\u001b[1;32m    856\u001b[0m     \u001b[38;5;28;01melse\u001b[39;00m:\n\u001b[1;32m    857\u001b[0m         result \u001b[38;5;241m=\u001b[39m \u001b[38;5;28mself\u001b[39m\u001b[38;5;241m.\u001b[39m_generate(messages, stop\u001b[38;5;241m=\u001b[39mstop, \u001b[38;5;241m*\u001b[39m\u001b[38;5;241m*\u001b[39mkwargs)\n",
      "File \u001b[0;32m~/code/BusinessObjects/.venv/lib/python3.11/site-packages/langchain_openai/chat_models/base.py:688\u001b[0m, in \u001b[0;36mBaseChatOpenAI._generate\u001b[0;34m(self, messages, stop, run_manager, **kwargs)\u001b[0m\n\u001b[1;32m    686\u001b[0m     generation_info \u001b[38;5;241m=\u001b[39m {\u001b[38;5;124m\"\u001b[39m\u001b[38;5;124mheaders\u001b[39m\u001b[38;5;124m\"\u001b[39m: \u001b[38;5;28mdict\u001b[39m(raw_response\u001b[38;5;241m.\u001b[39mheaders)}\n\u001b[1;32m    687\u001b[0m \u001b[38;5;28;01melse\u001b[39;00m:\n\u001b[0;32m--> 688\u001b[0m     response \u001b[38;5;241m=\u001b[39m \u001b[38;5;28;43mself\u001b[39;49m\u001b[38;5;241;43m.\u001b[39;49m\u001b[43mclient\u001b[49m\u001b[38;5;241;43m.\u001b[39;49m\u001b[43mcreate\u001b[49m\u001b[43m(\u001b[49m\u001b[38;5;241;43m*\u001b[39;49m\u001b[38;5;241;43m*\u001b[39;49m\u001b[43mpayload\u001b[49m\u001b[43m)\u001b[49m\n\u001b[1;32m    689\u001b[0m \u001b[38;5;28;01mreturn\u001b[39;00m \u001b[38;5;28mself\u001b[39m\u001b[38;5;241m.\u001b[39m_create_chat_result(response, generation_info)\n",
      "File \u001b[0;32m~/code/BusinessObjects/.venv/lib/python3.11/site-packages/openai/_utils/_utils.py:275\u001b[0m, in \u001b[0;36mrequired_args.<locals>.inner.<locals>.wrapper\u001b[0;34m(*args, **kwargs)\u001b[0m\n\u001b[1;32m    273\u001b[0m             msg \u001b[38;5;241m=\u001b[39m \u001b[38;5;124mf\u001b[39m\u001b[38;5;124m\"\u001b[39m\u001b[38;5;124mMissing required argument: \u001b[39m\u001b[38;5;132;01m{\u001b[39;00mquote(missing[\u001b[38;5;241m0\u001b[39m])\u001b[38;5;132;01m}\u001b[39;00m\u001b[38;5;124m\"\u001b[39m\n\u001b[1;32m    274\u001b[0m     \u001b[38;5;28;01mraise\u001b[39;00m \u001b[38;5;167;01mTypeError\u001b[39;00m(msg)\n\u001b[0;32m--> 275\u001b[0m \u001b[38;5;28;01mreturn\u001b[39;00m \u001b[43mfunc\u001b[49m\u001b[43m(\u001b[49m\u001b[38;5;241;43m*\u001b[39;49m\u001b[43margs\u001b[49m\u001b[43m,\u001b[49m\u001b[43m \u001b[49m\u001b[38;5;241;43m*\u001b[39;49m\u001b[38;5;241;43m*\u001b[39;49m\u001b[43mkwargs\u001b[49m\u001b[43m)\u001b[49m\n",
      "File \u001b[0;32m~/code/BusinessObjects/.venv/lib/python3.11/site-packages/openai/resources/chat/completions.py:829\u001b[0m, in \u001b[0;36mCompletions.create\u001b[0;34m(self, messages, model, audio, frequency_penalty, function_call, functions, logit_bias, logprobs, max_completion_tokens, max_tokens, metadata, modalities, n, parallel_tool_calls, prediction, presence_penalty, response_format, seed, service_tier, stop, store, stream, stream_options, temperature, tool_choice, tools, top_logprobs, top_p, user, extra_headers, extra_query, extra_body, timeout)\u001b[0m\n\u001b[1;32m    788\u001b[0m \u001b[38;5;129m@required_args\u001b[39m([\u001b[38;5;124m\"\u001b[39m\u001b[38;5;124mmessages\u001b[39m\u001b[38;5;124m\"\u001b[39m, \u001b[38;5;124m\"\u001b[39m\u001b[38;5;124mmodel\u001b[39m\u001b[38;5;124m\"\u001b[39m], [\u001b[38;5;124m\"\u001b[39m\u001b[38;5;124mmessages\u001b[39m\u001b[38;5;124m\"\u001b[39m, \u001b[38;5;124m\"\u001b[39m\u001b[38;5;124mmodel\u001b[39m\u001b[38;5;124m\"\u001b[39m, \u001b[38;5;124m\"\u001b[39m\u001b[38;5;124mstream\u001b[39m\u001b[38;5;124m\"\u001b[39m])\n\u001b[1;32m    789\u001b[0m \u001b[38;5;28;01mdef\u001b[39;00m \u001b[38;5;21mcreate\u001b[39m(\n\u001b[1;32m    790\u001b[0m     \u001b[38;5;28mself\u001b[39m,\n\u001b[0;32m   (...)\u001b[0m\n\u001b[1;32m    826\u001b[0m     timeout: \u001b[38;5;28mfloat\u001b[39m \u001b[38;5;241m|\u001b[39m httpx\u001b[38;5;241m.\u001b[39mTimeout \u001b[38;5;241m|\u001b[39m \u001b[38;5;28;01mNone\u001b[39;00m \u001b[38;5;241m|\u001b[39m NotGiven \u001b[38;5;241m=\u001b[39m NOT_GIVEN,\n\u001b[1;32m    827\u001b[0m ) \u001b[38;5;241m-\u001b[39m\u001b[38;5;241m>\u001b[39m ChatCompletion \u001b[38;5;241m|\u001b[39m Stream[ChatCompletionChunk]:\n\u001b[1;32m    828\u001b[0m     validate_response_format(response_format)\n\u001b[0;32m--> 829\u001b[0m     \u001b[38;5;28;01mreturn\u001b[39;00m \u001b[38;5;28;43mself\u001b[39;49m\u001b[38;5;241;43m.\u001b[39;49m\u001b[43m_post\u001b[49m\u001b[43m(\u001b[49m\n\u001b[1;32m    830\u001b[0m \u001b[43m        \u001b[49m\u001b[38;5;124;43m\"\u001b[39;49m\u001b[38;5;124;43m/chat/completions\u001b[39;49m\u001b[38;5;124;43m\"\u001b[39;49m\u001b[43m,\u001b[49m\n\u001b[1;32m    831\u001b[0m \u001b[43m        \u001b[49m\u001b[43mbody\u001b[49m\u001b[38;5;241;43m=\u001b[39;49m\u001b[43mmaybe_transform\u001b[49m\u001b[43m(\u001b[49m\n\u001b[1;32m    832\u001b[0m \u001b[43m            \u001b[49m\u001b[43m{\u001b[49m\n\u001b[1;32m    833\u001b[0m \u001b[43m                \u001b[49m\u001b[38;5;124;43m\"\u001b[39;49m\u001b[38;5;124;43mmessages\u001b[39;49m\u001b[38;5;124;43m\"\u001b[39;49m\u001b[43m:\u001b[49m\u001b[43m \u001b[49m\u001b[43mmessages\u001b[49m\u001b[43m,\u001b[49m\n\u001b[1;32m    834\u001b[0m \u001b[43m                \u001b[49m\u001b[38;5;124;43m\"\u001b[39;49m\u001b[38;5;124;43mmodel\u001b[39;49m\u001b[38;5;124;43m\"\u001b[39;49m\u001b[43m:\u001b[49m\u001b[43m \u001b[49m\u001b[43mmodel\u001b[49m\u001b[43m,\u001b[49m\n\u001b[1;32m    835\u001b[0m \u001b[43m                \u001b[49m\u001b[38;5;124;43m\"\u001b[39;49m\u001b[38;5;124;43maudio\u001b[39;49m\u001b[38;5;124;43m\"\u001b[39;49m\u001b[43m:\u001b[49m\u001b[43m \u001b[49m\u001b[43maudio\u001b[49m\u001b[43m,\u001b[49m\n\u001b[1;32m    836\u001b[0m \u001b[43m                \u001b[49m\u001b[38;5;124;43m\"\u001b[39;49m\u001b[38;5;124;43mfrequency_penalty\u001b[39;49m\u001b[38;5;124;43m\"\u001b[39;49m\u001b[43m:\u001b[49m\u001b[43m \u001b[49m\u001b[43mfrequency_penalty\u001b[49m\u001b[43m,\u001b[49m\n\u001b[1;32m    837\u001b[0m \u001b[43m                \u001b[49m\u001b[38;5;124;43m\"\u001b[39;49m\u001b[38;5;124;43mfunction_call\u001b[39;49m\u001b[38;5;124;43m\"\u001b[39;49m\u001b[43m:\u001b[49m\u001b[43m \u001b[49m\u001b[43mfunction_call\u001b[49m\u001b[43m,\u001b[49m\n\u001b[1;32m    838\u001b[0m \u001b[43m                \u001b[49m\u001b[38;5;124;43m\"\u001b[39;49m\u001b[38;5;124;43mfunctions\u001b[39;49m\u001b[38;5;124;43m\"\u001b[39;49m\u001b[43m:\u001b[49m\u001b[43m \u001b[49m\u001b[43mfunctions\u001b[49m\u001b[43m,\u001b[49m\n\u001b[1;32m    839\u001b[0m \u001b[43m                \u001b[49m\u001b[38;5;124;43m\"\u001b[39;49m\u001b[38;5;124;43mlogit_bias\u001b[39;49m\u001b[38;5;124;43m\"\u001b[39;49m\u001b[43m:\u001b[49m\u001b[43m \u001b[49m\u001b[43mlogit_bias\u001b[49m\u001b[43m,\u001b[49m\n\u001b[1;32m    840\u001b[0m \u001b[43m                \u001b[49m\u001b[38;5;124;43m\"\u001b[39;49m\u001b[38;5;124;43mlogprobs\u001b[39;49m\u001b[38;5;124;43m\"\u001b[39;49m\u001b[43m:\u001b[49m\u001b[43m \u001b[49m\u001b[43mlogprobs\u001b[49m\u001b[43m,\u001b[49m\n\u001b[1;32m    841\u001b[0m \u001b[43m                \u001b[49m\u001b[38;5;124;43m\"\u001b[39;49m\u001b[38;5;124;43mmax_completion_tokens\u001b[39;49m\u001b[38;5;124;43m\"\u001b[39;49m\u001b[43m:\u001b[49m\u001b[43m \u001b[49m\u001b[43mmax_completion_tokens\u001b[49m\u001b[43m,\u001b[49m\n\u001b[1;32m    842\u001b[0m \u001b[43m                \u001b[49m\u001b[38;5;124;43m\"\u001b[39;49m\u001b[38;5;124;43mmax_tokens\u001b[39;49m\u001b[38;5;124;43m\"\u001b[39;49m\u001b[43m:\u001b[49m\u001b[43m \u001b[49m\u001b[43mmax_tokens\u001b[49m\u001b[43m,\u001b[49m\n\u001b[1;32m    843\u001b[0m \u001b[43m                \u001b[49m\u001b[38;5;124;43m\"\u001b[39;49m\u001b[38;5;124;43mmetadata\u001b[39;49m\u001b[38;5;124;43m\"\u001b[39;49m\u001b[43m:\u001b[49m\u001b[43m \u001b[49m\u001b[43mmetadata\u001b[49m\u001b[43m,\u001b[49m\n\u001b[1;32m    844\u001b[0m \u001b[43m                \u001b[49m\u001b[38;5;124;43m\"\u001b[39;49m\u001b[38;5;124;43mmodalities\u001b[39;49m\u001b[38;5;124;43m\"\u001b[39;49m\u001b[43m:\u001b[49m\u001b[43m \u001b[49m\u001b[43mmodalities\u001b[49m\u001b[43m,\u001b[49m\n\u001b[1;32m    845\u001b[0m \u001b[43m                \u001b[49m\u001b[38;5;124;43m\"\u001b[39;49m\u001b[38;5;124;43mn\u001b[39;49m\u001b[38;5;124;43m\"\u001b[39;49m\u001b[43m:\u001b[49m\u001b[43m \u001b[49m\u001b[43mn\u001b[49m\u001b[43m,\u001b[49m\n\u001b[1;32m    846\u001b[0m \u001b[43m                \u001b[49m\u001b[38;5;124;43m\"\u001b[39;49m\u001b[38;5;124;43mparallel_tool_calls\u001b[39;49m\u001b[38;5;124;43m\"\u001b[39;49m\u001b[43m:\u001b[49m\u001b[43m \u001b[49m\u001b[43mparallel_tool_calls\u001b[49m\u001b[43m,\u001b[49m\n\u001b[1;32m    847\u001b[0m \u001b[43m                \u001b[49m\u001b[38;5;124;43m\"\u001b[39;49m\u001b[38;5;124;43mprediction\u001b[39;49m\u001b[38;5;124;43m\"\u001b[39;49m\u001b[43m:\u001b[49m\u001b[43m \u001b[49m\u001b[43mprediction\u001b[49m\u001b[43m,\u001b[49m\n\u001b[1;32m    848\u001b[0m \u001b[43m                \u001b[49m\u001b[38;5;124;43m\"\u001b[39;49m\u001b[38;5;124;43mpresence_penalty\u001b[39;49m\u001b[38;5;124;43m\"\u001b[39;49m\u001b[43m:\u001b[49m\u001b[43m \u001b[49m\u001b[43mpresence_penalty\u001b[49m\u001b[43m,\u001b[49m\n\u001b[1;32m    849\u001b[0m \u001b[43m                \u001b[49m\u001b[38;5;124;43m\"\u001b[39;49m\u001b[38;5;124;43mresponse_format\u001b[39;49m\u001b[38;5;124;43m\"\u001b[39;49m\u001b[43m:\u001b[49m\u001b[43m \u001b[49m\u001b[43mresponse_format\u001b[49m\u001b[43m,\u001b[49m\n\u001b[1;32m    850\u001b[0m \u001b[43m                \u001b[49m\u001b[38;5;124;43m\"\u001b[39;49m\u001b[38;5;124;43mseed\u001b[39;49m\u001b[38;5;124;43m\"\u001b[39;49m\u001b[43m:\u001b[49m\u001b[43m \u001b[49m\u001b[43mseed\u001b[49m\u001b[43m,\u001b[49m\n\u001b[1;32m    851\u001b[0m \u001b[43m                \u001b[49m\u001b[38;5;124;43m\"\u001b[39;49m\u001b[38;5;124;43mservice_tier\u001b[39;49m\u001b[38;5;124;43m\"\u001b[39;49m\u001b[43m:\u001b[49m\u001b[43m \u001b[49m\u001b[43mservice_tier\u001b[49m\u001b[43m,\u001b[49m\n\u001b[1;32m    852\u001b[0m \u001b[43m                \u001b[49m\u001b[38;5;124;43m\"\u001b[39;49m\u001b[38;5;124;43mstop\u001b[39;49m\u001b[38;5;124;43m\"\u001b[39;49m\u001b[43m:\u001b[49m\u001b[43m \u001b[49m\u001b[43mstop\u001b[49m\u001b[43m,\u001b[49m\n\u001b[1;32m    853\u001b[0m \u001b[43m                \u001b[49m\u001b[38;5;124;43m\"\u001b[39;49m\u001b[38;5;124;43mstore\u001b[39;49m\u001b[38;5;124;43m\"\u001b[39;49m\u001b[43m:\u001b[49m\u001b[43m \u001b[49m\u001b[43mstore\u001b[49m\u001b[43m,\u001b[49m\n\u001b[1;32m    854\u001b[0m \u001b[43m                \u001b[49m\u001b[38;5;124;43m\"\u001b[39;49m\u001b[38;5;124;43mstream\u001b[39;49m\u001b[38;5;124;43m\"\u001b[39;49m\u001b[43m:\u001b[49m\u001b[43m \u001b[49m\u001b[43mstream\u001b[49m\u001b[43m,\u001b[49m\n\u001b[1;32m    855\u001b[0m \u001b[43m                \u001b[49m\u001b[38;5;124;43m\"\u001b[39;49m\u001b[38;5;124;43mstream_options\u001b[39;49m\u001b[38;5;124;43m\"\u001b[39;49m\u001b[43m:\u001b[49m\u001b[43m \u001b[49m\u001b[43mstream_options\u001b[49m\u001b[43m,\u001b[49m\n\u001b[1;32m    856\u001b[0m \u001b[43m                \u001b[49m\u001b[38;5;124;43m\"\u001b[39;49m\u001b[38;5;124;43mtemperature\u001b[39;49m\u001b[38;5;124;43m\"\u001b[39;49m\u001b[43m:\u001b[49m\u001b[43m \u001b[49m\u001b[43mtemperature\u001b[49m\u001b[43m,\u001b[49m\n\u001b[1;32m    857\u001b[0m \u001b[43m                \u001b[49m\u001b[38;5;124;43m\"\u001b[39;49m\u001b[38;5;124;43mtool_choice\u001b[39;49m\u001b[38;5;124;43m\"\u001b[39;49m\u001b[43m:\u001b[49m\u001b[43m \u001b[49m\u001b[43mtool_choice\u001b[49m\u001b[43m,\u001b[49m\n\u001b[1;32m    858\u001b[0m \u001b[43m                \u001b[49m\u001b[38;5;124;43m\"\u001b[39;49m\u001b[38;5;124;43mtools\u001b[39;49m\u001b[38;5;124;43m\"\u001b[39;49m\u001b[43m:\u001b[49m\u001b[43m \u001b[49m\u001b[43mtools\u001b[49m\u001b[43m,\u001b[49m\n\u001b[1;32m    859\u001b[0m \u001b[43m                \u001b[49m\u001b[38;5;124;43m\"\u001b[39;49m\u001b[38;5;124;43mtop_logprobs\u001b[39;49m\u001b[38;5;124;43m\"\u001b[39;49m\u001b[43m:\u001b[49m\u001b[43m \u001b[49m\u001b[43mtop_logprobs\u001b[49m\u001b[43m,\u001b[49m\n\u001b[1;32m    860\u001b[0m \u001b[43m                \u001b[49m\u001b[38;5;124;43m\"\u001b[39;49m\u001b[38;5;124;43mtop_p\u001b[39;49m\u001b[38;5;124;43m\"\u001b[39;49m\u001b[43m:\u001b[49m\u001b[43m \u001b[49m\u001b[43mtop_p\u001b[49m\u001b[43m,\u001b[49m\n\u001b[1;32m    861\u001b[0m \u001b[43m                \u001b[49m\u001b[38;5;124;43m\"\u001b[39;49m\u001b[38;5;124;43muser\u001b[39;49m\u001b[38;5;124;43m\"\u001b[39;49m\u001b[43m:\u001b[49m\u001b[43m \u001b[49m\u001b[43muser\u001b[49m\u001b[43m,\u001b[49m\n\u001b[1;32m    862\u001b[0m \u001b[43m            \u001b[49m\u001b[43m}\u001b[49m\u001b[43m,\u001b[49m\n\u001b[1;32m    863\u001b[0m \u001b[43m            \u001b[49m\u001b[43mcompletion_create_params\u001b[49m\u001b[38;5;241;43m.\u001b[39;49m\u001b[43mCompletionCreateParams\u001b[49m\u001b[43m,\u001b[49m\n\u001b[1;32m    864\u001b[0m \u001b[43m        \u001b[49m\u001b[43m)\u001b[49m\u001b[43m,\u001b[49m\n\u001b[1;32m    865\u001b[0m \u001b[43m        \u001b[49m\u001b[43moptions\u001b[49m\u001b[38;5;241;43m=\u001b[39;49m\u001b[43mmake_request_options\u001b[49m\u001b[43m(\u001b[49m\n\u001b[1;32m    866\u001b[0m \u001b[43m            \u001b[49m\u001b[43mextra_headers\u001b[49m\u001b[38;5;241;43m=\u001b[39;49m\u001b[43mextra_headers\u001b[49m\u001b[43m,\u001b[49m\u001b[43m \u001b[49m\u001b[43mextra_query\u001b[49m\u001b[38;5;241;43m=\u001b[39;49m\u001b[43mextra_query\u001b[49m\u001b[43m,\u001b[49m\u001b[43m \u001b[49m\u001b[43mextra_body\u001b[49m\u001b[38;5;241;43m=\u001b[39;49m\u001b[43mextra_body\u001b[49m\u001b[43m,\u001b[49m\u001b[43m \u001b[49m\u001b[43mtimeout\u001b[49m\u001b[38;5;241;43m=\u001b[39;49m\u001b[43mtimeout\u001b[49m\n\u001b[1;32m    867\u001b[0m \u001b[43m        \u001b[49m\u001b[43m)\u001b[49m\u001b[43m,\u001b[49m\n\u001b[1;32m    868\u001b[0m \u001b[43m        \u001b[49m\u001b[43mcast_to\u001b[49m\u001b[38;5;241;43m=\u001b[39;49m\u001b[43mChatCompletion\u001b[49m\u001b[43m,\u001b[49m\n\u001b[1;32m    869\u001b[0m \u001b[43m        \u001b[49m\u001b[43mstream\u001b[49m\u001b[38;5;241;43m=\u001b[39;49m\u001b[43mstream\u001b[49m\u001b[43m \u001b[49m\u001b[38;5;129;43;01mor\u001b[39;49;00m\u001b[43m \u001b[49m\u001b[38;5;28;43;01mFalse\u001b[39;49;00m\u001b[43m,\u001b[49m\n\u001b[1;32m    870\u001b[0m \u001b[43m        \u001b[49m\u001b[43mstream_cls\u001b[49m\u001b[38;5;241;43m=\u001b[39;49m\u001b[43mStream\u001b[49m\u001b[43m[\u001b[49m\u001b[43mChatCompletionChunk\u001b[49m\u001b[43m]\u001b[49m\u001b[43m,\u001b[49m\n\u001b[1;32m    871\u001b[0m \u001b[43m    \u001b[49m\u001b[43m)\u001b[49m\n",
      "File \u001b[0;32m~/code/BusinessObjects/.venv/lib/python3.11/site-packages/openai/_base_client.py:1280\u001b[0m, in \u001b[0;36mSyncAPIClient.post\u001b[0;34m(self, path, cast_to, body, options, files, stream, stream_cls)\u001b[0m\n\u001b[1;32m   1266\u001b[0m \u001b[38;5;28;01mdef\u001b[39;00m \u001b[38;5;21mpost\u001b[39m(\n\u001b[1;32m   1267\u001b[0m     \u001b[38;5;28mself\u001b[39m,\n\u001b[1;32m   1268\u001b[0m     path: \u001b[38;5;28mstr\u001b[39m,\n\u001b[0;32m   (...)\u001b[0m\n\u001b[1;32m   1275\u001b[0m     stream_cls: \u001b[38;5;28mtype\u001b[39m[_StreamT] \u001b[38;5;241m|\u001b[39m \u001b[38;5;28;01mNone\u001b[39;00m \u001b[38;5;241m=\u001b[39m \u001b[38;5;28;01mNone\u001b[39;00m,\n\u001b[1;32m   1276\u001b[0m ) \u001b[38;5;241m-\u001b[39m\u001b[38;5;241m>\u001b[39m ResponseT \u001b[38;5;241m|\u001b[39m _StreamT:\n\u001b[1;32m   1277\u001b[0m     opts \u001b[38;5;241m=\u001b[39m FinalRequestOptions\u001b[38;5;241m.\u001b[39mconstruct(\n\u001b[1;32m   1278\u001b[0m         method\u001b[38;5;241m=\u001b[39m\u001b[38;5;124m\"\u001b[39m\u001b[38;5;124mpost\u001b[39m\u001b[38;5;124m\"\u001b[39m, url\u001b[38;5;241m=\u001b[39mpath, json_data\u001b[38;5;241m=\u001b[39mbody, files\u001b[38;5;241m=\u001b[39mto_httpx_files(files), \u001b[38;5;241m*\u001b[39m\u001b[38;5;241m*\u001b[39moptions\n\u001b[1;32m   1279\u001b[0m     )\n\u001b[0;32m-> 1280\u001b[0m     \u001b[38;5;28;01mreturn\u001b[39;00m cast(ResponseT, \u001b[38;5;28;43mself\u001b[39;49m\u001b[38;5;241;43m.\u001b[39;49m\u001b[43mrequest\u001b[49m\u001b[43m(\u001b[49m\u001b[43mcast_to\u001b[49m\u001b[43m,\u001b[49m\u001b[43m \u001b[49m\u001b[43mopts\u001b[49m\u001b[43m,\u001b[49m\u001b[43m \u001b[49m\u001b[43mstream\u001b[49m\u001b[38;5;241;43m=\u001b[39;49m\u001b[43mstream\u001b[49m\u001b[43m,\u001b[49m\u001b[43m \u001b[49m\u001b[43mstream_cls\u001b[49m\u001b[38;5;241;43m=\u001b[39;49m\u001b[43mstream_cls\u001b[49m\u001b[43m)\u001b[49m)\n",
      "File \u001b[0;32m~/code/BusinessObjects/.venv/lib/python3.11/site-packages/openai/_base_client.py:957\u001b[0m, in \u001b[0;36mSyncAPIClient.request\u001b[0;34m(self, cast_to, options, remaining_retries, stream, stream_cls)\u001b[0m\n\u001b[1;32m    954\u001b[0m \u001b[38;5;28;01melse\u001b[39;00m:\n\u001b[1;32m    955\u001b[0m     retries_taken \u001b[38;5;241m=\u001b[39m \u001b[38;5;241m0\u001b[39m\n\u001b[0;32m--> 957\u001b[0m \u001b[38;5;28;01mreturn\u001b[39;00m \u001b[38;5;28;43mself\u001b[39;49m\u001b[38;5;241;43m.\u001b[39;49m\u001b[43m_request\u001b[49m\u001b[43m(\u001b[49m\n\u001b[1;32m    958\u001b[0m \u001b[43m    \u001b[49m\u001b[43mcast_to\u001b[49m\u001b[38;5;241;43m=\u001b[39;49m\u001b[43mcast_to\u001b[49m\u001b[43m,\u001b[49m\n\u001b[1;32m    959\u001b[0m \u001b[43m    \u001b[49m\u001b[43moptions\u001b[49m\u001b[38;5;241;43m=\u001b[39;49m\u001b[43moptions\u001b[49m\u001b[43m,\u001b[49m\n\u001b[1;32m    960\u001b[0m \u001b[43m    \u001b[49m\u001b[43mstream\u001b[49m\u001b[38;5;241;43m=\u001b[39;49m\u001b[43mstream\u001b[49m\u001b[43m,\u001b[49m\n\u001b[1;32m    961\u001b[0m \u001b[43m    \u001b[49m\u001b[43mstream_cls\u001b[49m\u001b[38;5;241;43m=\u001b[39;49m\u001b[43mstream_cls\u001b[49m\u001b[43m,\u001b[49m\n\u001b[1;32m    962\u001b[0m \u001b[43m    \u001b[49m\u001b[43mretries_taken\u001b[49m\u001b[38;5;241;43m=\u001b[39;49m\u001b[43mretries_taken\u001b[49m\u001b[43m,\u001b[49m\n\u001b[1;32m    963\u001b[0m \u001b[43m\u001b[49m\u001b[43m)\u001b[49m\n",
      "File \u001b[0;32m~/code/BusinessObjects/.venv/lib/python3.11/site-packages/openai/_base_client.py:993\u001b[0m, in \u001b[0;36mSyncAPIClient._request\u001b[0;34m(self, cast_to, options, retries_taken, stream, stream_cls)\u001b[0m\n\u001b[1;32m    990\u001b[0m log\u001b[38;5;241m.\u001b[39mdebug(\u001b[38;5;124m\"\u001b[39m\u001b[38;5;124mSending HTTP Request: \u001b[39m\u001b[38;5;132;01m%s\u001b[39;00m\u001b[38;5;124m \u001b[39m\u001b[38;5;132;01m%s\u001b[39;00m\u001b[38;5;124m\"\u001b[39m, request\u001b[38;5;241m.\u001b[39mmethod, request\u001b[38;5;241m.\u001b[39murl)\n\u001b[1;32m    992\u001b[0m \u001b[38;5;28;01mtry\u001b[39;00m:\n\u001b[0;32m--> 993\u001b[0m     response \u001b[38;5;241m=\u001b[39m \u001b[38;5;28;43mself\u001b[39;49m\u001b[38;5;241;43m.\u001b[39;49m\u001b[43m_client\u001b[49m\u001b[38;5;241;43m.\u001b[39;49m\u001b[43msend\u001b[49m\u001b[43m(\u001b[49m\n\u001b[1;32m    994\u001b[0m \u001b[43m        \u001b[49m\u001b[43mrequest\u001b[49m\u001b[43m,\u001b[49m\n\u001b[1;32m    995\u001b[0m \u001b[43m        \u001b[49m\u001b[43mstream\u001b[49m\u001b[38;5;241;43m=\u001b[39;49m\u001b[43mstream\u001b[49m\u001b[43m \u001b[49m\u001b[38;5;129;43;01mor\u001b[39;49;00m\u001b[43m \u001b[49m\u001b[38;5;28;43mself\u001b[39;49m\u001b[38;5;241;43m.\u001b[39;49m\u001b[43m_should_stream_response_body\u001b[49m\u001b[43m(\u001b[49m\u001b[43mrequest\u001b[49m\u001b[38;5;241;43m=\u001b[39;49m\u001b[43mrequest\u001b[49m\u001b[43m)\u001b[49m\u001b[43m,\u001b[49m\n\u001b[1;32m    996\u001b[0m \u001b[43m        \u001b[49m\u001b[38;5;241;43m*\u001b[39;49m\u001b[38;5;241;43m*\u001b[39;49m\u001b[43mkwargs\u001b[49m\u001b[43m,\u001b[49m\n\u001b[1;32m    997\u001b[0m \u001b[43m    \u001b[49m\u001b[43m)\u001b[49m\n\u001b[1;32m    998\u001b[0m \u001b[38;5;28;01mexcept\u001b[39;00m httpx\u001b[38;5;241m.\u001b[39mTimeoutException \u001b[38;5;28;01mas\u001b[39;00m err:\n\u001b[1;32m    999\u001b[0m     log\u001b[38;5;241m.\u001b[39mdebug(\u001b[38;5;124m\"\u001b[39m\u001b[38;5;124mEncountered httpx.TimeoutException\u001b[39m\u001b[38;5;124m\"\u001b[39m, exc_info\u001b[38;5;241m=\u001b[39m\u001b[38;5;28;01mTrue\u001b[39;00m)\n",
      "File \u001b[0;32m~/code/BusinessObjects/.venv/lib/python3.11/site-packages/httpx/_client.py:926\u001b[0m, in \u001b[0;36mClient.send\u001b[0;34m(self, request, stream, auth, follow_redirects)\u001b[0m\n\u001b[1;32m    922\u001b[0m \u001b[38;5;28mself\u001b[39m\u001b[38;5;241m.\u001b[39m_set_timeout(request)\n\u001b[1;32m    924\u001b[0m auth \u001b[38;5;241m=\u001b[39m \u001b[38;5;28mself\u001b[39m\u001b[38;5;241m.\u001b[39m_build_request_auth(request, auth)\n\u001b[0;32m--> 926\u001b[0m response \u001b[38;5;241m=\u001b[39m \u001b[38;5;28;43mself\u001b[39;49m\u001b[38;5;241;43m.\u001b[39;49m\u001b[43m_send_handling_auth\u001b[49m\u001b[43m(\u001b[49m\n\u001b[1;32m    927\u001b[0m \u001b[43m    \u001b[49m\u001b[43mrequest\u001b[49m\u001b[43m,\u001b[49m\n\u001b[1;32m    928\u001b[0m \u001b[43m    \u001b[49m\u001b[43mauth\u001b[49m\u001b[38;5;241;43m=\u001b[39;49m\u001b[43mauth\u001b[49m\u001b[43m,\u001b[49m\n\u001b[1;32m    929\u001b[0m \u001b[43m    \u001b[49m\u001b[43mfollow_redirects\u001b[49m\u001b[38;5;241;43m=\u001b[39;49m\u001b[43mfollow_redirects\u001b[49m\u001b[43m,\u001b[49m\n\u001b[1;32m    930\u001b[0m \u001b[43m    \u001b[49m\u001b[43mhistory\u001b[49m\u001b[38;5;241;43m=\u001b[39;49m\u001b[43m[\u001b[49m\u001b[43m]\u001b[49m\u001b[43m,\u001b[49m\n\u001b[1;32m    931\u001b[0m \u001b[43m\u001b[49m\u001b[43m)\u001b[49m\n\u001b[1;32m    932\u001b[0m \u001b[38;5;28;01mtry\u001b[39;00m:\n\u001b[1;32m    933\u001b[0m     \u001b[38;5;28;01mif\u001b[39;00m \u001b[38;5;129;01mnot\u001b[39;00m stream:\n",
      "File \u001b[0;32m~/code/BusinessObjects/.venv/lib/python3.11/site-packages/httpx/_client.py:954\u001b[0m, in \u001b[0;36mClient._send_handling_auth\u001b[0;34m(self, request, auth, follow_redirects, history)\u001b[0m\n\u001b[1;32m    951\u001b[0m request \u001b[38;5;241m=\u001b[39m \u001b[38;5;28mnext\u001b[39m(auth_flow)\n\u001b[1;32m    953\u001b[0m \u001b[38;5;28;01mwhile\u001b[39;00m \u001b[38;5;28;01mTrue\u001b[39;00m:\n\u001b[0;32m--> 954\u001b[0m     response \u001b[38;5;241m=\u001b[39m \u001b[38;5;28;43mself\u001b[39;49m\u001b[38;5;241;43m.\u001b[39;49m\u001b[43m_send_handling_redirects\u001b[49m\u001b[43m(\u001b[49m\n\u001b[1;32m    955\u001b[0m \u001b[43m        \u001b[49m\u001b[43mrequest\u001b[49m\u001b[43m,\u001b[49m\n\u001b[1;32m    956\u001b[0m \u001b[43m        \u001b[49m\u001b[43mfollow_redirects\u001b[49m\u001b[38;5;241;43m=\u001b[39;49m\u001b[43mfollow_redirects\u001b[49m\u001b[43m,\u001b[49m\n\u001b[1;32m    957\u001b[0m \u001b[43m        \u001b[49m\u001b[43mhistory\u001b[49m\u001b[38;5;241;43m=\u001b[39;49m\u001b[43mhistory\u001b[49m\u001b[43m,\u001b[49m\n\u001b[1;32m    958\u001b[0m \u001b[43m    \u001b[49m\u001b[43m)\u001b[49m\n\u001b[1;32m    959\u001b[0m     \u001b[38;5;28;01mtry\u001b[39;00m:\n\u001b[1;32m    960\u001b[0m         \u001b[38;5;28;01mtry\u001b[39;00m:\n",
      "File \u001b[0;32m~/code/BusinessObjects/.venv/lib/python3.11/site-packages/httpx/_client.py:991\u001b[0m, in \u001b[0;36mClient._send_handling_redirects\u001b[0;34m(self, request, follow_redirects, history)\u001b[0m\n\u001b[1;32m    988\u001b[0m \u001b[38;5;28;01mfor\u001b[39;00m hook \u001b[38;5;129;01min\u001b[39;00m \u001b[38;5;28mself\u001b[39m\u001b[38;5;241m.\u001b[39m_event_hooks[\u001b[38;5;124m\"\u001b[39m\u001b[38;5;124mrequest\u001b[39m\u001b[38;5;124m\"\u001b[39m]:\n\u001b[1;32m    989\u001b[0m     hook(request)\n\u001b[0;32m--> 991\u001b[0m response \u001b[38;5;241m=\u001b[39m \u001b[38;5;28;43mself\u001b[39;49m\u001b[38;5;241;43m.\u001b[39;49m\u001b[43m_send_single_request\u001b[49m\u001b[43m(\u001b[49m\u001b[43mrequest\u001b[49m\u001b[43m)\u001b[49m\n\u001b[1;32m    992\u001b[0m \u001b[38;5;28;01mtry\u001b[39;00m:\n\u001b[1;32m    993\u001b[0m     \u001b[38;5;28;01mfor\u001b[39;00m hook \u001b[38;5;129;01min\u001b[39;00m \u001b[38;5;28mself\u001b[39m\u001b[38;5;241m.\u001b[39m_event_hooks[\u001b[38;5;124m\"\u001b[39m\u001b[38;5;124mresponse\u001b[39m\u001b[38;5;124m\"\u001b[39m]:\n",
      "File \u001b[0;32m~/code/BusinessObjects/.venv/lib/python3.11/site-packages/httpx/_client.py:1027\u001b[0m, in \u001b[0;36mClient._send_single_request\u001b[0;34m(self, request)\u001b[0m\n\u001b[1;32m   1022\u001b[0m     \u001b[38;5;28;01mraise\u001b[39;00m \u001b[38;5;167;01mRuntimeError\u001b[39;00m(\n\u001b[1;32m   1023\u001b[0m         \u001b[38;5;124m\"\u001b[39m\u001b[38;5;124mAttempted to send an async request with a sync Client instance.\u001b[39m\u001b[38;5;124m\"\u001b[39m\n\u001b[1;32m   1024\u001b[0m     )\n\u001b[1;32m   1026\u001b[0m \u001b[38;5;28;01mwith\u001b[39;00m request_context(request\u001b[38;5;241m=\u001b[39mrequest):\n\u001b[0;32m-> 1027\u001b[0m     response \u001b[38;5;241m=\u001b[39m \u001b[43mtransport\u001b[49m\u001b[38;5;241;43m.\u001b[39;49m\u001b[43mhandle_request\u001b[49m\u001b[43m(\u001b[49m\u001b[43mrequest\u001b[49m\u001b[43m)\u001b[49m\n\u001b[1;32m   1029\u001b[0m \u001b[38;5;28;01massert\u001b[39;00m \u001b[38;5;28misinstance\u001b[39m(response\u001b[38;5;241m.\u001b[39mstream, SyncByteStream)\n\u001b[1;32m   1031\u001b[0m response\u001b[38;5;241m.\u001b[39mrequest \u001b[38;5;241m=\u001b[39m request\n",
      "File \u001b[0;32m~/code/BusinessObjects/.venv/lib/python3.11/site-packages/httpx/_transports/default.py:236\u001b[0m, in \u001b[0;36mHTTPTransport.handle_request\u001b[0;34m(self, request)\u001b[0m\n\u001b[1;32m    223\u001b[0m req \u001b[38;5;241m=\u001b[39m httpcore\u001b[38;5;241m.\u001b[39mRequest(\n\u001b[1;32m    224\u001b[0m     method\u001b[38;5;241m=\u001b[39mrequest\u001b[38;5;241m.\u001b[39mmethod,\n\u001b[1;32m    225\u001b[0m     url\u001b[38;5;241m=\u001b[39mhttpcore\u001b[38;5;241m.\u001b[39mURL(\n\u001b[0;32m   (...)\u001b[0m\n\u001b[1;32m    233\u001b[0m     extensions\u001b[38;5;241m=\u001b[39mrequest\u001b[38;5;241m.\u001b[39mextensions,\n\u001b[1;32m    234\u001b[0m )\n\u001b[1;32m    235\u001b[0m \u001b[38;5;28;01mwith\u001b[39;00m map_httpcore_exceptions():\n\u001b[0;32m--> 236\u001b[0m     resp \u001b[38;5;241m=\u001b[39m \u001b[38;5;28;43mself\u001b[39;49m\u001b[38;5;241;43m.\u001b[39;49m\u001b[43m_pool\u001b[49m\u001b[38;5;241;43m.\u001b[39;49m\u001b[43mhandle_request\u001b[49m\u001b[43m(\u001b[49m\u001b[43mreq\u001b[49m\u001b[43m)\u001b[49m\n\u001b[1;32m    238\u001b[0m \u001b[38;5;28;01massert\u001b[39;00m \u001b[38;5;28misinstance\u001b[39m(resp\u001b[38;5;241m.\u001b[39mstream, typing\u001b[38;5;241m.\u001b[39mIterable)\n\u001b[1;32m    240\u001b[0m \u001b[38;5;28;01mreturn\u001b[39;00m Response(\n\u001b[1;32m    241\u001b[0m     status_code\u001b[38;5;241m=\u001b[39mresp\u001b[38;5;241m.\u001b[39mstatus,\n\u001b[1;32m    242\u001b[0m     headers\u001b[38;5;241m=\u001b[39mresp\u001b[38;5;241m.\u001b[39mheaders,\n\u001b[1;32m    243\u001b[0m     stream\u001b[38;5;241m=\u001b[39mResponseStream(resp\u001b[38;5;241m.\u001b[39mstream),\n\u001b[1;32m    244\u001b[0m     extensions\u001b[38;5;241m=\u001b[39mresp\u001b[38;5;241m.\u001b[39mextensions,\n\u001b[1;32m    245\u001b[0m )\n",
      "File \u001b[0;32m~/code/BusinessObjects/.venv/lib/python3.11/site-packages/httpcore/_sync/connection_pool.py:216\u001b[0m, in \u001b[0;36mConnectionPool.handle_request\u001b[0;34m(self, request)\u001b[0m\n\u001b[1;32m    213\u001b[0m         closing \u001b[38;5;241m=\u001b[39m \u001b[38;5;28mself\u001b[39m\u001b[38;5;241m.\u001b[39m_assign_requests_to_connections()\n\u001b[1;32m    215\u001b[0m     \u001b[38;5;28mself\u001b[39m\u001b[38;5;241m.\u001b[39m_close_connections(closing)\n\u001b[0;32m--> 216\u001b[0m     \u001b[38;5;28;01mraise\u001b[39;00m exc \u001b[38;5;28;01mfrom\u001b[39;00m \u001b[38;5;28;01mNone\u001b[39;00m\n\u001b[1;32m    218\u001b[0m \u001b[38;5;66;03m# Return the response. Note that in this case we still have to manage\u001b[39;00m\n\u001b[1;32m    219\u001b[0m \u001b[38;5;66;03m# the point at which the response is closed.\u001b[39;00m\n\u001b[1;32m    220\u001b[0m \u001b[38;5;28;01massert\u001b[39;00m \u001b[38;5;28misinstance\u001b[39m(response\u001b[38;5;241m.\u001b[39mstream, Iterable)\n",
      "File \u001b[0;32m~/code/BusinessObjects/.venv/lib/python3.11/site-packages/httpcore/_sync/connection_pool.py:196\u001b[0m, in \u001b[0;36mConnectionPool.handle_request\u001b[0;34m(self, request)\u001b[0m\n\u001b[1;32m    192\u001b[0m connection \u001b[38;5;241m=\u001b[39m pool_request\u001b[38;5;241m.\u001b[39mwait_for_connection(timeout\u001b[38;5;241m=\u001b[39mtimeout)\n\u001b[1;32m    194\u001b[0m \u001b[38;5;28;01mtry\u001b[39;00m:\n\u001b[1;32m    195\u001b[0m     \u001b[38;5;66;03m# Send the request on the assigned connection.\u001b[39;00m\n\u001b[0;32m--> 196\u001b[0m     response \u001b[38;5;241m=\u001b[39m \u001b[43mconnection\u001b[49m\u001b[38;5;241;43m.\u001b[39;49m\u001b[43mhandle_request\u001b[49m\u001b[43m(\u001b[49m\n\u001b[1;32m    197\u001b[0m \u001b[43m        \u001b[49m\u001b[43mpool_request\u001b[49m\u001b[38;5;241;43m.\u001b[39;49m\u001b[43mrequest\u001b[49m\n\u001b[1;32m    198\u001b[0m \u001b[43m    \u001b[49m\u001b[43m)\u001b[49m\n\u001b[1;32m    199\u001b[0m \u001b[38;5;28;01mexcept\u001b[39;00m ConnectionNotAvailable:\n\u001b[1;32m    200\u001b[0m     \u001b[38;5;66;03m# In some cases a connection may initially be available to\u001b[39;00m\n\u001b[1;32m    201\u001b[0m     \u001b[38;5;66;03m# handle a request, but then become unavailable.\u001b[39;00m\n\u001b[1;32m    202\u001b[0m     \u001b[38;5;66;03m#\u001b[39;00m\n\u001b[1;32m    203\u001b[0m     \u001b[38;5;66;03m# In this case we clear the connection and try again.\u001b[39;00m\n\u001b[1;32m    204\u001b[0m     pool_request\u001b[38;5;241m.\u001b[39mclear_connection()\n",
      "File \u001b[0;32m~/code/BusinessObjects/.venv/lib/python3.11/site-packages/httpcore/_sync/connection.py:101\u001b[0m, in \u001b[0;36mHTTPConnection.handle_request\u001b[0;34m(self, request)\u001b[0m\n\u001b[1;32m     98\u001b[0m     \u001b[38;5;28mself\u001b[39m\u001b[38;5;241m.\u001b[39m_connect_failed \u001b[38;5;241m=\u001b[39m \u001b[38;5;28;01mTrue\u001b[39;00m\n\u001b[1;32m     99\u001b[0m     \u001b[38;5;28;01mraise\u001b[39;00m exc\n\u001b[0;32m--> 101\u001b[0m \u001b[38;5;28;01mreturn\u001b[39;00m \u001b[38;5;28;43mself\u001b[39;49m\u001b[38;5;241;43m.\u001b[39;49m\u001b[43m_connection\u001b[49m\u001b[38;5;241;43m.\u001b[39;49m\u001b[43mhandle_request\u001b[49m\u001b[43m(\u001b[49m\u001b[43mrequest\u001b[49m\u001b[43m)\u001b[49m\n",
      "File \u001b[0;32m~/code/BusinessObjects/.venv/lib/python3.11/site-packages/httpcore/_sync/http11.py:143\u001b[0m, in \u001b[0;36mHTTP11Connection.handle_request\u001b[0;34m(self, request)\u001b[0m\n\u001b[1;32m    141\u001b[0m     \u001b[38;5;28;01mwith\u001b[39;00m Trace(\u001b[38;5;124m\"\u001b[39m\u001b[38;5;124mresponse_closed\u001b[39m\u001b[38;5;124m\"\u001b[39m, logger, request) \u001b[38;5;28;01mas\u001b[39;00m trace:\n\u001b[1;32m    142\u001b[0m         \u001b[38;5;28mself\u001b[39m\u001b[38;5;241m.\u001b[39m_response_closed()\n\u001b[0;32m--> 143\u001b[0m \u001b[38;5;28;01mraise\u001b[39;00m exc\n",
      "File \u001b[0;32m~/code/BusinessObjects/.venv/lib/python3.11/site-packages/httpcore/_sync/http11.py:113\u001b[0m, in \u001b[0;36mHTTP11Connection.handle_request\u001b[0;34m(self, request)\u001b[0m\n\u001b[1;32m    102\u001b[0m     \u001b[38;5;28;01mpass\u001b[39;00m\n\u001b[1;32m    104\u001b[0m \u001b[38;5;28;01mwith\u001b[39;00m Trace(\n\u001b[1;32m    105\u001b[0m     \u001b[38;5;124m\"\u001b[39m\u001b[38;5;124mreceive_response_headers\u001b[39m\u001b[38;5;124m\"\u001b[39m, logger, request, kwargs\n\u001b[1;32m    106\u001b[0m ) \u001b[38;5;28;01mas\u001b[39;00m trace:\n\u001b[1;32m    107\u001b[0m     (\n\u001b[1;32m    108\u001b[0m         http_version,\n\u001b[1;32m    109\u001b[0m         status,\n\u001b[1;32m    110\u001b[0m         reason_phrase,\n\u001b[1;32m    111\u001b[0m         headers,\n\u001b[1;32m    112\u001b[0m         trailing_data,\n\u001b[0;32m--> 113\u001b[0m     ) \u001b[38;5;241m=\u001b[39m \u001b[38;5;28;43mself\u001b[39;49m\u001b[38;5;241;43m.\u001b[39;49m\u001b[43m_receive_response_headers\u001b[49m\u001b[43m(\u001b[49m\u001b[38;5;241;43m*\u001b[39;49m\u001b[38;5;241;43m*\u001b[39;49m\u001b[43mkwargs\u001b[49m\u001b[43m)\u001b[49m\n\u001b[1;32m    114\u001b[0m     trace\u001b[38;5;241m.\u001b[39mreturn_value \u001b[38;5;241m=\u001b[39m (\n\u001b[1;32m    115\u001b[0m         http_version,\n\u001b[1;32m    116\u001b[0m         status,\n\u001b[1;32m    117\u001b[0m         reason_phrase,\n\u001b[1;32m    118\u001b[0m         headers,\n\u001b[1;32m    119\u001b[0m     )\n\u001b[1;32m    121\u001b[0m network_stream \u001b[38;5;241m=\u001b[39m \u001b[38;5;28mself\u001b[39m\u001b[38;5;241m.\u001b[39m_network_stream\n",
      "File \u001b[0;32m~/code/BusinessObjects/.venv/lib/python3.11/site-packages/httpcore/_sync/http11.py:186\u001b[0m, in \u001b[0;36mHTTP11Connection._receive_response_headers\u001b[0;34m(self, request)\u001b[0m\n\u001b[1;32m    183\u001b[0m timeout \u001b[38;5;241m=\u001b[39m timeouts\u001b[38;5;241m.\u001b[39mget(\u001b[38;5;124m\"\u001b[39m\u001b[38;5;124mread\u001b[39m\u001b[38;5;124m\"\u001b[39m, \u001b[38;5;28;01mNone\u001b[39;00m)\n\u001b[1;32m    185\u001b[0m \u001b[38;5;28;01mwhile\u001b[39;00m \u001b[38;5;28;01mTrue\u001b[39;00m:\n\u001b[0;32m--> 186\u001b[0m     event \u001b[38;5;241m=\u001b[39m \u001b[38;5;28;43mself\u001b[39;49m\u001b[38;5;241;43m.\u001b[39;49m\u001b[43m_receive_event\u001b[49m\u001b[43m(\u001b[49m\u001b[43mtimeout\u001b[49m\u001b[38;5;241;43m=\u001b[39;49m\u001b[43mtimeout\u001b[49m\u001b[43m)\u001b[49m\n\u001b[1;32m    187\u001b[0m     \u001b[38;5;28;01mif\u001b[39;00m \u001b[38;5;28misinstance\u001b[39m(event, h11\u001b[38;5;241m.\u001b[39mResponse):\n\u001b[1;32m    188\u001b[0m         \u001b[38;5;28;01mbreak\u001b[39;00m\n",
      "File \u001b[0;32m~/code/BusinessObjects/.venv/lib/python3.11/site-packages/httpcore/_sync/http11.py:224\u001b[0m, in \u001b[0;36mHTTP11Connection._receive_event\u001b[0;34m(self, timeout)\u001b[0m\n\u001b[1;32m    221\u001b[0m     event \u001b[38;5;241m=\u001b[39m \u001b[38;5;28mself\u001b[39m\u001b[38;5;241m.\u001b[39m_h11_state\u001b[38;5;241m.\u001b[39mnext_event()\n\u001b[1;32m    223\u001b[0m \u001b[38;5;28;01mif\u001b[39;00m event \u001b[38;5;129;01mis\u001b[39;00m h11\u001b[38;5;241m.\u001b[39mNEED_DATA:\n\u001b[0;32m--> 224\u001b[0m     data \u001b[38;5;241m=\u001b[39m \u001b[38;5;28;43mself\u001b[39;49m\u001b[38;5;241;43m.\u001b[39;49m\u001b[43m_network_stream\u001b[49m\u001b[38;5;241;43m.\u001b[39;49m\u001b[43mread\u001b[49m\u001b[43m(\u001b[49m\n\u001b[1;32m    225\u001b[0m \u001b[43m        \u001b[49m\u001b[38;5;28;43mself\u001b[39;49m\u001b[38;5;241;43m.\u001b[39;49m\u001b[43mREAD_NUM_BYTES\u001b[49m\u001b[43m,\u001b[49m\u001b[43m \u001b[49m\u001b[43mtimeout\u001b[49m\u001b[38;5;241;43m=\u001b[39;49m\u001b[43mtimeout\u001b[49m\n\u001b[1;32m    226\u001b[0m \u001b[43m    \u001b[49m\u001b[43m)\u001b[49m\n\u001b[1;32m    228\u001b[0m     \u001b[38;5;66;03m# If we feed this case through h11 we'll raise an exception like:\u001b[39;00m\n\u001b[1;32m    229\u001b[0m     \u001b[38;5;66;03m#\u001b[39;00m\n\u001b[1;32m    230\u001b[0m     \u001b[38;5;66;03m#     httpcore.RemoteProtocolError: can't handle event type\u001b[39;00m\n\u001b[0;32m   (...)\u001b[0m\n\u001b[1;32m    234\u001b[0m     \u001b[38;5;66;03m# perspective. Instead we handle this case distinctly and treat\u001b[39;00m\n\u001b[1;32m    235\u001b[0m     \u001b[38;5;66;03m# it as a ConnectError.\u001b[39;00m\n\u001b[1;32m    236\u001b[0m     \u001b[38;5;28;01mif\u001b[39;00m data \u001b[38;5;241m==\u001b[39m \u001b[38;5;124mb\u001b[39m\u001b[38;5;124m\"\u001b[39m\u001b[38;5;124m\"\u001b[39m \u001b[38;5;129;01mand\u001b[39;00m \u001b[38;5;28mself\u001b[39m\u001b[38;5;241m.\u001b[39m_h11_state\u001b[38;5;241m.\u001b[39mtheir_state \u001b[38;5;241m==\u001b[39m h11\u001b[38;5;241m.\u001b[39mSEND_RESPONSE:\n",
      "File \u001b[0;32m~/code/BusinessObjects/.venv/lib/python3.11/site-packages/httpcore/_backends/sync.py:126\u001b[0m, in \u001b[0;36mSyncStream.read\u001b[0;34m(self, max_bytes, timeout)\u001b[0m\n\u001b[1;32m    124\u001b[0m \u001b[38;5;28;01mwith\u001b[39;00m map_exceptions(exc_map):\n\u001b[1;32m    125\u001b[0m     \u001b[38;5;28mself\u001b[39m\u001b[38;5;241m.\u001b[39m_sock\u001b[38;5;241m.\u001b[39msettimeout(timeout)\n\u001b[0;32m--> 126\u001b[0m     \u001b[38;5;28;01mreturn\u001b[39;00m \u001b[38;5;28;43mself\u001b[39;49m\u001b[38;5;241;43m.\u001b[39;49m\u001b[43m_sock\u001b[49m\u001b[38;5;241;43m.\u001b[39;49m\u001b[43mrecv\u001b[49m\u001b[43m(\u001b[49m\u001b[43mmax_bytes\u001b[49m\u001b[43m)\u001b[49m\n",
      "File \u001b[0;32m/usr/lib/python3.11/ssl.py:1296\u001b[0m, in \u001b[0;36mSSLSocket.recv\u001b[0;34m(self, buflen, flags)\u001b[0m\n\u001b[1;32m   1292\u001b[0m     \u001b[38;5;28;01mif\u001b[39;00m flags \u001b[38;5;241m!=\u001b[39m \u001b[38;5;241m0\u001b[39m:\n\u001b[1;32m   1293\u001b[0m         \u001b[38;5;28;01mraise\u001b[39;00m \u001b[38;5;167;01mValueError\u001b[39;00m(\n\u001b[1;32m   1294\u001b[0m             \u001b[38;5;124m\"\u001b[39m\u001b[38;5;124mnon-zero flags not allowed in calls to recv() on \u001b[39m\u001b[38;5;132;01m%s\u001b[39;00m\u001b[38;5;124m\"\u001b[39m \u001b[38;5;241m%\u001b[39m\n\u001b[1;32m   1295\u001b[0m             \u001b[38;5;28mself\u001b[39m\u001b[38;5;241m.\u001b[39m\u001b[38;5;18m__class__\u001b[39m)\n\u001b[0;32m-> 1296\u001b[0m     \u001b[38;5;28;01mreturn\u001b[39;00m \u001b[38;5;28;43mself\u001b[39;49m\u001b[38;5;241;43m.\u001b[39;49m\u001b[43mread\u001b[49m\u001b[43m(\u001b[49m\u001b[43mbuflen\u001b[49m\u001b[43m)\u001b[49m\n\u001b[1;32m   1297\u001b[0m \u001b[38;5;28;01melse\u001b[39;00m:\n\u001b[1;32m   1298\u001b[0m     \u001b[38;5;28;01mreturn\u001b[39;00m \u001b[38;5;28msuper\u001b[39m()\u001b[38;5;241m.\u001b[39mrecv(buflen, flags)\n",
      "File \u001b[0;32m/usr/lib/python3.11/ssl.py:1169\u001b[0m, in \u001b[0;36mSSLSocket.read\u001b[0;34m(self, len, buffer)\u001b[0m\n\u001b[1;32m   1167\u001b[0m         \u001b[38;5;28;01mreturn\u001b[39;00m \u001b[38;5;28mself\u001b[39m\u001b[38;5;241m.\u001b[39m_sslobj\u001b[38;5;241m.\u001b[39mread(\u001b[38;5;28mlen\u001b[39m, buffer)\n\u001b[1;32m   1168\u001b[0m     \u001b[38;5;28;01melse\u001b[39;00m:\n\u001b[0;32m-> 1169\u001b[0m         \u001b[38;5;28;01mreturn\u001b[39;00m \u001b[38;5;28;43mself\u001b[39;49m\u001b[38;5;241;43m.\u001b[39;49m\u001b[43m_sslobj\u001b[49m\u001b[38;5;241;43m.\u001b[39;49m\u001b[43mread\u001b[49m\u001b[43m(\u001b[49m\u001b[38;5;28;43mlen\u001b[39;49m\u001b[43m)\u001b[49m\n\u001b[1;32m   1170\u001b[0m \u001b[38;5;28;01mexcept\u001b[39;00m SSLError \u001b[38;5;28;01mas\u001b[39;00m x:\n\u001b[1;32m   1171\u001b[0m     \u001b[38;5;28;01mif\u001b[39;00m x\u001b[38;5;241m.\u001b[39margs[\u001b[38;5;241m0\u001b[39m] \u001b[38;5;241m==\u001b[39m SSL_ERROR_EOF \u001b[38;5;129;01mand\u001b[39;00m \u001b[38;5;28mself\u001b[39m\u001b[38;5;241m.\u001b[39msuppress_ragged_eofs:\n",
      "\u001b[0;31mKeyboardInterrupt\u001b[0m: "
     ]
    }
   ],
   "source": [
    "eval_path = proj_path / 'experiments' / 'zero_shot' / 'bird'\n",
    "if not eval_path.exists():\n",
    "    eval_path.mkdir(parents=True)\n",
    "\n",
    "# run zero-shot SQL generation\n",
    "results = {}\n",
    "iterator = tqdm(samples, total=len(samples))\n",
    "for i, sample in enumerate(iterator):\n",
    "    db_id = sample.db_id\n",
    "    iterator.set_description(f\"Processing {db_id} - {sample.sample_id}\")\n",
    "    schema = get_schema_str(\n",
    "        schema=bird_tables[db_id].db_schema,\n",
    "        foreign_keys=bird_tables[db_id].foreign_keys,\n",
    "        primary_keys=bird_tables[db_id].primary_keys,\n",
    "        col_explanation=all_descriptions[db_id]    \n",
    "    )\n",
    "    output = chain.invoke(input={\n",
    "        'schema': schema,\n",
    "        'input_query': sample.final.question,\n",
    "        'evidence': sample.evidence\n",
    "    })\n",
    "    o = SQLResponse(**json.loads(output.content))\n",
    "    usage = output.usage_metadata\n",
    "    logprobs = output.response_metadata['logprobs']['content']\n",
    "    results[sample.sample_id] = {\n",
    "        'sample_id': sample.sample_id,\n",
    "        'output': {\n",
    "            'sql': o.full_sql_query,\n",
    "            'rationale': o.rationale,\n",
    "        },\n",
    "        'usage': usage,\n",
    "        'logprobs': logprobs\n",
    "    }"
   ]
  },
  {
   "cell_type": "code",
   "execution_count": null,
   "metadata": {},
   "outputs": [],
   "source": [
    "# detect token indices after `full_sql_query`\n",
    "txt = ''\n",
    "sql_tokens = []\n",
    "start = False\n",
    "for i, x in enumerate(logprobs):\n",
    "    txt += x['token']\n",
    "    if 'full_sql_query' in txt:\n",
    "        if x['token'] == 'SELECT':\n",
    "            start = True\n",
    "            txt = ''\n",
    "\n",
    "    if start:\n",
    "        sql_tokens.append(x)"
   ]
  },
  {
   "cell_type": "code",
   "execution_count": 83,
   "metadata": {},
   "outputs": [
    {
     "data": {
      "text/plain": [
       "'SELECT movie_title FROM movies WHERE movie_release_year = 1945 ORDER BY movie_popularity DESC;\"\\n'"
      ]
     },
     "execution_count": 83,
     "metadata": {},
     "output_type": "execute_result"
    }
   ],
   "source": [
    "''.join([x['token'] for x in sql_tokens][:-1])"
   ]
  }
 ],
 "metadata": {
  "kernelspec": {
   "display_name": ".venv",
   "language": "python",
   "name": "python3"
  },
  "language_info": {
   "codemirror_mode": {
    "name": "ipython",
    "version": 3
   },
   "file_extension": ".py",
   "mimetype": "text/x-python",
   "name": "python",
   "nbconvert_exporter": "python",
   "pygments_lexer": "ipython3",
   "version": "3.11.7"
  }
 },
 "nbformat": 4,
 "nbformat_minor": 2
}
